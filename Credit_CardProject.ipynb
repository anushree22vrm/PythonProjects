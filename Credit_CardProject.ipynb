{
 "cells": [
  {
   "cell_type": "code",
   "execution_count": 1,
   "id": "e4cc577b-b9af-41fc-86ea-4c696dfcaa55",
   "metadata": {},
   "outputs": [],
   "source": [
    "import numpy as np\n",
    "import pandas as pd\n",
    "import os"
   ]
  },
  {
   "cell_type": "code",
   "execution_count": 2,
   "id": "a012ae83-46a9-46d3-956a-1b9712a26bea",
   "metadata": {},
   "outputs": [],
   "source": [
    "os.chdir('C:\\\\Users\\\\anush\\\\OneDrive\\\\Desktop\\\\Python Case Study\\\\Case Study 2 - Credit Card Case Study')"
   ]
  },
  {
   "cell_type": "code",
   "execution_count": 3,
   "id": "a3a46ea1-5a9f-4e99-b355-04132042a507",
   "metadata": {},
   "outputs": [],
   "source": [
    "#card_data_df = pd.read_excel('Credit Card Data.xlsx')\n",
    "cust_acq_df = pd.read_csv('Customer Acqusition.csv')\n",
    "repayment_df = pd.read_csv('Repayment.csv')\n",
    "spend_df = pd.read_csv('spend.csv')"
   ]
  },
  {
   "cell_type": "code",
   "execution_count": 4,
   "id": "ce9002d7-d393-4ed5-b600-bdb9ce321047",
   "metadata": {},
   "outputs": [],
   "source": [
    "#card_data_df.head(2)"
   ]
  },
  {
   "cell_type": "code",
   "execution_count": 5,
   "id": "67541320-4c8e-4c70-88a0-2458653a931a",
   "metadata": {},
   "outputs": [
    {
     "data": {
      "text/html": [
       "<div>\n",
       "<style scoped>\n",
       "    .dataframe tbody tr th:only-of-type {\n",
       "        vertical-align: middle;\n",
       "    }\n",
       "\n",
       "    .dataframe tbody tr th {\n",
       "        vertical-align: top;\n",
       "    }\n",
       "\n",
       "    .dataframe thead th {\n",
       "        text-align: right;\n",
       "    }\n",
       "</style>\n",
       "<table border=\"1\" class=\"dataframe\">\n",
       "  <thead>\n",
       "    <tr style=\"text-align: right;\">\n",
       "      <th></th>\n",
       "      <th>No</th>\n",
       "      <th>Customer</th>\n",
       "      <th>Age</th>\n",
       "      <th>City</th>\n",
       "      <th>Product</th>\n",
       "      <th>Limit</th>\n",
       "      <th>Company</th>\n",
       "      <th>Segment</th>\n",
       "    </tr>\n",
       "  </thead>\n",
       "  <tbody>\n",
       "    <tr>\n",
       "      <th>0</th>\n",
       "      <td>1</td>\n",
       "      <td>A1</td>\n",
       "      <td>76</td>\n",
       "      <td>BANGALORE</td>\n",
       "      <td>Gold</td>\n",
       "      <td>500000.0</td>\n",
       "      <td>C1</td>\n",
       "      <td>Self Employed</td>\n",
       "    </tr>\n",
       "    <tr>\n",
       "      <th>1</th>\n",
       "      <td>2</td>\n",
       "      <td>A2</td>\n",
       "      <td>71</td>\n",
       "      <td>CALCUTTA</td>\n",
       "      <td>Silver</td>\n",
       "      <td>100000.0</td>\n",
       "      <td>C2</td>\n",
       "      <td>Salaried_MNC</td>\n",
       "    </tr>\n",
       "  </tbody>\n",
       "</table>\n",
       "</div>"
      ],
      "text/plain": [
       "   No Customer  Age       City Product     Limit Company        Segment\n",
       "0   1       A1   76  BANGALORE    Gold  500000.0      C1  Self Employed\n",
       "1   2       A2   71   CALCUTTA  Silver  100000.0      C2   Salaried_MNC"
      ]
     },
     "execution_count": 5,
     "metadata": {},
     "output_type": "execute_result"
    }
   ],
   "source": [
    "cust_acq_df.head(2)"
   ]
  },
  {
   "cell_type": "code",
   "execution_count": 6,
   "id": "c38f3312-4187-4d52-b6df-5704f0991f71",
   "metadata": {},
   "outputs": [
    {
     "data": {
      "text/html": [
       "<div>\n",
       "<style scoped>\n",
       "    .dataframe tbody tr th:only-of-type {\n",
       "        vertical-align: middle;\n",
       "    }\n",
       "\n",
       "    .dataframe tbody tr th {\n",
       "        vertical-align: top;\n",
       "    }\n",
       "\n",
       "    .dataframe thead th {\n",
       "        text-align: right;\n",
       "    }\n",
       "</style>\n",
       "<table border=\"1\" class=\"dataframe\">\n",
       "  <thead>\n",
       "    <tr style=\"text-align: right;\">\n",
       "      <th></th>\n",
       "      <th>SL No:</th>\n",
       "      <th>Customer</th>\n",
       "      <th>Month</th>\n",
       "      <th>Amount</th>\n",
       "      <th>Unnamed: 4</th>\n",
       "    </tr>\n",
       "  </thead>\n",
       "  <tbody>\n",
       "    <tr>\n",
       "      <th>0</th>\n",
       "      <td>NaN</td>\n",
       "      <td>A1</td>\n",
       "      <td>12-Jan-04</td>\n",
       "      <td>495414.75</td>\n",
       "      <td>NaN</td>\n",
       "    </tr>\n",
       "    <tr>\n",
       "      <th>1</th>\n",
       "      <td>2.0</td>\n",
       "      <td>A1</td>\n",
       "      <td>3-Jan-04</td>\n",
       "      <td>245899.02</td>\n",
       "      <td>NaN</td>\n",
       "    </tr>\n",
       "  </tbody>\n",
       "</table>\n",
       "</div>"
      ],
      "text/plain": [
       "   SL No: Customer      Month     Amount  Unnamed: 4\n",
       "0     NaN       A1  12-Jan-04  495414.75         NaN\n",
       "1     2.0       A1   3-Jan-04  245899.02         NaN"
      ]
     },
     "execution_count": 6,
     "metadata": {},
     "output_type": "execute_result"
    }
   ],
   "source": [
    "repayment_df.head(2)"
   ]
  },
  {
   "cell_type": "code",
   "execution_count": 7,
   "id": "f801cedb-682a-4f10-aa04-a08e057098b7",
   "metadata": {},
   "outputs": [
    {
     "data": {
      "text/html": [
       "<div>\n",
       "<style scoped>\n",
       "    .dataframe tbody tr th:only-of-type {\n",
       "        vertical-align: middle;\n",
       "    }\n",
       "\n",
       "    .dataframe tbody tr th {\n",
       "        vertical-align: top;\n",
       "    }\n",
       "\n",
       "    .dataframe thead th {\n",
       "        text-align: right;\n",
       "    }\n",
       "</style>\n",
       "<table border=\"1\" class=\"dataframe\">\n",
       "  <thead>\n",
       "    <tr style=\"text-align: right;\">\n",
       "      <th></th>\n",
       "      <th>Sl No:</th>\n",
       "      <th>Customer</th>\n",
       "      <th>Month</th>\n",
       "      <th>Type</th>\n",
       "      <th>Amount</th>\n",
       "    </tr>\n",
       "  </thead>\n",
       "  <tbody>\n",
       "    <tr>\n",
       "      <th>0</th>\n",
       "      <td>1</td>\n",
       "      <td>A1</td>\n",
       "      <td>12-Jan-04</td>\n",
       "      <td>JEWELLERY</td>\n",
       "      <td>485470.80</td>\n",
       "    </tr>\n",
       "    <tr>\n",
       "      <th>1</th>\n",
       "      <td>2</td>\n",
       "      <td>A1</td>\n",
       "      <td>3-Jan-04</td>\n",
       "      <td>PETRO</td>\n",
       "      <td>410556.13</td>\n",
       "    </tr>\n",
       "  </tbody>\n",
       "</table>\n",
       "</div>"
      ],
      "text/plain": [
       "   Sl No: Customer      Month       Type     Amount\n",
       "0       1       A1  12-Jan-04  JEWELLERY  485470.80\n",
       "1       2       A1   3-Jan-04      PETRO  410556.13"
      ]
     },
     "execution_count": 7,
     "metadata": {},
     "output_type": "execute_result"
    }
   ],
   "source": [
    "spend_df.head(2)"
   ]
  },
  {
   "cell_type": "code",
   "execution_count": 8,
   "id": "0c5412c3-3caa-41a9-9be3-e375c2e4717f",
   "metadata": {},
   "outputs": [],
   "source": [
    "#card_data_df.columns"
   ]
  },
  {
   "cell_type": "code",
   "execution_count": 9,
   "id": "59eea59d-83ff-4de0-953f-75c78f9cbfb7",
   "metadata": {},
   "outputs": [
    {
     "data": {
      "text/plain": [
       "Index(['No', 'Customer', 'Age', 'City', 'Product', 'Limit', 'Company',\n",
       "       'Segment'],\n",
       "      dtype='object')"
      ]
     },
     "execution_count": 9,
     "metadata": {},
     "output_type": "execute_result"
    }
   ],
   "source": [
    "cust_acq_df.columns"
   ]
  },
  {
   "cell_type": "code",
   "execution_count": 10,
   "id": "8a6a5398-a475-4ed8-b3bd-2350226d6b8b",
   "metadata": {},
   "outputs": [
    {
     "data": {
      "text/plain": [
       "Index(['SL No:', 'Customer', 'Month', 'Amount', 'Unnamed: 4'], dtype='object')"
      ]
     },
     "execution_count": 10,
     "metadata": {},
     "output_type": "execute_result"
    }
   ],
   "source": [
    "repayment_df.columns"
   ]
  },
  {
   "cell_type": "code",
   "execution_count": 11,
   "id": "748dc6ec-5df7-46b0-b8e2-0678a2ecaa06",
   "metadata": {},
   "outputs": [
    {
     "data": {
      "text/plain": [
       "Index(['Sl No:', 'Customer', 'Month', 'Type', 'Amount'], dtype='object')"
      ]
     },
     "execution_count": 11,
     "metadata": {},
     "output_type": "execute_result"
    }
   ],
   "source": [
    "spend_df.columns"
   ]
  },
  {
   "cell_type": "code",
   "execution_count": 12,
   "id": "3bcac2ac-1d2e-4fa7-b6a7-78f58e32d485",
   "metadata": {},
   "outputs": [],
   "source": [
    "# Merging df"
   ]
  },
  {
   "cell_type": "code",
   "execution_count": 13,
   "id": "adad3eac-d537-493b-b954-65c1eb9082be",
   "metadata": {},
   "outputs": [],
   "source": [
    "repayment_cust_df = pd.merge(left=repayment_df,right=cust_acq_df,how='inner',on='Customer')"
   ]
  },
  {
   "cell_type": "code",
   "execution_count": 14,
   "id": "ff5ff048-de47-444f-9ca8-5e8eca51e592",
   "metadata": {},
   "outputs": [
    {
     "data": {
      "text/html": [
       "<div>\n",
       "<style scoped>\n",
       "    .dataframe tbody tr th:only-of-type {\n",
       "        vertical-align: middle;\n",
       "    }\n",
       "\n",
       "    .dataframe tbody tr th {\n",
       "        vertical-align: top;\n",
       "    }\n",
       "\n",
       "    .dataframe thead th {\n",
       "        text-align: right;\n",
       "    }\n",
       "</style>\n",
       "<table border=\"1\" class=\"dataframe\">\n",
       "  <thead>\n",
       "    <tr style=\"text-align: right;\">\n",
       "      <th></th>\n",
       "      <th>SL No:</th>\n",
       "      <th>Customer</th>\n",
       "      <th>Month</th>\n",
       "      <th>Amount</th>\n",
       "      <th>Unnamed: 4</th>\n",
       "      <th>No</th>\n",
       "      <th>Age</th>\n",
       "      <th>City</th>\n",
       "      <th>Product</th>\n",
       "      <th>Limit</th>\n",
       "      <th>Company</th>\n",
       "      <th>Segment</th>\n",
       "    </tr>\n",
       "  </thead>\n",
       "  <tbody>\n",
       "    <tr>\n",
       "      <th>0</th>\n",
       "      <td>NaN</td>\n",
       "      <td>A1</td>\n",
       "      <td>12-Jan-04</td>\n",
       "      <td>495414.75</td>\n",
       "      <td>NaN</td>\n",
       "      <td>1</td>\n",
       "      <td>76</td>\n",
       "      <td>BANGALORE</td>\n",
       "      <td>Gold</td>\n",
       "      <td>500000.0</td>\n",
       "      <td>C1</td>\n",
       "      <td>Self Employed</td>\n",
       "    </tr>\n",
       "  </tbody>\n",
       "</table>\n",
       "</div>"
      ],
      "text/plain": [
       "   SL No: Customer      Month     Amount  Unnamed: 4  No  Age       City  \\\n",
       "0     NaN       A1  12-Jan-04  495414.75         NaN   1   76  BANGALORE   \n",
       "\n",
       "  Product     Limit Company        Segment  \n",
       "0    Gold  500000.0      C1  Self Employed  "
      ]
     },
     "execution_count": 14,
     "metadata": {},
     "output_type": "execute_result"
    }
   ],
   "source": [
    "repayment_cust_df.head(1)"
   ]
  },
  {
   "cell_type": "code",
   "execution_count": 15,
   "id": "86b9aaa7-2581-42bb-8680-ae95d4ef886e",
   "metadata": {},
   "outputs": [],
   "source": [
    "repayment_cust_df.drop(['SL No:','No','Unnamed: 4'],axis=1,inplace=True)"
   ]
  },
  {
   "cell_type": "code",
   "execution_count": 16,
   "id": "3ea49290-3d68-4abf-aa56-9bdc63fc50ee",
   "metadata": {},
   "outputs": [
    {
     "data": {
      "text/html": [
       "<div>\n",
       "<style scoped>\n",
       "    .dataframe tbody tr th:only-of-type {\n",
       "        vertical-align: middle;\n",
       "    }\n",
       "\n",
       "    .dataframe tbody tr th {\n",
       "        vertical-align: top;\n",
       "    }\n",
       "\n",
       "    .dataframe thead th {\n",
       "        text-align: right;\n",
       "    }\n",
       "</style>\n",
       "<table border=\"1\" class=\"dataframe\">\n",
       "  <thead>\n",
       "    <tr style=\"text-align: right;\">\n",
       "      <th></th>\n",
       "      <th>Customer</th>\n",
       "      <th>Month</th>\n",
       "      <th>Amount</th>\n",
       "      <th>Age</th>\n",
       "      <th>City</th>\n",
       "      <th>Product</th>\n",
       "      <th>Limit</th>\n",
       "      <th>Company</th>\n",
       "      <th>Segment</th>\n",
       "    </tr>\n",
       "  </thead>\n",
       "  <tbody>\n",
       "    <tr>\n",
       "      <th>0</th>\n",
       "      <td>A1</td>\n",
       "      <td>12-Jan-04</td>\n",
       "      <td>495414.75</td>\n",
       "      <td>76</td>\n",
       "      <td>BANGALORE</td>\n",
       "      <td>Gold</td>\n",
       "      <td>500000.0</td>\n",
       "      <td>C1</td>\n",
       "      <td>Self Employed</td>\n",
       "    </tr>\n",
       "  </tbody>\n",
       "</table>\n",
       "</div>"
      ],
      "text/plain": [
       "  Customer      Month     Amount  Age       City Product     Limit Company  \\\n",
       "0       A1  12-Jan-04  495414.75   76  BANGALORE    Gold  500000.0      C1   \n",
       "\n",
       "         Segment  \n",
       "0  Self Employed  "
      ]
     },
     "execution_count": 16,
     "metadata": {},
     "output_type": "execute_result"
    }
   ],
   "source": [
    "repayment_cust_df.head(1)"
   ]
  },
  {
   "cell_type": "code",
   "execution_count": 17,
   "id": "87d7a4c6-3164-498a-b38c-7fc1417ac44e",
   "metadata": {},
   "outputs": [],
   "source": [
    "spend_cust_df = pd.merge(left=spend_df,right=cust_acq_df,how='inner',on='Customer')"
   ]
  },
  {
   "cell_type": "code",
   "execution_count": 18,
   "id": "e16c09ca-bd36-4ded-b6dc-e657069726df",
   "metadata": {},
   "outputs": [
    {
     "data": {
      "text/html": [
       "<div>\n",
       "<style scoped>\n",
       "    .dataframe tbody tr th:only-of-type {\n",
       "        vertical-align: middle;\n",
       "    }\n",
       "\n",
       "    .dataframe tbody tr th {\n",
       "        vertical-align: top;\n",
       "    }\n",
       "\n",
       "    .dataframe thead th {\n",
       "        text-align: right;\n",
       "    }\n",
       "</style>\n",
       "<table border=\"1\" class=\"dataframe\">\n",
       "  <thead>\n",
       "    <tr style=\"text-align: right;\">\n",
       "      <th></th>\n",
       "      <th>Sl No:</th>\n",
       "      <th>Customer</th>\n",
       "      <th>Month</th>\n",
       "      <th>Type</th>\n",
       "      <th>Amount</th>\n",
       "      <th>No</th>\n",
       "      <th>Age</th>\n",
       "      <th>City</th>\n",
       "      <th>Product</th>\n",
       "      <th>Limit</th>\n",
       "      <th>Company</th>\n",
       "      <th>Segment</th>\n",
       "    </tr>\n",
       "  </thead>\n",
       "  <tbody>\n",
       "    <tr>\n",
       "      <th>0</th>\n",
       "      <td>1</td>\n",
       "      <td>A1</td>\n",
       "      <td>12-Jan-04</td>\n",
       "      <td>JEWELLERY</td>\n",
       "      <td>485470.8</td>\n",
       "      <td>1</td>\n",
       "      <td>76</td>\n",
       "      <td>BANGALORE</td>\n",
       "      <td>Gold</td>\n",
       "      <td>500000.0</td>\n",
       "      <td>C1</td>\n",
       "      <td>Self Employed</td>\n",
       "    </tr>\n",
       "  </tbody>\n",
       "</table>\n",
       "</div>"
      ],
      "text/plain": [
       "   Sl No: Customer      Month       Type    Amount  No  Age       City  \\\n",
       "0       1       A1  12-Jan-04  JEWELLERY  485470.8   1   76  BANGALORE   \n",
       "\n",
       "  Product     Limit Company        Segment  \n",
       "0    Gold  500000.0      C1  Self Employed  "
      ]
     },
     "execution_count": 18,
     "metadata": {},
     "output_type": "execute_result"
    }
   ],
   "source": [
    "spend_cust_df.head(1)"
   ]
  },
  {
   "cell_type": "code",
   "execution_count": 19,
   "id": "bc997c9a-71b1-455a-bed3-f0463f5795f1",
   "metadata": {},
   "outputs": [],
   "source": [
    "spend_cust_df.drop(['Sl No:','No'],axis=1,inplace=True)"
   ]
  },
  {
   "cell_type": "code",
   "execution_count": 20,
   "id": "f371e7ab-c516-413a-b48a-7f56d994c926",
   "metadata": {},
   "outputs": [
    {
     "data": {
      "text/html": [
       "<div>\n",
       "<style scoped>\n",
       "    .dataframe tbody tr th:only-of-type {\n",
       "        vertical-align: middle;\n",
       "    }\n",
       "\n",
       "    .dataframe tbody tr th {\n",
       "        vertical-align: top;\n",
       "    }\n",
       "\n",
       "    .dataframe thead th {\n",
       "        text-align: right;\n",
       "    }\n",
       "</style>\n",
       "<table border=\"1\" class=\"dataframe\">\n",
       "  <thead>\n",
       "    <tr style=\"text-align: right;\">\n",
       "      <th></th>\n",
       "      <th>Customer</th>\n",
       "      <th>Month</th>\n",
       "      <th>Type</th>\n",
       "      <th>Amount</th>\n",
       "      <th>Age</th>\n",
       "      <th>City</th>\n",
       "      <th>Product</th>\n",
       "      <th>Limit</th>\n",
       "      <th>Company</th>\n",
       "      <th>Segment</th>\n",
       "    </tr>\n",
       "  </thead>\n",
       "  <tbody>\n",
       "    <tr>\n",
       "      <th>0</th>\n",
       "      <td>A1</td>\n",
       "      <td>12-Jan-04</td>\n",
       "      <td>JEWELLERY</td>\n",
       "      <td>485470.8</td>\n",
       "      <td>76</td>\n",
       "      <td>BANGALORE</td>\n",
       "      <td>Gold</td>\n",
       "      <td>500000.0</td>\n",
       "      <td>C1</td>\n",
       "      <td>Self Employed</td>\n",
       "    </tr>\n",
       "  </tbody>\n",
       "</table>\n",
       "</div>"
      ],
      "text/plain": [
       "  Customer      Month       Type    Amount  Age       City Product     Limit  \\\n",
       "0       A1  12-Jan-04  JEWELLERY  485470.8   76  BANGALORE    Gold  500000.0   \n",
       "\n",
       "  Company        Segment  \n",
       "0      C1  Self Employed  "
      ]
     },
     "execution_count": 20,
     "metadata": {},
     "output_type": "execute_result"
    }
   ],
   "source": [
    "spend_cust_df.head(1)"
   ]
  },
  {
   "cell_type": "markdown",
   "id": "4fe5f427-070e-4542-b9b5-f0aa76a49a5c",
   "metadata": {},
   "source": [
    "#### Exploratory Data Analysis (EDA)"
   ]
  },
  {
   "cell_type": "code",
   "execution_count": 21,
   "id": "7c7b981e-23f6-4a8d-8b93-9ba922461fd9",
   "metadata": {},
   "outputs": [
    {
     "name": "stdout",
     "output_type": "stream",
     "text": [
      "The repayment df has 1500 rows and 9 columns\n"
     ]
    }
   ],
   "source": [
    "print('The repayment df has',repayment_cust_df.shape[0],'rows and',repayment_cust_df.shape[1],'columns')"
   ]
  },
  {
   "cell_type": "code",
   "execution_count": 22,
   "id": "a4ca96fb-5363-4333-9519-a5a011cead31",
   "metadata": {},
   "outputs": [
    {
     "name": "stdout",
     "output_type": "stream",
     "text": [
      "The spend df has 1500 rows and 10 columns\n"
     ]
    }
   ],
   "source": [
    "print('The spend df has',spend_cust_df.shape[0],'rows and',spend_cust_df.shape[1],'columns')"
   ]
  },
  {
   "cell_type": "markdown",
   "id": "afead95c-bd72-49cf-ba43-24498c0e6672",
   "metadata": {},
   "source": [
    "### DataFrame Info"
   ]
  },
  {
   "cell_type": "code",
   "execution_count": 23,
   "id": "6715aca8-3690-45d5-a7e0-d9bd54ddfac2",
   "metadata": {},
   "outputs": [
    {
     "name": "stdout",
     "output_type": "stream",
     "text": [
      "<class 'pandas.core.frame.DataFrame'>\n",
      "RangeIndex: 1500 entries, 0 to 1499\n",
      "Data columns (total 9 columns):\n",
      " #   Column    Non-Null Count  Dtype  \n",
      "---  ------    --------------  -----  \n",
      " 0   Customer  1500 non-null   object \n",
      " 1   Month     1500 non-null   object \n",
      " 2   Amount    1500 non-null   float64\n",
      " 3   Age       1500 non-null   int64  \n",
      " 4   City      1500 non-null   object \n",
      " 5   Product   1500 non-null   object \n",
      " 6   Limit     1500 non-null   float64\n",
      " 7   Company   1500 non-null   object \n",
      " 8   Segment   1500 non-null   object \n",
      "dtypes: float64(2), int64(1), object(6)\n",
      "memory usage: 105.6+ KB\n"
     ]
    }
   ],
   "source": [
    "repayment_cust_df.info()"
   ]
  },
  {
   "cell_type": "markdown",
   "id": "fe233716-14fb-475d-8a47-37db88354a6a",
   "metadata": {},
   "source": [
    "#### Observations\n",
    "Month which has date values stored is of wrong datatype"
   ]
  },
  {
   "cell_type": "code",
   "execution_count": 24,
   "id": "e6a2be52-bc0d-451c-8e57-47e07844f995",
   "metadata": {},
   "outputs": [
    {
     "name": "stdout",
     "output_type": "stream",
     "text": [
      "<class 'pandas.core.frame.DataFrame'>\n",
      "RangeIndex: 1500 entries, 0 to 1499\n",
      "Data columns (total 10 columns):\n",
      " #   Column    Non-Null Count  Dtype  \n",
      "---  ------    --------------  -----  \n",
      " 0   Customer  1500 non-null   object \n",
      " 1   Month     1500 non-null   object \n",
      " 2   Type      1500 non-null   object \n",
      " 3   Amount    1500 non-null   float64\n",
      " 4   Age       1500 non-null   int64  \n",
      " 5   City      1500 non-null   object \n",
      " 6   Product   1500 non-null   object \n",
      " 7   Limit     1500 non-null   float64\n",
      " 8   Company   1500 non-null   object \n",
      " 9   Segment   1500 non-null   object \n",
      "dtypes: float64(2), int64(1), object(7)\n",
      "memory usage: 117.3+ KB\n"
     ]
    }
   ],
   "source": [
    "spend_cust_df.info()"
   ]
  },
  {
   "cell_type": "markdown",
   "id": "3b8a6556-0d35-42d7-b3b0-5d594db3f83a",
   "metadata": {},
   "source": [
    "#### Observations\n",
    "Month which has date values stored is of wrong datatype"
   ]
  },
  {
   "cell_type": "markdown",
   "id": "c15ea9f3-c973-483b-bd1e-269c20441a7f",
   "metadata": {},
   "source": [
    "### Changing Datatype"
   ]
  },
  {
   "cell_type": "code",
   "execution_count": 25,
   "id": "25ff4e8a-39b9-40fa-a43e-ee126fc9335c",
   "metadata": {},
   "outputs": [],
   "source": [
    "repayment_cust_df.Month = pd.to_datetime(repayment_cust_df.Month,format = '%d-%b-%y')"
   ]
  },
  {
   "cell_type": "code",
   "execution_count": 26,
   "id": "a734e45c-53e4-4341-83f8-513d0a378df5",
   "metadata": {},
   "outputs": [],
   "source": [
    "spend_cust_df.Month = pd.to_datetime(spend_cust_df.Month,format = '%d-%b-%y')"
   ]
  },
  {
   "cell_type": "markdown",
   "id": "095ff1ea-29fd-47fa-a8b8-dc3defab71af",
   "metadata": {},
   "source": [
    "### Checking datatypes again"
   ]
  },
  {
   "cell_type": "code",
   "execution_count": 27,
   "id": "3c900bf1-f542-480a-8fa3-0e7a140b7a42",
   "metadata": {},
   "outputs": [
    {
     "name": "stdout",
     "output_type": "stream",
     "text": [
      "<class 'pandas.core.frame.DataFrame'>\n",
      "RangeIndex: 1500 entries, 0 to 1499\n",
      "Data columns (total 9 columns):\n",
      " #   Column    Non-Null Count  Dtype         \n",
      "---  ------    --------------  -----         \n",
      " 0   Customer  1500 non-null   object        \n",
      " 1   Month     1500 non-null   datetime64[ns]\n",
      " 2   Amount    1500 non-null   float64       \n",
      " 3   Age       1500 non-null   int64         \n",
      " 4   City      1500 non-null   object        \n",
      " 5   Product   1500 non-null   object        \n",
      " 6   Limit     1500 non-null   float64       \n",
      " 7   Company   1500 non-null   object        \n",
      " 8   Segment   1500 non-null   object        \n",
      "dtypes: datetime64[ns](1), float64(2), int64(1), object(5)\n",
      "memory usage: 105.6+ KB\n"
     ]
    }
   ],
   "source": [
    "repayment_cust_df.info()"
   ]
  },
  {
   "cell_type": "code",
   "execution_count": 28,
   "id": "7f4ceb6d-e2d0-4d10-b7cc-221ec3e62682",
   "metadata": {},
   "outputs": [
    {
     "name": "stdout",
     "output_type": "stream",
     "text": [
      "<class 'pandas.core.frame.DataFrame'>\n",
      "RangeIndex: 1500 entries, 0 to 1499\n",
      "Data columns (total 10 columns):\n",
      " #   Column    Non-Null Count  Dtype         \n",
      "---  ------    --------------  -----         \n",
      " 0   Customer  1500 non-null   object        \n",
      " 1   Month     1500 non-null   datetime64[ns]\n",
      " 2   Type      1500 non-null   object        \n",
      " 3   Amount    1500 non-null   float64       \n",
      " 4   Age       1500 non-null   int64         \n",
      " 5   City      1500 non-null   object        \n",
      " 6   Product   1500 non-null   object        \n",
      " 7   Limit     1500 non-null   float64       \n",
      " 8   Company   1500 non-null   object        \n",
      " 9   Segment   1500 non-null   object        \n",
      "dtypes: datetime64[ns](1), float64(2), int64(1), object(6)\n",
      "memory usage: 117.3+ KB\n"
     ]
    }
   ],
   "source": [
    "spend_cust_df.info()"
   ]
  },
  {
   "cell_type": "markdown",
   "id": "e5c1b398-e9de-44a6-bf54-c8e17edfa3e4",
   "metadata": {},
   "source": [
    "#### Datatypes are corrected now"
   ]
  },
  {
   "cell_type": "markdown",
   "id": "a621c86d-c3a6-4e6a-92cc-42c71e948bf7",
   "metadata": {},
   "source": [
    "### Five point summary"
   ]
  },
  {
   "cell_type": "code",
   "execution_count": 29,
   "id": "a3398201-578d-4575-a741-9c5782ec8dba",
   "metadata": {},
   "outputs": [],
   "source": [
    "#Five point summary for numerical columns"
   ]
  },
  {
   "cell_type": "code",
   "execution_count": 30,
   "id": "6ef0659c-5b21-41a1-9751-3ae33cbd40c6",
   "metadata": {},
   "outputs": [
    {
     "data": {
      "text/html": [
       "<div>\n",
       "<style scoped>\n",
       "    .dataframe tbody tr th:only-of-type {\n",
       "        vertical-align: middle;\n",
       "    }\n",
       "\n",
       "    .dataframe tbody tr th {\n",
       "        vertical-align: top;\n",
       "    }\n",
       "\n",
       "    .dataframe thead th {\n",
       "        text-align: right;\n",
       "    }\n",
       "</style>\n",
       "<table border=\"1\" class=\"dataframe\">\n",
       "  <thead>\n",
       "    <tr style=\"text-align: right;\">\n",
       "      <th></th>\n",
       "      <th>count</th>\n",
       "      <th>mean</th>\n",
       "      <th>min</th>\n",
       "      <th>25%</th>\n",
       "      <th>50%</th>\n",
       "      <th>75%</th>\n",
       "      <th>max</th>\n",
       "      <th>std</th>\n",
       "    </tr>\n",
       "  </thead>\n",
       "  <tbody>\n",
       "    <tr>\n",
       "      <th>Month</th>\n",
       "      <td>1500</td>\n",
       "      <td>2005-05-24 01:18:43.199999872</td>\n",
       "      <td>2004-01-03 00:00:00</td>\n",
       "      <td>2004-05-05 00:00:00</td>\n",
       "      <td>2005-05-29 00:00:00</td>\n",
       "      <td>2006-03-28 00:00:00</td>\n",
       "      <td>2006-12-03 00:00:00</td>\n",
       "      <td>NaN</td>\n",
       "    </tr>\n",
       "    <tr>\n",
       "      <th>Amount</th>\n",
       "      <td>1500.0</td>\n",
       "      <td>247890.05442</td>\n",
       "      <td>55.86</td>\n",
       "      <td>118604.905</td>\n",
       "      <td>248008.185</td>\n",
       "      <td>367236.89</td>\n",
       "      <td>499930.66</td>\n",
       "      <td>145290.382733</td>\n",
       "    </tr>\n",
       "    <tr>\n",
       "      <th>Age</th>\n",
       "      <td>1500.0</td>\n",
       "      <td>44.268667</td>\n",
       "      <td>12.0</td>\n",
       "      <td>28.0</td>\n",
       "      <td>42.0</td>\n",
       "      <td>57.0</td>\n",
       "      <td>79.0</td>\n",
       "      <td>17.51227</td>\n",
       "    </tr>\n",
       "    <tr>\n",
       "      <th>Limit</th>\n",
       "      <td>1500.0</td>\n",
       "      <td>297993.956667</td>\n",
       "      <td>10000.0</td>\n",
       "      <td>100000.0</td>\n",
       "      <td>500000.0</td>\n",
       "      <td>500000.0</td>\n",
       "      <td>500000.0</td>\n",
       "      <td>216239.376333</td>\n",
       "    </tr>\n",
       "  </tbody>\n",
       "</table>\n",
       "</div>"
      ],
      "text/plain": [
       "         count                           mean                  min  \\\n",
       "Month     1500  2005-05-24 01:18:43.199999872  2004-01-03 00:00:00   \n",
       "Amount  1500.0                   247890.05442                55.86   \n",
       "Age     1500.0                      44.268667                 12.0   \n",
       "Limit   1500.0                  297993.956667              10000.0   \n",
       "\n",
       "                        25%                  50%                  75%  \\\n",
       "Month   2004-05-05 00:00:00  2005-05-29 00:00:00  2006-03-28 00:00:00   \n",
       "Amount           118604.905           248008.185            367236.89   \n",
       "Age                    28.0                 42.0                 57.0   \n",
       "Limit              100000.0             500000.0             500000.0   \n",
       "\n",
       "                        max            std  \n",
       "Month   2006-12-03 00:00:00            NaN  \n",
       "Amount            499930.66  145290.382733  \n",
       "Age                    79.0       17.51227  \n",
       "Limit              500000.0  216239.376333  "
      ]
     },
     "execution_count": 30,
     "metadata": {},
     "output_type": "execute_result"
    }
   ],
   "source": [
    "repayment_cust_df.describe().T"
   ]
  },
  {
   "cell_type": "code",
   "execution_count": 31,
   "id": "581bdc7d-8142-4ccc-8515-45bec613c9f4",
   "metadata": {},
   "outputs": [],
   "source": [
    "#Five point summary for categorical columns"
   ]
  },
  {
   "cell_type": "code",
   "execution_count": 32,
   "id": "01ffa0ba-7ff2-45f5-b81b-e5665625ad8b",
   "metadata": {},
   "outputs": [
    {
     "data": {
      "text/html": [
       "<div>\n",
       "<style scoped>\n",
       "    .dataframe tbody tr th:only-of-type {\n",
       "        vertical-align: middle;\n",
       "    }\n",
       "\n",
       "    .dataframe tbody tr th {\n",
       "        vertical-align: top;\n",
       "    }\n",
       "\n",
       "    .dataframe thead th {\n",
       "        text-align: right;\n",
       "    }\n",
       "</style>\n",
       "<table border=\"1\" class=\"dataframe\">\n",
       "  <thead>\n",
       "    <tr style=\"text-align: right;\">\n",
       "      <th></th>\n",
       "      <th>count</th>\n",
       "      <th>unique</th>\n",
       "      <th>top</th>\n",
       "      <th>freq</th>\n",
       "    </tr>\n",
       "  </thead>\n",
       "  <tbody>\n",
       "    <tr>\n",
       "      <th>Customer</th>\n",
       "      <td>1500</td>\n",
       "      <td>100</td>\n",
       "      <td>A61</td>\n",
       "      <td>38</td>\n",
       "    </tr>\n",
       "    <tr>\n",
       "      <th>City</th>\n",
       "      <td>1500</td>\n",
       "      <td>8</td>\n",
       "      <td>BANGALORE</td>\n",
       "      <td>299</td>\n",
       "    </tr>\n",
       "    <tr>\n",
       "      <th>Product</th>\n",
       "      <td>1500</td>\n",
       "      <td>3</td>\n",
       "      <td>Gold</td>\n",
       "      <td>610</td>\n",
       "    </tr>\n",
       "    <tr>\n",
       "      <th>Company</th>\n",
       "      <td>1500</td>\n",
       "      <td>41</td>\n",
       "      <td>C22</td>\n",
       "      <td>103</td>\n",
       "    </tr>\n",
       "    <tr>\n",
       "      <th>Segment</th>\n",
       "      <td>1500</td>\n",
       "      <td>5</td>\n",
       "      <td>Normal Salary</td>\n",
       "      <td>441</td>\n",
       "    </tr>\n",
       "  </tbody>\n",
       "</table>\n",
       "</div>"
      ],
      "text/plain": [
       "         count unique            top freq\n",
       "Customer  1500    100            A61   38\n",
       "City      1500      8      BANGALORE  299\n",
       "Product   1500      3           Gold  610\n",
       "Company   1500     41            C22  103\n",
       "Segment   1500      5  Normal Salary  441"
      ]
     },
     "execution_count": 32,
     "metadata": {},
     "output_type": "execute_result"
    }
   ],
   "source": [
    "repayment_cust_df.describe(include='object').T"
   ]
  },
  {
   "cell_type": "code",
   "execution_count": 33,
   "id": "77df8726-ae0d-4697-a8ad-27d6ff1a5878",
   "metadata": {},
   "outputs": [],
   "source": [
    "#Five point summary for numerical columns"
   ]
  },
  {
   "cell_type": "code",
   "execution_count": 34,
   "id": "63ad1543-3da7-48e4-b1ef-2c171ef94d09",
   "metadata": {},
   "outputs": [
    {
     "data": {
      "text/html": [
       "<div>\n",
       "<style scoped>\n",
       "    .dataframe tbody tr th:only-of-type {\n",
       "        vertical-align: middle;\n",
       "    }\n",
       "\n",
       "    .dataframe tbody tr th {\n",
       "        vertical-align: top;\n",
       "    }\n",
       "\n",
       "    .dataframe thead th {\n",
       "        text-align: right;\n",
       "    }\n",
       "</style>\n",
       "<table border=\"1\" class=\"dataframe\">\n",
       "  <thead>\n",
       "    <tr style=\"text-align: right;\">\n",
       "      <th></th>\n",
       "      <th>count</th>\n",
       "      <th>mean</th>\n",
       "      <th>min</th>\n",
       "      <th>25%</th>\n",
       "      <th>50%</th>\n",
       "      <th>75%</th>\n",
       "      <th>max</th>\n",
       "      <th>std</th>\n",
       "    </tr>\n",
       "  </thead>\n",
       "  <tbody>\n",
       "    <tr>\n",
       "      <th>Month</th>\n",
       "      <td>1500</td>\n",
       "      <td>2005-05-16 21:17:45.600000</td>\n",
       "      <td>2004-01-03 00:00:00</td>\n",
       "      <td>2004-04-25 00:00:00</td>\n",
       "      <td>2005-05-29 00:00:00</td>\n",
       "      <td>2006-03-26 00:00:00</td>\n",
       "      <td>2006-12-03 00:00:00</td>\n",
       "      <td>NaN</td>\n",
       "    </tr>\n",
       "    <tr>\n",
       "      <th>Amount</th>\n",
       "      <td>1500.0</td>\n",
       "      <td>243096.04946</td>\n",
       "      <td>720.3</td>\n",
       "      <td>122606.4875</td>\n",
       "      <td>239210.36</td>\n",
       "      <td>361617.6325</td>\n",
       "      <td>499793.49</td>\n",
       "      <td>141349.547367</td>\n",
       "    </tr>\n",
       "    <tr>\n",
       "      <th>Age</th>\n",
       "      <td>1500.0</td>\n",
       "      <td>44.268667</td>\n",
       "      <td>12.0</td>\n",
       "      <td>28.0</td>\n",
       "      <td>42.0</td>\n",
       "      <td>57.0</td>\n",
       "      <td>79.0</td>\n",
       "      <td>17.51227</td>\n",
       "    </tr>\n",
       "    <tr>\n",
       "      <th>Limit</th>\n",
       "      <td>1500.0</td>\n",
       "      <td>297993.956667</td>\n",
       "      <td>10000.0</td>\n",
       "      <td>100000.0</td>\n",
       "      <td>500000.0</td>\n",
       "      <td>500000.0</td>\n",
       "      <td>500000.0</td>\n",
       "      <td>216239.376333</td>\n",
       "    </tr>\n",
       "  </tbody>\n",
       "</table>\n",
       "</div>"
      ],
      "text/plain": [
       "         count                        mean                  min  \\\n",
       "Month     1500  2005-05-16 21:17:45.600000  2004-01-03 00:00:00   \n",
       "Amount  1500.0                243096.04946                720.3   \n",
       "Age     1500.0                   44.268667                 12.0   \n",
       "Limit   1500.0               297993.956667              10000.0   \n",
       "\n",
       "                        25%                  50%                  75%  \\\n",
       "Month   2004-04-25 00:00:00  2005-05-29 00:00:00  2006-03-26 00:00:00   \n",
       "Amount          122606.4875            239210.36          361617.6325   \n",
       "Age                    28.0                 42.0                 57.0   \n",
       "Limit              100000.0             500000.0             500000.0   \n",
       "\n",
       "                        max            std  \n",
       "Month   2006-12-03 00:00:00            NaN  \n",
       "Amount            499793.49  141349.547367  \n",
       "Age                    79.0       17.51227  \n",
       "Limit              500000.0  216239.376333  "
      ]
     },
     "execution_count": 34,
     "metadata": {},
     "output_type": "execute_result"
    }
   ],
   "source": [
    "spend_cust_df.describe().T"
   ]
  },
  {
   "cell_type": "markdown",
   "id": "4ff06b6c-a752-48e1-8617-816dce045ae4",
   "metadata": {},
   "source": [
    "#### Five point summary for categorical columns"
   ]
  },
  {
   "cell_type": "code",
   "execution_count": 36,
   "id": "ed92a77d-e7e3-42ae-88f1-f58886b84e3c",
   "metadata": {},
   "outputs": [
    {
     "data": {
      "text/html": [
       "<div>\n",
       "<style scoped>\n",
       "    .dataframe tbody tr th:only-of-type {\n",
       "        vertical-align: middle;\n",
       "    }\n",
       "\n",
       "    .dataframe tbody tr th {\n",
       "        vertical-align: top;\n",
       "    }\n",
       "\n",
       "    .dataframe thead th {\n",
       "        text-align: right;\n",
       "    }\n",
       "</style>\n",
       "<table border=\"1\" class=\"dataframe\">\n",
       "  <thead>\n",
       "    <tr style=\"text-align: right;\">\n",
       "      <th></th>\n",
       "      <th>count</th>\n",
       "      <th>unique</th>\n",
       "      <th>top</th>\n",
       "      <th>freq</th>\n",
       "    </tr>\n",
       "  </thead>\n",
       "  <tbody>\n",
       "    <tr>\n",
       "      <th>Customer</th>\n",
       "      <td>1500</td>\n",
       "      <td>100</td>\n",
       "      <td>A61</td>\n",
       "      <td>38</td>\n",
       "    </tr>\n",
       "    <tr>\n",
       "      <th>Type</th>\n",
       "      <td>1500</td>\n",
       "      <td>15</td>\n",
       "      <td>PETRO</td>\n",
       "      <td>200</td>\n",
       "    </tr>\n",
       "    <tr>\n",
       "      <th>City</th>\n",
       "      <td>1500</td>\n",
       "      <td>8</td>\n",
       "      <td>BANGALORE</td>\n",
       "      <td>299</td>\n",
       "    </tr>\n",
       "    <tr>\n",
       "      <th>Product</th>\n",
       "      <td>1500</td>\n",
       "      <td>3</td>\n",
       "      <td>Gold</td>\n",
       "      <td>610</td>\n",
       "    </tr>\n",
       "    <tr>\n",
       "      <th>Company</th>\n",
       "      <td>1500</td>\n",
       "      <td>41</td>\n",
       "      <td>C22</td>\n",
       "      <td>103</td>\n",
       "    </tr>\n",
       "    <tr>\n",
       "      <th>Segment</th>\n",
       "      <td>1500</td>\n",
       "      <td>5</td>\n",
       "      <td>Normal Salary</td>\n",
       "      <td>441</td>\n",
       "    </tr>\n",
       "  </tbody>\n",
       "</table>\n",
       "</div>"
      ],
      "text/plain": [
       "         count unique            top freq\n",
       "Customer  1500    100            A61   38\n",
       "Type      1500     15          PETRO  200\n",
       "City      1500      8      BANGALORE  299\n",
       "Product   1500      3           Gold  610\n",
       "Company   1500     41            C22  103\n",
       "Segment   1500      5  Normal Salary  441"
      ]
     },
     "execution_count": 36,
     "metadata": {},
     "output_type": "execute_result"
    }
   ],
   "source": [
    "spend_cust_df.describe(include='object').T"
   ]
  },
  {
   "cell_type": "markdown",
   "id": "f7379283-042c-4f65-8b2e-1f5cf1d80244",
   "metadata": {},
   "source": [
    "### Checking missing values"
   ]
  },
  {
   "cell_type": "code",
   "execution_count": 41,
   "id": "3a636202-1300-4198-96bf-f52fc9767839",
   "metadata": {},
   "outputs": [
    {
     "data": {
      "text/plain": [
       "Customer    0\n",
       "Month       0\n",
       "Amount      0\n",
       "Age         0\n",
       "City        0\n",
       "Product     0\n",
       "Limit       0\n",
       "Company     0\n",
       "Segment     0\n",
       "dtype: int64"
      ]
     },
     "execution_count": 41,
     "metadata": {},
     "output_type": "execute_result"
    }
   ],
   "source": [
    "repayment_cust_df.isna().sum()"
   ]
  },
  {
   "cell_type": "markdown",
   "id": "3a8c699c-3f68-4ad6-9379-1d2c61f059ce",
   "metadata": {},
   "source": [
    "#### There are no missing columns in repayment_cust_df"
   ]
  },
  {
   "cell_type": "code",
   "execution_count": 42,
   "id": "c5684983-2217-4ffb-9000-e00bfb8553ae",
   "metadata": {},
   "outputs": [
    {
     "data": {
      "text/plain": [
       "Customer    0\n",
       "Month       0\n",
       "Type        0\n",
       "Amount      0\n",
       "Age         0\n",
       "City        0\n",
       "Product     0\n",
       "Limit       0\n",
       "Company     0\n",
       "Segment     0\n",
       "dtype: int64"
      ]
     },
     "execution_count": 42,
     "metadata": {},
     "output_type": "execute_result"
    }
   ],
   "source": [
    "spend_cust_df.isna().sum()"
   ]
  },
  {
   "cell_type": "markdown",
   "id": "3427a333-7926-4f5d-928b-ee269732aadf",
   "metadata": {},
   "source": [
    "#### There are no missing values in spend_cust_df as well"
   ]
  },
  {
   "cell_type": "markdown",
   "id": "8fc139c0-4317-4391-8969-f1672658e4bf",
   "metadata": {},
   "source": [
    "## Questions"
   ]
  },
  {
   "cell_type": "markdown",
   "id": "8030943d-844e-4f9f-956e-939283bee2a2",
   "metadata": {},
   "source": [
    "####  1. In the above dataset,\n",
    "##### a. In case age is less than 18, replace it with mean of age values.\n",
    "##### b. In case spend amount is more than the limit, replace it with 50% of that customer’s limit. (customer’s limit provided in acquisition table is the per transaction limit on his card)"
   ]
  },
  {
   "cell_type": "code",
   "execution_count": 43,
   "id": "b159f9c9-126b-4127-bbb1-1f615bf0994b",
   "metadata": {},
   "outputs": [],
   "source": [
    "#1 a. In case age is less than 18, replace it with mean of age values."
   ]
  },
  {
   "cell_type": "code",
   "execution_count": 44,
   "id": "600515b4-e88a-478e-9a73-97154dbe33d4",
   "metadata": {},
   "outputs": [],
   "source": [
    "spend_cust_df['Age']= np.where(spend_cust_df.Age < 18,spend_cust_df.Age.mean().round(2),spend_cust_df.Age)\n",
    "repayment_cust_df['Age']= np.where(repayment_cust_df.Age < 18,repayment_cust_df.Age.mean().round(2),spend_cust_df.Age)"
   ]
  },
  {
   "cell_type": "code",
   "execution_count": 45,
   "id": "ff985098-f455-4993-bbad-a17fd4792616",
   "metadata": {},
   "outputs": [],
   "source": [
    "# b. In case spend amount is more than the limit, replace it with 50% of that customer’s limit.(customer’s limit provided in acquisition table is the per transaction limit on his card)\n",
    "spend_cust_df['Amount'] = np.where(spend_cust_df.Amount > spend_cust_df.Limit,0.5 * spend_cust_df.Limit,spend_cust_df.Amount)"
   ]
  },
  {
   "cell_type": "code",
   "execution_count": 46,
   "id": "3d4c310a-d335-487a-ad48-385b7b23b559",
   "metadata": {},
   "outputs": [],
   "source": [
    "# c. Incase the repayment amount is more than the limit, replace the repayment with the limit.\n",
    "repayment_cust_df['Amount']= np.where(repayment_cust_df.Amount > repayment_cust_df.Limit,repayment_cust_df.Limit,repayment_cust_df.Amount)"
   ]
  },
  {
   "cell_type": "markdown",
   "id": "f0501237-5f00-4d14-95a1-8dc871e96495",
   "metadata": {},
   "source": [
    "#### 2. From the above dataset create the following summaries:\n",
    "##### a. How many distinct customers exist?\n",
    "##### b. How many distinct categories exist?\n",
    "##### c. What is the average monthly spend by customers?\n",
    "##### d. What is the average monthly repayment by customers?"
   ]
  },
  {
   "cell_type": "code",
   "execution_count": 47,
   "id": "b722dbe4-a4fa-465a-952e-798c6e43db1d",
   "metadata": {},
   "outputs": [
    {
     "name": "stdout",
     "output_type": "stream",
     "text": [
      "There are 100 unique customers.\n"
     ]
    }
   ],
   "source": [
    "# a. How many distinct customers exist?\n",
    "Num_of_unique_cust = spend_cust_df.Customer.nunique()\n",
    "print('There are',Num_of_unique_cust,'unique customers.')"
   ]
  },
  {
   "cell_type": "code",
   "execution_count": 48,
   "id": "41610537-9d98-4cf5-b845-ec412de1175d",
   "metadata": {},
   "outputs": [
    {
     "name": "stdout",
     "output_type": "stream",
     "text": [
      "Number of distinct product category are 3\n"
     ]
    }
   ],
   "source": [
    "# b. How many distinct categories exist?\n",
    "Num_of_Dis_cat = spend_cust_df.Product.nunique()\n",
    "print('Number of distinct product category are',Num_of_Dis_cat)"
   ]
  },
  {
   "cell_type": "code",
   "execution_count": 49,
   "id": "f148100e-1343-48ca-87f6-0fac25207cea",
   "metadata": {},
   "outputs": [
    {
     "data": {
      "text/html": [
       "<div>\n",
       "<style scoped>\n",
       "    .dataframe tbody tr th:only-of-type {\n",
       "        vertical-align: middle;\n",
       "    }\n",
       "\n",
       "    .dataframe tbody tr th {\n",
       "        vertical-align: top;\n",
       "    }\n",
       "\n",
       "    .dataframe thead th {\n",
       "        text-align: right;\n",
       "    }\n",
       "</style>\n",
       "<table border=\"1\" class=\"dataframe\">\n",
       "  <thead>\n",
       "    <tr style=\"text-align: right;\">\n",
       "      <th></th>\n",
       "      <th>Amount</th>\n",
       "    </tr>\n",
       "    <tr>\n",
       "      <th>Month_num</th>\n",
       "      <th></th>\n",
       "    </tr>\n",
       "  </thead>\n",
       "  <tbody>\n",
       "    <tr>\n",
       "      <th>1</th>\n",
       "      <td>147770.18</td>\n",
       "    </tr>\n",
       "    <tr>\n",
       "      <th>2</th>\n",
       "      <td>151261.57</td>\n",
       "    </tr>\n",
       "    <tr>\n",
       "      <th>3</th>\n",
       "      <td>131840.76</td>\n",
       "    </tr>\n",
       "  </tbody>\n",
       "</table>\n",
       "</div>"
      ],
      "text/plain": [
       "              Amount\n",
       "Month_num           \n",
       "1          147770.18\n",
       "2          151261.57\n",
       "3          131840.76"
      ]
     },
     "execution_count": 49,
     "metadata": {},
     "output_type": "execute_result"
    }
   ],
   "source": [
    "# c. What is the average monthly spend by customers?\n",
    "spend_cust_df['Month_num'] = spend_cust_df.Month.dt.month\n",
    "Avg_monthly_spend = spend_cust_df[['Month_num','Amount']].groupby(by='Month_num').mean().round(2)\n",
    "Avg_monthly_spend.head(3)"
   ]
  },
  {
   "cell_type": "code",
   "execution_count": 50,
   "id": "3e43e2e5-44e9-464e-b68c-6848b51921b5",
   "metadata": {},
   "outputs": [
    {
     "data": {
      "text/html": [
       "<div>\n",
       "<style scoped>\n",
       "    .dataframe tbody tr th:only-of-type {\n",
       "        vertical-align: middle;\n",
       "    }\n",
       "\n",
       "    .dataframe tbody tr th {\n",
       "        vertical-align: top;\n",
       "    }\n",
       "\n",
       "    .dataframe thead th {\n",
       "        text-align: right;\n",
       "    }\n",
       "</style>\n",
       "<table border=\"1\" class=\"dataframe\">\n",
       "  <thead>\n",
       "    <tr style=\"text-align: right;\">\n",
       "      <th></th>\n",
       "      <th>Amount</th>\n",
       "    </tr>\n",
       "    <tr>\n",
       "      <th>Month_num</th>\n",
       "      <th></th>\n",
       "    </tr>\n",
       "  </thead>\n",
       "  <tbody>\n",
       "    <tr>\n",
       "      <th>1</th>\n",
       "      <td>163445.53</td>\n",
       "    </tr>\n",
       "    <tr>\n",
       "      <th>2</th>\n",
       "      <td>158873.10</td>\n",
       "    </tr>\n",
       "    <tr>\n",
       "      <th>3</th>\n",
       "      <td>156430.85</td>\n",
       "    </tr>\n",
       "  </tbody>\n",
       "</table>\n",
       "</div>"
      ],
      "text/plain": [
       "              Amount\n",
       "Month_num           \n",
       "1          163445.53\n",
       "2          158873.10\n",
       "3          156430.85"
      ]
     },
     "execution_count": 50,
     "metadata": {},
     "output_type": "execute_result"
    }
   ],
   "source": [
    "# d. What is the average monthly repayment by customers?\n",
    "repayment_cust_df['Month_num']= repayment_cust_df.Month.dt.month\n",
    "Avg_monthly_repayment = repayment_cust_df[['Month_num','Amount']].groupby(by='Month_num').mean().round(2)\n",
    "Avg_monthly_repayment.head(3)"
   ]
  },
  {
   "cell_type": "markdown",
   "id": "f0f8cdd3-7c8a-435d-8454-7d8784a67b13",
   "metadata": {},
   "source": [
    "e. If the monthly rate of interest is 2.9%, what is the profit for the bank for each month?(Profit is defined as interest earned on Monthly Profit. Monthly Profit = Monthly repayment – Monthly spend. Interest is earned only on positive profits and not on negative amounts)"
   ]
  },
  {
   "cell_type": "code",
   "execution_count": 51,
   "id": "220b06af-b8fd-43b1-b02e-79b006a68707",
   "metadata": {},
   "outputs": [
    {
     "data": {
      "text/html": [
       "<div>\n",
       "<style scoped>\n",
       "    .dataframe tbody tr th:only-of-type {\n",
       "        vertical-align: middle;\n",
       "    }\n",
       "\n",
       "    .dataframe tbody tr th {\n",
       "        vertical-align: top;\n",
       "    }\n",
       "\n",
       "    .dataframe thead th {\n",
       "        text-align: right;\n",
       "    }\n",
       "</style>\n",
       "<table border=\"1\" class=\"dataframe\">\n",
       "  <thead>\n",
       "    <tr style=\"text-align: right;\">\n",
       "      <th></th>\n",
       "      <th>Amount</th>\n",
       "    </tr>\n",
       "    <tr>\n",
       "      <th>Month_num</th>\n",
       "      <th></th>\n",
       "    </tr>\n",
       "  </thead>\n",
       "  <tbody>\n",
       "    <tr>\n",
       "      <th>1</th>\n",
       "      <td>16452.61263</td>\n",
       "    </tr>\n",
       "    <tr>\n",
       "      <th>2</th>\n",
       "      <td>6461.60252</td>\n",
       "    </tr>\n",
       "    <tr>\n",
       "      <th>3</th>\n",
       "      <td>110291.09103</td>\n",
       "    </tr>\n",
       "    <tr>\n",
       "      <th>4</th>\n",
       "      <td>141987.86106</td>\n",
       "    </tr>\n",
       "    <tr>\n",
       "      <th>5</th>\n",
       "      <td>512169.17980</td>\n",
       "    </tr>\n",
       "    <tr>\n",
       "      <th>7</th>\n",
       "      <td>32168.70472</td>\n",
       "    </tr>\n",
       "    <tr>\n",
       "      <th>8</th>\n",
       "      <td>15258.37349</td>\n",
       "    </tr>\n",
       "    <tr>\n",
       "      <th>10</th>\n",
       "      <td>12016.27673</td>\n",
       "    </tr>\n",
       "    <tr>\n",
       "      <th>11</th>\n",
       "      <td>5514.54865</td>\n",
       "    </tr>\n",
       "    <tr>\n",
       "      <th>12</th>\n",
       "      <td>37111.32407</td>\n",
       "    </tr>\n",
       "  </tbody>\n",
       "</table>\n",
       "</div>"
      ],
      "text/plain": [
       "                 Amount\n",
       "Month_num              \n",
       "1           16452.61263\n",
       "2            6461.60252\n",
       "3          110291.09103\n",
       "4          141987.86106\n",
       "5          512169.17980\n",
       "7           32168.70472\n",
       "8           15258.37349\n",
       "10          12016.27673\n",
       "11           5514.54865\n",
       "12          37111.32407"
      ]
     },
     "execution_count": 51,
     "metadata": {},
     "output_type": "execute_result"
    }
   ],
   "source": [
    "Monthly_repayment= repayment_cust_df[['Month_num','Amount']].groupby(by='Month_num').sum()\n",
    "Monthly_spend = spend_cust_df[['Month_num','Amount']].groupby(by='Month_num').sum()\n",
    "Monthly_Profit = Monthly_repayment - Monthly_spend\n",
    "Positive_profit = Monthly_Profit[Monthly_Profit['Amount'] > 0]\n",
    "Bank_Profit = Positive_profit * 0.029\n",
    "Bank_Profit"
   ]
  },
  {
   "cell_type": "code",
   "execution_count": 52,
   "id": "eb63968e-328a-4a64-b22c-981791342a94",
   "metadata": {},
   "outputs": [
    {
     "data": {
      "text/plain": [
       "Type\n",
       "PETRO           200\n",
       "FOOD            160\n",
       "CAMERA          160\n",
       "AIR TICKET      147\n",
       "TRAIN TICKET    132\n",
       "Name: count, dtype: int64"
      ]
     },
     "execution_count": 52,
     "metadata": {},
     "output_type": "execute_result"
    }
   ],
   "source": [
    "# f. What are the top 5 product types?\n",
    "top_5_product = spend_cust_df.Type.value_counts().head(5)\n",
    "top_5_product"
   ]
  },
  {
   "cell_type": "code",
   "execution_count": 53,
   "id": "d849ce1d-90e5-41ff-9508-7145ab9e84fe",
   "metadata": {},
   "outputs": [
    {
     "name": "stdout",
     "output_type": "stream",
     "text": [
      "The city with max spend is COCHIN with a spend of 45963513.5\n"
     ]
    }
   ],
   "source": [
    "# g. Which city is having maximum spend?\n",
    "spend_by_city = spend_cust_df[['City','Amount']].groupby(by='City').sum().sort_values(by='Amount',ascending=False)\n",
    "print('The city with max spend is',spend_by_city.index[0],'with a spend of',spend_by_city.iloc[0]['Amount'])"
   ]
  },
  {
   "cell_type": "code",
   "execution_count": 54,
   "id": "b2e91263-ea8e-4546-9f86-9e219c732c6c",
   "metadata": {},
   "outputs": [
    {
     "name": "stdout",
     "output_type": "stream",
     "text": [
      "The age group spending maximum money is 19-29 with a total spend of 52619884.21\n"
     ]
    }
   ],
   "source": [
    "# h. Which age group is spending more money?\n",
    "spend_cust_df['AgeGroup'] = pd.cut(spend_cust_df.Age,bins=[19,29,39,49,59,69,79],labels=['19-29','29-39','39-49','49-59','59-69','69-79'])\n",
    "spend_by_age_sorted = spend_cust_df[['AgeGroup','Amount']].groupby(by='AgeGroup',observed=True).sum().sort_values(by='Amount',ascending=False)\n",
    "print('The age group spending maximum money is',spend_by_age_sorted.index[0],'with a total spend of',spend_by_age_sorted.iloc[0]['Amount'])"
   ]
  },
  {
   "cell_type": "code",
   "execution_count": 55,
   "id": "54f822f7-db5f-4487-b676-070881c9e5c3",
   "metadata": {},
   "outputs": [
    {
     "data": {
      "text/html": [
       "<div>\n",
       "<style scoped>\n",
       "    .dataframe tbody tr th:only-of-type {\n",
       "        vertical-align: middle;\n",
       "    }\n",
       "\n",
       "    .dataframe tbody tr th {\n",
       "        vertical-align: top;\n",
       "    }\n",
       "\n",
       "    .dataframe thead th {\n",
       "        text-align: right;\n",
       "    }\n",
       "</style>\n",
       "<table border=\"1\" class=\"dataframe\">\n",
       "  <thead>\n",
       "    <tr style=\"text-align: right;\">\n",
       "      <th></th>\n",
       "      <th>Amount</th>\n",
       "    </tr>\n",
       "    <tr>\n",
       "      <th>Customer</th>\n",
       "      <th></th>\n",
       "    </tr>\n",
       "  </thead>\n",
       "  <tbody>\n",
       "    <tr>\n",
       "      <th>A61</th>\n",
       "      <td>10539142.91</td>\n",
       "    </tr>\n",
       "    <tr>\n",
       "      <th>A60</th>\n",
       "      <td>9876290.74</td>\n",
       "    </tr>\n",
       "    <tr>\n",
       "      <th>A13</th>\n",
       "      <td>9572000.66</td>\n",
       "    </tr>\n",
       "    <tr>\n",
       "      <th>A43</th>\n",
       "      <td>8489871.46</td>\n",
       "    </tr>\n",
       "    <tr>\n",
       "      <th>A45</th>\n",
       "      <td>8448334.87</td>\n",
       "    </tr>\n",
       "    <tr>\n",
       "      <th>A12</th>\n",
       "      <td>8334760.16</td>\n",
       "    </tr>\n",
       "    <tr>\n",
       "      <th>A14</th>\n",
       "      <td>7943268.63</td>\n",
       "    </tr>\n",
       "    <tr>\n",
       "      <th>A44</th>\n",
       "      <td>7744730.12</td>\n",
       "    </tr>\n",
       "    <tr>\n",
       "      <th>A39</th>\n",
       "      <td>7622483.30</td>\n",
       "    </tr>\n",
       "    <tr>\n",
       "      <th>A42</th>\n",
       "      <td>7615460.86</td>\n",
       "    </tr>\n",
       "  </tbody>\n",
       "</table>\n",
       "</div>"
      ],
      "text/plain": [
       "               Amount\n",
       "Customer             \n",
       "A61       10539142.91\n",
       "A60        9876290.74\n",
       "A13        9572000.66\n",
       "A43        8489871.46\n",
       "A45        8448334.87\n",
       "A12        8334760.16\n",
       "A14        7943268.63\n",
       "A44        7744730.12\n",
       "A39        7622483.30\n",
       "A42        7615460.86"
      ]
     },
     "execution_count": 55,
     "metadata": {},
     "output_type": "execute_result"
    }
   ],
   "source": [
    "# i. Who are the top 10 customers in terms of repayment?\n",
    "repayment_cust_df[['Customer','Amount']].groupby(by='Customer').sum().sort_values(by='Amount',ascending=False).head(10)"
   ]
  },
  {
   "cell_type": "markdown",
   "id": "dcf91583-32ee-466f-b3c8-27225cfcf61f",
   "metadata": {},
   "source": [
    "#### 3. Calculate the city wise spend on each product on yearly basis. Also include a graphical representation for the same."
   ]
  },
  {
   "cell_type": "code",
   "execution_count": 56,
   "id": "2c22a802-f60c-42b5-805b-52f674092308",
   "metadata": {},
   "outputs": [],
   "source": [
    "import matplotlib.pyplot as plt\n",
    "%matplotlib inline\n",
    "import seaborn as sns"
   ]
  },
  {
   "cell_type": "code",
   "execution_count": 57,
   "id": "570d9a43-7dc2-4caf-a154-108a374200b4",
   "metadata": {},
   "outputs": [
    {
     "data": {
      "image/png": "[encoded data removed]",
      "text/plain": [
       "<Figure size 640x480 with 1 Axes>"
      ]
     },
     "metadata": {},
     "output_type": "display_data"
    }
   ],
   "source": [
    "spend_cust_df['Year'] = spend_cust_df.Month.dt.year\n",
    "YearlySpend_by_city = spend_cust_df[['Year','City','Amount']].groupby(by=['Year','City']).sum()\n",
    "sns.barplot(data=YearlySpend_by_city,x='City',y='Amount',hue='Year')\n",
    "plt.xticks(rotation=45)\n",
    "plt.show()"
   ]
  },
  {
   "cell_type": "markdown",
   "id": "50ead3db-1c34-46e5-bfa4-9096198a5793",
   "metadata": {},
   "source": [
    "#### 4. Create graphs for\n",
    "##### a. Monthly comparison of total spends, city wise\n",
    "##### b. Comparison of yearly spend on air tickets\n",
    "##### c. Comparison of monthly spend for each product (look for any seasonality that exists in terms of spend)"
   ]
  },
  {
   "cell_type": "code",
   "execution_count": 75,
   "id": "cb2519bf-669f-40c1-b0f2-d467a17aabae",
   "metadata": {},
   "outputs": [
    {
     "data": {
      "image/png": "[encoded data removed]",
      "text/plain": [
       "<Figure size 640x480 with 1 Axes>"
      ]
     },
     "metadata": {},
     "output_type": "display_data"
    }
   ],
   "source": [
    "# a.Monthly comparison of total spends, city wise\n",
    "monthly_spend_df=spend_cust_df[['City','Month_num','Amount']].groupby(by=['Month_num','City']).sum().rename(columns={'Amount':'Monthly_spend'}).reset_index()\n",
    "sns.barplot(data=monthly_spend_df,x='City',y='Monthly_spend',hue='Month_num')\n",
    "plt.xticks(rotation=45)\n",
    "plt.show()"
   ]
  },
  {
   "cell_type": "code",
   "execution_count": 86,
   "id": "c815b91a-508e-473e-8871-8fa924e9d967",
   "metadata": {},
   "outputs": [
    {
     "data": {
      "image/png": "[encoded data removed]",
      "text/plain": [
       "<Figure size 640x480 with 1 Axes>"
      ]
     },
     "metadata": {},
     "output_type": "display_data"
    }
   ],
   "source": [
    "# b.Comparison of yearly spend on air tickets\n",
    "filtered_df = spend_cust_df[spend_cust_df.Type == 'AIR TICKET']\n",
    "ticketspend=filtered_df[['Year','Amount']].groupby(by='Year').sum()\n",
    "sns.barplot(data=ticketspend,x='Year',y='Amount')\n",
    "plt.show()"
   ]
  },
  {
   "cell_type": "code",
   "execution_count": 104,
   "id": "e62fabe9-6a20-48f8-ac16-51f1f91c51f0",
   "metadata": {},
   "outputs": [
    {
     "data": {
      "image/png": "[encoded data removed]",
      "text/plain": [
       "<Figure size 640x480 with 1 Axes>"
      ]
     },
     "metadata": {},
     "output_type": "display_data"
    }
   ],
   "source": [
    "# c. Comparison of monthly spend for each product(look for any seasonality that exists in terms of spend\n",
    "prod_spend=spend_cust_df[['Month_num','Product','Amount']].groupby(by=['Month_num','Product']).sum()\n",
    "sns.barplot(data=prod_spend,x='Product',y='Amount',hue='Month_num')\n",
    "plt.show()"
   ]
  },
  {
   "cell_type": "code",
   "execution_count": null,
   "id": "eaa1edb0-c49c-4380-9904-8d98a27996a9",
   "metadata": {},
   "outputs": [],
   "source": []
  },
  {
   "cell_type": "markdown",
   "id": "6f1f8367-c431-4428-916b-f59c923e0e83",
   "metadata": {},
   "source": [
    "#### 5. Write user defined PYTHON function to perform the following analysis:\n",
    "##### You need to find top 10 customers for each city in terms of their repayment amount by different products and by different time periods i.e. year or month. The user should be able to specify the product (Gold/Silver/Platinum) and time period (yearly or monthly) and the function should automatically take these inputs while identifying the top 10 customers."
   ]
  },
  {
   "cell_type": "code",
   "execution_count": 105,
   "id": "3e4d20fe-9432-4dd8-9bd4-71f9cf856120",
   "metadata": {},
   "outputs": [],
   "source": [
    "def top10_cust(df,time_period,product):\n",
    "    repayment_cust_df['Year']= repayment_cust_df.Month.dt.year\n",
    "    repayment_cust_df['Month_num'] = df['Month'].dt.month\n",
    "\n",
    "    if time_period.lower() == 'yearly':\n",
    "        time_col = 'Year'\n",
    "    elif time_period.lower() == 'monthly':\n",
    "        time_col = 'Month_num'\n",
    "    else:\n",
    "        print('Invalid Input. Enter either YEARLY or MONTHLY.')\n",
    "\n",
    "    if product not in ('Gold','Silver','Platinum'):\n",
    "        print('Incorrect input!. Please enter either GOLD,SILVER or PLATINUM.')\n",
    "\n",
    "    filtered_df = repayment_cust_df[repayment_cust_df.Product == product]\n",
    "\n",
    "    grouped_df = filtered_df[[time_col,'Customer','Amount']].groupby(by=['Customer',time_col]).sum()\n",
    "\n",
    "    top10 = grouped_df.sort_values(by='Amount',ascending=False).head(10)\n",
    "\n",
    "    return top10"
   ]
  },
  {
   "cell_type": "code",
   "execution_count": 113,
   "id": "eadbd294-3331-4a20-8d47-b5d1ce23fc32",
   "metadata": {},
   "outputs": [
    {
     "data": {
      "text/html": [
       "<div>\n",
       "<style scoped>\n",
       "    .dataframe tbody tr th:only-of-type {\n",
       "        vertical-align: middle;\n",
       "    }\n",
       "\n",
       "    .dataframe tbody tr th {\n",
       "        vertical-align: top;\n",
       "    }\n",
       "\n",
       "    .dataframe thead th {\n",
       "        text-align: right;\n",
       "    }\n",
       "</style>\n",
       "<table border=\"1\" class=\"dataframe\">\n",
       "  <thead>\n",
       "    <tr style=\"text-align: right;\">\n",
       "      <th></th>\n",
       "      <th></th>\n",
       "      <th>Amount</th>\n",
       "    </tr>\n",
       "    <tr>\n",
       "      <th>Customer</th>\n",
       "      <th>Month_num</th>\n",
       "      <th></th>\n",
       "    </tr>\n",
       "  </thead>\n",
       "  <tbody>\n",
       "    <tr>\n",
       "      <th>A61</th>\n",
       "      <th>4</th>\n",
       "      <td>3412860.60</td>\n",
       "    </tr>\n",
       "    <tr>\n",
       "      <th>A42</th>\n",
       "      <th>5</th>\n",
       "      <td>3305341.39</td>\n",
       "    </tr>\n",
       "    <tr>\n",
       "      <th>A30</th>\n",
       "      <th>5</th>\n",
       "      <td>3086549.14</td>\n",
       "    </tr>\n",
       "    <tr>\n",
       "      <th>A29</th>\n",
       "      <th>5</th>\n",
       "      <td>2612139.63</td>\n",
       "    </tr>\n",
       "    <tr>\n",
       "      <th>A42</th>\n",
       "      <th>1</th>\n",
       "      <td>2516249.24</td>\n",
       "    </tr>\n",
       "    <tr>\n",
       "      <th>A60</th>\n",
       "      <th>1</th>\n",
       "      <td>2465584.81</td>\n",
       "    </tr>\n",
       "    <tr>\n",
       "      <th>A44</th>\n",
       "      <th>1</th>\n",
       "      <td>2415712.91</td>\n",
       "    </tr>\n",
       "    <tr>\n",
       "      <th>A1</th>\n",
       "      <th>1</th>\n",
       "      <td>2407806.29</td>\n",
       "    </tr>\n",
       "    <tr>\n",
       "      <th>A60</th>\n",
       "      <th>4</th>\n",
       "      <td>2397565.91</td>\n",
       "    </tr>\n",
       "    <tr>\n",
       "      <th>A28</th>\n",
       "      <th>5</th>\n",
       "      <td>2233253.41</td>\n",
       "    </tr>\n",
       "  </tbody>\n",
       "</table>\n",
       "</div>"
      ],
      "text/plain": [
       "                        Amount\n",
       "Customer Month_num            \n",
       "A61      4          3412860.60\n",
       "A42      5          3305341.39\n",
       "A30      5          3086549.14\n",
       "A29      5          2612139.63\n",
       "A42      1          2516249.24\n",
       "A60      1          2465584.81\n",
       "A44      1          2415712.91\n",
       "A1       1          2407806.29\n",
       "A60      4          2397565.91\n",
       "A28      5          2233253.41"
      ]
     },
     "execution_count": 113,
     "metadata": {},
     "output_type": "execute_result"
    }
   ],
   "source": [
    "top10_cust(repayment_cust_df,'monthly','Gold')"
   ]
  },
  {
   "cell_type": "code",
   "execution_count": null,
   "id": "4337d977-97b6-4fb3-862d-fb033355ecd0",
   "metadata": {},
   "outputs": [],
   "source": []
  },
  {
   "cell_type": "code",
   "execution_count": null,
   "id": "073cf082-11c7-45a1-93e0-2f54ee9d4e76",
   "metadata": {},
   "outputs": [],
   "source": []
  },
  {
   "cell_type": "code",
   "execution_count": null,
   "id": "4de47583-4367-450e-9251-30ce5d8c215f",
   "metadata": {},
   "outputs": [],
   "source": []
  },
  {
   "cell_type": "code",
   "execution_count": null,
   "id": "093388d3-1a2d-4407-a626-a313bf97b306",
   "metadata": {},
   "outputs": [],
   "source": []
  },
  {
   "cell_type": "code",
   "execution_count": null,
   "id": "717c00b6-8bb8-4ca3-b8d8-932af2d5d4ad",
   "metadata": {},
   "outputs": [],
   "source": []
  },
  {
   "cell_type": "code",
   "execution_count": null,
   "id": "2da22f38-1927-456e-8f77-aa9d1e1453a7",
   "metadata": {},
   "outputs": [],
   "source": []
  },
  {
   "cell_type": "code",
   "execution_count": null,
   "id": "39517e31-f34f-46c1-a5c3-4f09872b2209",
   "metadata": {},
   "outputs": [],
   "source": []
  }
 ],
 "metadata": {
  "kernelspec": {
   "display_name": "Python [conda env:base] *",
   "language": "python",
   "name": "conda-base-py"
  },
  "language_info": {
   "codemirror_mode": {
    "name": "ipython",
    "version": 3
   },
   "file_extension": ".py",
   "mimetype": "text/x-python",
   "name": "python",
   "nbconvert_exporter": "python",
   "pygments_lexer": "ipython3",
   "version": "3.12.7"
  }
 },
 "nbformat": 4,
 "nbformat_minor": 5
}
