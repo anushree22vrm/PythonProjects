{
 "cells": [
  {
   "cell_type": "markdown",
   "metadata": {},
   "source": [
    "## Python Basic Programming Exercises"
   ]
  },
  {
   "cell_type": "markdown",
   "metadata": {},
   "source": [
    "#### Q1: What is the output of following expression\n",
    "##### 5 + 4 * 9 % (3 + 1) / 6 - 1\n"
   ]
  },
  {
   "cell_type": "code",
   "execution_count": 2,
   "metadata": {},
   "outputs": [
    {
     "data": {
      "text/plain": [
       "4.0"
      ]
     },
     "execution_count": 2,
     "metadata": {},
     "output_type": "execute_result"
    }
   ],
   "source": [
    "5+4*9%4/6-1\n",
    "5+36%4/6-1\n",
    "5+0/6-1\n",
    "5+0.0-1\n",
    "4.0\n"
   ]
  },
  {
   "cell_type": "markdown",
   "metadata": {},
   "source": [
    "#### Q2: Write a program to check if a Number is Odd or Even. Take number as a input from user at runtime."
   ]
  },
  {
   "cell_type": "code",
   "execution_count": 1,
   "metadata": {},
   "outputs": [
    {
     "name": "stdin",
     "output_type": "stream",
     "text": [
      "Enter a number 7\n"
     ]
    },
    {
     "name": "stdout",
     "output_type": "stream",
     "text": [
      "Number is odd\n"
     ]
    }
   ],
   "source": [
    "num = int(input('Enter a number'))\n",
    "if num % 2 == 0:\n",
    "    print('Number is even')\n",
    "else:\n",
    "    print('Number is odd')"
   ]
  },
  {
   "cell_type": "markdown",
   "metadata": {},
   "source": [
    "#### Q3: Write a program to display the multiplication table by taking a number as input. [Hint : Use print statement inside of a loop]"
   ]
  },
  {
   "cell_type": "code",
   "execution_count": 2,
   "metadata": {},
   "outputs": [
    {
     "name": "stdin",
     "output_type": "stream",
     "text": [
      "Enter a number that you want to print a multiplication table for--> 897\n"
     ]
    },
    {
     "name": "stdout",
     "output_type": "stream",
     "text": [
      "897 * 1 = 897\n",
      "897 * 2 = 1794\n",
      "897 * 3 = 2691\n",
      "897 * 4 = 3588\n",
      "897 * 5 = 4485\n",
      "897 * 6 = 5382\n",
      "897 * 7 = 6279\n",
      "897 * 8 = 7176\n",
      "897 * 9 = 8073\n",
      "897 * 10 = 8970\n"
     ]
    }
   ],
   "source": [
    "n = int(input('Enter a number that you want to print a multiplication table for-->'))\n",
    "for i in range(1,11):\n",
    "    print(n,'*',i,'=',n*i)"
   ]
  },
  {
   "cell_type": "markdown",
   "metadata": {},
   "source": [
    "#### Q4: Write a program which will find all numbers between 2000 and 3200 which are divisible by 7 but are not a multiple of 5.\n",
    "Note: The numbers obtained should be printed in a comma-separated sequence on a single line."
   ]
  },
  {
   "cell_type": "code",
   "execution_count": 16,
   "metadata": {},
   "outputs": [
    {
     "name": "stdout",
     "output_type": "stream",
     "text": [
      "2002 ,2009 ,2016 ,2023 ,2037 ,2044 ,2051 ,2058 ,2072 ,2079 ,2086 ,2093 ,2107 ,2114 ,2121 ,2128 ,2142 ,2149 ,2156 ,2163 ,2177 ,2184 ,2191 ,2198 ,2212 ,2219 ,2226 ,2233 ,2247 ,2254 ,2261 ,2268 ,2282 ,2289 ,2296 ,2303 ,2317 ,2324 ,2331 ,2338 ,2352 ,2359 ,2366 ,2373 ,2387 ,2394 ,2401 ,2408 ,2422 ,2429 ,2436 ,2443 ,2457 ,2464 ,2471 ,2478 ,2492 ,2499 ,2506 ,2513 ,2527 ,2534 ,2541 ,2548 ,2562 ,2569 ,2576 ,2583 ,2597 ,2604 ,2611 ,2618 ,2632 ,2639 ,2646 ,2653 ,2667 ,2674 ,2681 ,2688 ,2702 ,2709 ,2716 ,2723 ,2737 ,2744 ,2751 ,2758 ,2772 ,2779 ,2786 ,2793 ,2807 ,2814 ,2821 ,2828 ,2842 ,2849 ,2856 ,2863 ,2877 ,2884 ,2891 ,2898 ,2912 ,2919 ,2926 ,2933 ,2947 ,2954 ,2961 ,2968 ,2982 ,2989 ,2996 ,3003 ,3017 ,3024 ,3031 ,3038 ,3052 ,3059 ,3066 ,3073 ,3087 ,3094 ,3101 ,3108 ,3122 ,3129 ,3136 ,3143 ,3157 ,3164 ,3171 ,3178 ,3192 ,3199 ,"
     ]
    }
   ],
   "source": [
    "for i in range(2000,3201):\n",
    "    if i % 7 == 0 and i % 5 != 0:\n",
    "        print(i,end=', ')"
   ]
  },
  {
   "cell_type": "markdown",
   "metadata": {},
   "source": [
    "#### Q5: Count the elements of each datatype inside the list and display in output\n",
    "##### [2, 3, 'Py', '10', 1, 'SQL', 5.5, True, 3, 'John', None, 7]    "
   ]
  },
  {
   "cell_type": "code",
   "execution_count": 27,
   "metadata": {},
   "outputs": [
    {
     "name": "stdout",
     "output_type": "stream",
     "text": [
      "{<class 'int'>: 5, <class 'str'>: 4, <class 'float'>: 1, <class 'bool'>: 1, <class 'NoneType'>: 1}\n"
     ]
    }
   ],
   "source": [
    "l1 = [2, 3, 'Py', '10', 1, 'SQL', 5.5, True, 3, 'John', None, 7] \n",
    "d1 = {}\n",
    "for i in l1:\n",
    "    if type(i) not in d1.keys():\n",
    "        d1[type(i)] = 0\n",
    "    d1[type(i)] += 1\n",
    "print(d1)"
   ]
  },
  {
   "cell_type": "markdown",
   "metadata": {},
   "source": [
    "#### Q6: Add all values from the list with numeric datatypes \n",
    "##### [2, 3, 'Py', '10', 1, 'SQL', 5.5, True, 3, 'John', None, 7] "
   ]
  },
  {
   "cell_type": "code",
   "execution_count": 29,
   "metadata": {},
   "outputs": [
    {
     "name": "stdout",
     "output_type": "stream",
     "text": [
      "Sum of numeric datatype from list is--> 16\n"
     ]
    }
   ],
   "source": [
    "l2 = [2, 3, 'Py', '10', 1, 'SQL', 5.5, True, 3, 'John', None, 7]\n",
    "s = 0\n",
    "for i in l2:\n",
    "    if type(i) == int:\n",
    "        s = s + i\n",
    "print('Sum of numeric datatype from list is-->',s)"
   ]
  },
  {
   "cell_type": "markdown",
   "metadata": {},
   "source": [
    "#### Q7: Concat all str datatypes with hyphen as a delimiter\n",
    "##### [2, 3, 'Py', '10', 1, 'SQL', 5.5, True, 3, 'John', None, 7] "
   ]
  },
  {
   "cell_type": "code",
   "execution_count": 35,
   "metadata": {},
   "outputs": [
    {
     "name": "stdout",
     "output_type": "stream",
     "text": [
      "Py-10-SQL-John-"
     ]
    }
   ],
   "source": [
    "l3 = [2, 3, 'Py', '10', 1, 'SQL', 5.5, True, 3, 'John', None, 7]\n",
    "for i in l3:\n",
    "    if type(i) == str:\n",
    "        print(i,end = '-')"
   ]
  },
  {
   "cell_type": "markdown",
   "metadata": {},
   "source": [
    "#### Q8: Write a UDF that takes list as input and returns sum of all numbers (exclude bool) and count of all str \n",
    "##### [2, 3, 'Py', '10', 1, 'SQL', 5.5, True, 3, 'John', None, 7] \n",
    "##### Hint:\n",
    "##### -----\n",
    "##### def my_func:\n",
    "#####    # your code\n",
    "        \n",
    "##### my_func(l1)\n",
    "#####  # output --> {'Sum': xxx, 'Count_of_Strs': xxx}"
   ]
  },
  {
   "cell_type": "code",
   "execution_count": 48,
   "metadata": {},
   "outputs": [],
   "source": [
    "my_list = [2, 3, 'Py', '10', 1, 'SQL', 5.5, True, 3, 'John', None, 7] \n",
    "def my_func(my_list):\n",
    "    s = 0\n",
    "    c = 0\n",
    "    for i in my_list:\n",
    "        if type(i) == int:\n",
    "            s = s + i\n",
    "        elif type(i) == str:\n",
    "            c = c + 1\n",
    "    print('Sum of all numbers-->',s,'\\nCount of all string-->',c)"
   ]
  },
  {
   "cell_type": "code",
   "execution_count": 49,
   "metadata": {},
   "outputs": [
    {
     "name": "stdout",
     "output_type": "stream",
     "text": [
      "Sum of all numbers--> 16 \n",
      "Count of all string--> 4\n"
     ]
    }
   ],
   "source": [
    "my_func(my_list)"
   ]
  },
  {
   "cell_type": "markdown",
   "metadata": {},
   "source": [
    "#### Q9: Get only odd numbers from the following list and store the numbers in new list\n",
    "##### li = [5, 7, 22, 97, 54, 62, 77, 23, 73, 61]\n",
    "\n",
    "##### i. Use loops to get the answer\n",
    "##### ii. Use list comprehensions\n",
    "##### iii. Use lambda function with filter"
   ]
  },
  {
   "cell_type": "code",
   "execution_count": 50,
   "metadata": {},
   "outputs": [
    {
     "name": "stdout",
     "output_type": "stream",
     "text": [
      "[5, 7, 97, 77, 23, 73, 61]\n"
     ]
    }
   ],
   "source": [
    "# using loops\n",
    "li = [5, 7, 22, 97, 54, 62, 77, 23, 73, 61]\n",
    "new_list = []\n",
    "for i in li:\n",
    "    if i % 2 != 0:\n",
    "        new_list.append(i)\n",
    "print(new_list)"
   ]
  },
  {
   "cell_type": "code",
   "execution_count": 54,
   "metadata": {},
   "outputs": [
    {
     "name": "stdout",
     "output_type": "stream",
     "text": [
      "[5, 7, 97, 77, 23, 73, 61]\n"
     ]
    }
   ],
   "source": [
    "# using list comprehension\n",
    "li = [5, 7, 22, 97, 54, 62, 77, 23, 73, 61]\n",
    "new_li = [i for i in li if i % 2 != 0]\n",
    "print(new_li)"
   ]
  },
  {
   "cell_type": "code",
   "execution_count": 57,
   "metadata": {},
   "outputs": [
    {
     "data": {
      "text/plain": [
       "[5, 7, 97, 77, 23, 73, 61]"
      ]
     },
     "execution_count": 57,
     "metadata": {},
     "output_type": "execute_result"
    }
   ],
   "source": [
    "# Use lambda function with filter\n",
    "li = [5, 7, 22, 97, 54, 62, 77, 23, 73, 61]\n",
    "list(filter(lambda li : li % 2 != 0,[5, 7, 22, 97, 54, 62, 77, 23, 73, 61]))"
   ]
  },
  {
   "cell_type": "markdown",
   "metadata": {},
   "source": [
    "#### Q10: Write a UDF to return the descriptives [sum, count, min, mean, max] for a list of n number of input numbers."
   ]
  },
  {
   "cell_type": "code",
   "execution_count": 3,
   "metadata": {},
   "outputs": [
    {
     "data": {
      "text/plain": [
       "(12, 3, 4.0, 1, 7)"
      ]
     },
     "execution_count": 3,
     "metadata": {},
     "output_type": "execute_result"
    }
   ],
   "source": [
    "def list_des(*args):\n",
    "    s = 0\n",
    "    c = 0\n",
    "    for i in args:\n",
    "        s = s + i\n",
    "        c = c + 1\n",
    "    mean = s/c\n",
    "    l = list(args)\n",
    "    l.sort()\n",
    "    min_v = l[0]\n",
    "    max_v = l[-1]\n",
    "    return(s,c,mean,min_v,max_v)\n",
    "\n",
    "list_des(1,4,7)"
   ]
  },
  {
   "cell_type": "markdown",
   "metadata": {},
   "source": [
    "#### Q11: Write an udf to calculate the area of different shapes\n",
    "#### Take shape and dimensions as arguments to udf as follows : \n",
    "##### 1. square which has side\n",
    "##### 2. rectangle which has length and width\n",
    "##### 3. circle which has radius\n",
    "\n",
    "##### The shape should be a positional argument and it's dimensions are taken as kwargs. Perform proper validation for the user inputs and then calculate area.\n",
    "##### E.g. if shape is square, ensure kwargs has \"side\" and if so, then you may return the area, else display appropriate error message like \"Please enter 'side' for a square\""
   ]
  },
  {
   "cell_type": "code",
   "execution_count": 85,
   "metadata": {},
   "outputs": [],
   "source": [
    "def cal_area(shape,**kwargs):\n",
    "    if shape == 'square':\n",
    "        area = kwargs['side']**2\n",
    "    elif shape == 'rectangle':\n",
    "        area = kwargs['length'] * kwargs['width']\n",
    "    elif shape == 'circle':\n",
    "        area = 3.14 * kwargs['radius']**2\n",
    "    return area"
   ]
  },
  {
   "cell_type": "code",
   "execution_count": 89,
   "metadata": {},
   "outputs": [
    {
     "data": {
      "text/plain": [
       "8"
      ]
     },
     "execution_count": 89,
     "metadata": {},
     "output_type": "execute_result"
    }
   ],
   "source": [
    "cal_area('rectangle',length = 4, width = 2)"
   ]
  },
  {
   "cell_type": "markdown",
   "metadata": {},
   "source": [
    "#### Q12: Write a UDF to reconcile the values within two lists.\n",
    "##### l1 = ['January', 'February', 'March', 'May', 'June', 'September', 'December']\n",
    "##### l2 = ['January', 'February', 'April', 'June', 'October', 'December']\n",
    "##### Hint:\n",
    "##### -----\n",
    "##### def func(l1, l2):\n",
    "##### your code here...\n",
    "    \n",
    "##### Output:\n",
    "##### {'Matched': ['January', 'February', 'June', 'December'],\n",
    "##### 'Only in l1': ['March', 'May', 'September'],\n",
    "#####  'Only in l2': ['April', 'October']}"
   ]
  },
  {
   "cell_type": "code",
   "execution_count": 94,
   "metadata": {},
   "outputs": [
    {
     "data": {
      "text/plain": [
       "{'Matched': {'December', 'February', 'January', 'June'},\n",
       " 'Only in l1': {'March', 'May', 'September'},\n",
       " 'Only in l2': {'April', 'October'}}"
      ]
     },
     "execution_count": 94,
     "metadata": {},
     "output_type": "execute_result"
    }
   ],
   "source": [
    "l1 = ['January', 'February', 'March', 'May', 'June', 'September', 'December']\n",
    "l2 = ['January', 'February', 'April', 'June', 'October', 'December']\n",
    "\n",
    "def list_reconcilation(l1,l2):\n",
    "    d = {}\n",
    "    d['Matched'] = set(l1).intersection(set(l2))\n",
    "    d['Only in l1'] = set(l1).difference(set(l2))\n",
    "    d['Only in l2'] = set(l2).difference(set(l1))\n",
    "    return d\n",
    "list_reconcilation(l1,l2)"
   ]
  },
  {
   "cell_type": "markdown",
   "metadata": {
    "collapsed": true,
    "jupyter": {
     "outputs_hidden": true
    }
   },
   "source": [
    "#### Q13: write a UDF to check if a number is prime or not."
   ]
  },
  {
   "cell_type": "code",
   "execution_count": 122,
   "metadata": {},
   "outputs": [
    {
     "data": {
      "text/plain": [
       "True"
      ]
     },
     "execution_count": 122,
     "metadata": {},
     "output_type": "execute_result"
    }
   ],
   "source": [
    "def check_prime(n):\n",
    "    if n < 1:\n",
    "            return False\n",
    "    for i in range(2,n):\n",
    "        if n % i == 0:\n",
    "            return False\n",
    "    return True\n",
    "        \n",
    "check_prime(7)\n",
    "        "
   ]
  },
  {
   "cell_type": "markdown",
   "metadata": {
    "collapsed": true,
    "jupyter": {
     "outputs_hidden": true
    }
   },
   "source": [
    "#### Q14. Write a program which can compute the factorial of a given numbers. \n",
    "####   The results should be printed in a comma-separated sequence on a single line. input() function can be used for getting user(console) input\n",
    "\n",
    "##### Suppose the input is supplied to the program:  8  \n",
    "##### Then, the output should be:  40320 \n",
    "##### Hints: In case of input data being supplied to the question, it should be assumed to be a console input. "
   ]
  },
  {
   "cell_type": "code",
   "execution_count": 138,
   "metadata": {},
   "outputs": [],
   "source": [
    "#using udf\n",
    "def cal_factorial(n):\n",
    "    f = 1\n",
    "    for i in range(n,0,-1):\n",
    "        f = f * i\n",
    "    return f"
   ]
  },
  {
   "cell_type": "code",
   "execution_count": 140,
   "metadata": {},
   "outputs": [
    {
     "data": {
      "text/plain": [
       "40320"
      ]
     },
     "execution_count": 140,
     "metadata": {},
     "output_type": "execute_result"
    }
   ],
   "source": [
    "cal_factorial(8)"
   ]
  },
  {
   "cell_type": "code",
   "execution_count": 131,
   "metadata": {},
   "outputs": [
    {
     "data": {
      "text/plain": [
       "120"
      ]
     },
     "execution_count": 131,
     "metadata": {},
     "output_type": "execute_result"
    }
   ],
   "source": [
    "#using direct function from library\n",
    "from math import factorial as f\n",
    "def factorial1(n):\n",
    "    return f(n)\n",
    "\n",
    "factorial1(5)"
   ]
  },
  {
   "cell_type": "markdown",
   "metadata": {
    "collapsed": true,
    "jupyter": {
     "outputs_hidden": true
    }
   },
   "source": [
    "#### Q15. With a given integral number n, write a program to generate a dictionary that contains (i, i*i) such that is an integral number between 1 and n (both included). and then the program should print the dictionary.\n",
    "\n",
    "##### Suppose the following input is supplied to the program: 8\n",
    "##### Then, the output should be: {1: 1, 2: 4, 3: 9, 4: 16, 5: 25, 6: 36, 7: 49, 8: 64}\n",
    "##### Hints: In case of input data being supplied to the question, it should be assumed to be a console input. Consider using dict()\n",
    "\n"
   ]
  },
  {
   "cell_type": "code",
   "execution_count": 147,
   "metadata": {},
   "outputs": [
    {
     "data": {
      "text/plain": [
       "{1: 1, 2: 4, 3: 9, 4: 16, 5: 25, 6: 36, 7: 49, 8: 64}"
      ]
     },
     "execution_count": 147,
     "metadata": {},
     "output_type": "execute_result"
    }
   ],
   "source": [
    "def func_dic(n):\n",
    "    d = {}\n",
    "    for i in range(1,n+1):\n",
    "        d[i] = i*i\n",
    "    return d\n",
    "func_dic(8)"
   ]
  },
  {
   "cell_type": "markdown",
   "metadata": {
    "collapsed": true,
    "jupyter": {
     "outputs_hidden": true
    }
   },
   "source": [
    "#### Q16. Write a program which accepts a sequence of comma-separated numbers from console and generate a list and a tuple which contains every number.\n",
    "##### #Suppose the following input is supplied to the program: 34,67,55,33,12,98\n",
    "##### #Then, the output should be: ['34', '67', '55', '33', '12', '98'] ('34', '67', '55', '33', '12', '98')\n",
    "\n",
    "##### #Hints: In case of input data being supplied to the question, it should be assumed to be a console input. you may use tuple() method to convert list to tuple\n"
   ]
  },
  {
   "cell_type": "code",
   "execution_count": 152,
   "metadata": {},
   "outputs": [
    {
     "name": "stdout",
     "output_type": "stream",
     "text": [
      "[23, 43, 55, 12, 51, 66, 90] (23, 43, 55, 12, 51, 66, 90)\n"
     ]
    }
   ],
   "source": [
    "def conversion(*args):\n",
    "    print(list(args),end = ' ')\n",
    "    print(tuple(args))\n",
    "\n",
    "conversion(23,43,55,12,51,66,90)"
   ]
  },
  {
   "cell_type": "markdown",
   "metadata": {
    "collapsed": true,
    "jupyter": {
     "outputs_hidden": true
    }
   },
   "source": [
    "#### Q17. Write a program that accepts a comma separated sequence of words as input and \n",
    "##### # prints the words in a comma-separated sequence after sorting them alphabetically.\n",
    "\n",
    "##### # Suppose the following input is supplied to the program: without,hello,bag,world\n",
    "##### # Then, the output should be: bag,hello,without,world\n",
    "\n",
    "##### #Hints: In case of input data being supplied to the question, it should be assumed to be a console input.\n"
   ]
  },
  {
   "cell_type": "code",
   "execution_count": 160,
   "metadata": {},
   "outputs": [
    {
     "data": {
      "text/plain": [
       "['a', 'ball', 'bat', 'hello', 'there', 'was']"
      ]
     },
     "execution_count": 160,
     "metadata": {},
     "output_type": "execute_result"
    }
   ],
   "source": [
    "def word_sort(*args):\n",
    "    l = (list(args))\n",
    "    l.sort()\n",
    "    return l\n",
    "    \n",
    "word_sort('hello','ball','there','was','a','bat')"
   ]
  },
  {
   "cell_type": "markdown",
   "metadata": {
    "collapsed": true,
    "jupyter": {
     "outputs_hidden": true
    }
   },
   "source": [
    "#### Q18. Write a program that accepts a sequence of whitespace separated words \n",
    "##### # as input and prints the words after removing all duplicate words and sorting them alphanumerically.\n",
    "##### # Suppose the following input is supplied to the program: hello world and practice makes perfect and hello world again\n",
    "##### # Then, the output should be: again and hello makes perfect practice world\n",
    "\n",
    "##### #Hints: In case of input data being supplied to the question, it should be assumed to be a console input.\n",
    "##### #We use set container to remove duplicated data automatically and then use sorted() to sort the data.\n"
   ]
  },
  {
   "cell_type": "code",
   "execution_count": 165,
   "metadata": {},
   "outputs": [
    {
     "data": {
      "text/plain": [
       "['again', 'best', 'hello', 'is', 'place', 'this', 'vibe']"
      ]
     },
     "execution_count": 165,
     "metadata": {},
     "output_type": "execute_result"
    }
   ],
   "source": [
    "def removedup_sort(*args):\n",
    "    l = set(args).intersection()\n",
    "    l = list(l)\n",
    "    l.sort()\n",
    "    return l\n",
    "removedup_sort('hello','again','hello','this','is','best','place','best','vibe')"
   ]
  },
  {
   "cell_type": "markdown",
   "metadata": {
    "collapsed": true,
    "jupyter": {
     "outputs_hidden": true
    }
   },
   "source": [
    "#### Q19. Write a program that accepts a sentence and calculate the number of upper case letters and lower case letters.\n",
    "##### #Suppose the following input is supplied to the program: Hello world!\n",
    "##### #Then, the output should be: UPPER CASE 1 LOWER CASE 9\n",
    "\n",
    "##### #Hints: In case of input data being supplied to the question, it should be assumed to be a console input.\n"
   ]
  },
  {
   "cell_type": "code",
   "execution_count": 170,
   "metadata": {},
   "outputs": [
    {
     "name": "stdout",
     "output_type": "stream",
     "text": [
      "UPPER CASE 2 LOWER CASE 11\n"
     ]
    }
   ],
   "source": [
    "def count_case(text):\n",
    "    uc = 0\n",
    "    lc = 0\n",
    "    for i in text:\n",
    "        if i.isupper():\n",
    "            uc = uc + 1\n",
    "        elif i.islower():\n",
    "            lc = lc + 1\n",
    "    print('UPPER CASE', uc, 'LOWER CASE', lc)\n",
    "\n",
    "count_case('Hello Everyone')"
   ]
  },
  {
   "cell_type": "code",
   "execution_count": 174,
   "metadata": {},
   "outputs": [
    {
     "name": "stdout",
     "output_type": "stream",
     "text": [
      "UPPER CASE 2 LOWER CASE 13\n"
     ]
    }
   ],
   "source": [
    "def count_case(text):\n",
    "    uc = 0\n",
    "    lc = 0\n",
    "    for i in text:\n",
    "        if i >= 'A' and i <= 'Z':\n",
    "            uc = uc + 1\n",
    "        elif i >= 'a' and i <= 'z':\n",
    "            lc = lc + 1\n",
    "    print('UPPER CASE', uc, 'LOWER CASE', lc)\n",
    "\n",
    "count_case('Hellooo Everyone')"
   ]
  },
  {
   "cell_type": "markdown",
   "metadata": {
    "collapsed": true,
    "jupyter": {
     "outputs_hidden": true
    }
   },
   "source": [
    "#### Q20. Write a program that takes a string and returns reversed string. i.e. if input is \"abcd123\" output should be \"321dcba\""
   ]
  },
  {
   "cell_type": "code",
   "execution_count": 172,
   "metadata": {},
   "outputs": [
    {
     "data": {
      "text/plain": [
       "'54321ih'"
      ]
     },
     "execution_count": 172,
     "metadata": {},
     "output_type": "execute_result"
    }
   ],
   "source": [
    "def reverse_str(text):\n",
    "    text = text[::-1]\n",
    "    return text\n",
    "reverse_str('hi12345')"
   ]
  },
  {
   "cell_type": "code",
   "execution_count": null,
   "metadata": {},
   "outputs": [],
   "source": []
  }
 ],
 "metadata": {
  "kernelspec": {
   "display_name": "Python [conda env:base] *",
   "language": "python",
   "name": "conda-base-py"
  },
  "language_info": {
   "codemirror_mode": {
    "name": "ipython",
    "version": 3
   },
   "file_extension": ".py",
   "mimetype": "text/x-python",
   "name": "python",
   "nbconvert_exporter": "python",
   "pygments_lexer": "ipython3",
   "version": "3.12.7"
  },
  "varInspector": {
   "cols": {
    "lenName": 16,
    "lenType": 16,
    "lenVar": 40
   },
   "kernels_config": {
    "python": {
     "delete_cmd_postfix": "",
     "delete_cmd_prefix": "del ",
     "library": "var_list.py",
     "varRefreshCmd": "print(var_dic_list())"
    },
    "r": {
     "delete_cmd_postfix": ") ",
     "delete_cmd_prefix": "rm(",
     "library": "var_list.r",
     "varRefreshCmd": "cat(var_dic_list()) "
    }
   },
   "types_to_exclude": [
    "module",
    "function",
    "builtin_function_or_method",
    "instance",
    "_Feature"
   ],
   "window_display": false
  }
 },
 "nbformat": 4,
 "nbformat_minor": 4
}
