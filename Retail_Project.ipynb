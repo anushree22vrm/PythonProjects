{
 "cells": [
  {
   "cell_type": "code",
   "execution_count": 1,
   "id": "bb3943d7-a6d1-43e6-93ad-d44cf8bc5eae",
   "metadata": {},
   "outputs": [],
   "source": [
    "import numpy as np\n",
    "import pandas as pd\n",
    "import os\n"
   ]
  },
  {
   "cell_type": "code",
   "execution_count": 2,
   "id": "47fc383a-0df3-4264-b94e-c0af8e4f8467",
   "metadata": {},
   "outputs": [],
   "source": [
    "os.chdir('C:\\\\Users\\\\anush\\\\Downloads\\\\Python Foundation Case Study 1 - Retail Case Study (1)\\\\Case Study 1 - Retail Case Study')"
   ]
  },
  {
   "cell_type": "code",
   "execution_count": 3,
   "id": "ce79ad21-ef8a-44d7-abc9-e880850c24e5",
   "metadata": {},
   "outputs": [
    {
     "data": {
      "text/html": [
       "<div>\n",
       "<style scoped>\n",
       "    .dataframe tbody tr th:only-of-type {\n",
       "        vertical-align: middle;\n",
       "    }\n",
       "\n",
       "    .dataframe tbody tr th {\n",
       "        vertical-align: top;\n",
       "    }\n",
       "\n",
       "    .dataframe thead th {\n",
       "        text-align: right;\n",
       "    }\n",
       "</style>\n",
       "<table border=\"1\" class=\"dataframe\">\n",
       "  <thead>\n",
       "    <tr style=\"text-align: right;\">\n",
       "      <th></th>\n",
       "      <th>customer_Id</th>\n",
       "      <th>DOB</th>\n",
       "      <th>Gender</th>\n",
       "      <th>city_code</th>\n",
       "    </tr>\n",
       "  </thead>\n",
       "  <tbody>\n",
       "    <tr>\n",
       "      <th>0</th>\n",
       "      <td>268408</td>\n",
       "      <td>02-01-1970</td>\n",
       "      <td>M</td>\n",
       "      <td>4.0</td>\n",
       "    </tr>\n",
       "    <tr>\n",
       "      <th>1</th>\n",
       "      <td>269696</td>\n",
       "      <td>07-01-1970</td>\n",
       "      <td>F</td>\n",
       "      <td>8.0</td>\n",
       "    </tr>\n",
       "    <tr>\n",
       "      <th>2</th>\n",
       "      <td>268159</td>\n",
       "      <td>08-01-1970</td>\n",
       "      <td>F</td>\n",
       "      <td>8.0</td>\n",
       "    </tr>\n",
       "    <tr>\n",
       "      <th>3</th>\n",
       "      <td>270181</td>\n",
       "      <td>10-01-1970</td>\n",
       "      <td>F</td>\n",
       "      <td>2.0</td>\n",
       "    </tr>\n",
       "    <tr>\n",
       "      <th>4</th>\n",
       "      <td>268073</td>\n",
       "      <td>11-01-1970</td>\n",
       "      <td>M</td>\n",
       "      <td>1.0</td>\n",
       "    </tr>\n",
       "  </tbody>\n",
       "</table>\n",
       "</div>"
      ],
      "text/plain": [
       "   customer_Id         DOB Gender  city_code\n",
       "0       268408  02-01-1970      M        4.0\n",
       "1       269696  07-01-1970      F        8.0\n",
       "2       268159  08-01-1970      F        8.0\n",
       "3       270181  10-01-1970      F        2.0\n",
       "4       268073  11-01-1970      M        1.0"
      ]
     },
     "execution_count": 3,
     "metadata": {},
     "output_type": "execute_result"
    }
   ],
   "source": [
    "cust_df=pd.read_csv('Customer.csv')\n",
    "cust_df.head()"
   ]
  },
  {
   "cell_type": "code",
   "execution_count": 4,
   "id": "280df621-a85a-445d-a729-1b466e20a959",
   "metadata": {},
   "outputs": [
    {
     "data": {
      "text/html": [
       "<div>\n",
       "<style scoped>\n",
       "    .dataframe tbody tr th:only-of-type {\n",
       "        vertical-align: middle;\n",
       "    }\n",
       "\n",
       "    .dataframe tbody tr th {\n",
       "        vertical-align: top;\n",
       "    }\n",
       "\n",
       "    .dataframe thead th {\n",
       "        text-align: right;\n",
       "    }\n",
       "</style>\n",
       "<table border=\"1\" class=\"dataframe\">\n",
       "  <thead>\n",
       "    <tr style=\"text-align: right;\">\n",
       "      <th></th>\n",
       "      <th>prod_cat_code</th>\n",
       "      <th>prod_cat</th>\n",
       "      <th>prod_sub_cat_code</th>\n",
       "      <th>prod_subcat</th>\n",
       "    </tr>\n",
       "  </thead>\n",
       "  <tbody>\n",
       "    <tr>\n",
       "      <th>0</th>\n",
       "      <td>1</td>\n",
       "      <td>Clothing</td>\n",
       "      <td>4</td>\n",
       "      <td>Mens</td>\n",
       "    </tr>\n",
       "    <tr>\n",
       "      <th>1</th>\n",
       "      <td>1</td>\n",
       "      <td>Clothing</td>\n",
       "      <td>1</td>\n",
       "      <td>Women</td>\n",
       "    </tr>\n",
       "    <tr>\n",
       "      <th>2</th>\n",
       "      <td>1</td>\n",
       "      <td>Clothing</td>\n",
       "      <td>3</td>\n",
       "      <td>Kids</td>\n",
       "    </tr>\n",
       "    <tr>\n",
       "      <th>3</th>\n",
       "      <td>2</td>\n",
       "      <td>Footwear</td>\n",
       "      <td>1</td>\n",
       "      <td>Mens</td>\n",
       "    </tr>\n",
       "    <tr>\n",
       "      <th>4</th>\n",
       "      <td>2</td>\n",
       "      <td>Footwear</td>\n",
       "      <td>3</td>\n",
       "      <td>Women</td>\n",
       "    </tr>\n",
       "  </tbody>\n",
       "</table>\n",
       "</div>"
      ],
      "text/plain": [
       "   prod_cat_code  prod_cat  prod_sub_cat_code prod_subcat\n",
       "0              1  Clothing                  4        Mens\n",
       "1              1  Clothing                  1       Women\n",
       "2              1  Clothing                  3        Kids\n",
       "3              2  Footwear                  1        Mens\n",
       "4              2  Footwear                  3       Women"
      ]
     },
     "execution_count": 4,
     "metadata": {},
     "output_type": "execute_result"
    }
   ],
   "source": [
    "prod_df=pd.read_csv('prod_cat_info.csv')\n",
    "prod_df.head(5)"
   ]
  },
  {
   "cell_type": "code",
   "execution_count": 5,
   "id": "99a566a0-30b5-484b-95fb-61006022c501",
   "metadata": {},
   "outputs": [
    {
     "data": {
      "text/html": [
       "<div>\n",
       "<style scoped>\n",
       "    .dataframe tbody tr th:only-of-type {\n",
       "        vertical-align: middle;\n",
       "    }\n",
       "\n",
       "    .dataframe tbody tr th {\n",
       "        vertical-align: top;\n",
       "    }\n",
       "\n",
       "    .dataframe thead th {\n",
       "        text-align: right;\n",
       "    }\n",
       "</style>\n",
       "<table border=\"1\" class=\"dataframe\">\n",
       "  <thead>\n",
       "    <tr style=\"text-align: right;\">\n",
       "      <th></th>\n",
       "      <th>transaction_id</th>\n",
       "      <th>cust_id</th>\n",
       "      <th>tran_date</th>\n",
       "      <th>prod_subcat_code</th>\n",
       "      <th>prod_cat_code</th>\n",
       "      <th>Qty</th>\n",
       "      <th>Rate</th>\n",
       "      <th>Tax</th>\n",
       "      <th>total_amt</th>\n",
       "      <th>Store_type</th>\n",
       "    </tr>\n",
       "  </thead>\n",
       "  <tbody>\n",
       "    <tr>\n",
       "      <th>0</th>\n",
       "      <td>80712190438</td>\n",
       "      <td>270351</td>\n",
       "      <td>28-02-2014</td>\n",
       "      <td>1</td>\n",
       "      <td>1</td>\n",
       "      <td>-5</td>\n",
       "      <td>-772</td>\n",
       "      <td>405.300</td>\n",
       "      <td>-4265.300</td>\n",
       "      <td>e-Shop</td>\n",
       "    </tr>\n",
       "    <tr>\n",
       "      <th>1</th>\n",
       "      <td>29258453508</td>\n",
       "      <td>270384</td>\n",
       "      <td>27-02-2014</td>\n",
       "      <td>5</td>\n",
       "      <td>3</td>\n",
       "      <td>-5</td>\n",
       "      <td>-1497</td>\n",
       "      <td>785.925</td>\n",
       "      <td>-8270.925</td>\n",
       "      <td>e-Shop</td>\n",
       "    </tr>\n",
       "    <tr>\n",
       "      <th>2</th>\n",
       "      <td>51750724947</td>\n",
       "      <td>273420</td>\n",
       "      <td>24-02-2014</td>\n",
       "      <td>6</td>\n",
       "      <td>5</td>\n",
       "      <td>-2</td>\n",
       "      <td>-791</td>\n",
       "      <td>166.110</td>\n",
       "      <td>-1748.110</td>\n",
       "      <td>TeleShop</td>\n",
       "    </tr>\n",
       "    <tr>\n",
       "      <th>3</th>\n",
       "      <td>93274880719</td>\n",
       "      <td>271509</td>\n",
       "      <td>24-02-2014</td>\n",
       "      <td>11</td>\n",
       "      <td>6</td>\n",
       "      <td>-3</td>\n",
       "      <td>-1363</td>\n",
       "      <td>429.345</td>\n",
       "      <td>-4518.345</td>\n",
       "      <td>e-Shop</td>\n",
       "    </tr>\n",
       "    <tr>\n",
       "      <th>4</th>\n",
       "      <td>51750724947</td>\n",
       "      <td>273420</td>\n",
       "      <td>23-02-2014</td>\n",
       "      <td>6</td>\n",
       "      <td>5</td>\n",
       "      <td>-2</td>\n",
       "      <td>-791</td>\n",
       "      <td>166.110</td>\n",
       "      <td>-1748.110</td>\n",
       "      <td>TeleShop</td>\n",
       "    </tr>\n",
       "  </tbody>\n",
       "</table>\n",
       "</div>"
      ],
      "text/plain": [
       "   transaction_id  cust_id   tran_date  prod_subcat_code  prod_cat_code  Qty  \\\n",
       "0     80712190438   270351  28-02-2014                 1              1   -5   \n",
       "1     29258453508   270384  27-02-2014                 5              3   -5   \n",
       "2     51750724947   273420  24-02-2014                 6              5   -2   \n",
       "3     93274880719   271509  24-02-2014                11              6   -3   \n",
       "4     51750724947   273420  23-02-2014                 6              5   -2   \n",
       "\n",
       "   Rate      Tax  total_amt Store_type  \n",
       "0  -772  405.300  -4265.300     e-Shop  \n",
       "1 -1497  785.925  -8270.925     e-Shop  \n",
       "2  -791  166.110  -1748.110   TeleShop  \n",
       "3 -1363  429.345  -4518.345     e-Shop  \n",
       "4  -791  166.110  -1748.110   TeleShop  "
      ]
     },
     "execution_count": 5,
     "metadata": {},
     "output_type": "execute_result"
    }
   ],
   "source": [
    "tran_df=pd.read_csv('Transactions.csv')\n",
    "tran_df.head(5)"
   ]
  },
  {
   "cell_type": "code",
   "execution_count": 6,
   "id": "72d8a56c-0f63-44bf-b050-469d32a48a40",
   "metadata": {},
   "outputs": [
    {
     "data": {
      "text/plain": [
       "Index(['transaction_id', 'cust_id', 'tran_date', 'prod_subcat_code',\n",
       "       'prod_cat_code', 'Qty', 'Rate', 'Tax', 'total_amt', 'Store_type'],\n",
       "      dtype='object')"
      ]
     },
     "execution_count": 6,
     "metadata": {},
     "output_type": "execute_result"
    }
   ],
   "source": [
    "tran_df.columns"
   ]
  },
  {
   "cell_type": "code",
   "execution_count": 7,
   "id": "fd284b2c-e6f2-4c28-a85a-0ae776a85988",
   "metadata": {},
   "outputs": [
    {
     "data": {
      "text/plain": [
       "Index(['customer_Id', 'DOB', 'Gender', 'city_code'], dtype='object')"
      ]
     },
     "execution_count": 7,
     "metadata": {},
     "output_type": "execute_result"
    }
   ],
   "source": [
    "cust_df.columns"
   ]
  },
  {
   "cell_type": "code",
   "execution_count": 8,
   "id": "0ed3d30f-f808-4719-a723-883f72951f07",
   "metadata": {},
   "outputs": [
    {
     "data": {
      "text/plain": [
       "Index(['prod_cat_code', 'prod_cat', 'prod_sub_cat_code', 'prod_subcat'], dtype='object')"
      ]
     },
     "execution_count": 8,
     "metadata": {},
     "output_type": "execute_result"
    }
   ],
   "source": [
    "prod_df.columns"
   ]
  },
  {
   "cell_type": "code",
   "execution_count": 9,
   "id": "5fdf17dd-1cdb-47b3-a240-1f128801f7a6",
   "metadata": {},
   "outputs": [],
   "source": [
    "# case-1 \n",
    "# using left_on and right_on\n",
    "# then drop the repeated column"
   ]
  },
  {
   "cell_type": "code",
   "execution_count": 10,
   "id": "18747f2d-ca53-4456-80a0-c27ff64d391d",
   "metadata": {},
   "outputs": [
    {
     "data": {
      "text/html": [
       "<div>\n",
       "<style scoped>\n",
       "    .dataframe tbody tr th:only-of-type {\n",
       "        vertical-align: middle;\n",
       "    }\n",
       "\n",
       "    .dataframe tbody tr th {\n",
       "        vertical-align: top;\n",
       "    }\n",
       "\n",
       "    .dataframe thead th {\n",
       "        text-align: right;\n",
       "    }\n",
       "</style>\n",
       "<table border=\"1\" class=\"dataframe\">\n",
       "  <thead>\n",
       "    <tr style=\"text-align: right;\">\n",
       "      <th></th>\n",
       "      <th>transaction_id</th>\n",
       "      <th>cust_id</th>\n",
       "      <th>tran_date</th>\n",
       "      <th>prod_subcat_code</th>\n",
       "      <th>prod_cat_code</th>\n",
       "      <th>Qty</th>\n",
       "      <th>Rate</th>\n",
       "      <th>Tax</th>\n",
       "      <th>total_amt</th>\n",
       "      <th>Store_type</th>\n",
       "      <th>DOB</th>\n",
       "      <th>Gender</th>\n",
       "      <th>city_code</th>\n",
       "    </tr>\n",
       "  </thead>\n",
       "  <tbody>\n",
       "    <tr>\n",
       "      <th>0</th>\n",
       "      <td>80712190438</td>\n",
       "      <td>270351</td>\n",
       "      <td>28-02-2014</td>\n",
       "      <td>1</td>\n",
       "      <td>1</td>\n",
       "      <td>-5</td>\n",
       "      <td>-772</td>\n",
       "      <td>405.3</td>\n",
       "      <td>-4265.3</td>\n",
       "      <td>e-Shop</td>\n",
       "      <td>26-09-1981</td>\n",
       "      <td>M</td>\n",
       "      <td>5.0</td>\n",
       "    </tr>\n",
       "  </tbody>\n",
       "</table>\n",
       "</div>"
      ],
      "text/plain": [
       "   transaction_id  cust_id   tran_date  prod_subcat_code  prod_cat_code  Qty  \\\n",
       "0     80712190438   270351  28-02-2014                 1              1   -5   \n",
       "\n",
       "   Rate    Tax  total_amt Store_type         DOB Gender  city_code  \n",
       "0  -772  405.3    -4265.3     e-Shop  26-09-1981      M        5.0  "
      ]
     },
     "execution_count": 10,
     "metadata": {},
     "output_type": "execute_result"
    }
   ],
   "source": [
    "tc_df=pd.merge(left=tran_df,right=cust_df,left_on='cust_id',right_on='customer_Id',how='inner').drop('customer_Id',axis=1)\n",
    "tc_df.head(1)"
   ]
  },
  {
   "cell_type": "code",
   "execution_count": 11,
   "id": "a60b1ffc-b392-481d-a47d-63f517faeccf",
   "metadata": {},
   "outputs": [
    {
     "data": {
      "text/html": [
       "<div>\n",
       "<style scoped>\n",
       "    .dataframe tbody tr th:only-of-type {\n",
       "        vertical-align: middle;\n",
       "    }\n",
       "\n",
       "    .dataframe tbody tr th {\n",
       "        vertical-align: top;\n",
       "    }\n",
       "\n",
       "    .dataframe thead th {\n",
       "        text-align: right;\n",
       "    }\n",
       "</style>\n",
       "<table border=\"1\" class=\"dataframe\">\n",
       "  <thead>\n",
       "    <tr style=\"text-align: right;\">\n",
       "      <th></th>\n",
       "      <th>transaction_id</th>\n",
       "      <th>cust_id</th>\n",
       "      <th>tran_date</th>\n",
       "      <th>prod_subcat_code</th>\n",
       "      <th>prod_cat_code</th>\n",
       "      <th>Qty</th>\n",
       "      <th>Rate</th>\n",
       "      <th>Tax</th>\n",
       "      <th>total_amt</th>\n",
       "      <th>Store_type</th>\n",
       "      <th>DOB</th>\n",
       "      <th>Gender</th>\n",
       "      <th>city_code</th>\n",
       "      <th>prod_cat</th>\n",
       "      <th>prod_subcat</th>\n",
       "    </tr>\n",
       "  </thead>\n",
       "  <tbody>\n",
       "    <tr>\n",
       "      <th>0</th>\n",
       "      <td>80712190438</td>\n",
       "      <td>270351</td>\n",
       "      <td>28-02-2014</td>\n",
       "      <td>1</td>\n",
       "      <td>1</td>\n",
       "      <td>-5</td>\n",
       "      <td>-772</td>\n",
       "      <td>405.3</td>\n",
       "      <td>-4265.3</td>\n",
       "      <td>e-Shop</td>\n",
       "      <td>26-09-1981</td>\n",
       "      <td>M</td>\n",
       "      <td>5.0</td>\n",
       "      <td>Clothing</td>\n",
       "      <td>Women</td>\n",
       "    </tr>\n",
       "  </tbody>\n",
       "</table>\n",
       "</div>"
      ],
      "text/plain": [
       "   transaction_id  cust_id   tran_date  prod_subcat_code  prod_cat_code  Qty  \\\n",
       "0     80712190438   270351  28-02-2014                 1              1   -5   \n",
       "\n",
       "   Rate    Tax  total_amt Store_type         DOB Gender  city_code  prod_cat  \\\n",
       "0  -772  405.3    -4265.3     e-Shop  26-09-1981      M        5.0  Clothing   \n",
       "\n",
       "  prod_subcat  \n",
       "0       Women  "
      ]
     },
     "execution_count": 11,
     "metadata": {},
     "output_type": "execute_result"
    }
   ],
   "source": [
    "final_df=pd.merge(left=tc_df,right=prod_df,left_on=['prod_subcat_code','prod_cat_code'],right_on=['prod_sub_cat_code', 'prod_cat_code'],how='inner').drop('prod_sub_cat_code',axis=1)\n",
    "final_df.head(1)"
   ]
  },
  {
   "cell_type": "code",
   "execution_count": 12,
   "id": "d09745d0-ab9c-4e9c-9b8f-67db40be9723",
   "metadata": {},
   "outputs": [],
   "source": [
    "#case-2 merging using rename then using on"
   ]
  },
  {
   "cell_type": "code",
   "execution_count": 13,
   "id": "c7b66e86-d4d2-4f77-adf0-727d5a4ecabe",
   "metadata": {},
   "outputs": [],
   "source": [
    "cust_df.rename(columns={'customer_Id':'cust_id'},inplace=True)"
   ]
  },
  {
   "cell_type": "code",
   "execution_count": 14,
   "id": "6937a4a5-332a-4255-bacf-6ee26f9753ed",
   "metadata": {},
   "outputs": [],
   "source": [
    "prod_df.rename(columns={'prod_sub_cat_code':'prod_subcat_code'},inplace=True)"
   ]
  },
  {
   "cell_type": "code",
   "execution_count": 15,
   "id": "531786d1-b845-4ade-9a20-1584ec95d396",
   "metadata": {},
   "outputs": [
    {
     "data": {
      "text/html": [
       "<div>\n",
       "<style scoped>\n",
       "    .dataframe tbody tr th:only-of-type {\n",
       "        vertical-align: middle;\n",
       "    }\n",
       "\n",
       "    .dataframe tbody tr th {\n",
       "        vertical-align: top;\n",
       "    }\n",
       "\n",
       "    .dataframe thead th {\n",
       "        text-align: right;\n",
       "    }\n",
       "</style>\n",
       "<table border=\"1\" class=\"dataframe\">\n",
       "  <thead>\n",
       "    <tr style=\"text-align: right;\">\n",
       "      <th></th>\n",
       "      <th>cust_id</th>\n",
       "      <th>DOB</th>\n",
       "      <th>Gender</th>\n",
       "      <th>city_code</th>\n",
       "    </tr>\n",
       "  </thead>\n",
       "  <tbody>\n",
       "    <tr>\n",
       "      <th>0</th>\n",
       "      <td>268408</td>\n",
       "      <td>02-01-1970</td>\n",
       "      <td>M</td>\n",
       "      <td>4.0</td>\n",
       "    </tr>\n",
       "  </tbody>\n",
       "</table>\n",
       "</div>"
      ],
      "text/plain": [
       "   cust_id         DOB Gender  city_code\n",
       "0   268408  02-01-1970      M        4.0"
      ]
     },
     "execution_count": 15,
     "metadata": {},
     "output_type": "execute_result"
    }
   ],
   "source": [
    "cust_df.head(1)"
   ]
  },
  {
   "cell_type": "code",
   "execution_count": 16,
   "id": "1714ae80-b750-487a-a63e-a7fb24c1a0b8",
   "metadata": {},
   "outputs": [
    {
     "data": {
      "text/html": [
       "<div>\n",
       "<style scoped>\n",
       "    .dataframe tbody tr th:only-of-type {\n",
       "        vertical-align: middle;\n",
       "    }\n",
       "\n",
       "    .dataframe tbody tr th {\n",
       "        vertical-align: top;\n",
       "    }\n",
       "\n",
       "    .dataframe thead th {\n",
       "        text-align: right;\n",
       "    }\n",
       "</style>\n",
       "<table border=\"1\" class=\"dataframe\">\n",
       "  <thead>\n",
       "    <tr style=\"text-align: right;\">\n",
       "      <th></th>\n",
       "      <th>prod_cat_code</th>\n",
       "      <th>prod_cat</th>\n",
       "      <th>prod_subcat_code</th>\n",
       "      <th>prod_subcat</th>\n",
       "    </tr>\n",
       "  </thead>\n",
       "  <tbody>\n",
       "    <tr>\n",
       "      <th>0</th>\n",
       "      <td>1</td>\n",
       "      <td>Clothing</td>\n",
       "      <td>4</td>\n",
       "      <td>Mens</td>\n",
       "    </tr>\n",
       "  </tbody>\n",
       "</table>\n",
       "</div>"
      ],
      "text/plain": [
       "   prod_cat_code  prod_cat  prod_subcat_code prod_subcat\n",
       "0              1  Clothing                 4        Mens"
      ]
     },
     "execution_count": 16,
     "metadata": {},
     "output_type": "execute_result"
    }
   ],
   "source": [
    "prod_df.head(1)"
   ]
  },
  {
   "cell_type": "code",
   "execution_count": 17,
   "id": "bd4cab63-7a60-4751-ba85-72a0bae75a10",
   "metadata": {},
   "outputs": [
    {
     "data": {
      "text/html": [
       "<div>\n",
       "<style scoped>\n",
       "    .dataframe tbody tr th:only-of-type {\n",
       "        vertical-align: middle;\n",
       "    }\n",
       "\n",
       "    .dataframe tbody tr th {\n",
       "        vertical-align: top;\n",
       "    }\n",
       "\n",
       "    .dataframe thead th {\n",
       "        text-align: right;\n",
       "    }\n",
       "</style>\n",
       "<table border=\"1\" class=\"dataframe\">\n",
       "  <thead>\n",
       "    <tr style=\"text-align: right;\">\n",
       "      <th></th>\n",
       "      <th>transaction_id</th>\n",
       "      <th>cust_id</th>\n",
       "      <th>tran_date</th>\n",
       "      <th>prod_subcat_code</th>\n",
       "      <th>prod_cat_code</th>\n",
       "      <th>Qty</th>\n",
       "      <th>Rate</th>\n",
       "      <th>Tax</th>\n",
       "      <th>total_amt</th>\n",
       "      <th>Store_type</th>\n",
       "      <th>DOB</th>\n",
       "      <th>Gender</th>\n",
       "      <th>city_code</th>\n",
       "    </tr>\n",
       "  </thead>\n",
       "  <tbody>\n",
       "    <tr>\n",
       "      <th>0</th>\n",
       "      <td>80712190438</td>\n",
       "      <td>270351</td>\n",
       "      <td>28-02-2014</td>\n",
       "      <td>1</td>\n",
       "      <td>1</td>\n",
       "      <td>-5</td>\n",
       "      <td>-772</td>\n",
       "      <td>405.3</td>\n",
       "      <td>-4265.3</td>\n",
       "      <td>e-Shop</td>\n",
       "      <td>26-09-1981</td>\n",
       "      <td>M</td>\n",
       "      <td>5.0</td>\n",
       "    </tr>\n",
       "  </tbody>\n",
       "</table>\n",
       "</div>"
      ],
      "text/plain": [
       "   transaction_id  cust_id   tran_date  prod_subcat_code  prod_cat_code  Qty  \\\n",
       "0     80712190438   270351  28-02-2014                 1              1   -5   \n",
       "\n",
       "   Rate    Tax  total_amt Store_type         DOB Gender  city_code  \n",
       "0  -772  405.3    -4265.3     e-Shop  26-09-1981      M        5.0  "
      ]
     },
     "execution_count": 17,
     "metadata": {},
     "output_type": "execute_result"
    }
   ],
   "source": [
    "df_tc=pd.merge(left=tran_df,right=cust_df,on='cust_id',how='inner')\n",
    "df_tc.head(1)"
   ]
  },
  {
   "cell_type": "code",
   "execution_count": 18,
   "id": "e7c14efc-877d-4422-a73e-3fdbde62329a",
   "metadata": {},
   "outputs": [
    {
     "data": {
      "text/html": [
       "<div>\n",
       "<style scoped>\n",
       "    .dataframe tbody tr th:only-of-type {\n",
       "        vertical-align: middle;\n",
       "    }\n",
       "\n",
       "    .dataframe tbody tr th {\n",
       "        vertical-align: top;\n",
       "    }\n",
       "\n",
       "    .dataframe thead th {\n",
       "        text-align: right;\n",
       "    }\n",
       "</style>\n",
       "<table border=\"1\" class=\"dataframe\">\n",
       "  <thead>\n",
       "    <tr style=\"text-align: right;\">\n",
       "      <th></th>\n",
       "      <th>transaction_id</th>\n",
       "      <th>cust_id</th>\n",
       "      <th>tran_date</th>\n",
       "      <th>prod_subcat_code</th>\n",
       "      <th>prod_cat_code</th>\n",
       "      <th>Qty</th>\n",
       "      <th>Rate</th>\n",
       "      <th>Tax</th>\n",
       "      <th>total_amt</th>\n",
       "      <th>Store_type</th>\n",
       "      <th>DOB</th>\n",
       "      <th>Gender</th>\n",
       "      <th>city_code</th>\n",
       "      <th>prod_cat</th>\n",
       "      <th>prod_subcat</th>\n",
       "    </tr>\n",
       "  </thead>\n",
       "  <tbody>\n",
       "    <tr>\n",
       "      <th>0</th>\n",
       "      <td>80712190438</td>\n",
       "      <td>270351</td>\n",
       "      <td>28-02-2014</td>\n",
       "      <td>1</td>\n",
       "      <td>1</td>\n",
       "      <td>-5</td>\n",
       "      <td>-772</td>\n",
       "      <td>405.3</td>\n",
       "      <td>-4265.3</td>\n",
       "      <td>e-Shop</td>\n",
       "      <td>26-09-1981</td>\n",
       "      <td>M</td>\n",
       "      <td>5.0</td>\n",
       "      <td>Clothing</td>\n",
       "      <td>Women</td>\n",
       "    </tr>\n",
       "  </tbody>\n",
       "</table>\n",
       "</div>"
      ],
      "text/plain": [
       "   transaction_id  cust_id   tran_date  prod_subcat_code  prod_cat_code  Qty  \\\n",
       "0     80712190438   270351  28-02-2014                 1              1   -5   \n",
       "\n",
       "   Rate    Tax  total_amt Store_type         DOB Gender  city_code  prod_cat  \\\n",
       "0  -772  405.3    -4265.3     e-Shop  26-09-1981      M        5.0  Clothing   \n",
       "\n",
       "  prod_subcat  \n",
       "0       Women  "
      ]
     },
     "execution_count": 18,
     "metadata": {},
     "output_type": "execute_result"
    }
   ],
   "source": [
    "final_df=pd.merge(left=df_tc,right=prod_df,on=['prod_subcat_code','prod_cat_code'],how='inner')\n",
    "final_df.head(1)"
   ]
  },
  {
   "cell_type": "code",
   "execution_count": 19,
   "id": "8231e3aa-bdd3-4c68-a788-818d7e0d9ee5",
   "metadata": {},
   "outputs": [],
   "source": [
    "# EDA- Exploratory data analysis"
   ]
  },
  {
   "cell_type": "code",
   "execution_count": 20,
   "id": "359e34eb-a3f9-4907-8ee3-03899527eaff",
   "metadata": {},
   "outputs": [
    {
     "data": {
      "text/html": [
       "<div>\n",
       "<style scoped>\n",
       "    .dataframe tbody tr th:only-of-type {\n",
       "        vertical-align: middle;\n",
       "    }\n",
       "\n",
       "    .dataframe tbody tr th {\n",
       "        vertical-align: top;\n",
       "    }\n",
       "\n",
       "    .dataframe thead th {\n",
       "        text-align: right;\n",
       "    }\n",
       "</style>\n",
       "<table border=\"1\" class=\"dataframe\">\n",
       "  <thead>\n",
       "    <tr style=\"text-align: right;\">\n",
       "      <th></th>\n",
       "      <th>transaction_id</th>\n",
       "      <th>cust_id</th>\n",
       "      <th>tran_date</th>\n",
       "      <th>prod_subcat_code</th>\n",
       "      <th>prod_cat_code</th>\n",
       "      <th>Qty</th>\n",
       "      <th>Rate</th>\n",
       "      <th>Tax</th>\n",
       "      <th>total_amt</th>\n",
       "      <th>Store_type</th>\n",
       "      <th>DOB</th>\n",
       "      <th>Gender</th>\n",
       "      <th>city_code</th>\n",
       "      <th>prod_cat</th>\n",
       "      <th>prod_subcat</th>\n",
       "    </tr>\n",
       "  </thead>\n",
       "  <tbody>\n",
       "    <tr>\n",
       "      <th>0</th>\n",
       "      <td>80712190438</td>\n",
       "      <td>270351</td>\n",
       "      <td>28-02-2014</td>\n",
       "      <td>1</td>\n",
       "      <td>1</td>\n",
       "      <td>-5</td>\n",
       "      <td>-772</td>\n",
       "      <td>405.3</td>\n",
       "      <td>-4265.3</td>\n",
       "      <td>e-Shop</td>\n",
       "      <td>26-09-1981</td>\n",
       "      <td>M</td>\n",
       "      <td>5.0</td>\n",
       "      <td>Clothing</td>\n",
       "      <td>Women</td>\n",
       "    </tr>\n",
       "  </tbody>\n",
       "</table>\n",
       "</div>"
      ],
      "text/plain": [
       "   transaction_id  cust_id   tran_date  prod_subcat_code  prod_cat_code  Qty  \\\n",
       "0     80712190438   270351  28-02-2014                 1              1   -5   \n",
       "\n",
       "   Rate    Tax  total_amt Store_type         DOB Gender  city_code  prod_cat  \\\n",
       "0  -772  405.3    -4265.3     e-Shop  26-09-1981      M        5.0  Clothing   \n",
       "\n",
       "  prod_subcat  \n",
       "0       Women  "
      ]
     },
     "execution_count": 20,
     "metadata": {},
     "output_type": "execute_result"
    }
   ],
   "source": [
    "# First 5 rows\n",
    "final_df.head(1)"
   ]
  },
  {
   "cell_type": "code",
   "execution_count": 21,
   "id": "14522dba-40be-4bca-a29d-8d85ff591b0c",
   "metadata": {},
   "outputs": [
    {
     "data": {
      "text/html": [
       "<div>\n",
       "<style scoped>\n",
       "    .dataframe tbody tr th:only-of-type {\n",
       "        vertical-align: middle;\n",
       "    }\n",
       "\n",
       "    .dataframe tbody tr th {\n",
       "        vertical-align: top;\n",
       "    }\n",
       "\n",
       "    .dataframe thead th {\n",
       "        text-align: right;\n",
       "    }\n",
       "</style>\n",
       "<table border=\"1\" class=\"dataframe\">\n",
       "  <thead>\n",
       "    <tr style=\"text-align: right;\">\n",
       "      <th></th>\n",
       "      <th>transaction_id</th>\n",
       "      <th>cust_id</th>\n",
       "      <th>tran_date</th>\n",
       "      <th>prod_subcat_code</th>\n",
       "      <th>prod_cat_code</th>\n",
       "      <th>Qty</th>\n",
       "      <th>Rate</th>\n",
       "      <th>Tax</th>\n",
       "      <th>total_amt</th>\n",
       "      <th>Store_type</th>\n",
       "      <th>DOB</th>\n",
       "      <th>Gender</th>\n",
       "      <th>city_code</th>\n",
       "      <th>prod_cat</th>\n",
       "      <th>prod_subcat</th>\n",
       "    </tr>\n",
       "  </thead>\n",
       "  <tbody>\n",
       "    <tr>\n",
       "      <th>23052</th>\n",
       "      <td>77960931771</td>\n",
       "      <td>271961</td>\n",
       "      <td>25-01-2011</td>\n",
       "      <td>11</td>\n",
       "      <td>5</td>\n",
       "      <td>1</td>\n",
       "      <td>447</td>\n",
       "      <td>46.935</td>\n",
       "      <td>493.935</td>\n",
       "      <td>TeleShop</td>\n",
       "      <td>15-01-1982</td>\n",
       "      <td>M</td>\n",
       "      <td>1.0</td>\n",
       "      <td>Books</td>\n",
       "      <td>Children</td>\n",
       "    </tr>\n",
       "  </tbody>\n",
       "</table>\n",
       "</div>"
      ],
      "text/plain": [
       "       transaction_id  cust_id   tran_date  prod_subcat_code  prod_cat_code  \\\n",
       "23052     77960931771   271961  25-01-2011                11              5   \n",
       "\n",
       "       Qty  Rate     Tax  total_amt Store_type         DOB Gender  city_code  \\\n",
       "23052    1   447  46.935    493.935   TeleShop  15-01-1982      M        1.0   \n",
       "\n",
       "      prod_cat prod_subcat  \n",
       "23052    Books    Children  "
      ]
     },
     "execution_count": 21,
     "metadata": {},
     "output_type": "execute_result"
    }
   ],
   "source": [
    "final_df.tail(1)"
   ]
  },
  {
   "cell_type": "markdown",
   "id": "5c7497c1-4568-4f79-a721-fb0d16e4a898",
   "metadata": {},
   "source": [
    "### Shape of the data"
   ]
  },
  {
   "cell_type": "code",
   "execution_count": 22,
   "id": "e1b0b3fc-7fc5-4ad7-a993-4c4be911ba40",
   "metadata": {},
   "outputs": [
    {
     "data": {
      "text/plain": [
       "(23053, 15)"
      ]
     },
     "execution_count": 22,
     "metadata": {},
     "output_type": "execute_result"
    }
   ],
   "source": [
    "final_df.shape"
   ]
  },
  {
   "cell_type": "code",
   "execution_count": 23,
   "id": "11ade61c-0351-4205-a31e-3b3eb866622e",
   "metadata": {},
   "outputs": [
    {
     "name": "stdout",
     "output_type": "stream",
     "text": [
      "The dataset has 23053 rows and 15 columns\n"
     ]
    }
   ],
   "source": [
    "print('The dataset has',final_df.shape[0],'rows and',final_df.shape[1],'columns')"
   ]
  },
  {
   "cell_type": "markdown",
   "id": "73cfcb1a-6b01-4000-86fa-720d496b0b27",
   "metadata": {},
   "source": [
    "#### dataset info"
   ]
  },
  {
   "cell_type": "code",
   "execution_count": 24,
   "id": "757bb190-9f54-4140-bfc6-3e9021b5d12c",
   "metadata": {},
   "outputs": [
    {
     "name": "stdout",
     "output_type": "stream",
     "text": [
      "<class 'pandas.core.frame.DataFrame'>\n",
      "RangeIndex: 23053 entries, 0 to 23052\n",
      "Data columns (total 15 columns):\n",
      " #   Column            Non-Null Count  Dtype  \n",
      "---  ------            --------------  -----  \n",
      " 0   transaction_id    23053 non-null  int64  \n",
      " 1   cust_id           23053 non-null  int64  \n",
      " 2   tran_date         23053 non-null  object \n",
      " 3   prod_subcat_code  23053 non-null  int64  \n",
      " 4   prod_cat_code     23053 non-null  int64  \n",
      " 5   Qty               23053 non-null  int64  \n",
      " 6   Rate              23053 non-null  int64  \n",
      " 7   Tax               23053 non-null  float64\n",
      " 8   total_amt         23053 non-null  float64\n",
      " 9   Store_type        23053 non-null  object \n",
      " 10  DOB               23053 non-null  object \n",
      " 11  Gender            23044 non-null  object \n",
      " 12  city_code         23045 non-null  float64\n",
      " 13  prod_cat          23053 non-null  object \n",
      " 14  prod_subcat       23053 non-null  object \n",
      "dtypes: float64(3), int64(6), object(6)\n",
      "memory usage: 2.6+ MB\n"
     ]
    }
   ],
   "source": [
    "final_df.info()"
   ]
  },
  {
   "cell_type": "markdown",
   "id": "6f94110c-62a5-46a7-98cf-7c50f569110e",
   "metadata": {},
   "source": [
    "##### observations\n",
    "- column- Gender & city_code have null values\n",
    "- tran_date & DOB have wrong data-type"
   ]
  },
  {
   "cell_type": "markdown",
   "id": "9bd5570f-88b9-4783-9cdb-8608e035efbd",
   "metadata": {},
   "source": [
    "#### Correcting Data Types"
   ]
  },
  {
   "cell_type": "code",
   "execution_count": 25,
   "id": "84f1464d-a4d6-478a-af1a-16fa267aab68",
   "metadata": {},
   "outputs": [],
   "source": [
    "final_df.tran_date=final_df.tran_date.str.replace('/','-')"
   ]
  },
  {
   "cell_type": "code",
   "execution_count": 26,
   "id": "f4a8f2e8-1e76-4f61-b425-a1a4f487e449",
   "metadata": {},
   "outputs": [],
   "source": [
    "final_df.tran_date=pd.to_datetime(final_df.tran_date, format='%d-%m-%Y')"
   ]
  },
  {
   "cell_type": "code",
   "execution_count": 27,
   "id": "c4c60728-944f-4f9d-9c87-ac6f6e62e5cb",
   "metadata": {},
   "outputs": [],
   "source": [
    "final_df.DOB=pd.to_datetime(final_df.DOB, format='%d-%m-%Y')"
   ]
  },
  {
   "cell_type": "markdown",
   "id": "4977b6fa-09b7-4b98-8262-6b27d58b24d8",
   "metadata": {},
   "source": [
    "#### Checking Data Types Again"
   ]
  },
  {
   "cell_type": "code",
   "execution_count": 28,
   "id": "89703122-c3d1-4326-aeec-1e84bedabfd2",
   "metadata": {},
   "outputs": [
    {
     "name": "stdout",
     "output_type": "stream",
     "text": [
      "<class 'pandas.core.frame.DataFrame'>\n",
      "RangeIndex: 23053 entries, 0 to 23052\n",
      "Data columns (total 15 columns):\n",
      " #   Column            Non-Null Count  Dtype         \n",
      "---  ------            --------------  -----         \n",
      " 0   transaction_id    23053 non-null  int64         \n",
      " 1   cust_id           23053 non-null  int64         \n",
      " 2   tran_date         23053 non-null  datetime64[ns]\n",
      " 3   prod_subcat_code  23053 non-null  int64         \n",
      " 4   prod_cat_code     23053 non-null  int64         \n",
      " 5   Qty               23053 non-null  int64         \n",
      " 6   Rate              23053 non-null  int64         \n",
      " 7   Tax               23053 non-null  float64       \n",
      " 8   total_amt         23053 non-null  float64       \n",
      " 9   Store_type        23053 non-null  object        \n",
      " 10  DOB               23053 non-null  datetime64[ns]\n",
      " 11  Gender            23044 non-null  object        \n",
      " 12  city_code         23045 non-null  float64       \n",
      " 13  prod_cat          23053 non-null  object        \n",
      " 14  prod_subcat       23053 non-null  object        \n",
      "dtypes: datetime64[ns](2), float64(3), int64(6), object(4)\n",
      "memory usage: 2.6+ MB\n"
     ]
    }
   ],
   "source": [
    "final_df.info()"
   ]
  },
  {
   "cell_type": "markdown",
   "id": "1b2d4104-2d85-448c-99a9-fa7a7ef001e8",
   "metadata": {},
   "source": [
    "#### Data Types are Corrected Now"
   ]
  },
  {
   "cell_type": "markdown",
   "id": "b0aa48cd-90ce-429b-b4fd-4f952d432058",
   "metadata": {},
   "source": [
    "##### 5-point summary"
   ]
  },
  {
   "cell_type": "code",
   "execution_count": 29,
   "id": "56001c82-f226-4afc-a70b-9bdcd5938506",
   "metadata": {},
   "outputs": [
    {
     "data": {
      "text/html": [
       "<div>\n",
       "<style scoped>\n",
       "    .dataframe tbody tr th:only-of-type {\n",
       "        vertical-align: middle;\n",
       "    }\n",
       "\n",
       "    .dataframe tbody tr th {\n",
       "        vertical-align: top;\n",
       "    }\n",
       "\n",
       "    .dataframe thead th {\n",
       "        text-align: right;\n",
       "    }\n",
       "</style>\n",
       "<table border=\"1\" class=\"dataframe\">\n",
       "  <thead>\n",
       "    <tr style=\"text-align: right;\">\n",
       "      <th></th>\n",
       "      <th>count</th>\n",
       "      <th>mean</th>\n",
       "      <th>min</th>\n",
       "      <th>25%</th>\n",
       "      <th>50%</th>\n",
       "      <th>75%</th>\n",
       "      <th>max</th>\n",
       "      <th>std</th>\n",
       "    </tr>\n",
       "  </thead>\n",
       "  <tbody>\n",
       "    <tr>\n",
       "      <th>transaction_id</th>\n",
       "      <td>23053.0</td>\n",
       "      <td>50073480358.450485</td>\n",
       "      <td>3268991.0</td>\n",
       "      <td>24938639453.0</td>\n",
       "      <td>50093131361.0</td>\n",
       "      <td>75329995679.0</td>\n",
       "      <td>99987549630.0</td>\n",
       "      <td>28981936061.995857</td>\n",
       "    </tr>\n",
       "    <tr>\n",
       "      <th>cust_id</th>\n",
       "      <td>23053.0</td>\n",
       "      <td>271021.746497</td>\n",
       "      <td>266783.0</td>\n",
       "      <td>268935.0</td>\n",
       "      <td>270980.0</td>\n",
       "      <td>273114.0</td>\n",
       "      <td>275265.0</td>\n",
       "      <td>2431.692059</td>\n",
       "    </tr>\n",
       "    <tr>\n",
       "      <th>tran_date</th>\n",
       "      <td>23053</td>\n",
       "      <td>2012-08-09 05:21:26.617793792</td>\n",
       "      <td>2011-01-25 00:00:00</td>\n",
       "      <td>2011-11-03 00:00:00</td>\n",
       "      <td>2012-08-11 00:00:00</td>\n",
       "      <td>2013-05-17 00:00:00</td>\n",
       "      <td>2014-02-28 00:00:00</td>\n",
       "      <td>NaN</td>\n",
       "    </tr>\n",
       "    <tr>\n",
       "      <th>prod_subcat_code</th>\n",
       "      <td>23053.0</td>\n",
       "      <td>6.149091</td>\n",
       "      <td>1.0</td>\n",
       "      <td>3.0</td>\n",
       "      <td>5.0</td>\n",
       "      <td>10.0</td>\n",
       "      <td>12.0</td>\n",
       "      <td>3.726372</td>\n",
       "    </tr>\n",
       "    <tr>\n",
       "      <th>prod_cat_code</th>\n",
       "      <td>23053.0</td>\n",
       "      <td>3.763632</td>\n",
       "      <td>1.0</td>\n",
       "      <td>2.0</td>\n",
       "      <td>4.0</td>\n",
       "      <td>5.0</td>\n",
       "      <td>6.0</td>\n",
       "      <td>1.677016</td>\n",
       "    </tr>\n",
       "    <tr>\n",
       "      <th>Qty</th>\n",
       "      <td>23053.0</td>\n",
       "      <td>2.432395</td>\n",
       "      <td>-5.0</td>\n",
       "      <td>1.0</td>\n",
       "      <td>3.0</td>\n",
       "      <td>4.0</td>\n",
       "      <td>5.0</td>\n",
       "      <td>2.268406</td>\n",
       "    </tr>\n",
       "    <tr>\n",
       "      <th>Rate</th>\n",
       "      <td>23053.0</td>\n",
       "      <td>636.369713</td>\n",
       "      <td>-1499.0</td>\n",
       "      <td>312.0</td>\n",
       "      <td>710.0</td>\n",
       "      <td>1109.0</td>\n",
       "      <td>1500.0</td>\n",
       "      <td>622.363498</td>\n",
       "    </tr>\n",
       "    <tr>\n",
       "      <th>Tax</th>\n",
       "      <td>23053.0</td>\n",
       "      <td>248.667192</td>\n",
       "      <td>7.35</td>\n",
       "      <td>98.28</td>\n",
       "      <td>199.08</td>\n",
       "      <td>365.715</td>\n",
       "      <td>787.5</td>\n",
       "      <td>187.177773</td>\n",
       "    </tr>\n",
       "    <tr>\n",
       "      <th>total_amt</th>\n",
       "      <td>23053.0</td>\n",
       "      <td>2107.308002</td>\n",
       "      <td>-8270.925</td>\n",
       "      <td>762.45</td>\n",
       "      <td>1754.74</td>\n",
       "      <td>3569.15</td>\n",
       "      <td>8287.5</td>\n",
       "      <td>2507.561264</td>\n",
       "    </tr>\n",
       "    <tr>\n",
       "      <th>DOB</th>\n",
       "      <td>23053</td>\n",
       "      <td>1981-07-14 21:22:57.816336256</td>\n",
       "      <td>1970-01-02 00:00:00</td>\n",
       "      <td>1975-09-26 00:00:00</td>\n",
       "      <td>1981-06-16 00:00:00</td>\n",
       "      <td>1987-06-05 00:00:00</td>\n",
       "      <td>1992-12-29 00:00:00</td>\n",
       "      <td>NaN</td>\n",
       "    </tr>\n",
       "    <tr>\n",
       "      <th>city_code</th>\n",
       "      <td>23045.0</td>\n",
       "      <td>5.482534</td>\n",
       "      <td>1.0</td>\n",
       "      <td>3.0</td>\n",
       "      <td>5.0</td>\n",
       "      <td>8.0</td>\n",
       "      <td>10.0</td>\n",
       "      <td>2.863499</td>\n",
       "    </tr>\n",
       "  </tbody>\n",
       "</table>\n",
       "</div>"
      ],
      "text/plain": [
       "                    count                           mean                  min  \\\n",
       "transaction_id    23053.0             50073480358.450485            3268991.0   \n",
       "cust_id           23053.0                  271021.746497             266783.0   \n",
       "tran_date           23053  2012-08-09 05:21:26.617793792  2011-01-25 00:00:00   \n",
       "prod_subcat_code  23053.0                       6.149091                  1.0   \n",
       "prod_cat_code     23053.0                       3.763632                  1.0   \n",
       "Qty               23053.0                       2.432395                 -5.0   \n",
       "Rate              23053.0                     636.369713              -1499.0   \n",
       "Tax               23053.0                     248.667192                 7.35   \n",
       "total_amt         23053.0                    2107.308002            -8270.925   \n",
       "DOB                 23053  1981-07-14 21:22:57.816336256  1970-01-02 00:00:00   \n",
       "city_code         23045.0                       5.482534                  1.0   \n",
       "\n",
       "                                  25%                  50%  \\\n",
       "transaction_id          24938639453.0        50093131361.0   \n",
       "cust_id                      268935.0             270980.0   \n",
       "tran_date         2011-11-03 00:00:00  2012-08-11 00:00:00   \n",
       "prod_subcat_code                  3.0                  5.0   \n",
       "prod_cat_code                     2.0                  4.0   \n",
       "Qty                               1.0                  3.0   \n",
       "Rate                            312.0                710.0   \n",
       "Tax                             98.28               199.08   \n",
       "total_amt                      762.45              1754.74   \n",
       "DOB               1975-09-26 00:00:00  1981-06-16 00:00:00   \n",
       "city_code                         3.0                  5.0   \n",
       "\n",
       "                                  75%                  max                 std  \n",
       "transaction_id          75329995679.0        99987549630.0  28981936061.995857  \n",
       "cust_id                      273114.0             275265.0         2431.692059  \n",
       "tran_date         2013-05-17 00:00:00  2014-02-28 00:00:00                 NaN  \n",
       "prod_subcat_code                 10.0                 12.0            3.726372  \n",
       "prod_cat_code                     5.0                  6.0            1.677016  \n",
       "Qty                               4.0                  5.0            2.268406  \n",
       "Rate                           1109.0               1500.0          622.363498  \n",
       "Tax                           365.715                787.5          187.177773  \n",
       "total_amt                     3569.15               8287.5         2507.561264  \n",
       "DOB               1987-06-05 00:00:00  1992-12-29 00:00:00                 NaN  \n",
       "city_code                         8.0                 10.0            2.863499  "
      ]
     },
     "execution_count": 29,
     "metadata": {},
     "output_type": "execute_result"
    }
   ],
   "source": [
    "# 5-point summary of numerical columns\n",
    "final_df.describe().T"
   ]
  },
  {
   "cell_type": "code",
   "execution_count": 30,
   "id": "fed5e827-8a63-464b-bbdc-fcfa91ac5aea",
   "metadata": {},
   "outputs": [
    {
     "data": {
      "text/html": [
       "<div>\n",
       "<style scoped>\n",
       "    .dataframe tbody tr th:only-of-type {\n",
       "        vertical-align: middle;\n",
       "    }\n",
       "\n",
       "    .dataframe tbody tr th {\n",
       "        vertical-align: top;\n",
       "    }\n",
       "\n",
       "    .dataframe thead th {\n",
       "        text-align: right;\n",
       "    }\n",
       "</style>\n",
       "<table border=\"1\" class=\"dataframe\">\n",
       "  <thead>\n",
       "    <tr style=\"text-align: right;\">\n",
       "      <th></th>\n",
       "      <th>count</th>\n",
       "      <th>unique</th>\n",
       "      <th>top</th>\n",
       "      <th>freq</th>\n",
       "    </tr>\n",
       "  </thead>\n",
       "  <tbody>\n",
       "    <tr>\n",
       "      <th>Store_type</th>\n",
       "      <td>23053</td>\n",
       "      <td>4</td>\n",
       "      <td>e-Shop</td>\n",
       "      <td>9311</td>\n",
       "    </tr>\n",
       "    <tr>\n",
       "      <th>Gender</th>\n",
       "      <td>23044</td>\n",
       "      <td>2</td>\n",
       "      <td>M</td>\n",
       "      <td>11811</td>\n",
       "    </tr>\n",
       "    <tr>\n",
       "      <th>prod_cat</th>\n",
       "      <td>23053</td>\n",
       "      <td>6</td>\n",
       "      <td>Books</td>\n",
       "      <td>6069</td>\n",
       "    </tr>\n",
       "    <tr>\n",
       "      <th>prod_subcat</th>\n",
       "      <td>23053</td>\n",
       "      <td>18</td>\n",
       "      <td>Women</td>\n",
       "      <td>3048</td>\n",
       "    </tr>\n",
       "  </tbody>\n",
       "</table>\n",
       "</div>"
      ],
      "text/plain": [
       "             count unique     top   freq\n",
       "Store_type   23053      4  e-Shop   9311\n",
       "Gender       23044      2       M  11811\n",
       "prod_cat     23053      6   Books   6069\n",
       "prod_subcat  23053     18   Women   3048"
      ]
     },
     "execution_count": 30,
     "metadata": {},
     "output_type": "execute_result"
    }
   ],
   "source": [
    "# 5-point summary for categorical columns\n",
    "final_df.describe(include='object').T"
   ]
  },
  {
   "cell_type": "markdown",
   "id": "e9b9add8-8855-4b9b-b2d5-4d7e7812cd8f",
   "metadata": {},
   "source": [
    "###### obervations on categorical columns\n",
    "- e-shop is most used store_type\n",
    "- books are most selling category\n",
    "-  most popular sub-category is women             "
   ]
  },
  {
   "cell_type": "markdown",
   "id": "b4f30754-de45-4829-ae66-179863084e28",
   "metadata": {},
   "source": [
    "### checking discrepancies in categorical columns\n",
    "\n"
   ]
  },
  {
   "cell_type": "code",
   "execution_count": 31,
   "id": "4d45d017-cece-4bc0-8383-813fec385b61",
   "metadata": {},
   "outputs": [],
   "source": [
    "cat_df=final_df.select_dtypes(include='object')"
   ]
  },
  {
   "cell_type": "code",
   "execution_count": 32,
   "id": "eadc5416-6ac2-4910-abc3-f21dee7af184",
   "metadata": {},
   "outputs": [
    {
     "name": "stdout",
     "output_type": "stream",
     "text": [
      "\n",
      "\n",
      "Store_type\n",
      "e-Shop            9311\n",
      "MBR               4661\n",
      "Flagship store    4577\n",
      "TeleShop          4504\n",
      "Name: count, dtype: int64\n",
      "\n",
      "\n",
      "\n",
      "\n",
      "Gender\n",
      "M    11811\n",
      "F    11233\n",
      "Name: count, dtype: int64\n",
      "\n",
      "\n",
      "\n",
      "\n",
      "prod_cat\n",
      "Books               6069\n",
      "Electronics         4898\n",
      "Home and kitchen    4129\n",
      "Footwear            2999\n",
      "Clothing            2960\n",
      "Bags                1998\n",
      "Name: count, dtype: int64\n",
      "\n",
      "\n",
      "\n",
      "\n",
      "prod_subcat\n",
      "Women                  3048\n",
      "Mens                   2912\n",
      "Kids                   1997\n",
      "Tools                  1062\n",
      "Fiction                1043\n",
      "Kitchen                1037\n",
      "Children               1035\n",
      "Mobiles                1031\n",
      "Comics                 1031\n",
      "Bath                   1023\n",
      "Furnishing             1007\n",
      "Non-Fiction            1004\n",
      "DIY                     989\n",
      "Cameras                 985\n",
      "Personal Appliances     972\n",
      "Academic                967\n",
      "Computers               958\n",
      "Audio and video         952\n",
      "Name: count, dtype: int64\n",
      "\n",
      "\n"
     ]
    }
   ],
   "source": [
    "for i in cat_df.columns:\n",
    "    print('\\n')\n",
    "    print(final_df[i].value_counts())\n",
    "    print('\\n')"
   ]
  },
  {
   "cell_type": "markdown",
   "id": "0cd505f0-8150-42ed-8650-8ddc5da242a1",
   "metadata": {},
   "source": [
    "#### There is no discrepancy in the categorical columns"
   ]
  },
  {
   "cell_type": "markdown",
   "id": "99c6e525-f1e6-4197-9740-eb04b9441462",
   "metadata": {},
   "source": [
    "#### Checking Missing Values"
   ]
  },
  {
   "cell_type": "code",
   "execution_count": 33,
   "id": "156b4a53-ac0a-4e1a-a76b-b444a0128822",
   "metadata": {},
   "outputs": [
    {
     "data": {
      "text/plain": [
       "transaction_id      0.000000\n",
       "cust_id             0.000000\n",
       "tran_date           0.000000\n",
       "prod_subcat_code    0.000000\n",
       "prod_cat_code       0.000000\n",
       "Qty                 0.000000\n",
       "Rate                0.000000\n",
       "Tax                 0.000000\n",
       "total_amt           0.000000\n",
       "Store_type          0.000000\n",
       "DOB                 0.000000\n",
       "Gender              0.039040\n",
       "city_code           0.034703\n",
       "prod_cat            0.000000\n",
       "prod_subcat         0.000000\n",
       "dtype: float64"
      ]
     },
     "execution_count": 33,
     "metadata": {},
     "output_type": "execute_result"
    }
   ],
   "source": [
    "(final_df.isna().sum()/len(final_df))*100"
   ]
  },
  {
   "cell_type": "markdown",
   "id": "50643a78-4871-4a12-83dc-5efaadf3334b",
   "metadata": {},
   "source": [
    "#### As the Percentage of Missing Values is less than 5%, we're gonna remove the missing values"
   ]
  },
  {
   "cell_type": "code",
   "execution_count": 34,
   "id": "258b343e-5b6f-4c31-9105-f22c36ff5236",
   "metadata": {},
   "outputs": [],
   "source": [
    "final_df=final_df.dropna()"
   ]
  },
  {
   "cell_type": "markdown",
   "id": "8ce5436a-8aab-4ad2-ad94-efe67637f381",
   "metadata": {},
   "source": [
    "#### The Missing Values are removed"
   ]
  },
  {
   "cell_type": "markdown",
   "id": "0bd9f986-2298-4bc4-a43f-b0d40f773c48",
   "metadata": {},
   "source": [
    "#### Checking Duplicates"
   ]
  },
  {
   "cell_type": "code",
   "execution_count": 35,
   "id": "88789820-c356-4935-8696-f8f524dea69d",
   "metadata": {},
   "outputs": [
    {
     "data": {
      "text/plain": [
       "13"
      ]
     },
     "execution_count": 35,
     "metadata": {},
     "output_type": "execute_result"
    }
   ],
   "source": [
    "final_df.duplicated().sum()"
   ]
  },
  {
   "cell_type": "markdown",
   "id": "ed56839e-7da7-457b-abda-70960633f59c",
   "metadata": {},
   "source": [
    "#### There are 13 duplicate values"
   ]
  },
  {
   "cell_type": "markdown",
   "id": "9f329e43-bbac-4dd0-b305-7b76e10572ce",
   "metadata": {},
   "source": [
    "#### Removing Duplicates"
   ]
  },
  {
   "cell_type": "code",
   "execution_count": 36,
   "id": "91dc3858-7692-4c1b-80be-6cf578a31ce1",
   "metadata": {},
   "outputs": [],
   "source": [
    "final_df=final_df.drop_duplicates()"
   ]
  },
  {
   "cell_type": "markdown",
   "id": "9b4b8499-1623-4d87-a504-501096043312",
   "metadata": {},
   "source": [
    "#### Duplicates are removed"
   ]
  },
  {
   "cell_type": "markdown",
   "id": "24485ebe-b059-4166-afe4-63e8b2b696d3",
   "metadata": {},
   "source": [
    "#### Univariate Analysis"
   ]
  },
  {
   "cell_type": "markdown",
   "id": "80069bb3-d602-457c-acae-25ca152f7eb5",
   "metadata": {},
   "source": [
    "#### Bivariate Analysis"
   ]
  },
  {
   "cell_type": "markdown",
   "id": "21bfeb3c-dea4-4e00-9bd4-56960e5ee779",
   "metadata": {},
   "source": [
    "#### Checking Outliers for the column 'Qty'"
   ]
  },
  {
   "cell_type": "code",
   "execution_count": 37,
   "id": "4edc9f15-dfc4-44ae-8a55-162ecccec2ad",
   "metadata": {},
   "outputs": [],
   "source": [
    "import matplotlib.pyplot as plt\n",
    "import seaborn as sns"
   ]
  },
  {
   "cell_type": "code",
   "execution_count": 38,
   "id": "e3bf9465-5577-486c-8299-03d21004e0ce",
   "metadata": {},
   "outputs": [
    {
     "data": {
      "image/png": "[encoded data removed]",
      "text/plain": [
       "<Figure size 640x480 with 1 Axes>"
      ]
     },
     "metadata": {},
     "output_type": "display_data"
    }
   ],
   "source": [
    "sns.boxplot(data=final_df,x='Qty')\n",
    "plt.title('Distribution of Qty')\n",
    "plt.show()"
   ]
  },
  {
   "cell_type": "markdown",
   "id": "8ace1e41-a12a-4eb6-a4a6-ecabb637d57d",
   "metadata": {},
   "source": [
    "#### Outliers exist in the Qty column"
   ]
  },
  {
   "cell_type": "markdown",
   "id": "6fec5ff7-c4f0-4634-add8-86b583b23237",
   "metadata": {},
   "source": [
    "#### Treating Outliers for the column 'Qty'"
   ]
  },
  {
   "cell_type": "code",
   "execution_count": 39,
   "id": "38041280-4e64-4ee0-babf-899e65241cdf",
   "metadata": {},
   "outputs": [],
   "source": [
    "q1=final_df.Qty.quantile(0.25)\n",
    "q3=final_df.Qty.quantile(0.75)\n",
    "iqr=q3-q1\n",
    "ur=q3+1.5*iqr\n",
    "lr=q1-1.5*iqr\n",
    "final_df.Qty=final_df.Qty.clip(lower=lr,upper=ur)"
   ]
  },
  {
   "cell_type": "markdown",
   "id": "704c3da3-5efb-4336-ae76-35db94c369df",
   "metadata": {},
   "source": [
    "#### Checking Outliers for the column 'Qty'"
   ]
  },
  {
   "cell_type": "code",
   "execution_count": 40,
   "id": "1752ee73-160b-4897-a61a-c479c04ecc7d",
   "metadata": {},
   "outputs": [
    {
     "data": {
      "image/png": "[encoded data removed]",
      "text/plain": [
       "<Figure size 640x480 with 1 Axes>"
      ]
     },
     "metadata": {},
     "output_type": "display_data"
    }
   ],
   "source": [
    "sns.boxplot(data=final_df,x='Qty')\n",
    "plt.title('Distribution of Qty')\n",
    "plt.show()"
   ]
  },
  {
   "cell_type": "code",
   "execution_count": 41,
   "id": "e1db623b-6269-4d35-9c86-9c6a37e90cf2",
   "metadata": {},
   "outputs": [
    {
     "name": "stdout",
     "output_type": "stream",
     "text": [
      "tran_date\n",
      "\n",
      "\n",
      "tran_date\n",
      "2011-07-13    35\n",
      "2011-10-23    33\n",
      "2011-09-25    33\n",
      "2011-11-22    33\n",
      "2013-12-21    33\n",
      "              ..\n",
      "2014-02-23     2\n",
      "2014-02-24     2\n",
      "2014-02-27     1\n",
      "2014-02-21     1\n",
      "2014-02-28     1\n",
      "Name: count, Length: 1129, dtype: int64\n",
      "\n",
      "\n",
      "Store_type\n",
      "\n",
      "\n",
      "Store_type\n",
      "e-Shop            9299\n",
      "MBR               4658\n",
      "Flagship store    4573\n",
      "TeleShop          4493\n",
      "Name: count, dtype: int64\n",
      "\n",
      "\n",
      "DOB\n",
      "\n",
      "\n",
      "DOB\n",
      "1988-12-27    32\n",
      "1982-09-17    32\n",
      "1974-02-25    27\n",
      "1972-03-20    25\n",
      "1970-06-09    24\n",
      "              ..\n",
      "1976-01-29     1\n",
      "1980-05-01     1\n",
      "1988-06-23     1\n",
      "1985-06-25     1\n",
      "1972-06-10     1\n",
      "Name: count, Length: 3984, dtype: int64\n",
      "\n",
      "\n",
      "Gender\n",
      "\n",
      "\n",
      "Gender\n",
      "M    11798\n",
      "F    11225\n",
      "Name: count, dtype: int64\n",
      "\n",
      "\n",
      "prod_cat\n",
      "\n",
      "\n",
      "prod_cat\n",
      "Books               6061\n",
      "Electronics         4891\n",
      "Home and kitchen    4123\n",
      "Footwear            2995\n",
      "Clothing            2957\n",
      "Bags                1996\n",
      "Name: count, dtype: int64\n",
      "\n",
      "\n",
      "prod_subcat\n",
      "\n",
      "\n",
      "prod_subcat\n",
      "Women                  3044\n",
      "Mens                   2909\n",
      "Kids                   1995\n",
      "Tools                  1061\n",
      "Fiction                1042\n",
      "Kitchen                1036\n",
      "Children               1034\n",
      "Mobiles                1030\n",
      "Comics                 1030\n",
      "Bath                   1020\n",
      "Furnishing             1006\n",
      "Non-Fiction            1001\n",
      "DIY                     988\n",
      "Cameras                 984\n",
      "Personal Appliances     970\n",
      "Academic                966\n",
      "Computers               956\n",
      "Audio and video         951\n",
      "Name: count, dtype: int64\n",
      "\n",
      "\n"
     ]
    }
   ],
   "source": [
    "# Frequency table for all categorical variables\n",
    "\n",
    "for i in ['tran_date', 'Store_type', 'DOB', 'Gender', 'prod_cat', 'prod_subcat']:\n",
    "    print(i)\n",
    "    print('\\n')\n",
    "    cat_f = final_df[i].value_counts()\n",
    "    print(cat_f)\n",
    "    print('\\n')"
   ]
  },
  {
   "cell_type": "code",
   "execution_count": null,
   "id": "9446ee55-df0f-4543-ac13-8a6a02b184f2",
   "metadata": {},
   "outputs": [],
   "source": []
  },
  {
   "cell_type": "markdown",
   "id": "02cc6f09-fc44-4740-8fee-239540fad257",
   "metadata": {},
   "source": [
    "#### 3. Generate histograms for all continuous variables and frequency bars for categorical variables"
   ]
  },
  {
   "cell_type": "code",
   "execution_count": 42,
   "id": "8e0d36f2-f82c-4a62-8ebf-751b23e7e37e",
   "metadata": {},
   "outputs": [
    {
     "data": {
      "text/html": [
       "<div>\n",
       "<style scoped>\n",
       "    .dataframe tbody tr th:only-of-type {\n",
       "        vertical-align: middle;\n",
       "    }\n",
       "\n",
       "    .dataframe tbody tr th {\n",
       "        vertical-align: top;\n",
       "    }\n",
       "\n",
       "    .dataframe thead th {\n",
       "        text-align: right;\n",
       "    }\n",
       "</style>\n",
       "<table border=\"1\" class=\"dataframe\">\n",
       "  <thead>\n",
       "    <tr style=\"text-align: right;\">\n",
       "      <th></th>\n",
       "      <th>transaction_id</th>\n",
       "      <th>cust_id</th>\n",
       "      <th>prod_subcat_code</th>\n",
       "      <th>prod_cat_code</th>\n",
       "      <th>Qty</th>\n",
       "      <th>Rate</th>\n",
       "      <th>Tax</th>\n",
       "      <th>total_amt</th>\n",
       "      <th>city_code</th>\n",
       "    </tr>\n",
       "  </thead>\n",
       "  <tbody>\n",
       "    <tr>\n",
       "      <th>0</th>\n",
       "      <td>80712190438</td>\n",
       "      <td>270351</td>\n",
       "      <td>1</td>\n",
       "      <td>1</td>\n",
       "      <td>-3.5</td>\n",
       "      <td>-772</td>\n",
       "      <td>405.300</td>\n",
       "      <td>-4265.300</td>\n",
       "      <td>5.0</td>\n",
       "    </tr>\n",
       "    <tr>\n",
       "      <th>1</th>\n",
       "      <td>29258453508</td>\n",
       "      <td>270384</td>\n",
       "      <td>5</td>\n",
       "      <td>3</td>\n",
       "      <td>-3.5</td>\n",
       "      <td>-1497</td>\n",
       "      <td>785.925</td>\n",
       "      <td>-8270.925</td>\n",
       "      <td>8.0</td>\n",
       "    </tr>\n",
       "  </tbody>\n",
       "</table>\n",
       "</div>"
      ],
      "text/plain": [
       "   transaction_id  cust_id  prod_subcat_code  prod_cat_code  Qty  Rate  \\\n",
       "0     80712190438   270351                 1              1 -3.5  -772   \n",
       "1     29258453508   270384                 5              3 -3.5 -1497   \n",
       "\n",
       "       Tax  total_amt  city_code  \n",
       "0  405.300  -4265.300        5.0  \n",
       "1  785.925  -8270.925        8.0  "
      ]
     },
     "execution_count": 42,
     "metadata": {},
     "output_type": "execute_result"
    }
   ],
   "source": [
    "final_df.select_dtypes(include='number').head(2)"
   ]
  },
  {
   "cell_type": "markdown",
   "id": "1796cea7-2666-4464-965c-4ded26f06e4e",
   "metadata": {},
   "source": [
    "#### Histograms for all continuous variables"
   ]
  },
  {
   "cell_type": "code",
   "execution_count": 67,
   "id": "a1125c01-49fa-4ae7-8e46-99c5d5c31d99",
   "metadata": {},
   "outputs": [
    {
     "data": {
      "image/png": "[encoded data removed]",
      "text/plain": [
       "<Figure size 640x480 with 1 Axes>"
      ]
     },
     "metadata": {},
     "output_type": "display_data"
    },
    {
     "data": {
      "image/png": "[encoded data removed]",
      "text/plain": [
       "<Figure size 640x480 with 1 Axes>"
      ]
     },
     "metadata": {},
     "output_type": "display_data"
    },
    {
     "data": {
      "image/png": "[encoded data removed]",
      "text/plain": [
       "<Figure size 640x480 with 1 Axes>"
      ]
     },
     "metadata": {},
     "output_type": "display_data"
    },
    {
     "data": {
      "image/png": "[encoded data removed]",
      "text/plain": [
       "<Figure size 640x480 with 1 Axes>"
      ]
     },
     "metadata": {},
     "output_type": "display_data"
    },
    {
     "data": {
      "image/png": "[encoded data removed]",
      "text/plain": [
       "<Figure size 640x480 with 1 Axes>"
      ]
     },
     "metadata": {},
     "output_type": "display_data"
    },
    {
     "data": {
      "image/png": "[encoded data removed]",
      "text/plain": [
       "<Figure size 640x480 with 1 Axes>"
      ]
     },
     "metadata": {},
     "output_type": "display_data"
    },
    {
     "data": {
      "image/png": "[encoded data removed]",
      "text/plain": [
       "<Figure size 640x480 with 1 Axes>"
      ]
     },
     "metadata": {},
     "output_type": "display_data"
    },
    {
     "data": {
      "image/png": "[encoded data removed]",
      "text/plain": [
       "<Figure size 640x480 with 1 Axes>"
      ]
     },
     "metadata": {},
     "output_type": "display_data"
    },
    {
     "data": {
      "image/png": "[encoded data removed]",
      "text/plain": [
       "<Figure size 640x480 with 1 Axes>"
      ]
     },
     "metadata": {},
     "output_type": "display_data"
    },
    {
     "data": {
      "image/png": "[encoded data removed]",
      "text/plain": [
       "<Figure size 640x480 with 1 Axes>"
      ]
     },
     "metadata": {},
     "output_type": "display_data"
    }
   ],
   "source": [
    "cont_df = final_df.select_dtypes('number')\n",
    "for i in cont_df.columns:\n",
    "    sns.histplot(data=final_df,x=i)\n",
    "    plt.show()"
   ]
  },
  {
   "cell_type": "markdown",
   "id": "6b8925ad-72bb-4dca-911a-02c4895d4c98",
   "metadata": {},
   "source": [
    "#### frequency bars for categorical variables"
   ]
  },
  {
   "cell_type": "code",
   "execution_count": 74,
   "id": "d1f1ed84-d406-41b8-b04c-f1c34d975645",
   "metadata": {},
   "outputs": [
    {
     "data": {
      "image/png": "[encoded data removed]",
      "text/plain": [
       "<Figure size 640x480 with 1 Axes>"
      ]
     },
     "metadata": {},
     "output_type": "display_data"
    },
    {
     "data": {
      "image/png": "[encoded data removed]",
      "text/plain": [
       "<Figure size 640x480 with 1 Axes>"
      ]
     },
     "metadata": {},
     "output_type": "display_data"
    },
    {
     "data": {
      "image/png": "[encoded data removed]",
      "text/plain": [
       "<Figure size 640x480 with 1 Axes>"
      ]
     },
     "metadata": {},
     "output_type": "display_data"
    },
    {
     "data": {
      "image/png": "[encoded data removed]",
      "text/plain": [
       "<Figure size 640x480 with 1 Axes>"
      ]
     },
     "metadata": {},
     "output_type": "display_data"
    }
   ],
   "source": [
    "cat_df = final_df.select_dtypes(include='object')\n",
    "for i in cat_df.columns:\n",
    "    sns.countplot(data=final_df,x=i)\n",
    "    plt.xticks(rotation=90)\n",
    "    plt.show()"
   ]
  },
  {
   "cell_type": "code",
   "execution_count": null,
   "id": "9deb7e3c-a46a-467d-8d0a-65896095b71c",
   "metadata": {},
   "outputs": [],
   "source": []
  },
  {
   "cell_type": "markdown",
   "id": "cfd2aa4e-20f0-4774-aaad-fd807b16fd3b",
   "metadata": {},
   "source": [
    "#### 4. Calculate the following information using the merged dataset :\n",
    " a. Time period of the available transaction data\n",
    " b. Count of transactions where the total amount of transaction was negative"
   ]
  },
  {
   "cell_type": "markdown",
   "id": "57d8df2d-3f2c-45e8-bf41-2d0a7a044169",
   "metadata": {},
   "source": [
    "a. Time period of the available transaction data"
   ]
  },
  {
   "cell_type": "code",
   "execution_count": 46,
   "id": "19aae8ea-c5ad-4f7f-a9de-dca5783610c7",
   "metadata": {},
   "outputs": [
    {
     "name": "stdout",
     "output_type": "stream",
     "text": [
      "The time period of the transaction data is 2011-01-25 00:00:00 to 2014-02-28 00:00:00\n"
     ]
    }
   ],
   "source": [
    "print('The time period of the transaction data is',final_df.tran_date.min(),'to',final_df.tran_date.max())"
   ]
  },
  {
   "cell_type": "markdown",
   "id": "538d5dcd-3021-43ca-a058-58fb8440eacb",
   "metadata": {},
   "source": [
    "b. Count of transactions where the total amount of transaction was negative"
   ]
  },
  {
   "cell_type": "code",
   "execution_count": 47,
   "id": "773acfa2-b970-4a2f-a859-33e79c586be4",
   "metadata": {},
   "outputs": [
    {
     "name": "stdout",
     "output_type": "stream",
     "text": [
      "The count of transactions where the total amount was negative = 2163\n"
     ]
    }
   ],
   "source": [
    "neg_tran_count = np.where(final_df.total_amt < 0, True,False).sum()\n",
    "print('The count of transactions where the total amount was negative =',neg_tran_count)"
   ]
  },
  {
   "cell_type": "markdown",
   "id": "1a43845d-bd6d-41cb-a2f8-63b110d608a9",
   "metadata": {},
   "source": [
    "####  5. Analyze which product categories are more popular among females vs male customers."
   ]
  },
  {
   "cell_type": "code",
   "execution_count": 48,
   "id": "16aaecbc-1664-4679-bc05-dfc23e60167b",
   "metadata": {},
   "outputs": [],
   "source": [
    "pcat_count_by_gender = final_df[['prod_cat','Gender']].groupby(by='Gender').count()"
   ]
  },
  {
   "cell_type": "code",
   "execution_count": 49,
   "id": "e673a5b2-d52b-4d55-a34d-049f43f10546",
   "metadata": {},
   "outputs": [
    {
     "data": {
      "text/html": [
       "<div>\n",
       "<style scoped>\n",
       "    .dataframe tbody tr th:only-of-type {\n",
       "        vertical-align: middle;\n",
       "    }\n",
       "\n",
       "    .dataframe tbody tr th {\n",
       "        vertical-align: top;\n",
       "    }\n",
       "\n",
       "    .dataframe thead th {\n",
       "        text-align: right;\n",
       "    }\n",
       "</style>\n",
       "<table border=\"1\" class=\"dataframe\">\n",
       "  <thead>\n",
       "    <tr style=\"text-align: right;\">\n",
       "      <th></th>\n",
       "      <th>prod_cat</th>\n",
       "    </tr>\n",
       "    <tr>\n",
       "      <th>Gender</th>\n",
       "      <th></th>\n",
       "    </tr>\n",
       "  </thead>\n",
       "  <tbody>\n",
       "    <tr>\n",
       "      <th>F</th>\n",
       "      <td>11225</td>\n",
       "    </tr>\n",
       "    <tr>\n",
       "      <th>M</th>\n",
       "      <td>11798</td>\n",
       "    </tr>\n",
       "  </tbody>\n",
       "</table>\n",
       "</div>"
      ],
      "text/plain": [
       "        prod_cat\n",
       "Gender          \n",
       "F          11225\n",
       "M          11798"
      ]
     },
     "execution_count": 49,
     "metadata": {},
     "output_type": "execute_result"
    }
   ],
   "source": [
    "pcat_count_by_gender"
   ]
  },
  {
   "cell_type": "markdown",
   "id": "43437371-1eb2-4d39-a88b-aad31698c207",
   "metadata": {},
   "source": [
    "#### 6. Which City code has the maximum customers and what was the percentage of customers from that city?"
   ]
  },
  {
   "cell_type": "code",
   "execution_count": 50,
   "id": "4157a632-b04c-4c32-a123-9c408d970f35",
   "metadata": {},
   "outputs": [
    {
     "name": "stdout",
     "output_type": "stream",
     "text": [
      "City code with max customers is 4.0\n",
      "Percentage of customers is 10.52 %\n"
     ]
    }
   ],
   "source": [
    "city_count_sorted=final_df[['city_code','cust_id']].groupby(by='city_code').count().sort_values(by='cust_id',ascending=False)\n",
    "top_city = city_count_sorted.iloc[0]\n",
    "max_city_count=top_city['cust_id']\n",
    "max_city_code=top_city.name\n",
    "total_cust = final_df.cust_id.count()\n",
    "percent_cust = (max_city_count/total_cust) * 100\n",
    "print('City code with max customers is',max_city_code)\n",
    "print('Percentage of customers is',round(percent_cust,2),'%')"
   ]
  },
  {
   "cell_type": "markdown",
   "id": "4ad33a07-ed71-45d8-886a-a804333578c0",
   "metadata": {},
   "source": [
    "#### 7. Which store type sells the maximum products by value and by quantity?"
   ]
  },
  {
   "cell_type": "code",
   "execution_count": 51,
   "id": "1cd58ee7-6d70-4cc7-8fd5-8967770c8e7c",
   "metadata": {},
   "outputs": [
    {
     "name": "stdout",
     "output_type": "stream",
     "text": [
      "Store with max qty sold is e-Shop with 23139.0 units\n",
      "Store with max sales total amt is e-Shop with $ 19838944.58 in total sales\n"
     ]
    }
   ],
   "source": [
    "prod_by_qty = final_df[['Store_type','Qty']].groupby(by='Store_type').sum().sort_values(by='Qty',ascending=False)\n",
    "prod_by_amt = final_df[['Store_type','total_amt']].groupby(by='Store_type').sum().sort_values(by='total_amt',ascending=False)\n",
    "max_qty_store= prod_by_qty.index[0]\n",
    "max_qty_value= prod_by_qty.iloc[0]['Qty']\n",
    "max_amt_store= prod_by_amt.index[0]\n",
    "max_amt_value= prod_by_amt.iloc[0]['total_amt']\n",
    "print('Store with max qty sold is',max_qty_store,'with',max_qty_value,'units')\n",
    "print('Store with max sales total amt is',max_amt_store,'with','$',max_amt_value,'in total sales')"
   ]
  },
  {
   "cell_type": "markdown",
   "id": "8ef8250e-4cb1-44f4-992f-23e3aea56710",
   "metadata": {},
   "source": [
    "#### 8. What was the total amount earned from the \"Electronics\" and \"Clothing\" categories from Flagship Stores?"
   ]
  },
  {
   "cell_type": "code",
   "execution_count": 52,
   "id": "2e68744c-1736-4155-a073-fca32f01c9f3",
   "metadata": {},
   "outputs": [
    {
     "name": "stdout",
     "output_type": "stream",
     "text": [
      "The total amount earned from the Clothing is 1194423.23 and Electronics is 2214512.82\n",
      "The total amount earned from flagship stores is 3408936.05\n"
     ]
    }
   ],
   "source": [
    "filtered_df = final_df[(final_df['Store_type'] == 'Flagship store') & (final_df['prod_cat'].isin(['Electronics','Clothing']))]\n",
    "amt_by_store= filtered_df[['Store_type','total_amt']].groupby(by='Store_type').sum()\n",
    "amt_by_cat= filtered_df[['prod_cat','total_amt']].groupby(by='prod_cat').sum()\n",
    "print('The total amount earned from the Clothing is',amt_by_cat.iloc[0]['total_amt'],'and Electronics is',amt_by_cat.iloc[1]['total_amt'])\n",
    "print('The total amount earned from flagship stores is',amt_by_store.iloc[0]['total_amt'])"
   ]
  },
  {
   "cell_type": "markdown",
   "id": "ca5f46cc-7508-4194-b427-b2d1a101e641",
   "metadata": {},
   "source": [
    "####  9. What was the total amount earned from \"Male\" customers under the \"Electronics\" category?"
   ]
  },
  {
   "cell_type": "code",
   "execution_count": 53,
   "id": "620efe47-019d-4d1c-a260-079387350e5b",
   "metadata": {},
   "outputs": [
    {
     "name": "stdout",
     "output_type": "stream",
     "text": [
      "The amt earned from Male customers under Electronics category is 5705871.925\n"
     ]
    }
   ],
   "source": [
    "filtered_df1 = final_df[(final_df['Gender'] == 'M') & (final_df['prod_cat'] == 'Electronics')]\n",
    "result_amt = filtered_df1[['Gender','prod_cat','total_amt']].groupby(by=['Gender','prod_cat']).sum()\n",
    "print('The amt earned from Male customers under Electronics category is',result_amt.iloc[0]['total_amt'])"
   ]
  },
  {
   "cell_type": "markdown",
   "id": "adf3fa44-c0ad-4319-8811-cfabb6313799",
   "metadata": {},
   "source": [
    "#### 10. How many customers have more than 10 unique transactions, after removing all transactions which have any negative amounts?"
   ]
  },
  {
   "cell_type": "code",
   "execution_count": 54,
   "id": "46a4ac69-f4c3-4288-b099-ad9586ff139c",
   "metadata": {},
   "outputs": [
    {
     "name": "stdout",
     "output_type": "stream",
     "text": [
      "Customers having more than 10 unique transactions are 6\n"
     ]
    }
   ],
   "source": [
    "filter_df = final_df[final_df['total_amt'] > 0]\n",
    "tran_count = filter_df[['transaction_id','cust_id']].groupby(by='cust_id').count()\n",
    "result = tran_count[tran_count['transaction_id'] > 10]\n",
    "print('Customers having more than 10 unique transactions are',result.shape[0])"
   ]
  },
  {
   "cell_type": "markdown",
   "id": "4e5edfd6-8e2e-4c65-952d-ba941395d20c",
   "metadata": {},
   "source": [
    "####  11. For all customers aged between 25 - 35, find out:\n",
    "##### a. What was the total amount spent for “Electronics” and “Books” product categories?\n",
    "##### b. What was the total amount spent by these customers between 1st Jan, 2014 to 1st Mar, 2014?"
   ]
  },
  {
   "cell_type": "code",
   "execution_count": 55,
   "id": "d16e3870-000e-4be6-8444-c2e60b314beb",
   "metadata": {},
   "outputs": [],
   "source": [
    "final_df['Age']=pd.Timestamp.today().year - final_df['DOB'].dt.year"
   ]
  },
  {
   "cell_type": "code",
   "execution_count": 56,
   "id": "bbd7e4e9-a9f4-4ea3-b652-987bfd700541",
   "metadata": {},
   "outputs": [
    {
     "data": {
      "text/plain": [
       "Index(['transaction_id', 'cust_id', 'tran_date', 'prod_subcat_code',\n",
       "       'prod_cat_code', 'Qty', 'Rate', 'Tax', 'total_amt', 'Store_type', 'DOB',\n",
       "       'Gender', 'city_code', 'prod_cat', 'prod_subcat', 'Age'],\n",
       "      dtype='object')"
      ]
     },
     "execution_count": 56,
     "metadata": {},
     "output_type": "execute_result"
    }
   ],
   "source": [
    "final_df.columns"
   ]
  },
  {
   "cell_type": "code",
   "execution_count": 57,
   "id": "82702f63-fb74-468e-871d-334bfb9fb75b",
   "metadata": {},
   "outputs": [],
   "source": [
    "filtered_df2 = final_df[(final_df['Age'] >= 25) & (final_df['Age'] <= 35)]"
   ]
  },
  {
   "cell_type": "code",
   "execution_count": 58,
   "id": "c4524d04-3e17-4b6f-bd34-5be798ba00a4",
   "metadata": {},
   "outputs": [
    {
     "name": "stdout",
     "output_type": "stream",
     "text": [
      "Total amount spent for Electronics is 1544727.015\n",
      "Total amount spent for Books is 1250268.825\n"
     ]
    }
   ],
   "source": [
    "# A\n",
    "df_by_prodcat = filtered_df2[filtered_df2['prod_cat'].isin(['Electronics','Books'])]\n",
    "amt_by_cat = df_by_prodcat[['prod_cat','total_amt']].groupby(by='prod_cat').sum()\n",
    "print('Total amount spent for Electronics is',amt_by_cat.iloc[0]['total_amt'])\n",
    "print('Total amount spent for Books is',amt_by_cat.iloc[1]['total_amt'])"
   ]
  },
  {
   "cell_type": "code",
   "execution_count": 59,
   "id": "332604d5-2dc4-441a-a7d6-ec13e49ce563",
   "metadata": {},
   "outputs": [],
   "source": [
    "# B"
   ]
  },
  {
   "cell_type": "code",
   "execution_count": 60,
   "id": "d916d4d2-c092-4b54-abf0-d750f9f95eb2",
   "metadata": {},
   "outputs": [
    {
     "name": "stdout",
     "output_type": "stream",
     "text": [
      "The total amount spent by customers between 1st Jan,2014 to 1st Mar,2014 is 313650.93500000006\n"
     ]
    }
   ],
   "source": [
    "amt_by_date = filtered_df2[(filtered_df2['tran_date'] >= '2014-01-01') & (filtered_df2['tran_date'] <= '2014-03-01')].total_amt.sum()\n",
    "print('The total amount spent by customers between 1st Jan,2014 to 1st Mar,2014 is',amt_by_date)"
   ]
  },
  {
   "cell_type": "code",
   "execution_count": null,
   "id": "a330d055-8a6a-49b7-9335-b87bef902f2f",
   "metadata": {},
   "outputs": [],
   "source": []
  },
  {
   "cell_type": "code",
   "execution_count": null,
   "id": "d8807e98-86a9-47a3-a7b1-59129a085d88",
   "metadata": {},
   "outputs": [],
   "source": []
  }
 ],
 "metadata": {
  "kernelspec": {
   "display_name": "Python [conda env:base] *",
   "language": "python",
   "name": "conda-base-py"
  },
  "language_info": {
   "codemirror_mode": {
    "name": "ipython",
    "version": 3
   },
   "file_extension": ".py",
   "mimetype": "text/x-python",
   "name": "python",
   "nbconvert_exporter": "python",
   "pygments_lexer": "ipython3",
   "version": "3.12.7"
  }
 },
 "nbformat": 4,
 "nbformat_minor": 5
}
