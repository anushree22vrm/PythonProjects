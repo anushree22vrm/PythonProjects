{
 "cells": [
  {
   "cell_type": "code",
   "execution_count": 1,
   "id": "6d900306-1c59-482d-8f74-a3ee7c8d25a6",
   "metadata": {},
   "outputs": [],
   "source": [
    "import os\n",
    "import numpy as np\n",
    "import pandas as pd\n",
    "import matplotlib.pyplot as plt\n",
    "import seaborn as sns"
   ]
  },
  {
   "cell_type": "code",
   "execution_count": 2,
   "id": "ee4b7f4f-be76-4e4a-bfed-a4430600b324",
   "metadata": {},
   "outputs": [],
   "source": [
    "os.chdir('C:\\\\Users\\\\anush\\\\Downloads')"
   ]
  },
  {
   "cell_type": "code",
   "execution_count": 5,
   "id": "78abdeda-c24d-4035-bb6b-8a79c4fc7588",
   "metadata": {},
   "outputs": [
    {
     "data": {
      "text/html": [
       "<div>\n",
       "<style scoped>\n",
       "    .dataframe tbody tr th:only-of-type {\n",
       "        vertical-align: middle;\n",
       "    }\n",
       "\n",
       "    .dataframe tbody tr th {\n",
       "        vertical-align: top;\n",
       "    }\n",
       "\n",
       "    .dataframe thead th {\n",
       "        text-align: right;\n",
       "    }\n",
       "</style>\n",
       "<table border=\"1\" class=\"dataframe\">\n",
       "  <thead>\n",
       "    <tr style=\"text-align: right;\">\n",
       "      <th></th>\n",
       "      <th>Customer ID</th>\n",
       "      <th>Age</th>\n",
       "      <th>Gender</th>\n",
       "      <th>Item Purchased</th>\n",
       "      <th>Category</th>\n",
       "      <th>Purchase Amount (USD)</th>\n",
       "      <th>Location</th>\n",
       "      <th>Size</th>\n",
       "      <th>Color</th>\n",
       "      <th>Season</th>\n",
       "      <th>Review Rating</th>\n",
       "      <th>Subscription Status</th>\n",
       "      <th>Shipping Type</th>\n",
       "      <th>Discount Applied</th>\n",
       "      <th>Promo Code Used</th>\n",
       "      <th>Previous Purchases</th>\n",
       "      <th>Payment Method</th>\n",
       "      <th>Frequency of Purchases</th>\n",
       "    </tr>\n",
       "  </thead>\n",
       "  <tbody>\n",
       "    <tr>\n",
       "      <th>0</th>\n",
       "      <td>1</td>\n",
       "      <td>55</td>\n",
       "      <td>Male</td>\n",
       "      <td>Blouse</td>\n",
       "      <td>Clothing</td>\n",
       "      <td>53</td>\n",
       "      <td>Kentucky</td>\n",
       "      <td>L</td>\n",
       "      <td>Gray</td>\n",
       "      <td>Winter</td>\n",
       "      <td>3.1</td>\n",
       "      <td>Yes</td>\n",
       "      <td>Express</td>\n",
       "      <td>Yes</td>\n",
       "      <td>Yes</td>\n",
       "      <td>14</td>\n",
       "      <td>Venmo</td>\n",
       "      <td>Fortnightly</td>\n",
       "    </tr>\n",
       "    <tr>\n",
       "      <th>1</th>\n",
       "      <td>2</td>\n",
       "      <td>19</td>\n",
       "      <td>Male</td>\n",
       "      <td>Sweater</td>\n",
       "      <td>Clothing</td>\n",
       "      <td>64</td>\n",
       "      <td>Maine</td>\n",
       "      <td>L</td>\n",
       "      <td>Maroon</td>\n",
       "      <td>Winter</td>\n",
       "      <td>3.1</td>\n",
       "      <td>Yes</td>\n",
       "      <td>Express</td>\n",
       "      <td>Yes</td>\n",
       "      <td>Yes</td>\n",
       "      <td>2</td>\n",
       "      <td>Cash</td>\n",
       "      <td>Fortnightly</td>\n",
       "    </tr>\n",
       "    <tr>\n",
       "      <th>2</th>\n",
       "      <td>3</td>\n",
       "      <td>50</td>\n",
       "      <td>Male</td>\n",
       "      <td>Jeans</td>\n",
       "      <td>Clothing</td>\n",
       "      <td>73</td>\n",
       "      <td>Massachusetts</td>\n",
       "      <td>S</td>\n",
       "      <td>Maroon</td>\n",
       "      <td>Spring</td>\n",
       "      <td>3.1</td>\n",
       "      <td>Yes</td>\n",
       "      <td>Free Shipping</td>\n",
       "      <td>Yes</td>\n",
       "      <td>Yes</td>\n",
       "      <td>23</td>\n",
       "      <td>Credit Card</td>\n",
       "      <td>Weekly</td>\n",
       "    </tr>\n",
       "  </tbody>\n",
       "</table>\n",
       "</div>"
      ],
      "text/plain": [
       "   Customer ID  Age Gender Item Purchased  Category  Purchase Amount (USD)  \\\n",
       "0            1   55   Male         Blouse  Clothing                     53   \n",
       "1            2   19   Male        Sweater  Clothing                     64   \n",
       "2            3   50   Male          Jeans  Clothing                     73   \n",
       "\n",
       "        Location Size   Color  Season  Review Rating Subscription Status  \\\n",
       "0       Kentucky    L    Gray  Winter            3.1                 Yes   \n",
       "1          Maine    L  Maroon  Winter            3.1                 Yes   \n",
       "2  Massachusetts    S  Maroon  Spring            3.1                 Yes   \n",
       "\n",
       "   Shipping Type Discount Applied Promo Code Used  Previous Purchases  \\\n",
       "0        Express              Yes             Yes                  14   \n",
       "1        Express              Yes             Yes                   2   \n",
       "2  Free Shipping              Yes             Yes                  23   \n",
       "\n",
       "  Payment Method Frequency of Purchases  \n",
       "0          Venmo            Fortnightly  \n",
       "1           Cash            Fortnightly  \n",
       "2    Credit Card                 Weekly  "
      ]
     },
     "execution_count": 5,
     "metadata": {},
     "output_type": "execute_result"
    }
   ],
   "source": [
    "df = pd.read_csv('shopping_behavior_updated.csv')\n",
    "df.head(3)"
   ]
  },
  {
   "cell_type": "code",
   "execution_count": 7,
   "id": "3cdc5f43-7e3c-4d73-8719-728bc04ea5d0",
   "metadata": {},
   "outputs": [
    {
     "name": "stdout",
     "output_type": "stream",
     "text": [
      "The data has 3900 rows and 18 columns\n"
     ]
    }
   ],
   "source": [
    "print('The data has',df.shape[0],'rows and',df.shape[1],'columns')"
   ]
  },
  {
   "cell_type": "markdown",
   "id": "6dcafde5-4fc6-468e-900f-334c04bbe79b",
   "metadata": {},
   "source": [
    "# EDA"
   ]
  },
  {
   "cell_type": "markdown",
   "id": "b5ac1f51-77a5-40d2-94db-0cb90cef6d6e",
   "metadata": {},
   "source": [
    "## Checking column names and data types"
   ]
  },
  {
   "cell_type": "code",
   "execution_count": 8,
   "id": "40469573-608a-415e-86ba-8a48c87ddfaf",
   "metadata": {},
   "outputs": [
    {
     "name": "stdout",
     "output_type": "stream",
     "text": [
      "<class 'pandas.core.frame.DataFrame'>\n",
      "RangeIndex: 3900 entries, 0 to 3899\n",
      "Data columns (total 18 columns):\n",
      " #   Column                  Non-Null Count  Dtype  \n",
      "---  ------                  --------------  -----  \n",
      " 0   Customer ID             3900 non-null   int64  \n",
      " 1   Age                     3900 non-null   int64  \n",
      " 2   Gender                  3900 non-null   object \n",
      " 3   Item Purchased          3900 non-null   object \n",
      " 4   Category                3900 non-null   object \n",
      " 5   Purchase Amount (USD)   3900 non-null   int64  \n",
      " 6   Location                3900 non-null   object \n",
      " 7   Size                    3900 non-null   object \n",
      " 8   Color                   3900 non-null   object \n",
      " 9   Season                  3900 non-null   object \n",
      " 10  Review Rating           3900 non-null   float64\n",
      " 11  Subscription Status     3900 non-null   object \n",
      " 12  Shipping Type           3900 non-null   object \n",
      " 13  Discount Applied        3900 non-null   object \n",
      " 14  Promo Code Used         3900 non-null   object \n",
      " 15  Previous Purchases      3900 non-null   int64  \n",
      " 16  Payment Method          3900 non-null   object \n",
      " 17  Frequency of Purchases  3900 non-null   object \n",
      "dtypes: float64(1), int64(4), object(13)\n",
      "memory usage: 548.6+ KB\n"
     ]
    }
   ],
   "source": [
    "df.info()"
   ]
  },
  {
   "cell_type": "markdown",
   "id": "d4a1dab2-4ed5-4f90-8793-b05045ec0d77",
   "metadata": {},
   "source": [
    "## Correcting column name formatting"
   ]
  },
  {
   "cell_type": "code",
   "execution_count": 31,
   "id": "2a8a7bfc-7882-4632-88c5-426219401418",
   "metadata": {},
   "outputs": [],
   "source": [
    "df = df.rename(columns={'Customer ID':'Customer_ID','Item Purchased':'Item_Purchased','Purchase Amount (USD)':'Purchase_Amount','Review Rating':'Review_Rating','Subscription Status':'Subscription_Status','Shipping Type':'Shipping_Type','Discount Applied':'Discount_Applied','Promo Code Used':'Promo_Code_Used','Previous Purchases':'Previous_Purchases','Payment Method':'Payment_Method','Frequency of Purchases':'Frequency_of_Purchases'})"
   ]
  },
  {
   "cell_type": "markdown",
   "id": "159c857b-6eeb-43dd-a6cd-efb22e2772d5",
   "metadata": {},
   "source": [
    "## 5 point summary"
   ]
  },
  {
   "cell_type": "code",
   "execution_count": 32,
   "id": "94de3128-3868-48af-9f09-e85a55c184c6",
   "metadata": {},
   "outputs": [
    {
     "data": {
      "text/html": [
       "<div>\n",
       "<style scoped>\n",
       "    .dataframe tbody tr th:only-of-type {\n",
       "        vertical-align: middle;\n",
       "    }\n",
       "\n",
       "    .dataframe tbody tr th {\n",
       "        vertical-align: top;\n",
       "    }\n",
       "\n",
       "    .dataframe thead th {\n",
       "        text-align: right;\n",
       "    }\n",
       "</style>\n",
       "<table border=\"1\" class=\"dataframe\">\n",
       "  <thead>\n",
       "    <tr style=\"text-align: right;\">\n",
       "      <th></th>\n",
       "      <th>count</th>\n",
       "      <th>mean</th>\n",
       "      <th>std</th>\n",
       "      <th>min</th>\n",
       "      <th>25%</th>\n",
       "      <th>50%</th>\n",
       "      <th>75%</th>\n",
       "      <th>max</th>\n",
       "    </tr>\n",
       "  </thead>\n",
       "  <tbody>\n",
       "    <tr>\n",
       "      <th>Customer_ID</th>\n",
       "      <td>3900.0</td>\n",
       "      <td>1950.500000</td>\n",
       "      <td>1125.977353</td>\n",
       "      <td>1.0</td>\n",
       "      <td>975.75</td>\n",
       "      <td>1950.5</td>\n",
       "      <td>2925.25</td>\n",
       "      <td>3900.0</td>\n",
       "    </tr>\n",
       "    <tr>\n",
       "      <th>Age</th>\n",
       "      <td>3900.0</td>\n",
       "      <td>44.068462</td>\n",
       "      <td>15.207589</td>\n",
       "      <td>18.0</td>\n",
       "      <td>31.00</td>\n",
       "      <td>44.0</td>\n",
       "      <td>57.00</td>\n",
       "      <td>70.0</td>\n",
       "    </tr>\n",
       "    <tr>\n",
       "      <th>Purchase_Amount</th>\n",
       "      <td>3900.0</td>\n",
       "      <td>59.764359</td>\n",
       "      <td>23.685392</td>\n",
       "      <td>20.0</td>\n",
       "      <td>39.00</td>\n",
       "      <td>60.0</td>\n",
       "      <td>81.00</td>\n",
       "      <td>100.0</td>\n",
       "    </tr>\n",
       "    <tr>\n",
       "      <th>Review_Rating</th>\n",
       "      <td>3900.0</td>\n",
       "      <td>3.749949</td>\n",
       "      <td>0.716223</td>\n",
       "      <td>2.5</td>\n",
       "      <td>3.10</td>\n",
       "      <td>3.7</td>\n",
       "      <td>4.40</td>\n",
       "      <td>5.0</td>\n",
       "    </tr>\n",
       "    <tr>\n",
       "      <th>Previous_Purchases</th>\n",
       "      <td>3900.0</td>\n",
       "      <td>25.351538</td>\n",
       "      <td>14.447125</td>\n",
       "      <td>1.0</td>\n",
       "      <td>13.00</td>\n",
       "      <td>25.0</td>\n",
       "      <td>38.00</td>\n",
       "      <td>50.0</td>\n",
       "    </tr>\n",
       "  </tbody>\n",
       "</table>\n",
       "</div>"
      ],
      "text/plain": [
       "                     count         mean          std   min     25%     50%  \\\n",
       "Customer_ID         3900.0  1950.500000  1125.977353   1.0  975.75  1950.5   \n",
       "Age                 3900.0    44.068462    15.207589  18.0   31.00    44.0   \n",
       "Purchase_Amount     3900.0    59.764359    23.685392  20.0   39.00    60.0   \n",
       "Review_Rating       3900.0     3.749949     0.716223   2.5    3.10     3.7   \n",
       "Previous_Purchases  3900.0    25.351538    14.447125   1.0   13.00    25.0   \n",
       "\n",
       "                        75%     max  \n",
       "Customer_ID         2925.25  3900.0  \n",
       "Age                   57.00    70.0  \n",
       "Purchase_Amount       81.00   100.0  \n",
       "Review_Rating          4.40     5.0  \n",
       "Previous_Purchases    38.00    50.0  "
      ]
     },
     "execution_count": 32,
     "metadata": {},
     "output_type": "execute_result"
    }
   ],
   "source": [
    "df.describe().T"
   ]
  },
  {
   "cell_type": "markdown",
   "id": "f70811fd-b994-4486-9a38-e7eaafceae75",
   "metadata": {},
   "source": [
    "## Checking missing values"
   ]
  },
  {
   "cell_type": "code",
   "execution_count": 33,
   "id": "a97cb0d0-4d28-4a33-9b52-31e149058d0e",
   "metadata": {},
   "outputs": [
    {
     "data": {
      "text/plain": [
       "Customer_ID               0\n",
       "Age                       0\n",
       "Gender                    0\n",
       "Item_Purchased            0\n",
       "Category                  0\n",
       "Purchase_Amount           0\n",
       "Location                  0\n",
       "Size                      0\n",
       "Color                     0\n",
       "Season                    0\n",
       "Review_Rating             0\n",
       "Subscription_Status       0\n",
       "Shipping_Type             0\n",
       "Discount_Applied          0\n",
       "Promo_Code_Used           0\n",
       "Previous_Purchases        0\n",
       "Payment_Method            0\n",
       "Frequency_of_Purchases    0\n",
       "dtype: int64"
      ]
     },
     "execution_count": 33,
     "metadata": {},
     "output_type": "execute_result"
    }
   ],
   "source": [
    "df.isnull().sum()"
   ]
  },
  {
   "cell_type": "markdown",
   "id": "b32b9016-8d4f-45ab-9d94-c8d0dfd3a385",
   "metadata": {},
   "source": [
    "### The data does not have any missing values"
   ]
  },
  {
   "cell_type": "markdown",
   "id": "e5825ad1-a0b2-40cd-852a-d9d67a8e9bf2",
   "metadata": {},
   "source": [
    "## Checking duplicates"
   ]
  },
  {
   "cell_type": "code",
   "execution_count": 34,
   "id": "fc4dfc7c-34d4-4e2c-9940-6a0b14852f1a",
   "metadata": {},
   "outputs": [
    {
     "data": {
      "text/plain": [
       "0"
      ]
     },
     "execution_count": 34,
     "metadata": {},
     "output_type": "execute_result"
    }
   ],
   "source": [
    "df.duplicated().sum()"
   ]
  },
  {
   "cell_type": "markdown",
   "id": "396c1dee-d3e3-4368-a4ad-7fc6c842d9b3",
   "metadata": {},
   "source": [
    "### The data has no duplicate values"
   ]
  },
  {
   "cell_type": "markdown",
   "id": "7386cd3d-f790-447e-8f52-6c029580ee7d",
   "metadata": {},
   "source": [
    "## Outliers checking"
   ]
  },
  {
   "cell_type": "code",
   "execution_count": 35,
   "id": "ab64da6c-a235-4bf6-bb59-805ddb7c11ba",
   "metadata": {},
   "outputs": [],
   "source": [
    "cont_df= df.select_dtypes(include='number')"
   ]
  },
  {
   "cell_type": "code",
   "execution_count": 36,
   "id": "13f820e1-b9d0-42fa-a04c-98179f07bd8e",
   "metadata": {},
   "outputs": [
    {
     "data": {
      "image/png": "[encoded data removed]",
      "text/plain": [
       "<Figure size 640x480 with 1 Axes>"
      ]
     },
     "metadata": {},
     "output_type": "display_data"
    },
    {
     "data": {
      "image/png": "[encoded data removed]",
      "text/plain": [
       "<Figure size 640x480 with 1 Axes>"
      ]
     },
     "metadata": {},
     "output_type": "display_data"
    },
    {
     "data": {
      "image/png": "[encoded data removed]",
      "text/plain": [
       "<Figure size 640x480 with 1 Axes>"
      ]
     },
     "metadata": {},
     "output_type": "display_data"
    },
    {
     "data": {
      "image/png": "[encoded data removed]",
      "text/plain": [
       "<Figure size 640x480 with 1 Axes>"
      ]
     },
     "metadata": {},
     "output_type": "display_data"
    },
    {
     "data": {
      "image/png": "[encoded data removed]",
      "text/plain": [
       "<Figure size 640x480 with 1 Axes>"
      ]
     },
     "metadata": {},
     "output_type": "display_data"
    }
   ],
   "source": [
    "for i in cont_df.columns:\n",
    "    sns.boxplot(data=cont_df,x=i)\n",
    "    plt.show()"
   ]
  },
  {
   "cell_type": "markdown",
   "id": "e9a312a5-e3fb-4254-adbc-d5513fff72ff",
   "metadata": {},
   "source": [
    "### There are no outliers in the dataset"
   ]
  },
  {
   "cell_type": "markdown",
   "id": "46accdf8-6672-4d67-9d5e-0719f0662b33",
   "metadata": {},
   "source": [
    "## Checking discrepancies in categorical columns"
   ]
  },
  {
   "cell_type": "code",
   "execution_count": 37,
   "id": "f9d21469-4c37-4997-945e-9b7b26d24c14",
   "metadata": {},
   "outputs": [],
   "source": [
    "cat_df = df.select_dtypes(include='object')"
   ]
  },
  {
   "cell_type": "code",
   "execution_count": 38,
   "id": "c7307dd1-06ec-4578-aaa7-3648fcc4151a",
   "metadata": {},
   "outputs": [
    {
     "name": "stdout",
     "output_type": "stream",
     "text": [
      "\n",
      "\n",
      "Gender\n",
      "\n",
      "\n",
      "Gender\n",
      "Male      2652\n",
      "Female    1248\n",
      "Name: count, dtype: int64\n",
      "\n",
      "\n",
      "Item_Purchased\n",
      "\n",
      "\n",
      "Item_Purchased\n",
      "Blouse        171\n",
      "Jewelry       171\n",
      "Pants         171\n",
      "Shirt         169\n",
      "Dress         166\n",
      "Sweater       164\n",
      "Jacket        163\n",
      "Belt          161\n",
      "Sunglasses    161\n",
      "Coat          161\n",
      "Sandals       160\n",
      "Socks         159\n",
      "Skirt         158\n",
      "Shorts        157\n",
      "Scarf         157\n",
      "Hat           154\n",
      "Handbag       153\n",
      "Hoodie        151\n",
      "Shoes         150\n",
      "T-shirt       147\n",
      "Sneakers      145\n",
      "Boots         144\n",
      "Backpack      143\n",
      "Gloves        140\n",
      "Jeans         124\n",
      "Name: count, dtype: int64\n",
      "\n",
      "\n",
      "Category\n",
      "\n",
      "\n",
      "Category\n",
      "Clothing       1737\n",
      "Accessories    1240\n",
      "Footwear        599\n",
      "Outerwear       324\n",
      "Name: count, dtype: int64\n",
      "\n",
      "\n",
      "Location\n",
      "\n",
      "\n",
      "Location\n",
      "Montana           96\n",
      "California        95\n",
      "Idaho             93\n",
      "Illinois          92\n",
      "Alabama           89\n",
      "Minnesota         88\n",
      "Nebraska          87\n",
      "New York          87\n",
      "Nevada            87\n",
      "Maryland          86\n",
      "Delaware          86\n",
      "Vermont           85\n",
      "Louisiana         84\n",
      "North Dakota      83\n",
      "Missouri          81\n",
      "West Virginia     81\n",
      "New Mexico        81\n",
      "Mississippi       80\n",
      "Indiana           79\n",
      "Georgia           79\n",
      "Kentucky          79\n",
      "Arkansas          79\n",
      "North Carolina    78\n",
      "Connecticut       78\n",
      "Virginia          77\n",
      "Ohio              77\n",
      "Tennessee         77\n",
      "Texas             77\n",
      "Maine             77\n",
      "South Carolina    76\n",
      "Colorado          75\n",
      "Oklahoma          75\n",
      "Wisconsin         75\n",
      "Oregon            74\n",
      "Pennsylvania      74\n",
      "Washington        73\n",
      "Michigan          73\n",
      "Alaska            72\n",
      "Massachusetts     72\n",
      "Wyoming           71\n",
      "Utah              71\n",
      "New Hampshire     71\n",
      "South Dakota      70\n",
      "Iowa              69\n",
      "Florida           68\n",
      "New Jersey        67\n",
      "Hawaii            65\n",
      "Arizona           65\n",
      "Kansas            63\n",
      "Rhode Island      63\n",
      "Name: count, dtype: int64\n",
      "\n",
      "\n",
      "Size\n",
      "\n",
      "\n",
      "Size\n",
      "M     1755\n",
      "L     1053\n",
      "S      663\n",
      "XL     429\n",
      "Name: count, dtype: int64\n",
      "\n",
      "\n",
      "Color\n",
      "\n",
      "\n",
      "Color\n",
      "Olive        177\n",
      "Yellow       174\n",
      "Silver       173\n",
      "Teal         172\n",
      "Green        169\n",
      "Black        167\n",
      "Cyan         166\n",
      "Violet       166\n",
      "Gray         159\n",
      "Maroon       158\n",
      "Orange       154\n",
      "Charcoal     153\n",
      "Pink         153\n",
      "Magenta      152\n",
      "Blue         152\n",
      "Purple       151\n",
      "Peach        149\n",
      "Red          148\n",
      "Beige        147\n",
      "Indigo       147\n",
      "Lavender     147\n",
      "Turquoise    145\n",
      "White        142\n",
      "Brown        141\n",
      "Gold         138\n",
      "Name: count, dtype: int64\n",
      "\n",
      "\n",
      "Season\n",
      "\n",
      "\n",
      "Season\n",
      "Spring    999\n",
      "Fall      975\n",
      "Winter    971\n",
      "Summer    955\n",
      "Name: count, dtype: int64\n",
      "\n",
      "\n",
      "Subscription_Status\n",
      "\n",
      "\n",
      "Subscription_Status\n",
      "No     2847\n",
      "Yes    1053\n",
      "Name: count, dtype: int64\n",
      "\n",
      "\n",
      "Shipping_Type\n",
      "\n",
      "\n",
      "Shipping_Type\n",
      "Free Shipping     675\n",
      "Standard          654\n",
      "Store Pickup      650\n",
      "Next Day Air      648\n",
      "Express           646\n",
      "2-Day Shipping    627\n",
      "Name: count, dtype: int64\n",
      "\n",
      "\n",
      "Discount_Applied\n",
      "\n",
      "\n",
      "Discount_Applied\n",
      "No     2223\n",
      "Yes    1677\n",
      "Name: count, dtype: int64\n",
      "\n",
      "\n",
      "Promo_Code_Used\n",
      "\n",
      "\n",
      "Promo_Code_Used\n",
      "No     2223\n",
      "Yes    1677\n",
      "Name: count, dtype: int64\n",
      "\n",
      "\n",
      "Payment_Method\n",
      "\n",
      "\n",
      "Payment_Method\n",
      "PayPal           677\n",
      "Credit Card      671\n",
      "Cash             670\n",
      "Debit Card       636\n",
      "Venmo            634\n",
      "Bank Transfer    612\n",
      "Name: count, dtype: int64\n",
      "\n",
      "\n",
      "Frequency_of_Purchases\n",
      "\n",
      "\n",
      "Frequency_of_Purchases\n",
      "Every 3 Months    584\n",
      "Annually          572\n",
      "Quarterly         563\n",
      "Monthly           553\n",
      "Bi-Weekly         547\n",
      "Fortnightly       542\n",
      "Weekly            539\n",
      "Name: count, dtype: int64\n"
     ]
    }
   ],
   "source": [
    "for i in cat_df.columns:\n",
    "    print('\\n')\n",
    "    print(i)\n",
    "    print('\\n')\n",
    "    print(cat_df[i].value_counts())"
   ]
  },
  {
   "cell_type": "markdown",
   "id": "596a9800-24f4-463f-9fa6-d6a75198a3ea",
   "metadata": {},
   "source": [
    "## Customer Demographics"
   ]
  },
  {
   "cell_type": "markdown",
   "id": "0ecebca7-2b2c-4f0b-a129-db59c4dda7d6",
   "metadata": {},
   "source": [
    "What is the age distribution of customers?  Histogram, Boxplot, KDE"
   ]
  },
  {
   "cell_type": "code",
   "execution_count": 39,
   "id": "38bc1e18-54a1-4b48-929c-e82b128ff20d",
   "metadata": {},
   "outputs": [
    {
     "data": {
      "text/plain": [
       "Index(['Customer_ID', 'Age', 'Gender', 'Item_Purchased', 'Category',\n",
       "       'Purchase_Amount', 'Location', 'Size', 'Color', 'Season',\n",
       "       'Review_Rating', 'Subscription_Status', 'Shipping_Type',\n",
       "       'Discount_Applied', 'Promo_Code_Used', 'Previous_Purchases',\n",
       "       'Payment_Method', 'Frequency_of_Purchases'],\n",
       "      dtype='object')"
      ]
     },
     "execution_count": 39,
     "metadata": {},
     "output_type": "execute_result"
    }
   ],
   "source": [
    "df.columns"
   ]
  },
  {
   "cell_type": "code",
   "execution_count": 40,
   "id": "1d33d4ef-6b14-457a-9076-ee84795a60ed",
   "metadata": {},
   "outputs": [
    {
     "data": {
      "image/png": "[encoded data removed]",
      "text/plain": [
       "<Figure size 640x480 with 1 Axes>"
      ]
     },
     "metadata": {},
     "output_type": "display_data"
    }
   ],
   "source": [
    "sns.histplot(data=df,x='Age')\n",
    "plt.show()"
   ]
  },
  {
   "cell_type": "markdown",
   "id": "812d3290-2b6e-4b4b-aba0-0cbc64b5c131",
   "metadata": {},
   "source": [
    "Is there a significant difference in spending (Purchase Amount) between genders?   Boxplot / Violin plot / Bar chart"
   ]
  },
  {
   "cell_type": "code",
   "execution_count": 42,
   "id": "cd9583f2-f262-4770-b1ce-4f0065d8ed76",
   "metadata": {},
   "outputs": [
    {
     "data": {
      "text/html": [
       "<div>\n",
       "<style scoped>\n",
       "    .dataframe tbody tr th:only-of-type {\n",
       "        vertical-align: middle;\n",
       "    }\n",
       "\n",
       "    .dataframe tbody tr th {\n",
       "        vertical-align: top;\n",
       "    }\n",
       "\n",
       "    .dataframe thead th {\n",
       "        text-align: right;\n",
       "    }\n",
       "</style>\n",
       "<table border=\"1\" class=\"dataframe\">\n",
       "  <thead>\n",
       "    <tr style=\"text-align: right;\">\n",
       "      <th></th>\n",
       "      <th>Purchase_Amount</th>\n",
       "    </tr>\n",
       "    <tr>\n",
       "      <th>Gender</th>\n",
       "      <th></th>\n",
       "    </tr>\n",
       "  </thead>\n",
       "  <tbody>\n",
       "    <tr>\n",
       "      <th>Female</th>\n",
       "      <td>75191</td>\n",
       "    </tr>\n",
       "    <tr>\n",
       "      <th>Male</th>\n",
       "      <td>157890</td>\n",
       "    </tr>\n",
       "  </tbody>\n",
       "</table>\n",
       "</div>"
      ],
      "text/plain": [
       "        Purchase_Amount\n",
       "Gender                 \n",
       "Female            75191\n",
       "Male             157890"
      ]
     },
     "execution_count": 42,
     "metadata": {},
     "output_type": "execute_result"
    }
   ],
   "source": [
    "grouped_df = df.groupby(by='Gender')[['Purchase_Amount']].sum()\n",
    "grouped_df"
   ]
  },
  {
   "cell_type": "code",
   "execution_count": 46,
   "id": "d62d7b63-7a68-4b81-bb25-6a735d7aa9d9",
   "metadata": {},
   "outputs": [
    {
     "data": {
      "image/png": "[encoded data removed]",
      "text/plain": [
       "<Figure size 640x480 with 1 Axes>"
      ]
     },
     "metadata": {},
     "output_type": "display_data"
    }
   ],
   "source": [
    "sns.barplot(data=df,x='Gender',y='Purchase_Amount')\n",
    "plt.show()"
   ]
  },
  {
   "cell_type": "markdown",
   "id": "84f7355e-da5e-4b64-aa03-8d760f11fe14",
   "metadata": {},
   "source": [
    "Which states/locations have the highest number of purchases? Bar chart (Top-N locations) Bar chart"
   ]
  },
  {
   "cell_type": "code",
   "execution_count": 52,
   "id": "76718a48-4a27-45f8-96c5-1a6727ba86d5",
   "metadata": {},
   "outputs": [
    {
     "data": {
      "text/html": [
       "<div>\n",
       "<style scoped>\n",
       "    .dataframe tbody tr th:only-of-type {\n",
       "        vertical-align: middle;\n",
       "    }\n",
       "\n",
       "    .dataframe tbody tr th {\n",
       "        vertical-align: top;\n",
       "    }\n",
       "\n",
       "    .dataframe thead th {\n",
       "        text-align: right;\n",
       "    }\n",
       "</style>\n",
       "<table border=\"1\" class=\"dataframe\">\n",
       "  <thead>\n",
       "    <tr style=\"text-align: right;\">\n",
       "      <th></th>\n",
       "      <th>Purchase_Amount</th>\n",
       "    </tr>\n",
       "    <tr>\n",
       "      <th>Location</th>\n",
       "      <th></th>\n",
       "    </tr>\n",
       "  </thead>\n",
       "  <tbody>\n",
       "    <tr>\n",
       "      <th>Montana</th>\n",
       "      <td>5784</td>\n",
       "    </tr>\n",
       "    <tr>\n",
       "      <th>Illinois</th>\n",
       "      <td>5617</td>\n",
       "    </tr>\n",
       "    <tr>\n",
       "      <th>California</th>\n",
       "      <td>5605</td>\n",
       "    </tr>\n",
       "    <tr>\n",
       "      <th>Idaho</th>\n",
       "      <td>5587</td>\n",
       "    </tr>\n",
       "    <tr>\n",
       "      <th>Nevada</th>\n",
       "      <td>5514</td>\n",
       "    </tr>\n",
       "    <tr>\n",
       "      <th>Alabama</th>\n",
       "      <td>5261</td>\n",
       "    </tr>\n",
       "    <tr>\n",
       "      <th>New York</th>\n",
       "      <td>5257</td>\n",
       "    </tr>\n",
       "    <tr>\n",
       "      <th>North Dakota</th>\n",
       "      <td>5220</td>\n",
       "    </tr>\n",
       "    <tr>\n",
       "      <th>West Virginia</th>\n",
       "      <td>5174</td>\n",
       "    </tr>\n",
       "    <tr>\n",
       "      <th>Nebraska</th>\n",
       "      <td>5172</td>\n",
       "    </tr>\n",
       "  </tbody>\n",
       "</table>\n",
       "</div>"
      ],
      "text/plain": [
       "               Purchase_Amount\n",
       "Location                      \n",
       "Montana                   5784\n",
       "Illinois                  5617\n",
       "California                5605\n",
       "Idaho                     5587\n",
       "Nevada                    5514\n",
       "Alabama                   5261\n",
       "New York                  5257\n",
       "North Dakota              5220\n",
       "West Virginia             5174\n",
       "Nebraska                  5172"
      ]
     },
     "execution_count": 52,
     "metadata": {},
     "output_type": "execute_result"
    }
   ],
   "source": [
    "Purchase_by_location = df.groupby(by='Location')[['Purchase_Amount']].sum().sort_values(by='Purchase_Amount',ascending=False).head(10)\n",
    "Purchase_by_location"
   ]
  },
  {
   "cell_type": "code",
   "execution_count": 59,
   "id": "89f63992-bf92-4c73-b4f7-407073377a35",
   "metadata": {},
   "outputs": [
    {
     "data": {
      "image/png": "[encoded data removed]",
      "text/plain": [
       "<Figure size 640x480 with 1 Axes>"
      ]
     },
     "metadata": {},
     "output_type": "display_data"
    }
   ],
   "source": [
    "sns.barplot(data=Purchase_by_location,x='Location',y='Purchase_Amount')\n",
    "plt.title('Top 10 Locations by Purchases')\n",
    "plt.xticks(rotation=90)\n",
    "plt.show()"
   ]
  },
  {
   "cell_type": "markdown",
   "id": "827957cb-876f-42b2-9765-7dd6c10b8624",
   "metadata": {},
   "source": [
    "## Purchase Behavior\n",
    "### What are the top 5 most purchased items and categories? Boxplot / Bar chart"
   ]
  },
  {
   "cell_type": "code",
   "execution_count": 73,
   "id": "f995e454-b147-4a3d-a01e-d6c5360ced8b",
   "metadata": {},
   "outputs": [
    {
     "data": {
      "text/html": [
       "<div>\n",
       "<style scoped>\n",
       "    .dataframe tbody tr th:only-of-type {\n",
       "        vertical-align: middle;\n",
       "    }\n",
       "\n",
       "    .dataframe tbody tr th {\n",
       "        vertical-align: top;\n",
       "    }\n",
       "\n",
       "    .dataframe thead th {\n",
       "        text-align: right;\n",
       "    }\n",
       "</style>\n",
       "<table border=\"1\" class=\"dataframe\">\n",
       "  <thead>\n",
       "    <tr style=\"text-align: right;\">\n",
       "      <th></th>\n",
       "      <th>Purchase_Amount</th>\n",
       "    </tr>\n",
       "    <tr>\n",
       "      <th>Category</th>\n",
       "      <th></th>\n",
       "    </tr>\n",
       "  </thead>\n",
       "  <tbody>\n",
       "    <tr>\n",
       "      <th>Clothing</th>\n",
       "      <td>104264</td>\n",
       "    </tr>\n",
       "    <tr>\n",
       "      <th>Accessories</th>\n",
       "      <td>74200</td>\n",
       "    </tr>\n",
       "    <tr>\n",
       "      <th>Footwear</th>\n",
       "      <td>36093</td>\n",
       "    </tr>\n",
       "    <tr>\n",
       "      <th>Outerwear</th>\n",
       "      <td>18524</td>\n",
       "    </tr>\n",
       "  </tbody>\n",
       "</table>\n",
       "</div>"
      ],
      "text/plain": [
       "             Purchase_Amount\n",
       "Category                    \n",
       "Clothing              104264\n",
       "Accessories            74200\n",
       "Footwear               36093\n",
       "Outerwear              18524"
      ]
     },
     "execution_count": 73,
     "metadata": {},
     "output_type": "execute_result"
    }
   ],
   "source": [
    "df[['Category','Purchase_Amount']].groupby(by='Category').sum().sort_values(by='Purchase_Amount',ascending=False)"
   ]
  },
  {
   "cell_type": "code",
   "execution_count": 75,
   "id": "cfc274d3-d5c3-4410-9975-41a0d3c87205",
   "metadata": {},
   "outputs": [
    {
     "data": {
      "text/html": [
       "<div>\n",
       "<style scoped>\n",
       "    .dataframe tbody tr th:only-of-type {\n",
       "        vertical-align: middle;\n",
       "    }\n",
       "\n",
       "    .dataframe tbody tr th {\n",
       "        vertical-align: top;\n",
       "    }\n",
       "\n",
       "    .dataframe thead th {\n",
       "        text-align: right;\n",
       "    }\n",
       "</style>\n",
       "<table border=\"1\" class=\"dataframe\">\n",
       "  <thead>\n",
       "    <tr style=\"text-align: right;\">\n",
       "      <th></th>\n",
       "      <th>Purchase_Amount</th>\n",
       "    </tr>\n",
       "    <tr>\n",
       "      <th>Item_Purchased</th>\n",
       "      <th></th>\n",
       "    </tr>\n",
       "  </thead>\n",
       "  <tbody>\n",
       "    <tr>\n",
       "      <th>Blouse</th>\n",
       "      <td>10410</td>\n",
       "    </tr>\n",
       "    <tr>\n",
       "      <th>Shirt</th>\n",
       "      <td>10332</td>\n",
       "    </tr>\n",
       "    <tr>\n",
       "      <th>Dress</th>\n",
       "      <td>10320</td>\n",
       "    </tr>\n",
       "    <tr>\n",
       "      <th>Pants</th>\n",
       "      <td>10090</td>\n",
       "    </tr>\n",
       "    <tr>\n",
       "      <th>Jewelry</th>\n",
       "      <td>10010</td>\n",
       "    </tr>\n",
       "  </tbody>\n",
       "</table>\n",
       "</div>"
      ],
      "text/plain": [
       "                Purchase_Amount\n",
       "Item_Purchased                 \n",
       "Blouse                    10410\n",
       "Shirt                     10332\n",
       "Dress                     10320\n",
       "Pants                     10090\n",
       "Jewelry                   10010"
      ]
     },
     "execution_count": 75,
     "metadata": {},
     "output_type": "execute_result"
    }
   ],
   "source": [
    "df[['Item_Purchased','Purchase_Amount']].groupby(by='Item_Purchased').sum().sort_values(by='Purchase_Amount',ascending=False).head(5)"
   ]
  },
  {
   "cell_type": "code",
   "execution_count": null,
   "id": "83cd66d8-8f0d-45e2-8203-96b6c208085f",
   "metadata": {},
   "outputs": [],
   "source": [
    "How does the purchase amount vary across different seasons? Bar chart / Boxplot"
   ]
  },
  {
   "cell_type": "code",
   "execution_count": 63,
   "id": "c05fdfa6-53ee-4b6e-81ca-b5b51a790127",
   "metadata": {},
   "outputs": [
    {
     "data": {
      "text/html": [
       "<div>\n",
       "<style scoped>\n",
       "    .dataframe tbody tr th:only-of-type {\n",
       "        vertical-align: middle;\n",
       "    }\n",
       "\n",
       "    .dataframe tbody tr th {\n",
       "        vertical-align: top;\n",
       "    }\n",
       "\n",
       "    .dataframe thead th {\n",
       "        text-align: right;\n",
       "    }\n",
       "</style>\n",
       "<table border=\"1\" class=\"dataframe\">\n",
       "  <thead>\n",
       "    <tr style=\"text-align: right;\">\n",
       "      <th></th>\n",
       "      <th>Purchase_Amount</th>\n",
       "    </tr>\n",
       "    <tr>\n",
       "      <th>Season</th>\n",
       "      <th></th>\n",
       "    </tr>\n",
       "  </thead>\n",
       "  <tbody>\n",
       "    <tr>\n",
       "      <th>Fall</th>\n",
       "      <td>60018</td>\n",
       "    </tr>\n",
       "    <tr>\n",
       "      <th>Spring</th>\n",
       "      <td>58679</td>\n",
       "    </tr>\n",
       "    <tr>\n",
       "      <th>Summer</th>\n",
       "      <td>55777</td>\n",
       "    </tr>\n",
       "    <tr>\n",
       "      <th>Winter</th>\n",
       "      <td>58607</td>\n",
       "    </tr>\n",
       "  </tbody>\n",
       "</table>\n",
       "</div>"
      ],
      "text/plain": [
       "        Purchase_Amount\n",
       "Season                 \n",
       "Fall              60018\n",
       "Spring            58679\n",
       "Summer            55777\n",
       "Winter            58607"
      ]
     },
     "execution_count": 63,
     "metadata": {},
     "output_type": "execute_result"
    }
   ],
   "source": [
    "df.groupby(by='Season')[['Purchase_Amount']].sum()"
   ]
  },
  {
   "cell_type": "code",
   "execution_count": 67,
   "id": "b05e59b0-b54a-4270-9977-d7d68274552d",
   "metadata": {},
   "outputs": [
    {
     "data": {
      "image/png": "[encoded data removed]",
      "text/plain": [
       "<Figure size 640x480 with 1 Axes>"
      ]
     },
     "metadata": {},
     "output_type": "display_data"
    }
   ],
   "source": [
    "sns.lineplot(data=df,x='Season',y='Purchase_Amount')\n",
    "plt.show()"
   ]
  },
  {
   "cell_type": "markdown",
   "id": "3191eba8-d350-489b-a974-0e1cdfd5d781",
   "metadata": {},
   "source": [
    "Do customers with subscriptions spend more than non-subscribers? "
   ]
  },
  {
   "cell_type": "code",
   "execution_count": 69,
   "id": "8a0ac949-be66-4906-9c55-24dc8f91465c",
   "metadata": {},
   "outputs": [
    {
     "data": {
      "text/html": [
       "<div>\n",
       "<style scoped>\n",
       "    .dataframe tbody tr th:only-of-type {\n",
       "        vertical-align: middle;\n",
       "    }\n",
       "\n",
       "    .dataframe tbody tr th {\n",
       "        vertical-align: top;\n",
       "    }\n",
       "\n",
       "    .dataframe thead th {\n",
       "        text-align: right;\n",
       "    }\n",
       "</style>\n",
       "<table border=\"1\" class=\"dataframe\">\n",
       "  <thead>\n",
       "    <tr style=\"text-align: right;\">\n",
       "      <th></th>\n",
       "      <th>Purchase_Amount</th>\n",
       "    </tr>\n",
       "    <tr>\n",
       "      <th>Subscription_Status</th>\n",
       "      <th></th>\n",
       "    </tr>\n",
       "  </thead>\n",
       "  <tbody>\n",
       "    <tr>\n",
       "      <th>No</th>\n",
       "      <td>170436</td>\n",
       "    </tr>\n",
       "    <tr>\n",
       "      <th>Yes</th>\n",
       "      <td>62645</td>\n",
       "    </tr>\n",
       "  </tbody>\n",
       "</table>\n",
       "</div>"
      ],
      "text/plain": [
       "                     Purchase_Amount\n",
       "Subscription_Status                 \n",
       "No                            170436\n",
       "Yes                            62645"
      ]
     },
     "execution_count": 69,
     "metadata": {},
     "output_type": "execute_result"
    }
   ],
   "source": [
    "df.groupby(by='Subscription_Status')[['Purchase_Amount']].sum()"
   ]
  },
  {
   "cell_type": "markdown",
   "id": "4c5c2e3e-3c74-4d13-8d7c-075ff52fb512",
   "metadata": {},
   "source": [
    "### No, Non-subscribers are spending significantly more than subscribers"
   ]
  },
  {
   "cell_type": "markdown",
   "id": "2a8c9e81-b20a-4d09-916c-ef10bf7434de",
   "metadata": {},
   "source": [
    "## Discounts & Payments\n",
    "Does applying a discount or using a promo code significantly increase purchase amount?"
   ]
  },
  {
   "cell_type": "code",
   "execution_count": 70,
   "id": "d0d2eb10-cf8c-4ed2-8e86-08cd39f933bb",
   "metadata": {},
   "outputs": [
    {
     "data": {
      "text/html": [
       "<div>\n",
       "<style scoped>\n",
       "    .dataframe tbody tr th:only-of-type {\n",
       "        vertical-align: middle;\n",
       "    }\n",
       "\n",
       "    .dataframe tbody tr th {\n",
       "        vertical-align: top;\n",
       "    }\n",
       "\n",
       "    .dataframe thead th {\n",
       "        text-align: right;\n",
       "    }\n",
       "</style>\n",
       "<table border=\"1\" class=\"dataframe\">\n",
       "  <thead>\n",
       "    <tr style=\"text-align: right;\">\n",
       "      <th></th>\n",
       "      <th>Purchase_Amount</th>\n",
       "    </tr>\n",
       "    <tr>\n",
       "      <th>Discount_Applied</th>\n",
       "      <th></th>\n",
       "    </tr>\n",
       "  </thead>\n",
       "  <tbody>\n",
       "    <tr>\n",
       "      <th>No</th>\n",
       "      <td>133670</td>\n",
       "    </tr>\n",
       "    <tr>\n",
       "      <th>Yes</th>\n",
       "      <td>99411</td>\n",
       "    </tr>\n",
       "  </tbody>\n",
       "</table>\n",
       "</div>"
      ],
      "text/plain": [
       "                  Purchase_Amount\n",
       "Discount_Applied                 \n",
       "No                         133670\n",
       "Yes                         99411"
      ]
     },
     "execution_count": 70,
     "metadata": {},
     "output_type": "execute_result"
    }
   ],
   "source": [
    "df[['Discount_Applied','Purchase_Amount']].groupby('Discount_Applied').sum()"
   ]
  },
  {
   "cell_type": "code",
   "execution_count": 71,
   "id": "ecac9da2-493c-46a3-a177-7c9a84995b64",
   "metadata": {},
   "outputs": [
    {
     "data": {
      "text/html": [
       "<div>\n",
       "<style scoped>\n",
       "    .dataframe tbody tr th:only-of-type {\n",
       "        vertical-align: middle;\n",
       "    }\n",
       "\n",
       "    .dataframe tbody tr th {\n",
       "        vertical-align: top;\n",
       "    }\n",
       "\n",
       "    .dataframe thead th {\n",
       "        text-align: right;\n",
       "    }\n",
       "</style>\n",
       "<table border=\"1\" class=\"dataframe\">\n",
       "  <thead>\n",
       "    <tr style=\"text-align: right;\">\n",
       "      <th></th>\n",
       "      <th>Purchase_Amount</th>\n",
       "    </tr>\n",
       "    <tr>\n",
       "      <th>Promo_Code_Used</th>\n",
       "      <th></th>\n",
       "    </tr>\n",
       "  </thead>\n",
       "  <tbody>\n",
       "    <tr>\n",
       "      <th>No</th>\n",
       "      <td>133670</td>\n",
       "    </tr>\n",
       "    <tr>\n",
       "      <th>Yes</th>\n",
       "      <td>99411</td>\n",
       "    </tr>\n",
       "  </tbody>\n",
       "</table>\n",
       "</div>"
      ],
      "text/plain": [
       "                 Purchase_Amount\n",
       "Promo_Code_Used                 \n",
       "No                        133670\n",
       "Yes                        99411"
      ]
     },
     "execution_count": 71,
     "metadata": {},
     "output_type": "execute_result"
    }
   ],
   "source": [
    "df[['Promo_Code_Used','Purchase_Amount']].groupby(by='Promo_Code_Used').sum()"
   ]
  },
  {
   "cell_type": "markdown",
   "id": "2c1c8610-5491-418a-8483-942bacf91689",
   "metadata": {},
   "source": [
    "### We can see applying discounts or promocodes leads to higher purchases"
   ]
  },
  {
   "cell_type": "markdown",
   "id": "945b68a8-7b44-44d5-8e79-86298583ccd9",
   "metadata": {},
   "source": [
    "### What are the most preferred payment methods, and do they relate to higher purchase values?"
   ]
  },
  {
   "cell_type": "code",
   "execution_count": 85,
   "id": "27eed22e-bd80-4f8f-bb96-3a734bde7213",
   "metadata": {},
   "outputs": [
    {
     "data": {
      "text/html": [
       "<div>\n",
       "<style scoped>\n",
       "    .dataframe tbody tr th:only-of-type {\n",
       "        vertical-align: middle;\n",
       "    }\n",
       "\n",
       "    .dataframe tbody tr th {\n",
       "        vertical-align: top;\n",
       "    }\n",
       "\n",
       "    .dataframe thead th {\n",
       "        text-align: right;\n",
       "    }\n",
       "</style>\n",
       "<table border=\"1\" class=\"dataframe\">\n",
       "  <thead>\n",
       "    <tr style=\"text-align: right;\">\n",
       "      <th></th>\n",
       "      <th>Count_of_Payment_Method</th>\n",
       "      <th>Purchases</th>\n",
       "    </tr>\n",
       "    <tr>\n",
       "      <th>Payment_Method</th>\n",
       "      <th></th>\n",
       "      <th></th>\n",
       "    </tr>\n",
       "  </thead>\n",
       "  <tbody>\n",
       "    <tr>\n",
       "      <th>PayPal</th>\n",
       "      <td>677</td>\n",
       "      <td>40109</td>\n",
       "    </tr>\n",
       "    <tr>\n",
       "      <th>Credit Card</th>\n",
       "      <td>671</td>\n",
       "      <td>40310</td>\n",
       "    </tr>\n",
       "    <tr>\n",
       "      <th>Cash</th>\n",
       "      <td>670</td>\n",
       "      <td>40002</td>\n",
       "    </tr>\n",
       "    <tr>\n",
       "      <th>Debit Card</th>\n",
       "      <td>636</td>\n",
       "      <td>38742</td>\n",
       "    </tr>\n",
       "    <tr>\n",
       "      <th>Venmo</th>\n",
       "      <td>634</td>\n",
       "      <td>37374</td>\n",
       "    </tr>\n",
       "    <tr>\n",
       "      <th>Bank Transfer</th>\n",
       "      <td>612</td>\n",
       "      <td>36544</td>\n",
       "    </tr>\n",
       "  </tbody>\n",
       "</table>\n",
       "</div>"
      ],
      "text/plain": [
       "                Count_of_Payment_Method  Purchases\n",
       "Payment_Method                                    \n",
       "PayPal                              677      40109\n",
       "Credit Card                         671      40310\n",
       "Cash                                670      40002\n",
       "Debit Card                          636      38742\n",
       "Venmo                               634      37374\n",
       "Bank Transfer                       612      36544"
      ]
     },
     "execution_count": 85,
     "metadata": {},
     "output_type": "execute_result"
    }
   ],
   "source": [
    "df[['Payment_Method','Purchase_Amount']].groupby(by='Payment_Method').agg({'Payment_Method':'count','Purchase_Amount':'sum'}).rename(columns={'Payment_Method':'Count_of_Payment_Method','Purchase_Amount':'Purchases'}).sort_values(by='Count_of_Payment_Method',ascending=False)"
   ]
  },
  {
   "cell_type": "markdown",
   "id": "fce11f5c-0dcc-4546-98f2-17f29ca12d0b",
   "metadata": {},
   "source": [
    "## Customer Loyalty & Frequency\n",
    "### How do previous purchases relate to frequency of purchases? (loyalty patterns)"
   ]
  },
  {
   "cell_type": "code",
   "execution_count": 86,
   "id": "3e2425a3-06d4-47a1-8835-e2a301772759",
   "metadata": {},
   "outputs": [
    {
     "data": {
      "text/plain": [
       "Index(['Customer_ID', 'Age', 'Gender', 'Item_Purchased', 'Category',\n",
       "       'Purchase_Amount', 'Location', 'Size', 'Color', 'Season',\n",
       "       'Review_Rating', 'Subscription_Status', 'Shipping_Type',\n",
       "       'Discount_Applied', 'Promo_Code_Used', 'Previous_Purchases',\n",
       "       'Payment_Method', 'Frequency_of_Purchases'],\n",
       "      dtype='object')"
      ]
     },
     "execution_count": 86,
     "metadata": {},
     "output_type": "execute_result"
    }
   ],
   "source": [
    "df.columns"
   ]
  },
  {
   "cell_type": "code",
   "execution_count": 90,
   "id": "7dc2f8c3-8001-4894-9e1a-d7ba9cd06e0c",
   "metadata": {},
   "outputs": [
    {
     "data": {
      "text/html": [
       "<div>\n",
       "<style scoped>\n",
       "    .dataframe tbody tr th:only-of-type {\n",
       "        vertical-align: middle;\n",
       "    }\n",
       "\n",
       "    .dataframe tbody tr th {\n",
       "        vertical-align: top;\n",
       "    }\n",
       "\n",
       "    .dataframe thead th {\n",
       "        text-align: right;\n",
       "    }\n",
       "</style>\n",
       "<table border=\"1\" class=\"dataframe\">\n",
       "  <thead>\n",
       "    <tr style=\"text-align: right;\">\n",
       "      <th></th>\n",
       "      <th>Previous_Purchases</th>\n",
       "    </tr>\n",
       "    <tr>\n",
       "      <th>Frequency_of_Purchases</th>\n",
       "      <th></th>\n",
       "    </tr>\n",
       "  </thead>\n",
       "  <tbody>\n",
       "    <tr>\n",
       "      <th>Quarterly</th>\n",
       "      <td>15119</td>\n",
       "    </tr>\n",
       "    <tr>\n",
       "      <th>Every 3 Months</th>\n",
       "      <td>14577</td>\n",
       "    </tr>\n",
       "    <tr>\n",
       "      <th>Annually</th>\n",
       "      <td>14049</td>\n",
       "    </tr>\n",
       "    <tr>\n",
       "      <th>Monthly</th>\n",
       "      <td>13979</td>\n",
       "    </tr>\n",
       "    <tr>\n",
       "      <th>Weekly</th>\n",
       "      <td>13891</td>\n",
       "    </tr>\n",
       "    <tr>\n",
       "      <th>Fortnightly</th>\n",
       "      <td>13697</td>\n",
       "    </tr>\n",
       "    <tr>\n",
       "      <th>Bi-Weekly</th>\n",
       "      <td>13559</td>\n",
       "    </tr>\n",
       "  </tbody>\n",
       "</table>\n",
       "</div>"
      ],
      "text/plain": [
       "                        Previous_Purchases\n",
       "Frequency_of_Purchases                    \n",
       "Quarterly                            15119\n",
       "Every 3 Months                       14577\n",
       "Annually                             14049\n",
       "Monthly                              13979\n",
       "Weekly                               13891\n",
       "Fortnightly                          13697\n",
       "Bi-Weekly                            13559"
      ]
     },
     "execution_count": 90,
     "metadata": {},
     "output_type": "execute_result"
    }
   ],
   "source": [
    "df.groupby(by='Frequency_of_Purchases')[['Previous_Purchases']].sum().sort_values(by='Previous_Purchases',ascending=False)"
   ]
  },
  {
   "cell_type": "markdown",
   "id": "73e5973d-4a6a-4ce8-aafc-5dd8ab0d0488",
   "metadata": {},
   "source": [
    "### Is there a correlation between review rating and purchase amount or frequency? Scatter plot / Regression plot / Heatmap"
   ]
  },
  {
   "cell_type": "code",
   "execution_count": 93,
   "id": "5b49f1be-aeed-42b8-94d9-4678bf25ed52",
   "metadata": {},
   "outputs": [
    {
     "data": {
      "text/html": [
       "<div>\n",
       "<style scoped>\n",
       "    .dataframe tbody tr th:only-of-type {\n",
       "        vertical-align: middle;\n",
       "    }\n",
       "\n",
       "    .dataframe tbody tr th {\n",
       "        vertical-align: top;\n",
       "    }\n",
       "\n",
       "    .dataframe thead th {\n",
       "        text-align: right;\n",
       "    }\n",
       "</style>\n",
       "<table border=\"1\" class=\"dataframe\">\n",
       "  <thead>\n",
       "    <tr style=\"text-align: right;\">\n",
       "      <th></th>\n",
       "      <th>Review_Rating</th>\n",
       "      <th>Purchase_Amount</th>\n",
       "    </tr>\n",
       "  </thead>\n",
       "  <tbody>\n",
       "    <tr>\n",
       "      <th>Review_Rating</th>\n",
       "      <td>1.000000</td>\n",
       "      <td>0.030776</td>\n",
       "    </tr>\n",
       "    <tr>\n",
       "      <th>Purchase_Amount</th>\n",
       "      <td>0.030776</td>\n",
       "      <td>1.000000</td>\n",
       "    </tr>\n",
       "  </tbody>\n",
       "</table>\n",
       "</div>"
      ],
      "text/plain": [
       "                 Review_Rating  Purchase_Amount\n",
       "Review_Rating         1.000000         0.030776\n",
       "Purchase_Amount       0.030776         1.000000"
      ]
     },
     "execution_count": 93,
     "metadata": {},
     "output_type": "execute_result"
    }
   ],
   "source": [
    "corr_df = df[['Review_Rating','Purchase_Amount']].corr()\n",
    "corr_df"
   ]
  },
  {
   "cell_type": "code",
   "execution_count": 97,
   "id": "5626e1c8-4c76-46d9-8410-7bdd529cb9e9",
   "metadata": {},
   "outputs": [
    {
     "data": {
      "text/plain": [
       "<Axes: >"
      ]
     },
     "execution_count": 97,
     "metadata": {},
     "output_type": "execute_result"
    },
    {
     "data": {
      "image/png": "[encoded data removed]",
      "text/plain": [
       "<Figure size 640x480 with 2 Axes>"
      ]
     },
     "metadata": {},
     "output_type": "display_data"
    }
   ],
   "source": [
    "sns.heatmap(data=corr_df,annot=True,vmin=-1,vmax=1,cmap='Blues')"
   ]
  },
  {
   "cell_type": "markdown",
   "id": "1382f2de-1905-4a52-a740-0af3ab1e460d",
   "metadata": {},
   "source": [
    "There is a weak positive correlation between Review ratings and purchase amount i.e. purchase increase slightly with increase in ratings."
   ]
  },
  {
   "cell_type": "markdown",
   "id": "002fa972-2a8f-4caf-91ab-390a0e555d9d",
   "metadata": {},
   "source": [
    "## Customer Segmentation\n",
    "### Are there distinct age groups that prefer certain product categories (e.g., clothing vs footwear)?"
   ]
  },
  {
   "cell_type": "code",
   "execution_count": 139,
   "id": "e66e2dba-3587-4980-b1f4-60d6ab470852",
   "metadata": {},
   "outputs": [
    {
     "data": {
      "text/html": [
       "<div>\n",
       "<style scoped>\n",
       "    .dataframe tbody tr th:only-of-type {\n",
       "        vertical-align: middle;\n",
       "    }\n",
       "\n",
       "    .dataframe tbody tr th {\n",
       "        vertical-align: top;\n",
       "    }\n",
       "\n",
       "    .dataframe thead th {\n",
       "        text-align: right;\n",
       "    }\n",
       "</style>\n",
       "<table border=\"1\" class=\"dataframe\">\n",
       "  <thead>\n",
       "    <tr style=\"text-align: right;\">\n",
       "      <th></th>\n",
       "      <th>Customer_ID</th>\n",
       "      <th>Age</th>\n",
       "      <th>Gender</th>\n",
       "      <th>Item_Purchased</th>\n",
       "      <th>Category</th>\n",
       "      <th>Purchase_Amount</th>\n",
       "      <th>Location</th>\n",
       "      <th>Size</th>\n",
       "      <th>Color</th>\n",
       "      <th>Season</th>\n",
       "      <th>Review_Rating</th>\n",
       "      <th>Subscription_Status</th>\n",
       "      <th>Shipping_Type</th>\n",
       "      <th>Discount_Applied</th>\n",
       "      <th>Promo_Code_Used</th>\n",
       "      <th>Previous_Purchases</th>\n",
       "      <th>Payment_Method</th>\n",
       "      <th>Frequency_of_Purchases</th>\n",
       "      <th>Age_Group</th>\n",
       "    </tr>\n",
       "  </thead>\n",
       "  <tbody>\n",
       "    <tr>\n",
       "      <th>0</th>\n",
       "      <td>1</td>\n",
       "      <td>55</td>\n",
       "      <td>Male</td>\n",
       "      <td>Blouse</td>\n",
       "      <td>Clothing</td>\n",
       "      <td>53</td>\n",
       "      <td>Kentucky</td>\n",
       "      <td>L</td>\n",
       "      <td>Gray</td>\n",
       "      <td>Winter</td>\n",
       "      <td>3.1</td>\n",
       "      <td>Yes</td>\n",
       "      <td>Express</td>\n",
       "      <td>Yes</td>\n",
       "      <td>Yes</td>\n",
       "      <td>14</td>\n",
       "      <td>Venmo</td>\n",
       "      <td>Fortnightly</td>\n",
       "      <td>Older_Gen</td>\n",
       "    </tr>\n",
       "    <tr>\n",
       "      <th>1</th>\n",
       "      <td>2</td>\n",
       "      <td>19</td>\n",
       "      <td>Male</td>\n",
       "      <td>Sweater</td>\n",
       "      <td>Clothing</td>\n",
       "      <td>64</td>\n",
       "      <td>Maine</td>\n",
       "      <td>L</td>\n",
       "      <td>Maroon</td>\n",
       "      <td>Winter</td>\n",
       "      <td>3.1</td>\n",
       "      <td>Yes</td>\n",
       "      <td>Express</td>\n",
       "      <td>Yes</td>\n",
       "      <td>Yes</td>\n",
       "      <td>2</td>\n",
       "      <td>Cash</td>\n",
       "      <td>Fortnightly</td>\n",
       "      <td>Young_Gen</td>\n",
       "    </tr>\n",
       "    <tr>\n",
       "      <th>2</th>\n",
       "      <td>3</td>\n",
       "      <td>50</td>\n",
       "      <td>Male</td>\n",
       "      <td>Jeans</td>\n",
       "      <td>Clothing</td>\n",
       "      <td>73</td>\n",
       "      <td>Massachusetts</td>\n",
       "      <td>S</td>\n",
       "      <td>Maroon</td>\n",
       "      <td>Spring</td>\n",
       "      <td>3.1</td>\n",
       "      <td>Yes</td>\n",
       "      <td>Free Shipping</td>\n",
       "      <td>Yes</td>\n",
       "      <td>Yes</td>\n",
       "      <td>23</td>\n",
       "      <td>Credit Card</td>\n",
       "      <td>Weekly</td>\n",
       "      <td>Older_Gen</td>\n",
       "    </tr>\n",
       "    <tr>\n",
       "      <th>3</th>\n",
       "      <td>4</td>\n",
       "      <td>21</td>\n",
       "      <td>Male</td>\n",
       "      <td>Sandals</td>\n",
       "      <td>Footwear</td>\n",
       "      <td>90</td>\n",
       "      <td>Rhode Island</td>\n",
       "      <td>M</td>\n",
       "      <td>Maroon</td>\n",
       "      <td>Spring</td>\n",
       "      <td>3.5</td>\n",
       "      <td>Yes</td>\n",
       "      <td>Next Day Air</td>\n",
       "      <td>Yes</td>\n",
       "      <td>Yes</td>\n",
       "      <td>49</td>\n",
       "      <td>PayPal</td>\n",
       "      <td>Weekly</td>\n",
       "      <td>Young_Gen</td>\n",
       "    </tr>\n",
       "    <tr>\n",
       "      <th>4</th>\n",
       "      <td>5</td>\n",
       "      <td>45</td>\n",
       "      <td>Male</td>\n",
       "      <td>Blouse</td>\n",
       "      <td>Clothing</td>\n",
       "      <td>49</td>\n",
       "      <td>Oregon</td>\n",
       "      <td>M</td>\n",
       "      <td>Turquoise</td>\n",
       "      <td>Spring</td>\n",
       "      <td>2.7</td>\n",
       "      <td>Yes</td>\n",
       "      <td>Free Shipping</td>\n",
       "      <td>Yes</td>\n",
       "      <td>Yes</td>\n",
       "      <td>31</td>\n",
       "      <td>PayPal</td>\n",
       "      <td>Annually</td>\n",
       "      <td>Middle_Gen</td>\n",
       "    </tr>\n",
       "    <tr>\n",
       "      <th>...</th>\n",
       "      <td>...</td>\n",
       "      <td>...</td>\n",
       "      <td>...</td>\n",
       "      <td>...</td>\n",
       "      <td>...</td>\n",
       "      <td>...</td>\n",
       "      <td>...</td>\n",
       "      <td>...</td>\n",
       "      <td>...</td>\n",
       "      <td>...</td>\n",
       "      <td>...</td>\n",
       "      <td>...</td>\n",
       "      <td>...</td>\n",
       "      <td>...</td>\n",
       "      <td>...</td>\n",
       "      <td>...</td>\n",
       "      <td>...</td>\n",
       "      <td>...</td>\n",
       "      <td>...</td>\n",
       "    </tr>\n",
       "    <tr>\n",
       "      <th>3895</th>\n",
       "      <td>3896</td>\n",
       "      <td>40</td>\n",
       "      <td>Female</td>\n",
       "      <td>Hoodie</td>\n",
       "      <td>Clothing</td>\n",
       "      <td>28</td>\n",
       "      <td>Virginia</td>\n",
       "      <td>L</td>\n",
       "      <td>Turquoise</td>\n",
       "      <td>Summer</td>\n",
       "      <td>4.2</td>\n",
       "      <td>No</td>\n",
       "      <td>2-Day Shipping</td>\n",
       "      <td>No</td>\n",
       "      <td>No</td>\n",
       "      <td>32</td>\n",
       "      <td>Venmo</td>\n",
       "      <td>Weekly</td>\n",
       "      <td>Middle_Gen</td>\n",
       "    </tr>\n",
       "    <tr>\n",
       "      <th>3896</th>\n",
       "      <td>3897</td>\n",
       "      <td>52</td>\n",
       "      <td>Female</td>\n",
       "      <td>Backpack</td>\n",
       "      <td>Accessories</td>\n",
       "      <td>49</td>\n",
       "      <td>Iowa</td>\n",
       "      <td>L</td>\n",
       "      <td>White</td>\n",
       "      <td>Spring</td>\n",
       "      <td>4.5</td>\n",
       "      <td>No</td>\n",
       "      <td>Store Pickup</td>\n",
       "      <td>No</td>\n",
       "      <td>No</td>\n",
       "      <td>41</td>\n",
       "      <td>Bank Transfer</td>\n",
       "      <td>Bi-Weekly</td>\n",
       "      <td>Older_Gen</td>\n",
       "    </tr>\n",
       "    <tr>\n",
       "      <th>3897</th>\n",
       "      <td>3898</td>\n",
       "      <td>46</td>\n",
       "      <td>Female</td>\n",
       "      <td>Belt</td>\n",
       "      <td>Accessories</td>\n",
       "      <td>33</td>\n",
       "      <td>New Jersey</td>\n",
       "      <td>L</td>\n",
       "      <td>Green</td>\n",
       "      <td>Spring</td>\n",
       "      <td>2.9</td>\n",
       "      <td>No</td>\n",
       "      <td>Standard</td>\n",
       "      <td>No</td>\n",
       "      <td>No</td>\n",
       "      <td>24</td>\n",
       "      <td>Venmo</td>\n",
       "      <td>Quarterly</td>\n",
       "      <td>Middle_Gen</td>\n",
       "    </tr>\n",
       "    <tr>\n",
       "      <th>3898</th>\n",
       "      <td>3899</td>\n",
       "      <td>44</td>\n",
       "      <td>Female</td>\n",
       "      <td>Shoes</td>\n",
       "      <td>Footwear</td>\n",
       "      <td>77</td>\n",
       "      <td>Minnesota</td>\n",
       "      <td>S</td>\n",
       "      <td>Brown</td>\n",
       "      <td>Summer</td>\n",
       "      <td>3.8</td>\n",
       "      <td>No</td>\n",
       "      <td>Express</td>\n",
       "      <td>No</td>\n",
       "      <td>No</td>\n",
       "      <td>24</td>\n",
       "      <td>Venmo</td>\n",
       "      <td>Weekly</td>\n",
       "      <td>Middle_Gen</td>\n",
       "    </tr>\n",
       "    <tr>\n",
       "      <th>3899</th>\n",
       "      <td>3900</td>\n",
       "      <td>52</td>\n",
       "      <td>Female</td>\n",
       "      <td>Handbag</td>\n",
       "      <td>Accessories</td>\n",
       "      <td>81</td>\n",
       "      <td>California</td>\n",
       "      <td>M</td>\n",
       "      <td>Beige</td>\n",
       "      <td>Spring</td>\n",
       "      <td>3.1</td>\n",
       "      <td>No</td>\n",
       "      <td>Store Pickup</td>\n",
       "      <td>No</td>\n",
       "      <td>No</td>\n",
       "      <td>33</td>\n",
       "      <td>Venmo</td>\n",
       "      <td>Quarterly</td>\n",
       "      <td>Older_Gen</td>\n",
       "    </tr>\n",
       "  </tbody>\n",
       "</table>\n",
       "<p>3900 rows × 19 columns</p>\n",
       "</div>"
      ],
      "text/plain": [
       "      Customer_ID  Age  Gender Item_Purchased     Category  Purchase_Amount  \\\n",
       "0               1   55    Male         Blouse     Clothing               53   \n",
       "1               2   19    Male        Sweater     Clothing               64   \n",
       "2               3   50    Male          Jeans     Clothing               73   \n",
       "3               4   21    Male        Sandals     Footwear               90   \n",
       "4               5   45    Male         Blouse     Clothing               49   \n",
       "...           ...  ...     ...            ...          ...              ...   \n",
       "3895         3896   40  Female         Hoodie     Clothing               28   \n",
       "3896         3897   52  Female       Backpack  Accessories               49   \n",
       "3897         3898   46  Female           Belt  Accessories               33   \n",
       "3898         3899   44  Female          Shoes     Footwear               77   \n",
       "3899         3900   52  Female        Handbag  Accessories               81   \n",
       "\n",
       "           Location Size      Color  Season  Review_Rating  \\\n",
       "0          Kentucky    L       Gray  Winter            3.1   \n",
       "1             Maine    L     Maroon  Winter            3.1   \n",
       "2     Massachusetts    S     Maroon  Spring            3.1   \n",
       "3      Rhode Island    M     Maroon  Spring            3.5   \n",
       "4            Oregon    M  Turquoise  Spring            2.7   \n",
       "...             ...  ...        ...     ...            ...   \n",
       "3895       Virginia    L  Turquoise  Summer            4.2   \n",
       "3896           Iowa    L      White  Spring            4.5   \n",
       "3897     New Jersey    L      Green  Spring            2.9   \n",
       "3898      Minnesota    S      Brown  Summer            3.8   \n",
       "3899     California    M      Beige  Spring            3.1   \n",
       "\n",
       "     Subscription_Status   Shipping_Type Discount_Applied Promo_Code_Used  \\\n",
       "0                    Yes         Express              Yes             Yes   \n",
       "1                    Yes         Express              Yes             Yes   \n",
       "2                    Yes   Free Shipping              Yes             Yes   \n",
       "3                    Yes    Next Day Air              Yes             Yes   \n",
       "4                    Yes   Free Shipping              Yes             Yes   \n",
       "...                  ...             ...              ...             ...   \n",
       "3895                  No  2-Day Shipping               No              No   \n",
       "3896                  No    Store Pickup               No              No   \n",
       "3897                  No        Standard               No              No   \n",
       "3898                  No         Express               No              No   \n",
       "3899                  No    Store Pickup               No              No   \n",
       "\n",
       "      Previous_Purchases Payment_Method Frequency_of_Purchases   Age_Group  \n",
       "0                     14          Venmo            Fortnightly   Older_Gen  \n",
       "1                      2           Cash            Fortnightly   Young_Gen  \n",
       "2                     23    Credit Card                 Weekly   Older_Gen  \n",
       "3                     49         PayPal                 Weekly   Young_Gen  \n",
       "4                     31         PayPal               Annually  Middle_Gen  \n",
       "...                  ...            ...                    ...         ...  \n",
       "3895                  32          Venmo                 Weekly  Middle_Gen  \n",
       "3896                  41  Bank Transfer              Bi-Weekly   Older_Gen  \n",
       "3897                  24          Venmo              Quarterly  Middle_Gen  \n",
       "3898                  24          Venmo                 Weekly  Middle_Gen  \n",
       "3899                  33          Venmo              Quarterly   Older_Gen  \n",
       "\n",
       "[3900 rows x 19 columns]"
      ]
     },
     "execution_count": 139,
     "metadata": {},
     "output_type": "execute_result"
    }
   ],
   "source": [
    "df['Age_Group']=np.where(df.Age < 30,'Young_Gen',np.where(df.Age < 50,'Middle_Gen','Older_Gen'))\n",
    "df"
   ]
  },
  {
   "cell_type": "code",
   "execution_count": 140,
   "id": "26937738-de50-405b-9a79-dce586885d77",
   "metadata": {},
   "outputs": [
    {
     "data": {
      "text/html": [
       "<div>\n",
       "<style scoped>\n",
       "    .dataframe tbody tr th:only-of-type {\n",
       "        vertical-align: middle;\n",
       "    }\n",
       "\n",
       "    .dataframe tbody tr th {\n",
       "        vertical-align: top;\n",
       "    }\n",
       "\n",
       "    .dataframe thead th {\n",
       "        text-align: right;\n",
       "    }\n",
       "</style>\n",
       "<table border=\"1\" class=\"dataframe\">\n",
       "  <thead>\n",
       "    <tr style=\"text-align: right;\">\n",
       "      <th>Category</th>\n",
       "      <th>Accessories</th>\n",
       "      <th>Clothing</th>\n",
       "      <th>Footwear</th>\n",
       "      <th>Outerwear</th>\n",
       "    </tr>\n",
       "    <tr>\n",
       "      <th>Age_Group</th>\n",
       "      <th></th>\n",
       "      <th></th>\n",
       "      <th></th>\n",
       "      <th></th>\n",
       "    </tr>\n",
       "  </thead>\n",
       "  <tbody>\n",
       "    <tr>\n",
       "      <th>Middle_Gen</th>\n",
       "      <td>472</td>\n",
       "      <td>648</td>\n",
       "      <td>220</td>\n",
       "      <td>123</td>\n",
       "    </tr>\n",
       "    <tr>\n",
       "      <th>Older_Gen</th>\n",
       "      <td>493</td>\n",
       "      <td>685</td>\n",
       "      <td>252</td>\n",
       "      <td>129</td>\n",
       "    </tr>\n",
       "    <tr>\n",
       "      <th>Young_Gen</th>\n",
       "      <td>275</td>\n",
       "      <td>404</td>\n",
       "      <td>127</td>\n",
       "      <td>72</td>\n",
       "    </tr>\n",
       "  </tbody>\n",
       "</table>\n",
       "</div>"
      ],
      "text/plain": [
       "Category    Accessories  Clothing  Footwear  Outerwear\n",
       "Age_Group                                             \n",
       "Middle_Gen          472       648       220        123\n",
       "Older_Gen           493       685       252        129\n",
       "Young_Gen           275       404       127         72"
      ]
     },
     "execution_count": 140,
     "metadata": {},
     "output_type": "execute_result"
    }
   ],
   "source": [
    "pd.crosstab(index=df.Age_Group,columns=df.Category)"
   ]
  },
  {
   "cell_type": "markdown",
   "id": "9fe9a266-2016-49fc-99d5-36fe44895eff",
   "metadata": {},
   "source": [
    "Clothing is most preferred category among all generations "
   ]
  },
  {
   "cell_type": "markdown",
   "id": "c3138c67-8730-41e5-8a70-2d911ae4259d",
   "metadata": {},
   "source": [
    "### Does purchase frequency vary significantly across genders?"
   ]
  },
  {
   "cell_type": "code",
   "execution_count": 116,
   "id": "38ebdff0-5988-4547-8207-be1fbf28918a",
   "metadata": {},
   "outputs": [
    {
     "data": {
      "text/html": [
       "<div>\n",
       "<style scoped>\n",
       "    .dataframe tbody tr th:only-of-type {\n",
       "        vertical-align: middle;\n",
       "    }\n",
       "\n",
       "    .dataframe tbody tr th {\n",
       "        vertical-align: top;\n",
       "    }\n",
       "\n",
       "    .dataframe thead th {\n",
       "        text-align: right;\n",
       "    }\n",
       "</style>\n",
       "<table border=\"1\" class=\"dataframe\">\n",
       "  <thead>\n",
       "    <tr style=\"text-align: right;\">\n",
       "      <th>Gender</th>\n",
       "      <th>Female</th>\n",
       "      <th>Male</th>\n",
       "    </tr>\n",
       "    <tr>\n",
       "      <th>Frequency_of_Purchases</th>\n",
       "      <th></th>\n",
       "      <th></th>\n",
       "    </tr>\n",
       "  </thead>\n",
       "  <tbody>\n",
       "    <tr>\n",
       "      <th>Annually</th>\n",
       "      <td>185</td>\n",
       "      <td>387</td>\n",
       "    </tr>\n",
       "    <tr>\n",
       "      <th>Bi-Weekly</th>\n",
       "      <td>188</td>\n",
       "      <td>359</td>\n",
       "    </tr>\n",
       "    <tr>\n",
       "      <th>Every 3 Months</th>\n",
       "      <td>186</td>\n",
       "      <td>398</td>\n",
       "    </tr>\n",
       "    <tr>\n",
       "      <th>Fortnightly</th>\n",
       "      <td>163</td>\n",
       "      <td>379</td>\n",
       "    </tr>\n",
       "    <tr>\n",
       "      <th>Monthly</th>\n",
       "      <td>185</td>\n",
       "      <td>368</td>\n",
       "    </tr>\n",
       "    <tr>\n",
       "      <th>Quarterly</th>\n",
       "      <td>169</td>\n",
       "      <td>394</td>\n",
       "    </tr>\n",
       "    <tr>\n",
       "      <th>Weekly</th>\n",
       "      <td>172</td>\n",
       "      <td>367</td>\n",
       "    </tr>\n",
       "  </tbody>\n",
       "</table>\n",
       "</div>"
      ],
      "text/plain": [
       "Gender                  Female  Male\n",
       "Frequency_of_Purchases              \n",
       "Annually                   185   387\n",
       "Bi-Weekly                  188   359\n",
       "Every 3 Months             186   398\n",
       "Fortnightly                163   379\n",
       "Monthly                    185   368\n",
       "Quarterly                  169   394\n",
       "Weekly                     172   367"
      ]
     },
     "execution_count": 116,
     "metadata": {},
     "output_type": "execute_result"
    }
   ],
   "source": [
    "pd.crosstab(index=df.Frequency_of_Purchases,columns=df.Gender)"
   ]
  },
  {
   "cell_type": "markdown",
   "id": "bcc557cc-4474-4a52-903b-704e57b1a1c3",
   "metadata": {},
   "source": [
    "### Which combination of size and color is most popular?"
   ]
  },
  {
   "cell_type": "code",
   "execution_count": 119,
   "id": "5349ed01-4a57-43ba-b249-b42a1cc706bd",
   "metadata": {},
   "outputs": [
    {
     "data": {
      "text/html": [
       "<div>\n",
       "<style scoped>\n",
       "    .dataframe tbody tr th:only-of-type {\n",
       "        vertical-align: middle;\n",
       "    }\n",
       "\n",
       "    .dataframe tbody tr th {\n",
       "        vertical-align: top;\n",
       "    }\n",
       "\n",
       "    .dataframe thead th {\n",
       "        text-align: right;\n",
       "    }\n",
       "</style>\n",
       "<table border=\"1\" class=\"dataframe\">\n",
       "  <thead>\n",
       "    <tr style=\"text-align: right;\">\n",
       "      <th></th>\n",
       "      <th></th>\n",
       "      <th>Purchase_Amount</th>\n",
       "    </tr>\n",
       "    <tr>\n",
       "      <th>Size</th>\n",
       "      <th>Color</th>\n",
       "      <th></th>\n",
       "    </tr>\n",
       "  </thead>\n",
       "  <tbody>\n",
       "    <tr>\n",
       "      <th rowspan=\"5\" valign=\"top\">M</th>\n",
       "      <th>Violet</th>\n",
       "      <td>5449</td>\n",
       "    </tr>\n",
       "    <tr>\n",
       "      <th>Olive</th>\n",
       "      <td>5121</td>\n",
       "    </tr>\n",
       "    <tr>\n",
       "      <th>Gray</th>\n",
       "      <td>5090</td>\n",
       "    </tr>\n",
       "    <tr>\n",
       "      <th>Charcoal</th>\n",
       "      <td>4661</td>\n",
       "    </tr>\n",
       "    <tr>\n",
       "      <th>White</th>\n",
       "      <td>4585</td>\n",
       "    </tr>\n",
       "    <tr>\n",
       "      <th>...</th>\n",
       "      <th>...</th>\n",
       "      <td>...</td>\n",
       "    </tr>\n",
       "    <tr>\n",
       "      <th rowspan=\"5\" valign=\"top\">XL</th>\n",
       "      <th>Silver</th>\n",
       "      <td>760</td>\n",
       "    </tr>\n",
       "    <tr>\n",
       "      <th>Indigo</th>\n",
       "      <td>737</td>\n",
       "    </tr>\n",
       "    <tr>\n",
       "      <th>Maroon</th>\n",
       "      <td>721</td>\n",
       "    </tr>\n",
       "    <tr>\n",
       "      <th>Gold</th>\n",
       "      <td>688</td>\n",
       "    </tr>\n",
       "    <tr>\n",
       "      <th>Blue</th>\n",
       "      <td>456</td>\n",
       "    </tr>\n",
       "  </tbody>\n",
       "</table>\n",
       "<p>100 rows × 1 columns</p>\n",
       "</div>"
      ],
      "text/plain": [
       "               Purchase_Amount\n",
       "Size Color                    \n",
       "M    Violet               5449\n",
       "     Olive                5121\n",
       "     Gray                 5090\n",
       "     Charcoal             4661\n",
       "     White                4585\n",
       "...                        ...\n",
       "XL   Silver                760\n",
       "     Indigo                737\n",
       "     Maroon                721\n",
       "     Gold                  688\n",
       "     Blue                  456\n",
       "\n",
       "[100 rows x 1 columns]"
      ]
     },
     "execution_count": 119,
     "metadata": {},
     "output_type": "execute_result"
    }
   ],
   "source": [
    "df[['Size','Color','Purchase_Amount']].groupby(by=['Size','Color']).sum().sort_values(by='Purchase_Amount',ascending=False)"
   ]
  },
  {
   "cell_type": "code",
   "execution_count": null,
   "id": "608e3867-af28-4bd9-ae6c-c97e458cde23",
   "metadata": {},
   "outputs": [],
   "source": []
  },
  {
   "cell_type": "code",
   "execution_count": null,
   "id": "2f535c33-c6fd-4ad8-ab91-a8d685d37b26",
   "metadata": {},
   "outputs": [],
   "source": []
  },
  {
   "cell_type": "code",
   "execution_count": null,
   "id": "11670e4c-9107-43e1-9c1c-05902f031175",
   "metadata": {},
   "outputs": [],
   "source": []
  },
  {
   "cell_type": "code",
   "execution_count": null,
   "id": "5148f3fb-f346-49c8-bd9e-a0b2a449a681",
   "metadata": {},
   "outputs": [],
   "source": []
  },
  {
   "cell_type": "code",
   "execution_count": null,
   "id": "91e05753-53f4-48bf-9282-0d5f8a1b1df5",
   "metadata": {},
   "outputs": [],
   "source": []
  },
  {
   "cell_type": "code",
   "execution_count": null,
   "id": "9b767612-a460-459c-9a74-b83aac6711f8",
   "metadata": {},
   "outputs": [],
   "source": []
  },
  {
   "cell_type": "code",
   "execution_count": null,
   "id": "692cc28d-47b5-4515-8063-2155837dff87",
   "metadata": {},
   "outputs": [],
   "source": []
  }
 ],
 "metadata": {
  "kernelspec": {
   "display_name": "Python [conda env:base] *",
   "language": "python",
   "name": "conda-base-py"
  },
  "language_info": {
   "codemirror_mode": {
    "name": "ipython",
    "version": 3
   },
   "file_extension": ".py",
   "mimetype": "text/x-python",
   "name": "python",
   "nbconvert_exporter": "python",
   "pygments_lexer": "ipython3",
   "version": "3.12.7"
  }
 },
 "nbformat": 4,
 "nbformat_minor": 5
}
