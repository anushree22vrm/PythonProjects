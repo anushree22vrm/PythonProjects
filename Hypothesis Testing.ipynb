{
 "cells": [
  {
   "cell_type": "code",
   "execution_count": 1,
   "id": "73ce59d1-55f2-41b5-b49d-5f04c9b2f1d4",
   "metadata": {},
   "outputs": [],
   "source": [
    "import os\n",
    "import numpy as np\n",
    "import pandas as pd\n",
    "import matplotlib.pyplot as plt\n",
    "%matplotlib inline \n",
    "import seaborn as sns\n",
    "import scipy.stats as stats"
   ]
  },
  {
   "cell_type": "code",
   "execution_count": 2,
   "id": "9b58479c-3ef5-44e0-9bf5-b542d511ca75",
   "metadata": {},
   "outputs": [],
   "source": [
    "os.chdir('C:\\\\Users\\\\anush\\\\OneDrive\\\\Desktop\\\\Python Case Study\\\\4. Basic Statistics - Hypothesis Testing')"
   ]
  },
  {
   "cell_type": "code",
   "execution_count": 3,
   "id": "59081f18-76df-40c8-b6a1-16fb6755e5c3",
   "metadata": {},
   "outputs": [
    {
     "data": {
      "text/html": [
       "<div>\n",
       "<style scoped>\n",
       "    .dataframe tbody tr th:only-of-type {\n",
       "        vertical-align: middle;\n",
       "    }\n",
       "\n",
       "    .dataframe tbody tr th {\n",
       "        vertical-align: top;\n",
       "    }\n",
       "\n",
       "    .dataframe thead th {\n",
       "        text-align: right;\n",
       "    }\n",
       "</style>\n",
       "<table border=\"1\" class=\"dataframe\">\n",
       "  <thead>\n",
       "    <tr style=\"text-align: right;\">\n",
       "      <th></th>\n",
       "      <th>Amount.Requested</th>\n",
       "      <th>Amount.Funded.By.Investors</th>\n",
       "      <th>Interest.Rate</th>\n",
       "      <th>Loan.Length</th>\n",
       "      <th>Loan.Purpose</th>\n",
       "      <th>Debt.To.Income.Ratio</th>\n",
       "      <th>State</th>\n",
       "      <th>Home.Ownership</th>\n",
       "      <th>Monthly.Income</th>\n",
       "      <th>FICO.Range</th>\n",
       "      <th>Open.CREDIT.Lines</th>\n",
       "      <th>Revolving.CREDIT.Balance</th>\n",
       "      <th>Inquiries.in.the.Last.6.Months</th>\n",
       "      <th>Employment.Length</th>\n",
       "    </tr>\n",
       "  </thead>\n",
       "  <tbody>\n",
       "    <tr>\n",
       "      <th>0</th>\n",
       "      <td>20000.0</td>\n",
       "      <td>20000.0</td>\n",
       "      <td>8.90%</td>\n",
       "      <td>36 months</td>\n",
       "      <td>debt_consolidation</td>\n",
       "      <td>14.90%</td>\n",
       "      <td>SC</td>\n",
       "      <td>MORTGAGE</td>\n",
       "      <td>6541.67</td>\n",
       "      <td>735-739</td>\n",
       "      <td>14.0</td>\n",
       "      <td>14272.0</td>\n",
       "      <td>2.0</td>\n",
       "      <td>&lt; 1 year</td>\n",
       "    </tr>\n",
       "    <tr>\n",
       "      <th>1</th>\n",
       "      <td>19200.0</td>\n",
       "      <td>19200.0</td>\n",
       "      <td>12.12%</td>\n",
       "      <td>36 months</td>\n",
       "      <td>debt_consolidation</td>\n",
       "      <td>28.36%</td>\n",
       "      <td>TX</td>\n",
       "      <td>MORTGAGE</td>\n",
       "      <td>4583.33</td>\n",
       "      <td>715-719</td>\n",
       "      <td>12.0</td>\n",
       "      <td>11140.0</td>\n",
       "      <td>1.0</td>\n",
       "      <td>2 years</td>\n",
       "    </tr>\n",
       "    <tr>\n",
       "      <th>2</th>\n",
       "      <td>35000.0</td>\n",
       "      <td>35000.0</td>\n",
       "      <td>21.98%</td>\n",
       "      <td>60 months</td>\n",
       "      <td>debt_consolidation</td>\n",
       "      <td>23.81%</td>\n",
       "      <td>CA</td>\n",
       "      <td>MORTGAGE</td>\n",
       "      <td>11500.00</td>\n",
       "      <td>690-694</td>\n",
       "      <td>14.0</td>\n",
       "      <td>21977.0</td>\n",
       "      <td>1.0</td>\n",
       "      <td>2 years</td>\n",
       "    </tr>\n",
       "  </tbody>\n",
       "</table>\n",
       "</div>"
      ],
      "text/plain": [
       "   Amount.Requested  Amount.Funded.By.Investors Interest.Rate Loan.Length  \\\n",
       "0           20000.0                     20000.0         8.90%   36 months   \n",
       "1           19200.0                     19200.0        12.12%   36 months   \n",
       "2           35000.0                     35000.0        21.98%   60 months   \n",
       "\n",
       "         Loan.Purpose Debt.To.Income.Ratio State Home.Ownership  \\\n",
       "0  debt_consolidation               14.90%    SC       MORTGAGE   \n",
       "1  debt_consolidation               28.36%    TX       MORTGAGE   \n",
       "2  debt_consolidation               23.81%    CA       MORTGAGE   \n",
       "\n",
       "   Monthly.Income FICO.Range  Open.CREDIT.Lines  Revolving.CREDIT.Balance  \\\n",
       "0         6541.67    735-739               14.0                   14272.0   \n",
       "1         4583.33    715-719               12.0                   11140.0   \n",
       "2        11500.00    690-694               14.0                   21977.0   \n",
       "\n",
       "   Inquiries.in.the.Last.6.Months Employment.Length  \n",
       "0                             2.0          < 1 year  \n",
       "1                             1.0           2 years  \n",
       "2                             1.0           2 years  "
      ]
     },
     "execution_count": 3,
     "metadata": {},
     "output_type": "execute_result"
    }
   ],
   "source": [
    "loans_data = pd.read_csv('LoansData.csv')\n",
    "loans_data.head(3)"
   ]
  },
  {
   "cell_type": "code",
   "execution_count": 4,
   "id": "c2109c70-be4d-47f6-936e-9d3151d102d6",
   "metadata": {},
   "outputs": [
    {
     "data": {
      "text/plain": [
       "Amount.Requested                  float64\n",
       "Amount.Funded.By.Investors        float64\n",
       "Interest.Rate                      object\n",
       "Loan.Length                        object\n",
       "Loan.Purpose                       object\n",
       "Debt.To.Income.Ratio               object\n",
       "State                              object\n",
       "Home.Ownership                     object\n",
       "Monthly.Income                    float64\n",
       "FICO.Range                         object\n",
       "Open.CREDIT.Lines                 float64\n",
       "Revolving.CREDIT.Balance          float64\n",
       "Inquiries.in.the.Last.6.Months    float64\n",
       "Employment.Length                  object\n",
       "dtype: object"
      ]
     },
     "execution_count": 4,
     "metadata": {},
     "output_type": "execute_result"
    }
   ],
   "source": [
    "loans_data.dtypes"
   ]
  },
  {
   "cell_type": "code",
   "execution_count": 5,
   "id": "6a9a5b7d-1f39-43f3-9983-58cd928a2c3f",
   "metadata": {},
   "outputs": [],
   "source": [
    "loans_data = loans_data.rename(columns={'Amount.Requested':'Amount_Requested','Amount.Funded.By.Investors':'Amount_Funded_By_Investors','Interest.Rate':'Interest_Rate','Loan.Length':'Loan_Length','Loan.Purpose':'Loan_Purpose','Debt.To.Income.Ratio':'Debt_To_Income_Ratio','Home.Ownership':'Home_Ownership','Monthly.Income':'Monthly_Income','FICO.Range':'FICO_Range','Open.CREDIT.Lines':'Open_CREDIT_Lines','Revolving.CREDIT.Balance':'Revolving_CREDIT_Balance','Inquiries.in.the.Last.6.Months':'Inquiries_in_the_Last_6_Months','Employment.Length':'Employment_Length'})"
   ]
  },
  {
   "cell_type": "code",
   "execution_count": 6,
   "id": "f49eaa63-b2e1-48f6-9a58-fa1c7f7f139b",
   "metadata": {},
   "outputs": [
    {
     "data": {
      "text/html": [
       "<div>\n",
       "<style scoped>\n",
       "    .dataframe tbody tr th:only-of-type {\n",
       "        vertical-align: middle;\n",
       "    }\n",
       "\n",
       "    .dataframe tbody tr th {\n",
       "        vertical-align: top;\n",
       "    }\n",
       "\n",
       "    .dataframe thead th {\n",
       "        text-align: right;\n",
       "    }\n",
       "</style>\n",
       "<table border=\"1\" class=\"dataframe\">\n",
       "  <thead>\n",
       "    <tr style=\"text-align: right;\">\n",
       "      <th></th>\n",
       "      <th>Amount_Requested</th>\n",
       "      <th>Amount_Funded_By_Investors</th>\n",
       "      <th>Interest_Rate</th>\n",
       "      <th>Loan_Length</th>\n",
       "      <th>Loan_Purpose</th>\n",
       "      <th>Debt_To_Income_Ratio</th>\n",
       "      <th>State</th>\n",
       "      <th>Home_Ownership</th>\n",
       "      <th>Monthly_Income</th>\n",
       "      <th>FICO_Range</th>\n",
       "      <th>Open_CREDIT_Lines</th>\n",
       "      <th>Revolving_CREDIT_Balance</th>\n",
       "      <th>Inquiries_in_the_Last_6_Months</th>\n",
       "      <th>Employment_Length</th>\n",
       "    </tr>\n",
       "  </thead>\n",
       "  <tbody>\n",
       "    <tr>\n",
       "      <th>0</th>\n",
       "      <td>20000.0</td>\n",
       "      <td>20000.0</td>\n",
       "      <td>8.90%</td>\n",
       "      <td>36 months</td>\n",
       "      <td>debt_consolidation</td>\n",
       "      <td>14.90%</td>\n",
       "      <td>SC</td>\n",
       "      <td>MORTGAGE</td>\n",
       "      <td>6541.67</td>\n",
       "      <td>735-739</td>\n",
       "      <td>14.0</td>\n",
       "      <td>14272.0</td>\n",
       "      <td>2.0</td>\n",
       "      <td>&lt; 1 year</td>\n",
       "    </tr>\n",
       "    <tr>\n",
       "      <th>1</th>\n",
       "      <td>19200.0</td>\n",
       "      <td>19200.0</td>\n",
       "      <td>12.12%</td>\n",
       "      <td>36 months</td>\n",
       "      <td>debt_consolidation</td>\n",
       "      <td>28.36%</td>\n",
       "      <td>TX</td>\n",
       "      <td>MORTGAGE</td>\n",
       "      <td>4583.33</td>\n",
       "      <td>715-719</td>\n",
       "      <td>12.0</td>\n",
       "      <td>11140.0</td>\n",
       "      <td>1.0</td>\n",
       "      <td>2 years</td>\n",
       "    </tr>\n",
       "    <tr>\n",
       "      <th>2</th>\n",
       "      <td>35000.0</td>\n",
       "      <td>35000.0</td>\n",
       "      <td>21.98%</td>\n",
       "      <td>60 months</td>\n",
       "      <td>debt_consolidation</td>\n",
       "      <td>23.81%</td>\n",
       "      <td>CA</td>\n",
       "      <td>MORTGAGE</td>\n",
       "      <td>11500.00</td>\n",
       "      <td>690-694</td>\n",
       "      <td>14.0</td>\n",
       "      <td>21977.0</td>\n",
       "      <td>1.0</td>\n",
       "      <td>2 years</td>\n",
       "    </tr>\n",
       "  </tbody>\n",
       "</table>\n",
       "</div>"
      ],
      "text/plain": [
       "   Amount_Requested  Amount_Funded_By_Investors Interest_Rate Loan_Length  \\\n",
       "0           20000.0                     20000.0         8.90%   36 months   \n",
       "1           19200.0                     19200.0        12.12%   36 months   \n",
       "2           35000.0                     35000.0        21.98%   60 months   \n",
       "\n",
       "         Loan_Purpose Debt_To_Income_Ratio State Home_Ownership  \\\n",
       "0  debt_consolidation               14.90%    SC       MORTGAGE   \n",
       "1  debt_consolidation               28.36%    TX       MORTGAGE   \n",
       "2  debt_consolidation               23.81%    CA       MORTGAGE   \n",
       "\n",
       "   Monthly_Income FICO_Range  Open_CREDIT_Lines  Revolving_CREDIT_Balance  \\\n",
       "0         6541.67    735-739               14.0                   14272.0   \n",
       "1         4583.33    715-719               12.0                   11140.0   \n",
       "2        11500.00    690-694               14.0                   21977.0   \n",
       "\n",
       "   Inquiries_in_the_Last_6_Months Employment_Length  \n",
       "0                             2.0          < 1 year  \n",
       "1                             1.0           2 years  \n",
       "2                             1.0           2 years  "
      ]
     },
     "execution_count": 6,
     "metadata": {},
     "output_type": "execute_result"
    }
   ],
   "source": [
    "loans_data.head(3)"
   ]
  },
  {
   "cell_type": "markdown",
   "id": "508c6ac4-44e1-4608-b0ac-6453255b2666",
   "metadata": {},
   "source": [
    "# BUSINESS PROBLEM: \n",
    "## Using lending club loans data, the team would like to test below hypothesis on how different factors effecing each other (Hint: You may leverage hypothesis testing using statistical tests) \n",
    "\n",
    "### a. Intrest rate is varied for different loan amounts (Less intrest charged for high loan amounts) "
   ]
  },
  {
   "cell_type": "markdown",
   "id": "181a8109-628c-4aac-a9fc-91e0c4a26107",
   "metadata": {},
   "source": [
    "Ho: There is no relationship between loan amount and interest rates\n",
    "Ha: There is a relationship between loan amount and interest rates"
   ]
  },
  {
   "cell_type": "markdown",
   "id": "1588d964-a399-4d52-a7c1-6778f886bf1e",
   "metadata": {},
   "source": [
    "CI = 95%\n",
    "SL = 5%\n",
    "pcritical = 0.05\n",
    "\n",
    "Since we have to find relationship between numeric columns we will use correlation test."
   ]
  },
  {
   "cell_type": "code",
   "execution_count": 7,
   "id": "ec16ee27-d962-46b6-b8cf-4c6ca51fc326",
   "metadata": {},
   "outputs": [],
   "source": [
    "loans_data['Interest_Rate'] = loans_data.Interest_Rate.str.replace('%','').astype(float)"
   ]
  },
  {
   "cell_type": "code",
   "execution_count": 8,
   "id": "93d29d0b-02de-4ee6-8b4d-96c91e6cb3dd",
   "metadata": {},
   "outputs": [
    {
     "data": {
      "text/html": [
       "<div>\n",
       "<style scoped>\n",
       "    .dataframe tbody tr th:only-of-type {\n",
       "        vertical-align: middle;\n",
       "    }\n",
       "\n",
       "    .dataframe tbody tr th {\n",
       "        vertical-align: top;\n",
       "    }\n",
       "\n",
       "    .dataframe thead th {\n",
       "        text-align: right;\n",
       "    }\n",
       "</style>\n",
       "<table border=\"1\" class=\"dataframe\">\n",
       "  <thead>\n",
       "    <tr style=\"text-align: right;\">\n",
       "      <th></th>\n",
       "      <th>Amount_Funded_By_Investors</th>\n",
       "      <th>Interest_Rate</th>\n",
       "    </tr>\n",
       "  </thead>\n",
       "  <tbody>\n",
       "    <tr>\n",
       "      <th>Amount_Funded_By_Investors</th>\n",
       "      <td>1.000000</td>\n",
       "      <td>0.337454</td>\n",
       "    </tr>\n",
       "    <tr>\n",
       "      <th>Interest_Rate</th>\n",
       "      <td>0.337454</td>\n",
       "      <td>1.000000</td>\n",
       "    </tr>\n",
       "  </tbody>\n",
       "</table>\n",
       "</div>"
      ],
      "text/plain": [
       "                            Amount_Funded_By_Investors  Interest_Rate\n",
       "Amount_Funded_By_Investors                    1.000000       0.337454\n",
       "Interest_Rate                                 0.337454       1.000000"
      ]
     },
     "execution_count": 8,
     "metadata": {},
     "output_type": "execute_result"
    }
   ],
   "source": [
    "loans_data[['Amount_Funded_By_Investors','Interest_Rate']].corr()"
   ]
  },
  {
   "cell_type": "markdown",
   "id": "c0dbbbce-baae-43c1-8a48-69238153e5d4",
   "metadata": {},
   "source": [
    "There is a weak positive correlation between interest rate and amount funded by investors."
   ]
  },
  {
   "cell_type": "markdown",
   "id": "d6c90128-c9b7-4598-8221-6b7cbb2d844d",
   "metadata": {},
   "source": [
    "### b. Loan length is directly effecting intrest rate. "
   ]
  },
  {
   "cell_type": "markdown",
   "id": "2e74b87b-3236-455d-84a4-e9304d1039c9",
   "metadata": {},
   "source": [
    "Since one column is numeric and other categorical and we are comparing interest rates across 2 groups, we will be using independent t test."
   ]
  },
  {
   "cell_type": "markdown",
   "id": "2cb2fa45-9641-40db-bcff-eab2adbb9c4f",
   "metadata": {},
   "source": [
    "Ho: There is no relationship between loan lenght and interest rate.\n",
    "Ha: Loan lenght does not affect interest rate."
   ]
  },
  {
   "cell_type": "markdown",
   "id": "68f4688e-37cb-4e75-af6f-46f220847ea6",
   "metadata": {},
   "source": [
    "CI= 95%\n",
    "SL= 5%\n",
    "pcritical=0.05"
   ]
  },
  {
   "cell_type": "code",
   "execution_count": 9,
   "id": "3702607d-06ab-4328-94cf-13ee2805ffa4",
   "metadata": {},
   "outputs": [],
   "source": [
    "pcritical=0.05\n",
    "rate36 = loans_data[loans_data.Loan_Length == '36 months'].Interest_Rate.dropna()\n",
    "rate60 = loans_data[loans_data.Loan_Length == '60 months'].Interest_Rate.dropna()\n",
    "t_statistic,pvalue = stats.ttest_ind(rate36,rate60)"
   ]
  },
  {
   "cell_type": "code",
   "execution_count": 10,
   "id": "f357b55c-6e72-4592-a14e-e76947e0bf67",
   "metadata": {},
   "outputs": [
    {
     "data": {
      "text/plain": [
       "True"
      ]
     },
     "execution_count": 10,
     "metadata": {},
     "output_type": "execute_result"
    }
   ],
   "source": [
    "pvalue < pcritical"
   ]
  },
  {
   "cell_type": "markdown",
   "id": "bbb8ffde-fb4c-48f8-943e-77c2395f634d",
   "metadata": {},
   "source": [
    "p is low null will go. Ha is accepted.\n",
    "We are 95% confident that Loan lenght does not affect interest rates."
   ]
  },
  {
   "cell_type": "markdown",
   "id": "568c3fcb-7a94-4071-bbf1-26459c8e6455",
   "metadata": {},
   "source": [
    "### c. Inrest rate varies for different purpose of loans "
   ]
  },
  {
   "cell_type": "markdown",
   "id": "74e36616-3bdc-41c2-92cb-ed215aed2573",
   "metadata": {},
   "source": [
    "#### Since, interest rate is numerical and loan purpose is categorical (with more than 2 groups) we will use anova test to check if interest rates differ across various loan purposes."
   ]
  },
  {
   "cell_type": "markdown",
   "id": "24fd6c06-d5d0-4a6c-8967-aa7df5c9bd34",
   "metadata": {},
   "source": [
    "Ho: Different purpose of loans does not affect interest rates i.e. mean interest rates are same across all loan purposes.<br>\n",
    "Ha: Purpose of loans does affect interest rates i.e. atleast one loan purpose has a different interest rate."
   ]
  },
  {
   "cell_type": "code",
   "execution_count": 11,
   "id": "15ebe147-6d83-4148-9439-c08f29b30d80",
   "metadata": {},
   "outputs": [
    {
     "data": {
      "text/plain": [
       "array(['debt_consolidation', 'credit_card', 'other', 'moving', 'car',\n",
       "       'vacation', 'home_improvement', 'house', 'major_purchase',\n",
       "       'educational', 'medical', 'wedding', 'small_business',\n",
       "       'renewable_energy'], dtype=object)"
      ]
     },
     "execution_count": 11,
     "metadata": {},
     "output_type": "execute_result"
    }
   ],
   "source": [
    "loans_data.Loan_Purpose.unique()"
   ]
  },
  {
   "cell_type": "code",
   "execution_count": 12,
   "id": "21f4db5a-8a93-4c21-a458-70d5dbebbc8e",
   "metadata": {},
   "outputs": [],
   "source": [
    "#Samples\n",
    "\n",
    "debt_cons_df = loans_data[loans_data.Loan_Purpose == 'debt_consolidation'].Interest_Rate.dropna()\n",
    "credit_card_df =loans_data[loans_data.Loan_Purpose == 'credit_card'].Interest_Rate.dropna()\n",
    "other_df = loans_data[loans_data.Loan_Purpose == 'other'].Interest_Rate.dropna()\n",
    "moving_df = loans_data[loans_data.Loan_Purpose == 'moving'].Interest_Rate.dropna()\n",
    "car_df = loans_data[loans_data.Loan_Purpose == 'car'].Interest_Rate.dropna()\n",
    "vacation_df = loans_data[loans_data.Loan_Purpose == 'vacation'].Interest_Rate.dropna()\n",
    "home_improvement_df = loans_data[loans_data.Loan_Purpose == 'home_improvement'].Interest_Rate.dropna()\n",
    "house_df = loans_data[loans_data.Loan_Purpose == 'house'].Interest_Rate.dropna()\n",
    "major_purchase_df = loans_data[loans_data.Loan_Purpose == 'major_purchase'].Interest_Rate.dropna()\n",
    "educational_df = loans_data[loans_data.Loan_Purpose == 'educational'].Interest_Rate.dropna()\n",
    "medical_df = loans_data[loans_data.Loan_Purpose == 'medical'].Interest_Rate.dropna()\n",
    "wedding_df = loans_data[loans_data.Loan_Purpose == 'wedding'].Interest_Rate.dropna()\n",
    "small_business_df = loans_data[loans_data.Loan_Purpose == 'small_business'].Interest_Rate.dropna()\n",
    "renewable_energy_df = loans_data[loans_data.Loan_Purpose == 'renewable_energy'].Interest_Rate.dropna()"
   ]
  },
  {
   "cell_type": "markdown",
   "id": "a8b19219-3810-47f6-a6d1-2f02393ba63b",
   "metadata": {},
   "source": [
    "CI= 95%\n",
    "SL= 5%"
   ]
  },
  {
   "cell_type": "code",
   "execution_count": 13,
   "id": "721307fc-84ff-4c4f-84e9-d1a6381941e8",
   "metadata": {},
   "outputs": [],
   "source": [
    "pcritical = 0.05"
   ]
  },
  {
   "cell_type": "code",
   "execution_count": 14,
   "id": "92e96bbf-30d1-4b16-9d28-9ea71d719131",
   "metadata": {},
   "outputs": [],
   "source": [
    "fstatistic,pvalue = stats.f_oneway(debt_cons_df,credit_card_df,other_df,moving_df,car_df,vacation_df,home_improvement_df,house_df,major_purchase_df,educational_df,medical_df,wedding_df,small_business_df,renewable_energy_df)"
   ]
  },
  {
   "cell_type": "code",
   "execution_count": 15,
   "id": "47f8b46d-edca-4a34-9233-69c5e21b71b5",
   "metadata": {},
   "outputs": [
    {
     "data": {
      "text/plain": [
       "False"
      ]
     },
     "execution_count": 15,
     "metadata": {},
     "output_type": "execute_result"
    }
   ],
   "source": [
    "pcritical < pvalue"
   ]
  },
  {
   "cell_type": "markdown",
   "id": "fb3778d3-44f3-434c-afad-74c69040d55c",
   "metadata": {},
   "source": [
    "p is high, null will fly. Thus, Ho is accepted.\n",
    "As per the sample used, we are 95% confident that different purpose of loans does not affect interest rates i.e. mean interest rates are same across all loan purposes."
   ]
  },
  {
   "cell_type": "markdown",
   "id": "5daabf6b-fed6-49b9-8ba5-c632812cfcb1",
   "metadata": {},
   "source": [
    "### d. There is relationship between FICO scores and Home Ownership. It means that, People with owning home will have high FICO scores. "
   ]
  },
  {
   "cell_type": "code",
   "execution_count": 16,
   "id": "cb4dccba-df5c-48ea-8505-88403f5ae8cc",
   "metadata": {},
   "outputs": [],
   "source": [
    "# converting FICO ranges to numeric by calculating mid points\n",
    "\n",
    "def fico_to_numeric(fico_range):\n",
    "    if pd.isnull(fico_range):\n",
    "        return None\n",
    "    low,high= fico_range.split(sep='-')\n",
    "    return (int(low)+int(high))/2\n",
    "\n",
    "loans_data['FICO_numeric'] = loans_data['FICO_Range'].apply(fico_to_numeric)"
   ]
  },
  {
   "cell_type": "code",
   "execution_count": 17,
   "id": "98037d7e-a4f0-4e28-a4f8-52d4b007aaaa",
   "metadata": {},
   "outputs": [],
   "source": [
    "loans_data = loans_data.dropna(subset='Home_Ownership')"
   ]
  },
  {
   "cell_type": "markdown",
   "id": "f4d8553c-fd00-44e1-b23b-05bb0666c292",
   "metadata": {},
   "source": [
    "#Hypothesis\n",
    "Ho: There is no relationship between fico scores and home ownership i.e mean fico scores are same across all home ownership types.\n",
    "Ha: There is a relationship between fico scores and home ownership i.e mean fico scores are different for atleast one home ownership type."
   ]
  },
  {
   "cell_type": "code",
   "execution_count": 18,
   "id": "679c0ccf-2c0c-4600-b37e-a6c5d24f66db",
   "metadata": {},
   "outputs": [],
   "source": [
    "#Samples\n",
    "type_mortgage = loans_data[loans_data.Home_Ownership == 'MORTGAGE'].FICO_numeric.dropna()\n",
    "type_rent = loans_data[loans_data.Home_Ownership == 'RENT'].FICO_numeric.dropna()\n",
    "type_own = loans_data[loans_data.Home_Ownership == 'OWN'].FICO_numeric.dropna()\n",
    "type_other = loans_data[loans_data.Home_Ownership == 'OTHER'].FICO_numeric.dropna()\n",
    "type_none = loans_data[loans_data.Home_Ownership == 'NONE'].FICO_numeric.dropna()"
   ]
  },
  {
   "cell_type": "markdown",
   "id": "2455da71-bf7f-4c7e-ad27-962aaa8ea097",
   "metadata": {},
   "source": [
    "Since we have one numeric and one categorical variable having more than 2 categories, we will be using ANOVA test."
   ]
  },
  {
   "cell_type": "markdown",
   "id": "fb969c3b-1489-4176-9051-b194d59984b7",
   "metadata": {},
   "source": [
    "CI=95%\n",
    "SL=5%"
   ]
  },
  {
   "cell_type": "code",
   "execution_count": 19,
   "id": "f7679aa3-964b-467f-b5dd-f69782cdc70d",
   "metadata": {},
   "outputs": [],
   "source": [
    "pcritical=0.05"
   ]
  },
  {
   "cell_type": "code",
   "execution_count": 20,
   "id": "3b6ae7a2-34b1-408d-b427-00a3a6b6a179",
   "metadata": {},
   "outputs": [],
   "source": [
    "fstatistic,pvalue = stats.f_oneway(type_mortgage,type_rent,type_own,type_other,type_none)"
   ]
  },
  {
   "cell_type": "code",
   "execution_count": 21,
   "id": "54cbbce6-6c59-42db-8247-daa3fa557654",
   "metadata": {},
   "outputs": [
    {
     "data": {
      "text/plain": [
       "False"
      ]
     },
     "execution_count": 21,
     "metadata": {},
     "output_type": "execute_result"
    }
   ],
   "source": [
    "pcritical < pvalue"
   ]
  },
  {
   "cell_type": "markdown",
   "id": "b5de8950-0a3c-4756-b4bc-df7b54977d86",
   "metadata": {},
   "source": [
    "p is high, null will fly. Thus, Ho is accepted.\n",
    "As per the sample used we can say that mean fico scores are same for all home ownership types"
   ]
  },
  {
   "cell_type": "markdown",
   "id": "ca8c9750-fefd-441d-bad1-ee215a2c7a91",
   "metadata": {},
   "source": [
    "# BUSINESS PROBLEM - 2 \n",
    " \n",
    "### BACKGROUND:  When an order is placed by a customer of a small manufacturing company, a price quote must be developed for that order. Because each order is unique, quotes must be established on an order-by-order basis by a pricing expert. The price quote process is laborintensive, as prices depend on many factors such as the part number, customer, geographic location, market, and order volume. The sales department manager is concerned that the pricing process is too complex, and that there might be too much variability in the quoted prices. An improvement team is tasked with studying and improving the pricing process. After interviewing experts to develop a better understanding of the current process, the team designed a study to determine if there is variability between pricing experts. That is, do different pricing experts provide different price quotes? Two randomly selected pricing experts, Mary and Barry, were asked to independently provide prices for twelve randomly selected orders. Each expert provided one price for each of the twelve orders. \n",
    " \n",
    "## BUSINESS PROBLEM: We would like to assess if there is any difference in the average price quotes provided by Mary and Barry."
   ]
  },
  {
   "cell_type": "code",
   "execution_count": 22,
   "id": "c83b785f-d072-4b72-a265-3f2788de3a2c",
   "metadata": {},
   "outputs": [
    {
     "data": {
      "text/html": [
       "<div>\n",
       "<style scoped>\n",
       "    .dataframe tbody tr th:only-of-type {\n",
       "        vertical-align: middle;\n",
       "    }\n",
       "\n",
       "    .dataframe tbody tr th {\n",
       "        vertical-align: top;\n",
       "    }\n",
       "\n",
       "    .dataframe thead th {\n",
       "        text-align: right;\n",
       "    }\n",
       "</style>\n",
       "<table border=\"1\" class=\"dataframe\">\n",
       "  <thead>\n",
       "    <tr style=\"text-align: right;\">\n",
       "      <th></th>\n",
       "      <th>Order_Number</th>\n",
       "      <th>Barry_Price</th>\n",
       "      <th>Mary_Price</th>\n",
       "    </tr>\n",
       "  </thead>\n",
       "  <tbody>\n",
       "    <tr>\n",
       "      <th>0</th>\n",
       "      <td>1</td>\n",
       "      <td>126</td>\n",
       "      <td>114</td>\n",
       "    </tr>\n",
       "    <tr>\n",
       "      <th>1</th>\n",
       "      <td>2</td>\n",
       "      <td>110</td>\n",
       "      <td>118</td>\n",
       "    </tr>\n",
       "    <tr>\n",
       "      <th>2</th>\n",
       "      <td>3</td>\n",
       "      <td>138</td>\n",
       "      <td>114</td>\n",
       "    </tr>\n",
       "    <tr>\n",
       "      <th>3</th>\n",
       "      <td>4</td>\n",
       "      <td>142</td>\n",
       "      <td>111</td>\n",
       "    </tr>\n",
       "    <tr>\n",
       "      <th>4</th>\n",
       "      <td>5</td>\n",
       "      <td>146</td>\n",
       "      <td>129</td>\n",
       "    </tr>\n",
       "    <tr>\n",
       "      <th>5</th>\n",
       "      <td>6</td>\n",
       "      <td>136</td>\n",
       "      <td>119</td>\n",
       "    </tr>\n",
       "    <tr>\n",
       "      <th>6</th>\n",
       "      <td>7</td>\n",
       "      <td>94</td>\n",
       "      <td>97</td>\n",
       "    </tr>\n",
       "    <tr>\n",
       "      <th>7</th>\n",
       "      <td>8</td>\n",
       "      <td>103</td>\n",
       "      <td>104</td>\n",
       "    </tr>\n",
       "    <tr>\n",
       "      <th>8</th>\n",
       "      <td>9</td>\n",
       "      <td>140</td>\n",
       "      <td>127</td>\n",
       "    </tr>\n",
       "    <tr>\n",
       "      <th>9</th>\n",
       "      <td>10</td>\n",
       "      <td>152</td>\n",
       "      <td>133</td>\n",
       "    </tr>\n",
       "    <tr>\n",
       "      <th>10</th>\n",
       "      <td>11</td>\n",
       "      <td>108</td>\n",
       "      <td>103</td>\n",
       "    </tr>\n",
       "    <tr>\n",
       "      <th>11</th>\n",
       "      <td>12</td>\n",
       "      <td>97</td>\n",
       "      <td>108</td>\n",
       "    </tr>\n",
       "  </tbody>\n",
       "</table>\n",
       "</div>"
      ],
      "text/plain": [
       "    Order_Number  Barry_Price  Mary_Price\n",
       "0              1          126         114\n",
       "1              2          110         118\n",
       "2              3          138         114\n",
       "3              4          142         111\n",
       "4              5          146         129\n",
       "5              6          136         119\n",
       "6              7           94          97\n",
       "7              8          103         104\n",
       "8              9          140         127\n",
       "9             10          152         133\n",
       "10            11          108         103\n",
       "11            12           97         108"
      ]
     },
     "execution_count": 22,
     "metadata": {},
     "output_type": "execute_result"
    }
   ],
   "source": [
    "price_quotes_df = pd.read_csv('Price_Quotes.csv')\n",
    "price_quotes_df"
   ]
  },
  {
   "cell_type": "markdown",
   "id": "82485b0f-ba8f-4c1e-b451-c0a53b38e990",
   "metadata": {},
   "source": [
    "Since both are giving independent quotations, we will be using independent t test"
   ]
  },
  {
   "cell_type": "markdown",
   "id": "582e6e1e-6ae2-4842-82c5-3cf133ae4c36",
   "metadata": {},
   "source": [
    "Ho: Barry_quotation = Mary_quotation\n",
    "Ha: Barry_quotation != Mary_quotation"
   ]
  },
  {
   "cell_type": "code",
   "execution_count": 23,
   "id": "ab7be724-f19c-486d-81ee-5b1a30eee05c",
   "metadata": {},
   "outputs": [],
   "source": [
    "#Sample\n",
    "Barry_quot = price_quotes_df.Barry_Price\n",
    "Mary_quot = price_quotes_df.Mary_Price"
   ]
  },
  {
   "cell_type": "markdown",
   "id": "28f5864c-83fc-4e8b-8e0a-303e896b124f",
   "metadata": {},
   "source": [
    "CI = 95%\n",
    "SL = 5%"
   ]
  },
  {
   "cell_type": "code",
   "execution_count": 24,
   "id": "3226f670-87df-45d0-b54a-1787fc431474",
   "metadata": {},
   "outputs": [],
   "source": [
    "pcritical = 0.05"
   ]
  },
  {
   "cell_type": "code",
   "execution_count": 25,
   "id": "4b7bf8c2-1d58-4ce8-8d88-999da2d68caf",
   "metadata": {},
   "outputs": [],
   "source": [
    "tstatistic,pvalue = stats.ttest_ind(Barry_quot,Mary_quot)"
   ]
  },
  {
   "cell_type": "code",
   "execution_count": 26,
   "id": "442445e7-7253-4cbd-a538-04acb8e674b3",
   "metadata": {},
   "outputs": [
    {
     "data": {
      "text/plain": [
       "True"
      ]
     },
     "execution_count": 26,
     "metadata": {},
     "output_type": "execute_result"
    }
   ],
   "source": [
    "pcritical < pvalue"
   ]
  },
  {
   "cell_type": "markdown",
   "id": "97563017-9ee1-4a8e-8b01-103d651dbfc7",
   "metadata": {},
   "source": [
    "p is low null will go. Thus, Ha is accepted.\n",
    "As per the sample we can say that both the quotations provided by Barry and Mary are different."
   ]
  },
  {
   "cell_type": "markdown",
   "id": "15b15c06-2545-4121-a01f-06381f5d0508",
   "metadata": {},
   "source": [
    "# BUSINESS PROBLEM-3: \n",
    "### BACKGROUND: The New Life Residential Treatment Facility is a NGO that treats teenagers who have shown signs of mental illness. It provides housing and supervision of teenagers who are making the transition from psychiatric hospitals back into the community. Because many of the teenagers were severely abused as children and have been involved with the juvenile justice system, behavioral problems are common at New Life. Employee pay is low and staff turnover (attrition) is high. A reengineering program was instituted at New Life with the goals of lowering behavioral problems of the kids and decreasing employee turnover rates. As a part of this effort, the following changes were made:  Employee shifts were shortened from 10 hours to 8 hours each day.  Employees were motivated to become more involved in patient treatments. This included encouraging staff to run various therapeutic treatment sessions and allowing staff to have more say in program changes.  The activities budget was increased.  A facility-wide performance evaluation system was put into place that rewarded staff participation and innovation.  Management and staff instituted a program designed to raise expectations about appropriate behavior from the kids. This included strict compliance with reporting of behavioral violations, insistence on participation in therapeutic sessions, and a lowered tolerance for even moderate behavioral infractions. To determine the effectiveness of the reengineering effort, a data set comprised of pre- and post-reengineering periods was compiled. The information contains two measures of behavioral problems. A critical incident occurs when a resident goes AWOL (leaves the premises without permission), destroys property (e.g., punching a hole in a wall or throwing furniture through windows), is caught in possession of street drugs, or engages in assault against other residents or staff members. A teenager is temporarily removed from the facility when s/he is sent to jail or back to a psychiatric hospital \n",
    " \n",
    "## BUSINESS PROBLEM: \n",
    "### Determine what effect, if any, the reengineering effort had on the incidence behavioral problems and staff turnover. i.e To determine if the reengineering effort changed the critical incidence rate. Is there evidence that the critical incidence rate improved? "
   ]
  },
  {
   "cell_type": "code",
   "execution_count": 27,
   "id": "42d056bf-7750-4e39-bfbc-4939019f1e01",
   "metadata": {},
   "outputs": [
    {
     "data": {
      "text/html": [
       "<div>\n",
       "<style scoped>\n",
       "    .dataframe tbody tr th:only-of-type {\n",
       "        vertical-align: middle;\n",
       "    }\n",
       "\n",
       "    .dataframe tbody tr th {\n",
       "        vertical-align: top;\n",
       "    }\n",
       "\n",
       "    .dataframe thead th {\n",
       "        text-align: right;\n",
       "    }\n",
       "</style>\n",
       "<table border=\"1\" class=\"dataframe\">\n",
       "  <thead>\n",
       "    <tr style=\"text-align: right;\">\n",
       "      <th></th>\n",
       "      <th>Month</th>\n",
       "      <th>Reengineer</th>\n",
       "      <th>Employee_Turnover</th>\n",
       "      <th>VAR4</th>\n",
       "      <th>VAR5</th>\n",
       "    </tr>\n",
       "  </thead>\n",
       "  <tbody>\n",
       "    <tr>\n",
       "      <th>0</th>\n",
       "      <td>1</td>\n",
       "      <td>Prior</td>\n",
       "      <td>0.0000</td>\n",
       "      <td>24.390244</td>\n",
       "      <td>42.682927</td>\n",
       "    </tr>\n",
       "    <tr>\n",
       "      <th>1</th>\n",
       "      <td>2</td>\n",
       "      <td>Prior</td>\n",
       "      <td>6.0606</td>\n",
       "      <td>19.354839</td>\n",
       "      <td>25.806452</td>\n",
       "    </tr>\n",
       "    <tr>\n",
       "      <th>2</th>\n",
       "      <td>3</td>\n",
       "      <td>Prior</td>\n",
       "      <td>12.1212</td>\n",
       "      <td>35.087719</td>\n",
       "      <td>146.198830</td>\n",
       "    </tr>\n",
       "    <tr>\n",
       "      <th>3</th>\n",
       "      <td>4</td>\n",
       "      <td>Prior</td>\n",
       "      <td>3.3333</td>\n",
       "      <td>18.404908</td>\n",
       "      <td>110.429448</td>\n",
       "    </tr>\n",
       "    <tr>\n",
       "      <th>4</th>\n",
       "      <td>5</td>\n",
       "      <td>Prior</td>\n",
       "      <td>12.9032</td>\n",
       "      <td>17.964072</td>\n",
       "      <td>23.952096</td>\n",
       "    </tr>\n",
       "  </tbody>\n",
       "</table>\n",
       "</div>"
      ],
      "text/plain": [
       "   Month Reengineer  Employee_Turnover       VAR4        VAR5\n",
       "0      1      Prior             0.0000  24.390244   42.682927\n",
       "1      2      Prior             6.0606  19.354839   25.806452\n",
       "2      3      Prior            12.1212  35.087719  146.198830\n",
       "3      4      Prior             3.3333  18.404908  110.429448\n",
       "4      5      Prior            12.9032  17.964072   23.952096"
      ]
     },
     "execution_count": 27,
     "metadata": {},
     "output_type": "execute_result"
    }
   ],
   "source": [
    "treatment_df = pd.read_csv('Treatment_Facility.csv')\n",
    "treatment_df.head(5)"
   ]
  },
  {
   "cell_type": "code",
   "execution_count": 28,
   "id": "115060ef-8eba-4502-b127-169b88b573e0",
   "metadata": {},
   "outputs": [
    {
     "ename": "SyntaxError",
     "evalue": "invalid syntax (701034920.py, line 2)",
     "output_type": "error",
     "traceback": [
      "\u001b[1;36m  Cell \u001b[1;32mIn[28], line 2\u001b[1;36m\u001b[0m\n\u001b[1;33m    Ho: There is no difference in avg rates between pre and post reengineering.\u001b[0m\n\u001b[1;37m                    ^\u001b[0m\n\u001b[1;31mSyntaxError\u001b[0m\u001b[1;31m:\u001b[0m invalid syntax\n"
     ]
    }
   ],
   "source": [
    "#Hypothesis\n",
    "Ho: There is no difference in avg rates between pre and post reengineering.\n",
    "Ha: There is a difference in average rates between pre and post reengineering."
   ]
  },
  {
   "cell_type": "code",
   "execution_count": null,
   "id": "8edeeea5-ba94-4e6e-ac82-d7a869291028",
   "metadata": {},
   "outputs": [],
   "source": [
    "#Sample\n",
    "prior_df = treatment_df[treatment_df.Reengineer == 'Prior']\n",
    "post_df = treatment_df[treatment_df.Reengineer == 'Post']"
   ]
  },
  {
   "cell_type": "code",
   "execution_count": null,
   "id": "e049e1bf-cf59-4322-94ee-8cdd0395fe31",
   "metadata": {},
   "outputs": [],
   "source": [
    "t_emp = stats.ttest_ind(prior_df.Employee_Turnover,post_df.Employee_Turnover)"
   ]
  },
  {
   "cell_type": "code",
   "execution_count": null,
   "id": "76a723f4-ad92-42b6-8fcb-7f4aae24e169",
   "metadata": {},
   "outputs": [],
   "source": [
    "pcritical < t_emp.pvalue"
   ]
  },
  {
   "cell_type": "markdown",
   "id": "f2607c6e-58a8-4058-a13a-2634d5609527",
   "metadata": {},
   "source": [
    "p is low null will go. Ha accepted\n",
    "#### As per the sample, There is a difference in average employee turnover rates between pre and post reengineering."
   ]
  },
  {
   "cell_type": "code",
   "execution_count": null,
   "id": "7ec5f805-a641-4c4d-8f39-722ec431a6c6",
   "metadata": {},
   "outputs": [],
   "source": [
    "t_VAR4 = stats.ttest_ind(prior_df.VAR4,post_df.VAR4)"
   ]
  },
  {
   "cell_type": "code",
   "execution_count": null,
   "id": "a6c5cee4-9ec9-4b27-b608-68393c520592",
   "metadata": {},
   "outputs": [],
   "source": [
    "pcritical < t_VAR4.pvalue"
   ]
  },
  {
   "cell_type": "markdown",
   "id": "01f3b5df-fb03-4e80-83ee-ef0060c934db",
   "metadata": {},
   "source": [
    "p is high null will fly. Ho is accepted\n",
    "#### As per the sample, There is no difference in avg VAR4 rates between pre and post reengineering."
   ]
  },
  {
   "cell_type": "code",
   "execution_count": null,
   "id": "3c07e359-81e9-4920-a2e3-b6b6620be1f9",
   "metadata": {},
   "outputs": [],
   "source": [
    "t_VAR5 = stats.ttest_ind(prior_df.VAR5,post_df.VAR5)"
   ]
  },
  {
   "cell_type": "code",
   "execution_count": null,
   "id": "3adea48a-16c8-4946-bcd3-49e74e9b352b",
   "metadata": {},
   "outputs": [],
   "source": [
    "pcritical < t_VAR5.pvalue"
   ]
  },
  {
   "cell_type": "markdown",
   "id": "8f345df8-b511-4ffc-8784-2ed24b86c236",
   "metadata": {},
   "source": [
    "p is low null will go. Ha is accepted.\n",
    "#### As per the sample, There is a difference in average VAR5 rates between pre and post reengineering."
   ]
  },
  {
   "cell_type": "markdown",
   "id": "74b7e086-5f3c-43dc-9459-705b26859bdb",
   "metadata": {},
   "source": [
    "# BUSINESS PROBLEM-4 \n",
    "### BACKGROUND: Software development projects typically follow six basic phases: Requirements, design, implementation (and integration), testing (validation), deployment (installation) and maintenance. First, general requirements are gathered, and the scope of the functionality is defined. Then, alternative scenarios for the required functionality are developed and evaluated. Implementation, usually 50% or more of the development time, is the phase in which the design is translated into programs and integrated with other parts of the software – this is when software engineers actually develop the code. During the final phases, programs are tested, software is put into use, and faults or performance issues are addressed. ApDudes, a developer of applications for tablet computers, was having difficulty meeting project deadlines; only 10% of their projects had been completed within budget and on time last year and that was starting to hurt business. The group’s project manager was tasked with studying problems within the implementation phase. He found that software engineers were having difficulty prioritizing their work, and that they often became overwhelmed by the magnitude of the projects. As a result, two changes were made. Each project was broken down into smaller, distinct tasks, or jobs, and each job was assigned a priority. The project manager believes that this classification and prioritization system would speed the completion of high priority jobs, and thus lower overall project completion time \n",
    "## BUSINESS PROBLEM: \n",
    "### We will focus on the prioritization system. If the system is working, then high priority jobs, on average, should be completed more quickly than medium priority jobs, and medium priority jobs should be completed more quickly than low priority jobs. Use the data provided to determine whether this is, in fact, occurring."
   ]
  },
  {
   "cell_type": "code",
   "execution_count": null,
   "id": "bb28f0fc-de87-40e8-9533-e88dfe0d083c",
   "metadata": {},
   "outputs": [],
   "source": [
    "priority = pd.read_csv('Priority_Assessment.csv')\n",
    "priority.head()"
   ]
  },
  {
   "cell_type": "markdown",
   "id": "667804e3-7917-4af2-99ea-89e3377852a0",
   "metadata": {},
   "source": [
    "Ho: There is no difference between mean completion times between priorities\n",
    "Ha: mean completion time differs for atleast one priority"
   ]
  },
  {
   "cell_type": "code",
   "execution_count": null,
   "id": "cba78970-fb0a-495e-a86e-0e780151ea96",
   "metadata": {},
   "outputs": [],
   "source": [
    "p_high = priority[priority.Priority == 'High'].Days\n",
    "p_medium = priority[priority.Priority == 'Medium'].Days\n",
    "p_low = priority[priority.Priority == 'Low'].Days"
   ]
  },
  {
   "cell_type": "code",
   "execution_count": null,
   "id": "cf4052a4-9888-460b-b660-0b4c8fb25c09",
   "metadata": {},
   "outputs": [],
   "source": [
    "CI = 95%\n",
    "SL = 5%"
   ]
  },
  {
   "cell_type": "code",
   "execution_count": null,
   "id": "b0f31eb2-d471-42f7-9f2f-2ec0d5fa2330",
   "metadata": {},
   "outputs": [],
   "source": [
    "pcritical = 0.05"
   ]
  },
  {
   "cell_type": "code",
   "execution_count": null,
   "id": "149f40b6-87f3-4210-aa5c-3dc474f1a228",
   "metadata": {},
   "outputs": [],
   "source": [
    "fstatistic,pvalue = stats.f_oneway(p_high,p_medium,p_low)"
   ]
  },
  {
   "cell_type": "code",
   "execution_count": null,
   "id": "c63db940-3ba0-4ec3-aeb2-2155e474eeaa",
   "metadata": {},
   "outputs": [],
   "source": [
    "pcritical < pvalue"
   ]
  },
  {
   "cell_type": "markdown",
   "id": "aa4c8630-74ca-401c-ae6c-11d65f7791b0",
   "metadata": {},
   "source": [
    "At 5% significance level we reject the null hypothesis as pcritical(0.05) < pvalue.(p is low, null will go. Ha is accepted.)\n",
    "As per the sample, we can say that the mean completion time differs for high,medium,low priority jobs."
   ]
  },
  {
   "cell_type": "markdown",
   "id": "a7434f05-1444-441a-8786-c965247371ed",
   "metadata": {},
   "source": [
    "# BUSINESS PROBLEM-5 \n",
    "### BackGround: Film on the Rocks is a summer movie series held at the world-renowned Red Rocks Amphitheatre, which is situated on a hillside of the Rocky Mountains in Morrison, Colorado fifteen miles west of Denver. The film series features classic films, and pre-show entertainment including bands and comedians. Among the features that have made Red Rocks an internationally-famous concert stage are sweeping views of Denver, outstanding acoustics, and cool, dry Colorado summers. The series is jointly promoted by the Denver Film Society (DFS) and the City and County of Denver’s Division of Theatres and Arenas (DT&A). It is marketed through various outlets including newspaper, radio, and the Red Rocks and Denver Film Society websites. Film on the Rocks patrons also benefit from corporate sponsorship. In return for on-site posters and banners at Red Rocks, and recognition in pre- show marketing materials, corporations donate funds that keep ticket prices low. Although the Red Rocks Amphitheatre provides a cinematic experience unlike any other venue, there are tradeoffs. Red Rocks is a farther commute for most people than the local movie theater or movie rental store. Given the uphill walk to the amphitheatre from the parking lot, getting there can be challenging. And, as an outdoor venue, the viewing experience is dependent on the weather. Patron satisfaction with Red Rocks as the venue for the film series is critical to its success. But, the series promoters would also like to increase attendance at the film series, and are unsure how to do this. Promoters recognize that they need a better understanding of the customer base, and of the current level of satisfaction. Knowing the demographics of those who attend the film series will help attract and expand corporate sponsorship. In addition, knowing which media outlets are most effective will provideinformation about how best to target future marketing campaigns. To this end, the promoters conducted surveys during a recent Film on the Rocks season. Questionnaires were handed out at the entrance. Volunteers walked through the crowd to remind people about the free soft drink given to those who returned the survey. \n",
    " \n",
    "## BUSINESS PROBLEM:\n",
    "### Use the survey results to address the following questions \n",
    "###  What is the overall level of customer satisfaction? "
   ]
  },
  {
   "cell_type": "code",
   "execution_count": 225,
   "id": "b19a5649-4d07-4889-af1d-8df88197830e",
   "metadata": {},
   "outputs": [],
   "source": [
    "films_df = pd.read_csv('Films.csv')"
   ]
  },
  {
   "cell_type": "code",
   "execution_count": 226,
   "id": "603a169e-cdbe-4494-80ce-7de8c2e1fc97",
   "metadata": {},
   "outputs": [
    {
     "name": "stdout",
     "output_type": "stream",
     "text": [
      "<class 'pandas.core.frame.DataFrame'>\n",
      "RangeIndex: 330 entries, 0 to 329\n",
      "Data columns (total 11 columns):\n",
      " #   Column          Non-Null Count  Dtype  \n",
      "---  ------          --------------  -----  \n",
      " 0   _rowstate_      330 non-null    int64  \n",
      " 1   Movie           330 non-null    object \n",
      " 2   Gender          330 non-null    object \n",
      " 3   Marital_Status  328 non-null    object \n",
      " 4   Sinage          328 non-null    float64\n",
      " 5   Parking         328 non-null    float64\n",
      " 6   Clean           327 non-null    float64\n",
      " 7   Overall         328 non-null    float64\n",
      " 8   Age             328 non-null    float64\n",
      " 9   Income          314 non-null    float64\n",
      " 10  Hear_About      323 non-null    object \n",
      "dtypes: float64(6), int64(1), object(4)\n",
      "memory usage: 28.5+ KB\n"
     ]
    }
   ],
   "source": [
    "films_df.info()"
   ]
  },
  {
   "cell_type": "code",
   "execution_count": 227,
   "id": "3dd6c0b5-dc2a-4999-87ad-42c150331373",
   "metadata": {},
   "outputs": [
    {
     "data": {
      "text/plain": [
       "_rowstate_        0.000000\n",
       "Movie             0.000000\n",
       "Gender            0.000000\n",
       "Marital_Status    0.606061\n",
       "Sinage            0.606061\n",
       "Parking           0.606061\n",
       "Clean             0.909091\n",
       "Overall           0.606061\n",
       "Age               0.606061\n",
       "Income            4.848485\n",
       "Hear_About        2.121212\n",
       "dtype: float64"
      ]
     },
     "execution_count": 227,
     "metadata": {},
     "output_type": "execute_result"
    }
   ],
   "source": [
    "(films_df.isnull().sum()/len(films_df))*100"
   ]
  },
  {
   "cell_type": "code",
   "execution_count": 228,
   "id": "588a2f54-1c6a-40ff-a147-ff970f3237b8",
   "metadata": {},
   "outputs": [],
   "source": [
    "films_df.dropna(inplace=True)"
   ]
  },
  {
   "cell_type": "code",
   "execution_count": 229,
   "id": "b4484b13-a35b-42a6-be2d-feb87f1083c9",
   "metadata": {},
   "outputs": [
    {
     "data": {
      "text/plain": [
       "(301, 11)"
      ]
     },
     "execution_count": 229,
     "metadata": {},
     "output_type": "execute_result"
    }
   ],
   "source": [
    "films_df.shape"
   ]
  },
  {
   "cell_type": "code",
   "execution_count": 230,
   "id": "d21c9308-3b81-4040-8115-326e79f847a8",
   "metadata": {},
   "outputs": [],
   "source": [
    "films_df['Gender']=np.where(films_df.Gender == '1','Male','Female')"
   ]
  },
  {
   "cell_type": "code",
   "execution_count": 231,
   "id": "65ac8386-1fcb-4b8f-a9ab-26031d41bc61",
   "metadata": {},
   "outputs": [],
   "source": [
    "films_df['Marital_Status']=np.where(films_df.Marital_Status == '1','Married','Single')"
   ]
  },
  {
   "cell_type": "code",
   "execution_count": 232,
   "id": "39365067-934d-4faf-b927-0200e9fdbe5f",
   "metadata": {},
   "outputs": [
    {
     "data": {
      "text/plain": [
       "count    301.000000\n",
       "mean       1.621262\n",
       "std        0.675337\n",
       "min        1.000000\n",
       "25%        1.000000\n",
       "50%        2.000000\n",
       "75%        2.000000\n",
       "max        5.000000\n",
       "Name: Overall, dtype: float64"
      ]
     },
     "execution_count": 232,
     "metadata": {},
     "output_type": "execute_result"
    }
   ],
   "source": [
    "df_description = films_df.Overall.describe()\n",
    "df_description"
   ]
  },
  {
   "cell_type": "code",
   "execution_count": 233,
   "id": "ff8814de-027d-4bbd-ab8c-abf76bedc070",
   "metadata": {},
   "outputs": [],
   "source": [
    "overall_mean = df_description['mean']\n",
    "overall_std = df_description['std']\n",
    "se = overall_std/(films_df.shape[0])**0.5"
   ]
  },
  {
   "cell_type": "code",
   "execution_count": 234,
   "id": "e7bcb3fd-b8bc-4209-930f-d237992bed6e",
   "metadata": {},
   "outputs": [
    {
     "name": "stdout",
     "output_type": "stream",
     "text": [
      "95% confidence interval:\n",
      "Lower CI = 1.5449679620169605\n",
      "Upper CI = 1.697556954926561\n"
     ]
    }
   ],
   "source": [
    "# Calculate 95% CI using standard error\n",
    "lower_ci = overall_mean - 1.96 * se\n",
    "upper_ci = overall_mean + 1.96 * se\n",
    "print('95% confidence interval:')\n",
    "print('Lower CI =',lower_ci)\n",
    "print('Upper CI =',upper_ci)"
   ]
  },
  {
   "cell_type": "markdown",
   "id": "21533064-1a53-4bda-abff-ba42f5676c53",
   "metadata": {},
   "source": [
    "We can say with 95% confidence that overall satisfaction of people ranges from 1.54 to 1.70"
   ]
  },
  {
   "cell_type": "markdown",
   "id": "ede74c32-0902-431b-8b76-f97d9fe014f3",
   "metadata": {},
   "source": [
    "###  What factors are linked to satisfaction? "
   ]
  },
  {
   "cell_type": "code",
   "execution_count": 235,
   "id": "01629b9f-51f6-46ad-9ca4-d3d0e28b016d",
   "metadata": {},
   "outputs": [],
   "source": [
    "#Anova/Overall satisfaction with all other variable---> when with categorical ind ttest/with numerical correlaion"
   ]
  },
  {
   "cell_type": "markdown",
   "id": "1d61fa5e-6d9a-446e-91be-e6f94de014aa",
   "metadata": {},
   "source": [
    "#### Correlation for numerical columns(Sinage,Parking,Clean)"
   ]
  },
  {
   "cell_type": "markdown",
   "id": "e94ec91f-d67d-4e57-ac73-e7fe2a06fa98",
   "metadata": {},
   "source": [
    "Ho: There is no relationship between overall and factors<br>\n",
    "Ha: There is relatinship between overall and factors"
   ]
  },
  {
   "cell_type": "code",
   "execution_count": 236,
   "id": "1dfaa014-1a84-4241-9709-00b5f748f7c7",
   "metadata": {},
   "outputs": [
    {
     "name": "stdout",
     "output_type": "stream",
     "text": [
      "\n",
      "\n",
      "Correlation between Overall and Sinage\n",
      "\n",
      "\n",
      "           Sinage   Overall\n",
      "Sinage   1.000000  0.410689\n",
      "Overall  0.410689  1.000000\n",
      "\n",
      "\n",
      "Correlation between Overall and Parking\n",
      "\n",
      "\n",
      "          Parking   Overall\n",
      "Parking  1.000000  0.547717\n",
      "Overall  0.547717  1.000000\n",
      "\n",
      "\n",
      "Correlation between Overall and Clean\n",
      "\n",
      "\n",
      "            Clean   Overall\n",
      "Clean    1.000000  0.385523\n",
      "Overall  0.385523  1.000000\n"
     ]
    }
   ],
   "source": [
    "numeric_columns = ['Sinage','Parking','Clean']\n",
    "for col in numeric_columns:\n",
    "    print('\\n')\n",
    "    print('Correlation between Overall and',col)\n",
    "    print('\\n')\n",
    "    print(films_df[[col,'Overall']].corr())"
   ]
  },
  {
   "cell_type": "markdown",
   "id": "d5bdb248-4407-4bd3-8990-fa2f7548d2c8",
   "metadata": {},
   "source": [
    "#### There is weak positive correlation between Clean and overall and moderate correlation between signage and parking"
   ]
  },
  {
   "cell_type": "markdown",
   "id": "919e9080-c10c-4c9c-a4d1-c5c561b5aa23",
   "metadata": {},
   "source": [
    "### Using Anovaand Ind T test for categorical variables"
   ]
  },
  {
   "cell_type": "markdown",
   "id": "14a730a9-abb0-4d6c-a688-9640739c11ac",
   "metadata": {},
   "source": [
    "Using T test ind for Gender"
   ]
  },
  {
   "cell_type": "code",
   "execution_count": 237,
   "id": "e4f7bcf7-1a12-49a4-b4e0-1c2ba8f24c5b",
   "metadata": {},
   "outputs": [],
   "source": [
    "male_data = films_df[films_df.Gender == 'Male']['Overall']\n",
    "female_data = films_df[films_df.Gender == 'Female']['Overall']"
   ]
  },
  {
   "cell_type": "code",
   "execution_count": 238,
   "id": "2617030f-f3dc-4e4f-8650-0e48148bc1cb",
   "metadata": {},
   "outputs": [],
   "source": [
    "tstatistic,pvalue = stats.ttest_ind(male_data,female_data)"
   ]
  },
  {
   "cell_type": "code",
   "execution_count": 239,
   "id": "097344d5-1384-49e7-b8b2-9bdb955852c5",
   "metadata": {},
   "outputs": [],
   "source": [
    "#CI-95%\n",
    "#SL-5%\n",
    "pcritical= 0.05"
   ]
  },
  {
   "cell_type": "code",
   "execution_count": 240,
   "id": "7e7ba5f8-6191-47c8-8143-e56b136aa1dc",
   "metadata": {},
   "outputs": [
    {
     "data": {
      "text/plain": [
       "True"
      ]
     },
     "execution_count": 240,
     "metadata": {},
     "output_type": "execute_result"
    }
   ],
   "source": [
    "pvalue > pcritical"
   ]
  },
  {
   "cell_type": "markdown",
   "id": "73ce61a3-13d0-44a2-a9a7-c3b79dd8a3f6",
   "metadata": {},
   "source": [
    "Ho is accepted. There is no relationship between overall and factors."
   ]
  },
  {
   "cell_type": "markdown",
   "id": "02c91f76-7283-4323-999b-f17c2c62c40d",
   "metadata": {},
   "source": [
    "###  What is the demographic profile of Film on the Rocks patrons? "
   ]
  },
  {
   "cell_type": "markdown",
   "id": "40496e2d-ea2d-41d3-a0e7-35e3a4d62262",
   "metadata": {},
   "source": [
    "% of male female\n",
    "% of married unmarried\n",
    "age distribution\n",
    "income distribution"
   ]
  },
  {
   "cell_type": "code",
   "execution_count": 241,
   "id": "58204af6-8588-4125-be36-3f00e1f6a069",
   "metadata": {},
   "outputs": [
    {
     "data": {
      "text/html": [
       "<div>\n",
       "<style scoped>\n",
       "    .dataframe tbody tr th:only-of-type {\n",
       "        vertical-align: middle;\n",
       "    }\n",
       "\n",
       "    .dataframe tbody tr th {\n",
       "        vertical-align: top;\n",
       "    }\n",
       "\n",
       "    .dataframe thead th {\n",
       "        text-align: right;\n",
       "    }\n",
       "</style>\n",
       "<table border=\"1\" class=\"dataframe\">\n",
       "  <thead>\n",
       "    <tr style=\"text-align: right;\">\n",
       "      <th></th>\n",
       "      <th>_rowstate_</th>\n",
       "      <th>Movie</th>\n",
       "      <th>Gender</th>\n",
       "      <th>Marital_Status</th>\n",
       "      <th>Sinage</th>\n",
       "      <th>Parking</th>\n",
       "      <th>Clean</th>\n",
       "      <th>Overall</th>\n",
       "      <th>Age</th>\n",
       "      <th>Income</th>\n",
       "      <th>Hear_About</th>\n",
       "    </tr>\n",
       "  </thead>\n",
       "  <tbody>\n",
       "    <tr>\n",
       "      <th>0</th>\n",
       "      <td>0</td>\n",
       "      <td>Ferris Buellers Day Off</td>\n",
       "      <td>Female</td>\n",
       "      <td>Single</td>\n",
       "      <td>2.0</td>\n",
       "      <td>2.0</td>\n",
       "      <td>2.0</td>\n",
       "      <td>2.0</td>\n",
       "      <td>3.0</td>\n",
       "      <td>1.0</td>\n",
       "      <td>5</td>\n",
       "    </tr>\n",
       "    <tr>\n",
       "      <th>1</th>\n",
       "      <td>0</td>\n",
       "      <td>Ferris Buellers Day Off</td>\n",
       "      <td>Female</td>\n",
       "      <td>Single</td>\n",
       "      <td>1.0</td>\n",
       "      <td>1.0</td>\n",
       "      <td>1.0</td>\n",
       "      <td>1.0</td>\n",
       "      <td>2.0</td>\n",
       "      <td>1.0</td>\n",
       "      <td>5</td>\n",
       "    </tr>\n",
       "    <tr>\n",
       "      <th>2</th>\n",
       "      <td>0</td>\n",
       "      <td>Ferris Buellers Day Off</td>\n",
       "      <td>Female</td>\n",
       "      <td>Single</td>\n",
       "      <td>2.0</td>\n",
       "      <td>4.0</td>\n",
       "      <td>3.0</td>\n",
       "      <td>2.0</td>\n",
       "      <td>4.0</td>\n",
       "      <td>1.0</td>\n",
       "      <td>5</td>\n",
       "    </tr>\n",
       "    <tr>\n",
       "      <th>3</th>\n",
       "      <td>0</td>\n",
       "      <td>Ferris Buellers Day Off</td>\n",
       "      <td>Female</td>\n",
       "      <td>Single</td>\n",
       "      <td>1.0</td>\n",
       "      <td>3.0</td>\n",
       "      <td>2.0</td>\n",
       "      <td>2.0</td>\n",
       "      <td>4.0</td>\n",
       "      <td>1.0</td>\n",
       "      <td>5</td>\n",
       "    </tr>\n",
       "    <tr>\n",
       "      <th>4</th>\n",
       "      <td>0</td>\n",
       "      <td>Ferris Buellers Day Off</td>\n",
       "      <td>Female</td>\n",
       "      <td>Single</td>\n",
       "      <td>1.0</td>\n",
       "      <td>1.0</td>\n",
       "      <td>1.0</td>\n",
       "      <td>1.0</td>\n",
       "      <td>3.0</td>\n",
       "      <td>3.0</td>\n",
       "      <td>1</td>\n",
       "    </tr>\n",
       "    <tr>\n",
       "      <th>...</th>\n",
       "      <td>...</td>\n",
       "      <td>...</td>\n",
       "      <td>...</td>\n",
       "      <td>...</td>\n",
       "      <td>...</td>\n",
       "      <td>...</td>\n",
       "      <td>...</td>\n",
       "      <td>...</td>\n",
       "      <td>...</td>\n",
       "      <td>...</td>\n",
       "      <td>...</td>\n",
       "    </tr>\n",
       "    <tr>\n",
       "      <th>325</th>\n",
       "      <td>0</td>\n",
       "      <td>Old School</td>\n",
       "      <td>Female</td>\n",
       "      <td>Single</td>\n",
       "      <td>1.0</td>\n",
       "      <td>2.0</td>\n",
       "      <td>1.0</td>\n",
       "      <td>1.0</td>\n",
       "      <td>2.0</td>\n",
       "      <td>1.0</td>\n",
       "      <td>1</td>\n",
       "    </tr>\n",
       "    <tr>\n",
       "      <th>326</th>\n",
       "      <td>0</td>\n",
       "      <td>Old School</td>\n",
       "      <td>Male</td>\n",
       "      <td>Married</td>\n",
       "      <td>2.0</td>\n",
       "      <td>2.0</td>\n",
       "      <td>2.0</td>\n",
       "      <td>2.0</td>\n",
       "      <td>3.0</td>\n",
       "      <td>3.0</td>\n",
       "      <td>5</td>\n",
       "    </tr>\n",
       "    <tr>\n",
       "      <th>327</th>\n",
       "      <td>0</td>\n",
       "      <td>Old School</td>\n",
       "      <td>Female</td>\n",
       "      <td>Married</td>\n",
       "      <td>2.0</td>\n",
       "      <td>1.0</td>\n",
       "      <td>1.0</td>\n",
       "      <td>2.0</td>\n",
       "      <td>2.0</td>\n",
       "      <td>2.0</td>\n",
       "      <td>5</td>\n",
       "    </tr>\n",
       "    <tr>\n",
       "      <th>328</th>\n",
       "      <td>0</td>\n",
       "      <td>Old School</td>\n",
       "      <td>Male</td>\n",
       "      <td>Married</td>\n",
       "      <td>1.0</td>\n",
       "      <td>1.0</td>\n",
       "      <td>1.0</td>\n",
       "      <td>1.0</td>\n",
       "      <td>2.0</td>\n",
       "      <td>1.0</td>\n",
       "      <td>3</td>\n",
       "    </tr>\n",
       "    <tr>\n",
       "      <th>329</th>\n",
       "      <td>0</td>\n",
       "      <td>Old School</td>\n",
       "      <td>Female</td>\n",
       "      <td>Single</td>\n",
       "      <td>2.0</td>\n",
       "      <td>2.0</td>\n",
       "      <td>3.0</td>\n",
       "      <td>1.0</td>\n",
       "      <td>2.0</td>\n",
       "      <td>1.0</td>\n",
       "      <td>5</td>\n",
       "    </tr>\n",
       "  </tbody>\n",
       "</table>\n",
       "<p>301 rows × 11 columns</p>\n",
       "</div>"
      ],
      "text/plain": [
       "     _rowstate_                    Movie  Gender Marital_Status  Sinage  \\\n",
       "0             0  Ferris Buellers Day Off  Female         Single     2.0   \n",
       "1             0  Ferris Buellers Day Off  Female         Single     1.0   \n",
       "2             0  Ferris Buellers Day Off  Female         Single     2.0   \n",
       "3             0  Ferris Buellers Day Off  Female         Single     1.0   \n",
       "4             0  Ferris Buellers Day Off  Female         Single     1.0   \n",
       "..          ...                      ...     ...            ...     ...   \n",
       "325           0               Old School  Female         Single     1.0   \n",
       "326           0               Old School    Male        Married     2.0   \n",
       "327           0               Old School  Female        Married     2.0   \n",
       "328           0               Old School    Male        Married     1.0   \n",
       "329           0               Old School  Female         Single     2.0   \n",
       "\n",
       "     Parking  Clean  Overall  Age  Income Hear_About  \n",
       "0        2.0    2.0      2.0  3.0     1.0          5  \n",
       "1        1.0    1.0      1.0  2.0     1.0          5  \n",
       "2        4.0    3.0      2.0  4.0     1.0          5  \n",
       "3        3.0    2.0      2.0  4.0     1.0          5  \n",
       "4        1.0    1.0      1.0  3.0     3.0          1  \n",
       "..       ...    ...      ...  ...     ...        ...  \n",
       "325      2.0    1.0      1.0  2.0     1.0          1  \n",
       "326      2.0    2.0      2.0  3.0     3.0          5  \n",
       "327      1.0    1.0      2.0  2.0     2.0          5  \n",
       "328      1.0    1.0      1.0  2.0     1.0          3  \n",
       "329      2.0    3.0      1.0  2.0     1.0          5  \n",
       "\n",
       "[301 rows x 11 columns]"
      ]
     },
     "execution_count": 241,
     "metadata": {},
     "output_type": "execute_result"
    }
   ],
   "source": [
    "films_df"
   ]
  },
  {
   "cell_type": "code",
   "execution_count": 243,
   "id": "2898aec3-a553-4d84-ae83-b225b672bb30",
   "metadata": {},
   "outputs": [
    {
     "name": "stdout",
     "output_type": "stream",
     "text": [
      "Gender\n",
      "\n",
      "\n",
      "        Counts  Percentages(%)\n",
      "Gender                        \n",
      "Female     208            69.1\n",
      "Male        93            30.9\n",
      "\n",
      "\n",
      "Marital_Status\n",
      "\n",
      "\n",
      "                Counts  Percentages(%)\n",
      "Marital_Status                        \n",
      "Single             221           73.42\n",
      "Married             80           26.58\n",
      "\n",
      "\n",
      "Age\n",
      "\n",
      "\n",
      "     Counts  Percentages(%)\n",
      "Age                        \n",
      "2.0     164           54.49\n",
      "3.0     108           35.88\n",
      "1.0      22            7.31\n",
      "4.0       7            2.33\n",
      "\n",
      "\n",
      "Income\n",
      "\n",
      "\n",
      "        Counts  Percentages(%)\n",
      "Income                        \n",
      "1.0        135           44.85\n",
      "3.0         86           28.57\n",
      "2.0         80           26.58\n",
      "\n",
      "\n",
      "Hear_About\n",
      "\n",
      "\n",
      "            Counts  Percentages(%)\n",
      "Hear_About                        \n",
      "5              212           70.43\n",
      "4               39           12.96\n",
      "1               19            6.31\n",
      "3               13            4.32\n",
      "2               11            3.65\n",
      "2,5              2            0.66\n",
      "4,5              1            0.33\n",
      "1,5              1            0.33\n",
      "5,4              1            0.33\n",
      "3,5              1            0.33\n",
      "3,4              1            0.33\n",
      "\n",
      "\n"
     ]
    }
   ],
   "source": [
    "demo_columns = ['Gender', 'Marital_Status', 'Age', 'Income', 'Hear_About']\n",
    "demo_summary = {}\n",
    "for cols in demo_columns:\n",
    "    counts = films_df[cols].value_counts()\n",
    "    percentages = ((films_df[cols].value_counts()/films_df[col].count())* 100).round(2)\n",
    "    demo_summary[cols] = pd.DataFrame({'Counts':counts,'Percentages(%)':percentages})\n",
    "\n",
    "for col,summary in demo_summary.items():\n",
    "    print(col)\n",
    "    print('\\n')\n",
    "    print(summary)\n",
    "    print('\\n')"
   ]
  },
  {
   "cell_type": "markdown",
   "id": "6c47563f-382f-4656-9de2-5f8b066156b2",
   "metadata": {},
   "source": [
    "###  In what media outlet(s) should the film series be advertised?"
   ]
  },
  {
   "cell_type": "code",
   "execution_count": 246,
   "id": "a53d8077-82b1-491f-b126-0f67df55043f",
   "metadata": {},
   "outputs": [
    {
     "data": {
      "text/plain": [
       "Hear_About\n",
       "5      212\n",
       "4       39\n",
       "1       19\n",
       "3       13\n",
       "2       11\n",
       "2,5      2\n",
       "4,5      1\n",
       "1,5      1\n",
       "5,4      1\n",
       "3,5      1\n",
       "3,4      1\n",
       "Name: count, dtype: int64"
      ]
     },
     "execution_count": 246,
     "metadata": {},
     "output_type": "execute_result"
    }
   ],
   "source": [
    "films_df.Hear_About.value_counts()"
   ]
  },
  {
   "cell_type": "markdown",
   "id": "6cc4ac4a-212f-4c48-a087-7715e0fcb18f",
   "metadata": {},
   "source": [
    "Since majority of people have heard from channel 5 i.e. word of mouth, we can increase referral programs and social outreach along with promotions on the website and TV."
   ]
  }
 ],
 "metadata": {
  "kernelspec": {
   "display_name": "Python [conda env:base] *",
   "language": "python",
   "name": "conda-base-py"
  },
  "language_info": {
   "codemirror_mode": {
    "name": "ipython",
    "version": 3
   },
   "file_extension": ".py",
   "mimetype": "text/x-python",
   "name": "python",
   "nbconvert_exporter": "python",
   "pygments_lexer": "ipython3",
   "version": "3.12.7"
  }
 },
 "nbformat": 4,
 "nbformat_minor": 5
}
