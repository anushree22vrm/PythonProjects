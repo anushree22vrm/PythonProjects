{
 "cells": [
  {
   "cell_type": "code",
   "execution_count": 76,
   "id": "dceb479e-1961-4356-9ecb-419eeca12175",
   "metadata": {},
   "outputs": [],
   "source": [
    "import numpy as np\n",
    "import pandas as pd\n",
    "import os\n",
    "import matplotlib.pyplot as plt\n",
    "%matplotlib inline\n",
    "import seaborn as sns"
   ]
  },
  {
   "cell_type": "code",
   "execution_count": 77,
   "id": "c9aa5628-5834-445a-9301-e8f5f8533a36",
   "metadata": {},
   "outputs": [],
   "source": [
    "os.chdir('C:\\\\Users\\\\anush\\\\OneDrive\\\\Desktop\\\\Python Case Study\\\\Case Study 3 - Insurance Claims Case Study')"
   ]
  },
  {
   "cell_type": "code",
   "execution_count": 78,
   "id": "7a906825-b05b-4b7a-9de5-b4f28f6e7627",
   "metadata": {},
   "outputs": [],
   "source": [
    "claims_df = pd.read_csv('claims.csv')\n",
    "custdem_df = pd.read_csv('cust_demographics.csv')"
   ]
  },
  {
   "cell_type": "code",
   "execution_count": 79,
   "id": "06971ea1-130f-482a-817b-6e8064be7b64",
   "metadata": {},
   "outputs": [
    {
     "data": {
      "text/plain": [
       "Index(['claim_id', 'customer_id', 'incident_cause', 'claim_date', 'claim_area',\n",
       "       'police_report', 'claim_type', 'claim_amount', 'total_policy_claims',\n",
       "       'fraudulent'],\n",
       "      dtype='object')"
      ]
     },
     "execution_count": 79,
     "metadata": {},
     "output_type": "execute_result"
    }
   ],
   "source": [
    "claims_df.columns"
   ]
  },
  {
   "cell_type": "code",
   "execution_count": 80,
   "id": "7fb60bf6-a5aa-4376-a5eb-ab853e2cdaba",
   "metadata": {},
   "outputs": [
    {
     "data": {
      "text/plain": [
       "Index(['CUST_ID', 'gender', 'DateOfBirth', 'State', 'Contact', 'Segment'], dtype='object')"
      ]
     },
     "execution_count": 80,
     "metadata": {},
     "output_type": "execute_result"
    }
   ],
   "source": [
    "custdem_df.columns"
   ]
  },
  {
   "cell_type": "code",
   "execution_count": 81,
   "id": "f9bbebd3-f247-4164-b473-4aa333d45680",
   "metadata": {},
   "outputs": [],
   "source": [
    "custdem_df.rename(columns={'CUST_ID':'customer_id'},inplace=True)"
   ]
  },
  {
   "cell_type": "code",
   "execution_count": 82,
   "id": "68445403-f662-4a1d-8d83-3627319ee91d",
   "metadata": {},
   "outputs": [
    {
     "data": {
      "text/plain": [
       "Index(['customer_id', 'gender', 'DateOfBirth', 'State', 'Contact', 'Segment'], dtype='object')"
      ]
     },
     "execution_count": 82,
     "metadata": {},
     "output_type": "execute_result"
    }
   ],
   "source": [
    "custdem_df.columns"
   ]
  },
  {
   "cell_type": "code",
   "execution_count": 83,
   "id": "2679c132-0c65-4c64-a12d-3f4ebf6f3f85",
   "metadata": {},
   "outputs": [],
   "source": [
    "final_df = pd.merge(left=claims_df,right=custdem_df,on='customer_id',how='inner')"
   ]
  },
  {
   "cell_type": "code",
   "execution_count": 84,
   "id": "0d00939f-39d5-4e46-9555-e3134891d4b1",
   "metadata": {},
   "outputs": [
    {
     "data": {
      "text/html": [
       "<div>\n",
       "<style scoped>\n",
       "    .dataframe tbody tr th:only-of-type {\n",
       "        vertical-align: middle;\n",
       "    }\n",
       "\n",
       "    .dataframe tbody tr th {\n",
       "        vertical-align: top;\n",
       "    }\n",
       "\n",
       "    .dataframe thead th {\n",
       "        text-align: right;\n",
       "    }\n",
       "</style>\n",
       "<table border=\"1\" class=\"dataframe\">\n",
       "  <thead>\n",
       "    <tr style=\"text-align: right;\">\n",
       "      <th></th>\n",
       "      <th>claim_id</th>\n",
       "      <th>customer_id</th>\n",
       "      <th>incident_cause</th>\n",
       "      <th>claim_date</th>\n",
       "      <th>claim_area</th>\n",
       "      <th>police_report</th>\n",
       "      <th>claim_type</th>\n",
       "      <th>claim_amount</th>\n",
       "      <th>total_policy_claims</th>\n",
       "      <th>fraudulent</th>\n",
       "      <th>gender</th>\n",
       "      <th>DateOfBirth</th>\n",
       "      <th>State</th>\n",
       "      <th>Contact</th>\n",
       "      <th>Segment</th>\n",
       "    </tr>\n",
       "  </thead>\n",
       "  <tbody>\n",
       "    <tr>\n",
       "      <th>0</th>\n",
       "      <td>54004764</td>\n",
       "      <td>21868593</td>\n",
       "      <td>Driver error</td>\n",
       "      <td>11/27/2017</td>\n",
       "      <td>Auto</td>\n",
       "      <td>No</td>\n",
       "      <td>Material only</td>\n",
       "      <td>$2980</td>\n",
       "      <td>1.0</td>\n",
       "      <td>No</td>\n",
       "      <td>Female</td>\n",
       "      <td>12-Jan-79</td>\n",
       "      <td>VT</td>\n",
       "      <td>789-916-8172</td>\n",
       "      <td>Platinum</td>\n",
       "    </tr>\n",
       "    <tr>\n",
       "      <th>1</th>\n",
       "      <td>33985796</td>\n",
       "      <td>75740424</td>\n",
       "      <td>Crime</td>\n",
       "      <td>10-03-2018</td>\n",
       "      <td>Home</td>\n",
       "      <td>Unknown</td>\n",
       "      <td>Material only</td>\n",
       "      <td>$2980</td>\n",
       "      <td>3.0</td>\n",
       "      <td>No</td>\n",
       "      <td>Female</td>\n",
       "      <td>13-Jan-70</td>\n",
       "      <td>ME</td>\n",
       "      <td>265-543-1264</td>\n",
       "      <td>Silver</td>\n",
       "    </tr>\n",
       "    <tr>\n",
       "      <th>2</th>\n",
       "      <td>53522022</td>\n",
       "      <td>30308357</td>\n",
       "      <td>Other driver error</td>\n",
       "      <td>02-02-2018</td>\n",
       "      <td>Auto</td>\n",
       "      <td>No</td>\n",
       "      <td>Material only</td>\n",
       "      <td>$3369.5</td>\n",
       "      <td>1.0</td>\n",
       "      <td>Yes</td>\n",
       "      <td>Female</td>\n",
       "      <td>11-Mar-84</td>\n",
       "      <td>TN</td>\n",
       "      <td>798-631-4758</td>\n",
       "      <td>Silver</td>\n",
       "    </tr>\n",
       "  </tbody>\n",
       "</table>\n",
       "</div>"
      ],
      "text/plain": [
       "   claim_id  customer_id      incident_cause  claim_date claim_area  \\\n",
       "0  54004764     21868593        Driver error  11/27/2017       Auto   \n",
       "1  33985796     75740424               Crime  10-03-2018       Home   \n",
       "2  53522022     30308357  Other driver error  02-02-2018       Auto   \n",
       "\n",
       "  police_report     claim_type claim_amount  total_policy_claims fraudulent  \\\n",
       "0            No  Material only        $2980                  1.0         No   \n",
       "1       Unknown  Material only        $2980                  3.0         No   \n",
       "2            No  Material only      $3369.5                  1.0        Yes   \n",
       "\n",
       "   gender DateOfBirth State       Contact   Segment  \n",
       "0  Female   12-Jan-79    VT  789-916-8172  Platinum  \n",
       "1  Female   13-Jan-70    ME  265-543-1264    Silver  \n",
       "2  Female   11-Mar-84    TN  798-631-4758    Silver  "
      ]
     },
     "execution_count": 84,
     "metadata": {},
     "output_type": "execute_result"
    }
   ],
   "source": [
    "final_df.head(3)"
   ]
  },
  {
   "cell_type": "code",
   "execution_count": 85,
   "id": "d02c518f-5793-41ec-9ea1-895e37862484",
   "metadata": {},
   "outputs": [
    {
     "name": "stdout",
     "output_type": "stream",
     "text": [
      "The final_df has 1085 rows and 15 columns.\n"
     ]
    }
   ],
   "source": [
    "final_df.shape\n",
    "print('The final_df has',final_df.shape[0],'rows and',final_df.shape[1],'columns.')"
   ]
  },
  {
   "cell_type": "markdown",
   "id": "8e0f52ea-30ba-4abf-ab95-79a41dbd2e2d",
   "metadata": {},
   "source": [
    "#### Dataframe Info"
   ]
  },
  {
   "cell_type": "code",
   "execution_count": 86,
   "id": "9d0eb8c6-71c6-4c20-9b78-cd0be644e7ba",
   "metadata": {},
   "outputs": [
    {
     "name": "stdout",
     "output_type": "stream",
     "text": [
      "<class 'pandas.core.frame.DataFrame'>\n",
      "RangeIndex: 1085 entries, 0 to 1084\n",
      "Data columns (total 15 columns):\n",
      " #   Column               Non-Null Count  Dtype  \n",
      "---  ------               --------------  -----  \n",
      " 0   claim_id             1085 non-null   int64  \n",
      " 1   customer_id          1085 non-null   int64  \n",
      " 2   incident_cause       1085 non-null   object \n",
      " 3   claim_date           1085 non-null   object \n",
      " 4   claim_area           1085 non-null   object \n",
      " 5   police_report        1085 non-null   object \n",
      " 6   claim_type           1085 non-null   object \n",
      " 7   claim_amount         1020 non-null   object \n",
      " 8   total_policy_claims  1075 non-null   float64\n",
      " 9   fraudulent           1085 non-null   object \n",
      " 10  gender               1085 non-null   object \n",
      " 11  DateOfBirth          1085 non-null   object \n",
      " 12  State                1085 non-null   object \n",
      " 13  Contact              1085 non-null   object \n",
      " 14  Segment              1085 non-null   object \n",
      "dtypes: float64(1), int64(2), object(12)\n",
      "memory usage: 127.3+ KB\n"
     ]
    }
   ],
   "source": [
    "final_df.info()"
   ]
  },
  {
   "cell_type": "markdown",
   "id": "4c1ffaea-2819-4af1-9521-bd11fbc15190",
   "metadata": {},
   "source": [
    "#### Observations\n",
    "1. The datatype for claim_date is incorrect. Should be datetime not object.\n",
    "2. The datatype for claim_amount is incorrect. Should be float not object.\n",
    "3. The datatype for DateOfBirth is incorrect. Should be datetime not object."
   ]
  },
  {
   "cell_type": "markdown",
   "id": "3e8b5bf5-8077-408d-8498-2cc49ee98d0e",
   "metadata": {},
   "source": [
    "#### Changing Datatype"
   ]
  },
  {
   "cell_type": "code",
   "execution_count": 87,
   "id": "5de67ffb-9d3a-41ab-876c-f929129f3919",
   "metadata": {},
   "outputs": [],
   "source": [
    "final_df.claim_date=final_df.claim_date.str.replace('/','-')"
   ]
  },
  {
   "cell_type": "code",
   "execution_count": 88,
   "id": "37476ebf-18ee-4bcf-8c0f-216d26b0902c",
   "metadata": {},
   "outputs": [],
   "source": [
    "final_df.claim_date = pd.to_datetime(final_df.claim_date,format='%m-%d-%Y')"
   ]
  },
  {
   "cell_type": "code",
   "execution_count": 89,
   "id": "c84407f5-dbf3-4be6-880d-0cdea1abc2e1",
   "metadata": {},
   "outputs": [],
   "source": [
    "final_df.claim_amount = final_df.claim_amount.str.replace('$','')"
   ]
  },
  {
   "cell_type": "code",
   "execution_count": 90,
   "id": "73daf149-986e-4bcd-a5c5-3f8bdf4a6d5b",
   "metadata": {},
   "outputs": [],
   "source": [
    "final_df.claim_amount = final_df.claim_amount.astype(float)"
   ]
  },
  {
   "cell_type": "code",
   "execution_count": 91,
   "id": "b0438346-43be-4b19-b32e-4c238fca2b1f",
   "metadata": {},
   "outputs": [],
   "source": [
    "final_df.DateOfBirth = pd.to_datetime(final_df.DateOfBirth,format='%d-%b-%y')"
   ]
  },
  {
   "cell_type": "markdown",
   "id": "9bb46f0b-6c6e-45f1-aca2-3ebde6dedb14",
   "metadata": {},
   "source": [
    "#### Checking Datatypes again"
   ]
  },
  {
   "cell_type": "code",
   "execution_count": 92,
   "id": "12ed1065-5dc1-4e8a-8bba-c38ad3e9a490",
   "metadata": {},
   "outputs": [
    {
     "name": "stdout",
     "output_type": "stream",
     "text": [
      "<class 'pandas.core.frame.DataFrame'>\n",
      "RangeIndex: 1085 entries, 0 to 1084\n",
      "Data columns (total 15 columns):\n",
      " #   Column               Non-Null Count  Dtype         \n",
      "---  ------               --------------  -----         \n",
      " 0   claim_id             1085 non-null   int64         \n",
      " 1   customer_id          1085 non-null   int64         \n",
      " 2   incident_cause       1085 non-null   object        \n",
      " 3   claim_date           1085 non-null   datetime64[ns]\n",
      " 4   claim_area           1085 non-null   object        \n",
      " 5   police_report        1085 non-null   object        \n",
      " 6   claim_type           1085 non-null   object        \n",
      " 7   claim_amount         1020 non-null   float64       \n",
      " 8   total_policy_claims  1075 non-null   float64       \n",
      " 9   fraudulent           1085 non-null   object        \n",
      " 10  gender               1085 non-null   object        \n",
      " 11  DateOfBirth          1085 non-null   datetime64[ns]\n",
      " 12  State                1085 non-null   object        \n",
      " 13  Contact              1085 non-null   object        \n",
      " 14  Segment              1085 non-null   object        \n",
      "dtypes: datetime64[ns](2), float64(2), int64(2), object(9)\n",
      "memory usage: 127.3+ KB\n"
     ]
    }
   ],
   "source": [
    "final_df.info()"
   ]
  },
  {
   "cell_type": "markdown",
   "id": "8efbd766-f6d9-4c1c-b419-1529e7f32ee4",
   "metadata": {},
   "source": [
    "#### The datatypes are now corrected"
   ]
  },
  {
   "cell_type": "markdown",
   "id": "9c8f29cf-c2fd-408e-9b40-8beb39165cdb",
   "metadata": {},
   "source": [
    "#### Q4 Of all the injury claims, some of them have gone unreported with the police. Create an alert flag (1,0) for all such claims."
   ]
  },
  {
   "cell_type": "code",
   "execution_count": 93,
   "id": "c827c123-540e-4449-89fe-beb97e004d3d",
   "metadata": {},
   "outputs": [],
   "source": [
    "final_df['alert_flag'] = np.where((final_df.claim_type == 'Injury only') & (final_df.police_report == 'Yes'),0,1)"
   ]
  },
  {
   "cell_type": "markdown",
   "id": "80464c8e-7295-4bae-bf86-f3ccc515fd1f",
   "metadata": {},
   "source": [
    "#### Q5 One customer can claim for insurance more than once and in each claim,multiple categories of claims can be involved. However, customer ID should remain unique. Retain the most recent observation and delete any duplicated records in the data based on the customer ID column."
   ]
  },
  {
   "cell_type": "code",
   "execution_count": 166,
   "id": "043188be-37ff-47bd-b04e-87aca4585b63",
   "metadata": {},
   "outputs": [
    {
     "data": {
      "text/html": [
       "<div>\n",
       "<style scoped>\n",
       "    .dataframe tbody tr th:only-of-type {\n",
       "        vertical-align: middle;\n",
       "    }\n",
       "\n",
       "    .dataframe tbody tr th {\n",
       "        vertical-align: top;\n",
       "    }\n",
       "\n",
       "    .dataframe thead th {\n",
       "        text-align: right;\n",
       "    }\n",
       "</style>\n",
       "<table border=\"1\" class=\"dataframe\">\n",
       "  <thead>\n",
       "    <tr style=\"text-align: right;\">\n",
       "      <th></th>\n",
       "      <th>customer_id</th>\n",
       "      <th>claim_id</th>\n",
       "      <th>incident_cause</th>\n",
       "      <th>claim_date</th>\n",
       "      <th>claim_area</th>\n",
       "      <th>police_report</th>\n",
       "      <th>claim_type</th>\n",
       "      <th>claim_amount</th>\n",
       "      <th>total_policy_claims</th>\n",
       "      <th>fraudulent</th>\n",
       "      <th>gender</th>\n",
       "      <th>DateOfBirth</th>\n",
       "      <th>State</th>\n",
       "      <th>Contact</th>\n",
       "      <th>Segment</th>\n",
       "      <th>alert_flag</th>\n",
       "      <th>Age</th>\n",
       "      <th>Age_Group</th>\n",
       "    </tr>\n",
       "  </thead>\n",
       "  <tbody>\n",
       "    <tr>\n",
       "      <th>0</th>\n",
       "      <td>154557</td>\n",
       "      <td>69348631</td>\n",
       "      <td>Driver error</td>\n",
       "      <td>2018-04-10</td>\n",
       "      <td>Auto</td>\n",
       "      <td>No</td>\n",
       "      <td>Injury only</td>\n",
       "      <td>12501.73</td>\n",
       "      <td>1.0</td>\n",
       "      <td>Yes</td>\n",
       "      <td>Female</td>\n",
       "      <td>1978-05-23</td>\n",
       "      <td>DE</td>\n",
       "      <td>962-879-1238</td>\n",
       "      <td>Platinum</td>\n",
       "      <td>1</td>\n",
       "      <td>47</td>\n",
       "      <td>Adult</td>\n",
       "    </tr>\n",
       "    <tr>\n",
       "      <th>1</th>\n",
       "      <td>263204</td>\n",
       "      <td>40953049</td>\n",
       "      <td>Other causes</td>\n",
       "      <td>2018-04-04</td>\n",
       "      <td>Auto</td>\n",
       "      <td>No</td>\n",
       "      <td>Material and injury</td>\n",
       "      <td>39192.00</td>\n",
       "      <td>1.0</td>\n",
       "      <td>Yes</td>\n",
       "      <td>Male</td>\n",
       "      <td>1972-12-20</td>\n",
       "      <td>TX</td>\n",
       "      <td>173-892-6314</td>\n",
       "      <td>Silver</td>\n",
       "      <td>1</td>\n",
       "      <td>53</td>\n",
       "      <td>Adult</td>\n",
       "    </tr>\n",
       "    <tr>\n",
       "      <th>2</th>\n",
       "      <td>287476</td>\n",
       "      <td>45780237</td>\n",
       "      <td>Natural causes</td>\n",
       "      <td>2017-10-17</td>\n",
       "      <td>Auto</td>\n",
       "      <td>Unknown</td>\n",
       "      <td>Material only</td>\n",
       "      <td>1621.50</td>\n",
       "      <td>2.0</td>\n",
       "      <td>Yes</td>\n",
       "      <td>Male</td>\n",
       "      <td>1988-07-28</td>\n",
       "      <td>FL</td>\n",
       "      <td>364-598-1549</td>\n",
       "      <td>Silver</td>\n",
       "      <td>1</td>\n",
       "      <td>37</td>\n",
       "      <td>Adult</td>\n",
       "    </tr>\n",
       "  </tbody>\n",
       "</table>\n",
       "</div>"
      ],
      "text/plain": [
       "   customer_id  claim_id  incident_cause claim_date claim_area police_report  \\\n",
       "0       154557  69348631    Driver error 2018-04-10       Auto            No   \n",
       "1       263204  40953049    Other causes 2018-04-04       Auto            No   \n",
       "2       287476  45780237  Natural causes 2017-10-17       Auto       Unknown   \n",
       "\n",
       "            claim_type  claim_amount  total_policy_claims fraudulent  gender  \\\n",
       "0          Injury only      12501.73                  1.0        Yes  Female   \n",
       "1  Material and injury      39192.00                  1.0        Yes    Male   \n",
       "2        Material only       1621.50                  2.0        Yes    Male   \n",
       "\n",
       "  DateOfBirth State       Contact   Segment  alert_flag  Age Age_Group  \n",
       "0  1978-05-23    DE  962-879-1238  Platinum           1   47     Adult  \n",
       "1  1972-12-20    TX  173-892-6314    Silver           1   53     Adult  \n",
       "2  1988-07-28    FL  364-598-1549    Silver           1   37     Adult  "
      ]
     },
     "execution_count": 166,
     "metadata": {},
     "output_type": "execute_result"
    }
   ],
   "source": [
    "sorted_df = final_df.sort_values(by='claim_date',ascending=False)\n",
    "final_df = sorted_df.groupby(by='customer_id',as_index=False).first()\n",
    "final_df.head(3)"
   ]
  },
  {
   "cell_type": "code",
   "execution_count": 146,
   "id": "362bc414-a9e9-4f8a-8045-afdfafbfb0b5",
   "metadata": {},
   "outputs": [
    {
     "data": {
      "text/plain": [
       "(1078, 16)"
      ]
     },
     "execution_count": 146,
     "metadata": {},
     "output_type": "execute_result"
    }
   ],
   "source": [
    "final_df.shape"
   ]
  },
  {
   "cell_type": "markdown",
   "id": "395a362e-cb40-4223-b7eb-ba5c46ed5258",
   "metadata": {},
   "source": [
    "#### Q6 Check for missing values and impute the missing values with an appropriate value. (mean for continuous and mode for categorical)"
   ]
  },
  {
   "cell_type": "markdown",
   "id": "f778d685-0857-472f-9566-a2c86737d913",
   "metadata": {},
   "source": [
    "##### Checking for missing values"
   ]
  },
  {
   "cell_type": "code",
   "execution_count": 147,
   "id": "36fc3bb2-55a3-4dd1-9aa9-909eb94d20cf",
   "metadata": {},
   "outputs": [
    {
     "data": {
      "text/plain": [
       "customer_id             0\n",
       "claim_id                0\n",
       "incident_cause          0\n",
       "claim_date              0\n",
       "claim_area              0\n",
       "police_report           0\n",
       "claim_type              0\n",
       "claim_amount           65\n",
       "total_policy_claims    10\n",
       "fraudulent              0\n",
       "gender                  0\n",
       "DateOfBirth             0\n",
       "State                   0\n",
       "Contact                 0\n",
       "Segment                 0\n",
       "alert_flag              0\n",
       "dtype: int64"
      ]
     },
     "execution_count": 147,
     "metadata": {},
     "output_type": "execute_result"
    }
   ],
   "source": [
    "final_df.isna().sum()"
   ]
  },
  {
   "cell_type": "code",
   "execution_count": 148,
   "id": "ec4a32da-9eda-4c4b-ac8f-793740e2f2f6",
   "metadata": {},
   "outputs": [],
   "source": [
    "# Replacing continous values with mean\n",
    "final_df = final_df.fillna(final_df.claim_amount.mean().round(2))"
   ]
  },
  {
   "cell_type": "code",
   "execution_count": 149,
   "id": "cde8094c-ba76-4c0e-a04d-acdf5d8e097d",
   "metadata": {},
   "outputs": [],
   "source": [
    "# Replacing categorical values with mode\n",
    "final_df = final_df.fillna(final_df.total_policy_claims.mode()[0])"
   ]
  },
  {
   "cell_type": "markdown",
   "id": "817ae025-6cc1-4647-9b07-97021617aa67",
   "metadata": {},
   "source": [
    "#### Q7 Calculate the age of customers in years. Based on the age, categorize thecustomers according to the below criteria\n",
    "##### Children < 18 \n",
    "##### Youth 18-30\n",
    "##### Adult 30-60\n",
    "##### Senior > 60\n",
    "\n",
    " \n"
   ]
  },
  {
   "cell_type": "code",
   "execution_count": 150,
   "id": "1ae6acf9-e211-41bb-8f2a-7523a2035c16",
   "metadata": {},
   "outputs": [],
   "source": [
    "final_df['Age'] = (pd.Timestamp.today().year - final_df.DateOfBirth.dt.year)\n",
    "final_df['Age_Group'] = np.where(final_df.Age < 18,'Children',np.where((final_df.Age > 18) & (final_df.Age <=30),'Youth',np.where((final_df.Age > 30) & (final_df.Age <= 60),'Adult','Senior')))"
   ]
  },
  {
   "cell_type": "markdown",
   "id": "39b72461-4301-4f4e-8bad-d08c8bcab810",
   "metadata": {},
   "source": [
    "#### Q8 What is the average amount claimed by the customers from various segments?"
   ]
  },
  {
   "cell_type": "code",
   "execution_count": 151,
   "id": "19d4bfb6-8080-4ea1-b841-26393dd1bcbe",
   "metadata": {},
   "outputs": [
    {
     "data": {
      "text/html": [
       "<div>\n",
       "<style scoped>\n",
       "    .dataframe tbody tr th:only-of-type {\n",
       "        vertical-align: middle;\n",
       "    }\n",
       "\n",
       "    .dataframe tbody tr th {\n",
       "        vertical-align: top;\n",
       "    }\n",
       "\n",
       "    .dataframe thead th {\n",
       "        text-align: right;\n",
       "    }\n",
       "</style>\n",
       "<table border=\"1\" class=\"dataframe\">\n",
       "  <thead>\n",
       "    <tr style=\"text-align: right;\">\n",
       "      <th></th>\n",
       "      <th>claim_amount</th>\n",
       "    </tr>\n",
       "    <tr>\n",
       "      <th>Segment</th>\n",
       "      <th></th>\n",
       "    </tr>\n",
       "  </thead>\n",
       "  <tbody>\n",
       "    <tr>\n",
       "      <th>Gold</th>\n",
       "      <td>12846.40</td>\n",
       "    </tr>\n",
       "    <tr>\n",
       "      <th>Platinum</th>\n",
       "      <td>12371.65</td>\n",
       "    </tr>\n",
       "    <tr>\n",
       "      <th>Silver</th>\n",
       "      <td>12267.86</td>\n",
       "    </tr>\n",
       "  </tbody>\n",
       "</table>\n",
       "</div>"
      ],
      "text/plain": [
       "          claim_amount\n",
       "Segment               \n",
       "Gold          12846.40\n",
       "Platinum      12371.65\n",
       "Silver        12267.86"
      ]
     },
     "execution_count": 151,
     "metadata": {},
     "output_type": "execute_result"
    }
   ],
   "source": [
    "avg_amt_by_segment = final_df[['Segment','claim_amount']].groupby(by='Segment').mean().round(2)\n",
    "avg_amt_by_segment"
   ]
  },
  {
   "cell_type": "markdown",
   "id": "3db4863e-b189-4537-9ce5-afae05b7ccd2",
   "metadata": {},
   "source": [
    "#### Q9 What is the total claim amount based on incident cause for all the claims that have been done at least 20 days prior to 1st of October, 2018."
   ]
  },
  {
   "cell_type": "code",
   "execution_count": 165,
   "id": "45415b07-a311-41a4-932f-12916d5a9c4d",
   "metadata": {},
   "outputs": [
    {
     "data": {
      "text/html": [
       "<div>\n",
       "<style scoped>\n",
       "    .dataframe tbody tr th:only-of-type {\n",
       "        vertical-align: middle;\n",
       "    }\n",
       "\n",
       "    .dataframe tbody tr th {\n",
       "        vertical-align: top;\n",
       "    }\n",
       "\n",
       "    .dataframe thead th {\n",
       "        text-align: right;\n",
       "    }\n",
       "</style>\n",
       "<table border=\"1\" class=\"dataframe\">\n",
       "  <thead>\n",
       "    <tr style=\"text-align: right;\">\n",
       "      <th></th>\n",
       "      <th>claim_amount</th>\n",
       "    </tr>\n",
       "    <tr>\n",
       "      <th>incident_cause</th>\n",
       "      <th></th>\n",
       "    </tr>\n",
       "  </thead>\n",
       "  <tbody>\n",
       "    <tr>\n",
       "      <th>Crime</th>\n",
       "      <td>721938.65</td>\n",
       "    </tr>\n",
       "    <tr>\n",
       "      <th>Driver error</th>\n",
       "      <td>3315850.76</td>\n",
       "    </tr>\n",
       "    <tr>\n",
       "      <th>Natural causes</th>\n",
       "      <td>1312987.07</td>\n",
       "    </tr>\n",
       "    <tr>\n",
       "      <th>Other causes</th>\n",
       "      <td>3723151.87</td>\n",
       "    </tr>\n",
       "    <tr>\n",
       "      <th>Other driver error</th>\n",
       "      <td>3277536.49</td>\n",
       "    </tr>\n",
       "  </tbody>\n",
       "</table>\n",
       "</div>"
      ],
      "text/plain": [
       "                    claim_amount\n",
       "incident_cause                  \n",
       "Crime                  721938.65\n",
       "Driver error          3315850.76\n",
       "Natural causes        1312987.07\n",
       "Other causes          3723151.87\n",
       "Other driver error    3277536.49"
      ]
     },
     "execution_count": 165,
     "metadata": {},
     "output_type": "execute_result"
    }
   ],
   "source": [
    "df_by_date = final_df[final_df.claim_date <= (pd.to_datetime('2018-10-01') - pd.DateOffset(days=20))] \n",
    "df_by_date[['incident_cause','claim_amount']].groupby(by='incident_cause').sum()"
   ]
  },
  {
   "cell_type": "markdown",
   "id": "a31e0068-f61c-48be-8636-be2f747907cd",
   "metadata": {},
   "source": [
    "#### Q10 How many adults from TX, DE and AK claimed insurance for driver related issues and causes? "
   ]
  },
  {
   "cell_type": "code",
   "execution_count": 153,
   "id": "425232c1-59b4-41f0-ab46-1e94c4374fa7",
   "metadata": {},
   "outputs": [
    {
     "data": {
      "text/html": [
       "<div>\n",
       "<style scoped>\n",
       "    .dataframe tbody tr th:only-of-type {\n",
       "        vertical-align: middle;\n",
       "    }\n",
       "\n",
       "    .dataframe tbody tr th {\n",
       "        vertical-align: top;\n",
       "    }\n",
       "\n",
       "    .dataframe thead th {\n",
       "        text-align: right;\n",
       "    }\n",
       "</style>\n",
       "<table border=\"1\" class=\"dataframe\">\n",
       "  <thead>\n",
       "    <tr style=\"text-align: right;\">\n",
       "      <th></th>\n",
       "      <th>Count_of_Adults</th>\n",
       "    </tr>\n",
       "    <tr>\n",
       "      <th>incident_cause</th>\n",
       "      <th></th>\n",
       "    </tr>\n",
       "  </thead>\n",
       "  <tbody>\n",
       "    <tr>\n",
       "      <th>Driver error</th>\n",
       "      <td>14</td>\n",
       "    </tr>\n",
       "    <tr>\n",
       "      <th>Other driver error</th>\n",
       "      <td>10</td>\n",
       "    </tr>\n",
       "  </tbody>\n",
       "</table>\n",
       "</div>"
      ],
      "text/plain": [
       "                    Count_of_Adults\n",
       "incident_cause                     \n",
       "Driver error                     14\n",
       "Other driver error               10"
      ]
     },
     "execution_count": 153,
     "metadata": {},
     "output_type": "execute_result"
    }
   ],
   "source": [
    "df_by_city = final_df[(final_df.State == 'TX') | (final_df.State == 'DE') | (final_df.State == 'AK')]\n",
    "df_by_cause = df_by_city[(df_by_city.incident_cause == 'Driver error') | (df_by_city.incident_cause == 'Other driver error')]\n",
    "df_by_agegroup = df_by_cause[df_by_cause.Age_Group == 'Adult']\n",
    "result_df = df_by_agegroup[['incident_cause','customer_id']].groupby(by='incident_cause').count().rename(columns={'customer_id':'Count_of_Adults'})\n",
    "result_df"
   ]
  },
  {
   "cell_type": "markdown",
   "id": "af84a362-6f6a-4214-8b77-5194209841c6",
   "metadata": {},
   "source": [
    "#### Q11 Draw a pie chart between the aggregated value of claim amount based on gender and segment. Represent the claim amount as a percentage on the pie chart."
   ]
  },
  {
   "cell_type": "code",
   "execution_count": 154,
   "id": "2f5f3501-08e8-40fb-be85-c5509dcecb9d",
   "metadata": {},
   "outputs": [
    {
     "data": {
      "text/html": [
       "<div>\n",
       "<style scoped>\n",
       "    .dataframe tbody tr th:only-of-type {\n",
       "        vertical-align: middle;\n",
       "    }\n",
       "\n",
       "    .dataframe tbody tr th {\n",
       "        vertical-align: top;\n",
       "    }\n",
       "\n",
       "    .dataframe thead th {\n",
       "        text-align: right;\n",
       "    }\n",
       "</style>\n",
       "<table border=\"1\" class=\"dataframe\">\n",
       "  <thead>\n",
       "    <tr style=\"text-align: right;\">\n",
       "      <th></th>\n",
       "      <th></th>\n",
       "      <th>claim_amount</th>\n",
       "    </tr>\n",
       "    <tr>\n",
       "      <th>gender</th>\n",
       "      <th>Segment</th>\n",
       "      <th></th>\n",
       "    </tr>\n",
       "  </thead>\n",
       "  <tbody>\n",
       "    <tr>\n",
       "      <th rowspan=\"3\" valign=\"top\">Female</th>\n",
       "      <th>Gold</th>\n",
       "      <td>2110044.57</td>\n",
       "    </tr>\n",
       "    <tr>\n",
       "      <th>Platinum</th>\n",
       "      <td>2369722.11</td>\n",
       "    </tr>\n",
       "    <tr>\n",
       "      <th>Silver</th>\n",
       "      <td>1897544.99</td>\n",
       "    </tr>\n",
       "    <tr>\n",
       "      <th rowspan=\"3\" valign=\"top\">Male</th>\n",
       "      <th>Gold</th>\n",
       "      <td>2655969.99</td>\n",
       "    </tr>\n",
       "    <tr>\n",
       "      <th>Platinum</th>\n",
       "      <td>2096445.34</td>\n",
       "    </tr>\n",
       "    <tr>\n",
       "      <th>Silver</th>\n",
       "      <td>2347134.45</td>\n",
       "    </tr>\n",
       "  </tbody>\n",
       "</table>\n",
       "</div>"
      ],
      "text/plain": [
       "                 claim_amount\n",
       "gender Segment               \n",
       "Female Gold        2110044.57\n",
       "       Platinum    2369722.11\n",
       "       Silver      1897544.99\n",
       "Male   Gold        2655969.99\n",
       "       Platinum    2096445.34\n",
       "       Silver      2347134.45"
      ]
     },
     "execution_count": 154,
     "metadata": {},
     "output_type": "execute_result"
    }
   ],
   "source": [
    "grouped_df = final_df[['gender','Segment','claim_amount']].groupby(by=['gender','Segment']).sum()\n",
    "grouped_df"
   ]
  },
  {
   "cell_type": "code",
   "execution_count": 65,
   "id": "56949592-b62a-43ba-8210-cf950192d5bf",
   "metadata": {},
   "outputs": [
    {
     "data": {
      "image/png": "[encoded data removed]",
      "text/plain": [
       "<Figure size 640x480 with 1 Axes>"
      ]
     },
     "metadata": {},
     "output_type": "display_data"
    }
   ],
   "source": [
    "label=['Female-Gold','Female-Platinum','Female-Silver','Male-Gold','Male-Platinum','Male-Silver']\n",
    "plt.pie(x=grouped_df.claim_amount,labels=label,autopct='%0.2f%%')\n",
    "plt.show()"
   ]
  },
  {
   "cell_type": "code",
   "execution_count": null,
   "id": "c66fd296-9208-4cd7-bebe-3773557a7bef",
   "metadata": {},
   "outputs": [],
   "source": []
  },
  {
   "cell_type": "markdown",
   "id": "2dbc487d-ec1d-4556-a034-458e0e84558a",
   "metadata": {},
   "source": [
    "#### Q12  Among males and females, which gender had claimed the most for any type of driver related issues? E.g. This metric can be compared using a bar chart"
   ]
  },
  {
   "cell_type": "code",
   "execution_count": 66,
   "id": "ba7460c1-be7e-4cc0-9762-41e4a8fd6c9b",
   "metadata": {},
   "outputs": [
    {
     "data": {
      "image/png": "[encoded data removed]",
      "text/plain": [
       "<Figure size 640x480 with 1 Axes>"
      ]
     },
     "metadata": {},
     "output_type": "display_data"
    }
   ],
   "source": [
    "df_by_incident = final_df[(final_df.incident_cause == 'Driver error') | (final_df.incident_cause == 'Other driver error')]\n",
    "grouped_df_bygender = df_by_incident[['gender','claim_amount']].groupby(by='gender').sum()\n",
    "sns.barplot(data=grouped_df_bygender,x='gender',y='claim_amount')\n",
    "plt.show()"
   ]
  },
  {
   "cell_type": "code",
   "execution_count": null,
   "id": "d70301fc-d6e9-400f-825d-db814d663459",
   "metadata": {},
   "outputs": [],
   "source": []
  },
  {
   "cell_type": "markdown",
   "id": "953852cb-a7ae-4738-b886-ab9f3a8f919c",
   "metadata": {},
   "source": [
    "#### Q13 Which age group had the maximum fraudulent policy claims? Visualize it on a bar chart."
   ]
  },
  {
   "cell_type": "code",
   "execution_count": 67,
   "id": "0e7ab654-af29-40c1-bd92-6fb9c66782d2",
   "metadata": {},
   "outputs": [
    {
     "data": {
      "image/png": "[encoded data removed]",
      "text/plain": [
       "<Figure size 640x480 with 1 Axes>"
      ]
     },
     "metadata": {},
     "output_type": "display_data"
    }
   ],
   "source": [
    "fraud_claim_df = final_df[final_df.fraudulent == 'Yes']\n",
    "fclaims_by_age = fraud_claim_df[['Age_Group','customer_id']].groupby(by='Age_Group').count()\n",
    "fclaims_by_age\n",
    "sns.barplot(data=fclaims_by_age,x='Age_Group',y='customer_id')\n",
    "plt.show()"
   ]
  },
  {
   "cell_type": "code",
   "execution_count": null,
   "id": "d6ad0566-1a88-46b6-aad0-7da2e44125bc",
   "metadata": {},
   "outputs": [],
   "source": []
  },
  {
   "cell_type": "markdown",
   "id": "1784fcba-0a9d-4eef-8137-ae30942d0bf5",
   "metadata": {},
   "source": [
    "#### Q14 Visualize the monthly trend of the total amount that has been claimed by the customers. Ensure that on the “month” axis, the month is in a chronological order not alphabetical order.  "
   ]
  },
  {
   "cell_type": "code",
   "execution_count": 68,
   "id": "227ae012-893c-4ebd-b2e4-1009be8545f3",
   "metadata": {},
   "outputs": [
    {
     "data": {
      "image/png": "[encoded data removed]",
      "text/plain": [
       "<Figure size 640x480 with 1 Axes>"
      ]
     },
     "metadata": {},
     "output_type": "display_data"
    }
   ],
   "source": [
    "final_df['month_num'] = final_df.claim_date.dt.month\n",
    "claims_by_month = final_df[['month_num','claim_amount']].groupby(by='month_num').sum()\n",
    "sns.lineplot(data=claims_by_month,x='month_num',y='claim_amount',marker='o',)\n",
    "plt.xlabel('Month')\n",
    "plt.ylabel('Amount')\n",
    "plt.show()"
   ]
  },
  {
   "cell_type": "code",
   "execution_count": null,
   "id": "514c7bb5-658b-4389-8694-1f4b4aa735c1",
   "metadata": {},
   "outputs": [],
   "source": []
  },
  {
   "cell_type": "markdown",
   "id": "6fad2f4c-01b4-4aeb-83b7-15d4dbe79908",
   "metadata": {},
   "source": [
    "#### Q15 What is the average claim amount for gender and age categories and suitably represent the above using a facetted bar chart, one facet that represents fraudulent claims and the other for non-fraudulent claims."
   ]
  },
  {
   "cell_type": "code",
   "execution_count": 69,
   "id": "8e6b5aec-e8a9-4b18-8bde-55201f092ab0",
   "metadata": {},
   "outputs": [],
   "source": [
    "fraud_claims_df = final_df[final_df.fraudulent == 'Yes']\n",
    "nonfraud_claims_df = final_df[final_df.fraudulent == 'No']\n",
    "grouped_df1 = fraud_claims_df[['gender','Age_Group','claim_amount']].groupby(by=['gender','Age_Group']).mean().rename(columns={'claim_amount':'Fraud_Claims_Amount'})\n",
    "grouped_df2 = nonfraud_claims_df[['gender','Age_Group','claim_amount']].groupby(by=['gender','Age_Group']).mean().rename(columns={'claim_amount':'Non_Fraud_Claims_Amount'})"
   ]
  },
  {
   "cell_type": "code",
   "execution_count": 75,
   "id": "0feb53fc-d138-4c35-9b9b-7a85d1a64d39",
   "metadata": {},
   "outputs": [
    {
     "data": {
      "text/plain": [
       "<Figure size 800x500 with 0 Axes>"
      ]
     },
     "metadata": {},
     "output_type": "display_data"
    },
    {
     "data": {
      "image/png": "[encoded data removed]",
      "text/plain": [
       "<Figure size 1000x500 with 2 Axes>"
      ]
     },
     "metadata": {},
     "output_type": "display_data"
    },
    {
     "data": {
      "image/png": "[encoded data removed]",
      "text/plain": [
       "<Figure size 1000x500 with 2 Axes>"
      ]
     },
     "metadata": {},
     "output_type": "display_data"
    }
   ],
   "source": [
    "plt.figure(figsize=(8,5))\n",
    "sns.catplot(data=grouped_df1,kind='bar',x='Age_Group',y='Fraud_Claims_Amount',col='gender',hue='Age_Group',palette='Set2')\n",
    "plt.show()\n",
    "sns.catplot(data=grouped_df2,kind='bar',x='Age_Group',y='Non_Fraud_Claims_Amount',col='gender',hue='Age_Group',palette='Set3')\n",
    "plt.show()\n"
   ]
  },
  {
   "cell_type": "markdown",
   "id": "ca9d616a-dab0-49f3-900c-8a53e914f50e",
   "metadata": {},
   "source": [
    "#### Based on the conclusions from exploratory analysis as well as suitable statistical tests, answer the below questions. Please include a detailed write-up on the parameters taken into consideration, the Hypothesis testing steps, conclusion from the p-values and the business implications of the statements. "
   ]
  },
  {
   "cell_type": "markdown",
   "id": "7d5458c8-a068-4f6a-9a9d-9a72f99c8b86",
   "metadata": {},
   "source": [
    "#### 16. Is there any similarity in the amount claimed by males and females?"
   ]
  },
  {
   "cell_type": "code",
   "execution_count": 336,
   "id": "c1edcfd7-108b-4fd9-92f6-f17e64259e17",
   "metadata": {},
   "outputs": [],
   "source": [
    "import scipy.stats as stats"
   ]
  },
  {
   "cell_type": "raw",
   "id": "7bb3c437-8b50-4474-a6fc-603838df1907",
   "metadata": {},
   "source": [
    "Ho: male_claim_amount = female_claim_amount\n",
    "Ha: male_claim_amount != female_claim_amount"
   ]
  },
  {
   "cell_type": "code",
   "execution_count": 339,
   "id": "06d9fb46-88d9-4d81-8a24-eca82a79c0d0",
   "metadata": {},
   "outputs": [],
   "source": [
    "# Sample\n",
    "s1 = final_df[final_df['gender'] == 'Male'].claim_amount\n",
    "s2 = final_df[final_df['gender'] == 'Female'].claim_amount"
   ]
  },
  {
   "cell_type": "raw",
   "id": "6d1a2923-2e09-4b3d-9554-5acd39c1bfa4",
   "metadata": {},
   "source": [
    "CI= 95%\n",
    "SL= 5%\n",
    "pcritical = 0.05\n",
    "\n",
    "Deciding Test: We have 2 numeric samples and we are comparing them and as we dont have mean and std we will be going for T test."
   ]
  },
  {
   "cell_type": "code",
   "execution_count": 340,
   "id": "cecd865c-611a-404f-af41-e6c8b685e5a3",
   "metadata": {},
   "outputs": [],
   "source": [
    "pcritical = 0.05\n",
    "r1 = stats.ttest_ind(s1,s2)\n",
    "pvalue = r1.pvalue"
   ]
  },
  {
   "cell_type": "code",
   "execution_count": 341,
   "id": "a0e35ecf-25d5-414b-89ef-090aae38eb4e",
   "metadata": {},
   "outputs": [
    {
     "data": {
      "text/plain": [
       "True"
      ]
     },
     "execution_count": 341,
     "metadata": {},
     "output_type": "execute_result"
    }
   ],
   "source": [
    "pvalue > pcritical  #p is high null will fly. Ho is accepted"
   ]
  },
  {
   "cell_type": "raw",
   "id": "05b044f6-5c74-4ee0-a9ac-c60ff5ed7e47",
   "metadata": {},
   "source": [
    "Conclusion: As per the sample used we are 95% confident that male_claim_amount is equal to female_claim_amount."
   ]
  },
  {
   "cell_type": "markdown",
   "id": "7bafc831-e923-4c01-b9ae-64f36eba36ee",
   "metadata": {},
   "source": [
    "#### 17. Is there any relationship between age category and segment?"
   ]
  },
  {
   "cell_type": "raw",
   "id": "be04d983-faff-4540-8608-f02c9e87ce62",
   "metadata": {},
   "source": [
    "Ho: There is no relationship between age category and segment\n",
    "Ha: There is a relationship between age category and segment"
   ]
  },
  {
   "cell_type": "code",
   "execution_count": 342,
   "id": "8e350fba-6776-4622-b3f9-f1cf2bfefbf5",
   "metadata": {},
   "outputs": [
    {
     "data": {
      "text/html": [
       "<div>\n",
       "<style scoped>\n",
       "    .dataframe tbody tr th:only-of-type {\n",
       "        vertical-align: middle;\n",
       "    }\n",
       "\n",
       "    .dataframe tbody tr th {\n",
       "        vertical-align: top;\n",
       "    }\n",
       "\n",
       "    .dataframe thead th {\n",
       "        text-align: right;\n",
       "    }\n",
       "</style>\n",
       "<table border=\"1\" class=\"dataframe\">\n",
       "  <thead>\n",
       "    <tr style=\"text-align: right;\">\n",
       "      <th></th>\n",
       "      <th>Age_Group</th>\n",
       "      <th>Segment</th>\n",
       "    </tr>\n",
       "  </thead>\n",
       "  <tbody>\n",
       "    <tr>\n",
       "      <th>0</th>\n",
       "      <td>Adult</td>\n",
       "      <td>Platinum</td>\n",
       "    </tr>\n",
       "    <tr>\n",
       "      <th>1</th>\n",
       "      <td>Adult</td>\n",
       "      <td>Silver</td>\n",
       "    </tr>\n",
       "    <tr>\n",
       "      <th>2</th>\n",
       "      <td>Adult</td>\n",
       "      <td>Silver</td>\n",
       "    </tr>\n",
       "    <tr>\n",
       "      <th>3</th>\n",
       "      <td>Adult</td>\n",
       "      <td>Gold</td>\n",
       "    </tr>\n",
       "    <tr>\n",
       "      <th>4</th>\n",
       "      <td>Adult</td>\n",
       "      <td>Gold</td>\n",
       "    </tr>\n",
       "    <tr>\n",
       "      <th>...</th>\n",
       "      <td>...</td>\n",
       "      <td>...</td>\n",
       "    </tr>\n",
       "    <tr>\n",
       "      <th>1073</th>\n",
       "      <td>Children</td>\n",
       "      <td>Silver</td>\n",
       "    </tr>\n",
       "    <tr>\n",
       "      <th>1074</th>\n",
       "      <td>Children</td>\n",
       "      <td>Gold</td>\n",
       "    </tr>\n",
       "    <tr>\n",
       "      <th>1075</th>\n",
       "      <td>Children</td>\n",
       "      <td>Silver</td>\n",
       "    </tr>\n",
       "    <tr>\n",
       "      <th>1076</th>\n",
       "      <td>Youth</td>\n",
       "      <td>Gold</td>\n",
       "    </tr>\n",
       "    <tr>\n",
       "      <th>1077</th>\n",
       "      <td>Youth</td>\n",
       "      <td>Platinum</td>\n",
       "    </tr>\n",
       "  </tbody>\n",
       "</table>\n",
       "<p>1078 rows × 2 columns</p>\n",
       "</div>"
      ],
      "text/plain": [
       "     Age_Group   Segment\n",
       "0        Adult  Platinum\n",
       "1        Adult    Silver\n",
       "2        Adult    Silver\n",
       "3        Adult      Gold\n",
       "4        Adult      Gold\n",
       "...        ...       ...\n",
       "1073  Children    Silver\n",
       "1074  Children      Gold\n",
       "1075  Children    Silver\n",
       "1076     Youth      Gold\n",
       "1077     Youth  Platinum\n",
       "\n",
       "[1078 rows x 2 columns]"
      ]
     },
     "execution_count": 342,
     "metadata": {},
     "output_type": "execute_result"
    }
   ],
   "source": [
    "#CI= 95%\n",
    "#SL= 5%\n",
    "pcritical= 0.05\n",
    "final_df[['Age_Group','Segment']]"
   ]
  },
  {
   "cell_type": "raw",
   "id": "787d69d5-df19-4ddb-af62-551a53f1da89",
   "metadata": {},
   "source": [
    "Deciding Test : As both the columns are categorical we will use chi square test"
   ]
  },
  {
   "cell_type": "code",
   "execution_count": 222,
   "id": "fa61b4e6-443f-404e-99c5-1e2aec0f5d09",
   "metadata": {},
   "outputs": [
    {
     "data": {
      "text/plain": [
       "True"
      ]
     },
     "execution_count": 222,
     "metadata": {},
     "output_type": "execute_result"
    }
   ],
   "source": [
    "ob_freq = pd.crosstab(final_df.Age_Group,final_df.Segment)\n",
    "r2 = stats.chi2_contingency(ob_freq)\n",
    "pvalue = r2[1]\n",
    "pvalue > pcritical  # p is high null will fly. Ho is accepted."
   ]
  },
  {
   "cell_type": "raw",
   "id": "88fbfef1-5ea5-4937-bab8-8b0f0d89080a",
   "metadata": {},
   "source": [
    "So, as per the sample we are 95% confident that there is no relationship between segments and age group."
   ]
  },
  {
   "cell_type": "markdown",
   "id": "92dd7ea2-40bd-4663-8900-4986edb6adff",
   "metadata": {},
   "source": [
    "#### 18. The current year has shown a significant rise in claim amounts as compared to 2016-17 fiscal average which was $10,000."
   ]
  },
  {
   "cell_type": "raw",
   "id": "871dee3e-dfc5-4469-b859-2c5beb638086",
   "metadata": {},
   "source": [
    "Ho: CY_claim_amount >= 10000\n",
    "Ha: CY_claim_amount < 10000\n",
    "\n",
    "CI= 95%\n",
    "SL= 5%\n",
    "pcritical = 0.05"
   ]
  },
  {
   "cell_type": "code",
   "execution_count": 319,
   "id": "b57d5c18-636f-4776-96d3-716d133e03ad",
   "metadata": {},
   "outputs": [],
   "source": [
    "pcritical = 0.05\n",
    "ttest,pvalue = stats.ttest_1samp(final_df.claim_amount,popmean=10000)"
   ]
  },
  {
   "cell_type": "code",
   "execution_count": 321,
   "id": "ff12b668-fc9f-4fad-9b85-f33bca0edfb0",
   "metadata": {},
   "outputs": [
    {
     "data": {
      "text/plain": [
       "True"
      ]
     },
     "execution_count": 321,
     "metadata": {},
     "output_type": "execute_result"
    }
   ],
   "source": [
    "pvalue < pcritical  # p is low,null will go. Ha is accepted"
   ]
  },
  {
   "cell_type": "raw",
   "id": "ee409f78-d913-44cb-b4a1-a01f9ce96748",
   "metadata": {},
   "source": [
    "As per the sample we are 95% confident that the claim amount for current year has not shown significant rise as compared to 2016-17 average i.e $10,000."
   ]
  },
  {
   "cell_type": "markdown",
   "id": "589545ff-76b9-45b8-b460-0793ec5908ea",
   "metadata": {},
   "source": [
    "#### 19. Is there any difference between age groups and insurance claims?"
   ]
  },
  {
   "cell_type": "raw",
   "id": "59442b88-18fd-44f2-b1a9-636e81efc003",
   "metadata": {},
   "source": [
    "Ho: There is no difference between age groups and insurance claims.\n",
    "Ha: There is difference between age groups and insurance claims."
   ]
  },
  {
   "cell_type": "raw",
   "id": "5a91bc13-f3ca-4c76-958d-b5ae9d4c8637",
   "metadata": {},
   "source": [
    "CI= 95%\n",
    "SL= 5%\n",
    "pcritical= 0.05"
   ]
  },
  {
   "cell_type": "code",
   "execution_count": 250,
   "id": "32d0eb96-2f7d-4e1a-a6e7-bdc2e18b280e",
   "metadata": {},
   "outputs": [],
   "source": [
    "pcritical= 0.05\n",
    "ob_freq = pd.crosstab(final_df.Age_Group,final_df.claim_type)\n",
    "r3 = stats.chi2_contingency(ob_freq)\n",
    "pvalue = r3[1]"
   ]
  },
  {
   "cell_type": "code",
   "execution_count": 251,
   "id": "7f33b7f0-1065-4906-be36-398960bc51ba",
   "metadata": {},
   "outputs": [
    {
     "data": {
      "text/plain": [
       "False"
      ]
     },
     "execution_count": 251,
     "metadata": {},
     "output_type": "execute_result"
    }
   ],
   "source": [
    "pvalue > pcritical  #p is low null will go. Ha is accepted"
   ]
  },
  {
   "cell_type": "raw",
   "id": "d28dd5ef-4682-496b-b934-e8ca3e45b311",
   "metadata": {},
   "source": [
    "As per the sample there is difference between age groups and insurance claims."
   ]
  },
  {
   "cell_type": "markdown",
   "id": "cc2a8f61-667b-443d-96a8-78177a33d3c4",
   "metadata": {},
   "source": [
    "#### 20. Is there any relationship between total number of policy claims and the claimed amount?"
   ]
  },
  {
   "cell_type": "raw",
   "id": "76153fc0-6876-4891-b61a-d36afa08b374",
   "metadata": {},
   "source": [
    "Ho: There is no relationship between total number of policy claims and the claim amount\n",
    "Ha: There is no relationship between total number of policy claims and the claim amount"
   ]
  },
  {
   "cell_type": "raw",
   "id": "7412f8a4-1994-4f3e-971e-c5c1ea04b1ea",
   "metadata": {},
   "source": [
    "CI = 95%\n",
    "SL = 5%\n",
    "pcritical = 0.05"
   ]
  },
  {
   "cell_type": "raw",
   "id": "13fce9ea-e6f7-41c6-babb-44cb8e49790f",
   "metadata": {},
   "source": [
    "We will use Correlation test as we have to find relationship between numeric columns."
   ]
  },
  {
   "cell_type": "code",
   "execution_count": 332,
   "id": "812829c5-b80e-46ea-ba4a-fc12137802bc",
   "metadata": {},
   "outputs": [],
   "source": [
    "sample_df = final_df[['customer_id','total_policy_claims','claim_amount']].groupby(by='customer_id').sum()"
   ]
  },
  {
   "cell_type": "code",
   "execution_count": 333,
   "id": "c8be5cd7-05dc-43ec-9f2d-ab61e19e918d",
   "metadata": {},
   "outputs": [
    {
     "data": {
      "text/html": [
       "<div>\n",
       "<style scoped>\n",
       "    .dataframe tbody tr th:only-of-type {\n",
       "        vertical-align: middle;\n",
       "    }\n",
       "\n",
       "    .dataframe tbody tr th {\n",
       "        vertical-align: top;\n",
       "    }\n",
       "\n",
       "    .dataframe thead th {\n",
       "        text-align: right;\n",
       "    }\n",
       "</style>\n",
       "<table border=\"1\" class=\"dataframe\">\n",
       "  <thead>\n",
       "    <tr style=\"text-align: right;\">\n",
       "      <th></th>\n",
       "      <th>total_policy_claims</th>\n",
       "      <th>claim_amount</th>\n",
       "    </tr>\n",
       "  </thead>\n",
       "  <tbody>\n",
       "    <tr>\n",
       "      <th>total_policy_claims</th>\n",
       "      <td>1.000000</td>\n",
       "      <td>0.010494</td>\n",
       "    </tr>\n",
       "    <tr>\n",
       "      <th>claim_amount</th>\n",
       "      <td>0.010494</td>\n",
       "      <td>1.000000</td>\n",
       "    </tr>\n",
       "  </tbody>\n",
       "</table>\n",
       "</div>"
      ],
      "text/plain": [
       "                     total_policy_claims  claim_amount\n",
       "total_policy_claims             1.000000      0.010494\n",
       "claim_amount                    0.010494      1.000000"
      ]
     },
     "execution_count": 333,
     "metadata": {},
     "output_type": "execute_result"
    }
   ],
   "source": [
    "sample_df[['total_policy_claims','claim_amount']].corr()"
   ]
  },
  {
   "cell_type": "code",
   "execution_count": 334,
   "id": "030fd1ab-cb6c-47c2-aa64-0145e2c358c4",
   "metadata": {},
   "outputs": [
    {
     "data": {
      "image/png": "[encoded data removed]",
      "text/plain": [
       "<Figure size 640x480 with 1 Axes>"
      ]
     },
     "metadata": {},
     "output_type": "display_data"
    }
   ],
   "source": [
    "sns.scatterplot(data=final_df,x='claim_amount',y='total_policy_claims')\n",
    "plt.show()"
   ]
  },
  {
   "cell_type": "raw",
   "id": "e2cb62c6-c239-4913-a708-e0a69adccca7",
   "metadata": {},
   "source": [
    "We can say that total_policy_claims is not significantly impacting the claims amount but there is a positive relationship between them. "
   ]
  }
 ],
 "metadata": {
  "kernelspec": {
   "display_name": "Python [conda env:base] *",
   "language": "python",
   "name": "conda-base-py"
  },
  "language_info": {
   "codemirror_mode": {
    "name": "ipython",
    "version": 3
   },
   "file_extension": ".py",
   "mimetype": "text/x-python",
   "name": "python",
   "nbconvert_exporter": "python",
   "pygments_lexer": "ipython3",
   "version": "3.12.7"
  }
 },
 "nbformat": 4,
 "nbformat_minor": 5
}
