{
 "cells": [
  {
   "cell_type": "markdown",
   "id": "6fec28b8-4ad2-4018-a0db-e8ccf2405a1f",
   "metadata": {},
   "source": [
    "1. Create a program that asks the user to enter their name and their age. Print out a message addressed to them that tells them the year that they will turn 100 years old."
   ]
  },
  {
   "cell_type": "code",
   "execution_count": 1,
   "id": "0b7651ec-cff9-4851-9091-afd4c037838f",
   "metadata": {},
   "outputs": [
    {
     "data": {
      "text/plain": [
       "2095"
      ]
     },
     "execution_count": 1,
     "metadata": {},
     "output_type": "execute_result"
    }
   ],
   "source": [
    "def age_100(name,age):\n",
    "    r = 2025 + (100 - age)\n",
    "    return r\n",
    "\n",
    "age_100('rahul',30)"
   ]
  },
  {
   "cell_type": "markdown",
   "id": "8ad5a58f-cfec-492c-b979-d4f2e0cc5c31",
   "metadata": {},
   "source": [
    "2. Ask the user for a number. Depending on whether the number is even or odd, print out an appropriate message to the user. If the number is a multiple of 4, print out a different message."
   ]
  },
  {
   "cell_type": "code",
   "execution_count": 2,
   "id": "54b08cbf-3338-4a1e-8280-1a82beefd538",
   "metadata": {},
   "outputs": [
    {
     "name": "stdout",
     "output_type": "stream",
     "text": [
      "Even and Multiple of 4\n"
     ]
    }
   ],
   "source": [
    "def odd_even(n):\n",
    "    if n % 4 == 0:\n",
    "        print('Even and Multiple of 4')\n",
    "    elif n % 2 == 0:\n",
    "        print('Even')\n",
    "    elif n % 2 != 0:\n",
    "        print('Odd')\n",
    "\n",
    "odd_even(400)"
   ]
  },
  {
   "cell_type": "markdown",
   "id": "8f9c6e52-a74e-459b-8754-b951220f1697",
   "metadata": {},
   "source": [
    "3. Write a program that prints out all the elements of the list that are less than 5."
   ]
  },
  {
   "cell_type": "code",
   "execution_count": 3,
   "id": "4c8791b1-6b7d-4e8b-a11f-df8bbdcfe53c",
   "metadata": {},
   "outputs": [
    {
     "data": {
      "text/plain": [
       "[1, 1, 2, 3]"
      ]
     },
     "execution_count": 3,
     "metadata": {},
     "output_type": "execute_result"
    }
   ],
   "source": [
    "def less_than_5(l):\n",
    "    s = []\n",
    "    for i in l:\n",
    "        if i < 5:\n",
    "            s.append(i)\n",
    "    return s\n",
    "\n",
    "less_than_5([1, 1, 2, 3, 5, 8, 13, 21, 34, 55, 89])"
   ]
  },
  {
   "cell_type": "code",
   "execution_count": 4,
   "id": "610de920-08bb-4580-8012-6f0fcdcf091c",
   "metadata": {},
   "outputs": [
    {
     "data": {
      "text/plain": [
       "[1, 1, 2, 3]"
      ]
     },
     "execution_count": 4,
     "metadata": {},
     "output_type": "execute_result"
    }
   ],
   "source": [
    "#Write this in one line of Python.\n",
    "def lessthan5_list(l):\n",
    "    s = [i for i in l if i < 5]\n",
    "    return s\n",
    "\n",
    "lessthan5_list([1, 1, 2, 3, 5, 8, 13, 21, 34, 55, 89])"
   ]
  },
  {
   "cell_type": "markdown",
   "id": "ec9b8d61-3568-4e38-a5c0-4d7bf5e1c817",
   "metadata": {},
   "source": [
    "4. Ask the user for a number and return a list that contains only elements from the original list a that are smaller than that number given by the user."
   ]
  },
  {
   "cell_type": "code",
   "execution_count": 5,
   "id": "a31e0e31-6ad2-4718-a457-91ba64cd1e84",
   "metadata": {},
   "outputs": [
    {
     "data": {
      "text/plain": [
       "[1, 1, 2, 3, 5, 8]"
      ]
     },
     "execution_count": 5,
     "metadata": {},
     "output_type": "execute_result"
    }
   ],
   "source": [
    "def lessthan_num(l,n):\n",
    "    s = [i for i in l if i < n]\n",
    "    return s\n",
    "\n",
    "lessthan_num([1, 1, 2, 3, 5, 8, 13, 21, 34, 55, 89],10)"
   ]
  },
  {
   "cell_type": "markdown",
   "id": "fb1d83ef-90cb-479e-9047-bc10d6b34788",
   "metadata": {},
   "source": [
    "5. Create a program that asks the user for a number and then prints out a list of all the divisors of that number. (If you don’t know what a divisor is, it is a number that divides evenly into another number."
   ]
  },
  {
   "cell_type": "code",
   "execution_count": 6,
   "id": "66b6ae10-915f-4b13-8a70-76203286395d",
   "metadata": {},
   "outputs": [
    {
     "data": {
      "text/plain": [
       "[1, 2, 4, 8]"
      ]
     },
     "execution_count": 6,
     "metadata": {},
     "output_type": "execute_result"
    }
   ],
   "source": [
    "def divisor(num):\n",
    "    dlist = []\n",
    "    for i in range(1,num+1):\n",
    "        if num % i == 0:\n",
    "            dlist.append(i)\n",
    "    return dlist\n",
    "\n",
    "divisor(8)"
   ]
  },
  {
   "cell_type": "markdown",
   "id": "b9dc3dba-1b01-45fa-ba06-44bc038e93ff",
   "metadata": {},
   "source": [
    "6. Write a program that returns a list that contains only the elements that are common between the lists (without duplicates). Make sure your program works on two lists of different sizes.\n",
    "a = [1, 1, 2, 3, 5, 8, 13, 21, 34, 55, 89]\n",
    "b = [1, 2, 3, 4, 5, 6, 7, 8, 9, 10, 11, 12, 13]"
   ]
  },
  {
   "cell_type": "code",
   "execution_count": 647,
   "id": "4bffa897-1a02-420f-b089-19138affc852",
   "metadata": {},
   "outputs": [
    {
     "data": {
      "text/plain": [
       "[1, 1, 2, 3, 5, 8, 13]"
      ]
     },
     "execution_count": 647,
     "metadata": {},
     "output_type": "execute_result"
    }
   ],
   "source": [
    "def common_elements(a,b):\n",
    "    r=[]\n",
    "    for i in a:\n",
    "        if i in b:\n",
    "            r.append(i)\n",
    "    return set(r)\n",
    "\n",
    "common_elements([1, 1, 2, 3, 5, 8, 13, 21, 34, 55, 89],[1, 2, 3, 4, 5, 6, 7, 8, 9, 10, 11, 12, 13])"
   ]
  },
  {
   "cell_type": "code",
   "execution_count": 8,
   "id": "55a47926-4871-4e65-8b12-12503aba08e6",
   "metadata": {},
   "outputs": [
    {
     "data": {
      "text/plain": [
       "{1, 2, 3, 5, 8, 13}"
      ]
     },
     "execution_count": 8,
     "metadata": {},
     "output_type": "execute_result"
    }
   ],
   "source": [
    "def common_num(a,b):\n",
    "    a,b=set(a),set(b)\n",
    "    return a.intersection(b)\n",
    "\n",
    "common_num([1, 1, 2, 3, 5, 8, 13, 21, 34, 55, 89],[1, 2, 3, 4, 5, 6, 7, 8, 9, 10, 11, 12, 13])"
   ]
  },
  {
   "cell_type": "markdown",
   "id": "49062c40-7a09-4581-be1e-00c64fd7d595",
   "metadata": {},
   "source": [
    "7. Ask the user for a string and print out whether this string is a palindrome or not. (A palindrome is a string that reads the same forwards and backwards.)"
   ]
  },
  {
   "cell_type": "code",
   "execution_count": 9,
   "id": "b5d59427-d92a-45ed-9374-fb7a312c300f",
   "metadata": {},
   "outputs": [
    {
     "data": {
      "text/plain": [
       "True"
      ]
     },
     "execution_count": 9,
     "metadata": {},
     "output_type": "execute_result"
    }
   ],
   "source": [
    "def palindrome(text):\n",
    "    for i in text:\n",
    "        if i[0::] == i[-1::]:\n",
    "            return True\n",
    "\n",
    "palindrome('deed')"
   ]
  },
  {
   "cell_type": "markdown",
   "id": "056ee7ab-e996-4882-88a6-1265b1bddb45",
   "metadata": {},
   "source": [
    "8. Write one line of Python that takes this list a and makes a new list that has only the even elements of this list in it.\n",
    "a = [1, 4, 9, 16, 25, 36, 49, 64, 81, 100]."
   ]
  },
  {
   "cell_type": "code",
   "execution_count": 10,
   "id": "af8bd865-3ca9-490d-900f-18623e98c8f9",
   "metadata": {},
   "outputs": [
    {
     "data": {
      "text/plain": [
       "[4, 16, 36, 64, 100]"
      ]
     },
     "execution_count": 10,
     "metadata": {},
     "output_type": "execute_result"
    }
   ],
   "source": [
    "a = [1, 4, 9, 16, 25, 36, 49, 64, 81, 100]\n",
    "new_list = [i for i in a if i % 2 == 0]\n",
    "new_list"
   ]
  },
  {
   "cell_type": "markdown",
   "id": "0981a9c7-e642-445b-882a-5f3f63374f27",
   "metadata": {},
   "source": [
    "9. Ask the user for a number and determine whether the number is prime or not. (For those who have forgotten, a prime number is a number that has no divisors.)"
   ]
  },
  {
   "cell_type": "code",
   "execution_count": 664,
   "id": "439f7ad9-158e-4129-bb16-12b94df4c0b2",
   "metadata": {},
   "outputs": [
    {
     "data": {
      "text/plain": [
       "'Not prime'"
      ]
     },
     "execution_count": 664,
     "metadata": {},
     "output_type": "execute_result"
    }
   ],
   "source": [
    "def is_prime(n):\n",
    "   for i in range(2,num):\n",
    "       if n == 1:\n",
    "           return 'Not prime'\n",
    "       elif n % i == 0:\n",
    "           return 'Not prime'\n",
    "       else:\n",
    "           return 'Is prime'\n",
    "\n",
    "is_prime(1)"
   ]
  },
  {
   "cell_type": "markdown",
   "id": "14d1be0c-b325-48fa-8c02-6306f25f1dbc",
   "metadata": {},
   "source": [
    "10. Write a program that asks the user how many Fibonnaci numbers to generate and then generates them. The Fibonnaci seqence is a sequence of numbers where the next number in the sequence is the sum of the previous two numbers in the sequence. The sequence looks like this: 1, 1, 2, 3, 5, 8, 13, …"
   ]
  },
  {
   "cell_type": "code",
   "execution_count": 14,
   "id": "ba6ecfaf-f427-4b45-82d6-889349eb62c7",
   "metadata": {},
   "outputs": [
    {
     "name": "stdin",
     "output_type": "stream",
     "text": [
      "Enter the number of fibonaaci numbers to generate- 7\n"
     ]
    },
    {
     "name": "stdout",
     "output_type": "stream",
     "text": [
      "1,1,2,3,5,8,13,"
     ]
    }
   ],
   "source": [
    "def fibonnaci():\n",
    "    n = int(input('Enter the number of fibonaaci numbers to generate-'))\n",
    "    a=1\n",
    "    b=1\n",
    "    c=0\n",
    "    print(a,b,sep=',',end=',')\n",
    "    for i in range(2,n):\n",
    "        c = a+b\n",
    "        print(c,end=',')\n",
    "        a=b\n",
    "        b=c\n",
    "\n",
    "fibonnaci()"
   ]
  },
  {
   "cell_type": "markdown",
   "id": "feae5727-b688-471e-ae8e-a7d21fdb8469",
   "metadata": {},
   "source": [
    "11. Write a program (function!) that takes a list and returns a new list that contains all the elements of the first list minus all the duplicates."
   ]
  },
  {
   "cell_type": "code",
   "execution_count": 15,
   "id": "c3d3925d-faa0-4838-8876-23c5f4a8ba6c",
   "metadata": {},
   "outputs": [
    {
     "data": {
      "text/plain": [
       "[1, 2, 3, 4, 5.5]"
      ]
     },
     "execution_count": 15,
     "metadata": {},
     "output_type": "execute_result"
    }
   ],
   "source": [
    "def remove_dup(l):\n",
    "    new_list=[]\n",
    "    for i in set(l):\n",
    "        new_list.append(i)\n",
    "    return new_list\n",
    "\n",
    "remove_dup([1,1,3,4,5.5,1,2,3])"
   ]
  },
  {
   "cell_type": "markdown",
   "id": "7f7615a9-4987-48b5-83ea-fe0e569f0926",
   "metadata": {},
   "source": [
    "12. Write a program (using functions!) that asks the user for a long string containing multiple words. Print back to the user the same string, except with the words in backwards order."
   ]
  },
  {
   "cell_type": "code",
   "execution_count": 16,
   "id": "bf872d1e-97f2-4285-b433-14c47fc2a854",
   "metadata": {},
   "outputs": [
    {
     "data": {
      "text/plain": [
       "['here', 'am', 'i', 'hello']"
      ]
     },
     "execution_count": 16,
     "metadata": {},
     "output_type": "execute_result"
    }
   ],
   "source": [
    "def reverse_string(text):\n",
    "    text = text.strip().split(sep=' ')\n",
    "    return text[::-1]\n",
    "\n",
    "reverse_string('  hello i am here')"
   ]
  },
  {
   "cell_type": "markdown",
   "id": "fb4b59fa-14a9-4cee-9554-d9410be6bc29",
   "metadata": {},
   "source": [
    "13. Write a function that takes an ordered list of numbers (a list where the elements are in order from smallest to largest) and another number. The function decides whether or not the given number is inside the list and returns (then prints) an appropriate boolean."
   ]
  },
  {
   "cell_type": "code",
   "execution_count": 17,
   "id": "f08cbc5e-f30c-44d2-9cde-1f10e0923280",
   "metadata": {},
   "outputs": [
    {
     "data": {
      "text/plain": [
       "True"
      ]
     },
     "execution_count": 17,
     "metadata": {},
     "output_type": "execute_result"
    }
   ],
   "source": [
    "def identify_num(num_list,n):\n",
    "    if n in num_list:\n",
    "        return True\n",
    "    return False\n",
    "\n",
    "identify_num([1,2,3,4,5,6],2)"
   ]
  },
  {
   "cell_type": "markdown",
   "id": "c960d48c-59a0-496b-b5ca-976385ade5b6",
   "metadata": {},
   "source": [
    "14. Implement a function that takes as input three variables, and returns the largest of the three. Do this without using the Python max() function!"
   ]
  },
  {
   "cell_type": "code",
   "execution_count": 18,
   "id": "20524d5f-936b-4521-a60d-f864cf3f78a4",
   "metadata": {},
   "outputs": [
    {
     "data": {
      "text/plain": [
       "32"
      ]
     },
     "execution_count": 18,
     "metadata": {},
     "output_type": "execute_result"
    }
   ],
   "source": [
    "def max_num(a,b,c):\n",
    "    if a > b and a > c:\n",
    "        return a\n",
    "    elif b > a and b > c:\n",
    "        return b\n",
    "    elif c > a and c > b:\n",
    "        return c\n",
    "\n",
    "max_num(22,30,32)"
   ]
  },
  {
   "cell_type": "code",
   "execution_count": 654,
   "id": "b448079b-1489-46ea-97fc-5aa453628512",
   "metadata": {},
   "outputs": [
    {
     "data": {
      "text/plain": [
       "241"
      ]
     },
     "execution_count": 654,
     "metadata": {},
     "output_type": "execute_result"
    }
   ],
   "source": [
    "def maximum(a,b,c):\n",
    "    return max(a,b,c)\n",
    "\n",
    "maximum(223,21,241)"
   ]
  },
  {
   "cell_type": "markdown",
   "id": "49262d6e-c5ff-424c-9100-7343d3c21698",
   "metadata": {},
   "source": [
    "15. In this challenge, the user enters a string and a substring. You have to print the number of times that the substring occurs in the given string. String traversal will take place from left to right, not from right to left."
   ]
  },
  {
   "cell_type": "code",
   "execution_count": 19,
   "id": "d471ea6d-d67f-4792-aaf8-9f66dd665483",
   "metadata": {},
   "outputs": [
    {
     "data": {
      "text/plain": [
       "2"
      ]
     },
     "execution_count": 19,
     "metadata": {},
     "output_type": "execute_result"
    }
   ],
   "source": [
    "def find_str(s,sub_str):\n",
    "    c=0\n",
    "    for i in range(len(s)-len(sub_str) + 1):\n",
    "        if s[i:i + len(sub_str)] == sub_str:\n",
    "            c += 1\n",
    "    return c\n",
    "\n",
    "find_str('abcdcdc','cdc')"
   ]
  },
  {
   "cell_type": "markdown",
   "id": "a07dce0d-df17-4305-8d2f-1bda252a12ea",
   "metadata": {},
   "source": [
    "16. You are given a string .Your task is to find out if the string  contains: alphanumeric characters, alphabetical characters, digits, lowercase and uppercase characters."
   ]
  },
  {
   "cell_type": "code",
   "execution_count": 669,
   "id": "05ed613f-785c-497b-b21b-c417fd2be9fa",
   "metadata": {},
   "outputs": [
    {
     "name": "stdout",
     "output_type": "stream",
     "text": [
      "True True True True False\n"
     ]
    }
   ],
   "source": [
    "def check_str(s):\n",
    "    isalnum,isalpha,isdigit,islower,isupper = False,False,False,False,False\n",
    "    for i in s:\n",
    "        if 'a' <= i <= 'z':\n",
    "            islower = True\n",
    "        if 'A' <= i <= 'Z':\n",
    "            isupper = True\n",
    "        if '0' <= i <= '9':\n",
    "            isdigit = True\n",
    "        if islower == True or isupper == True:\n",
    "            isalpha = True\n",
    "        if (isupper or islower) and isdigit :\n",
    "            isalnum = True\n",
    "    print(isalnum,isalpha,isdigit,islower,isupper)\n",
    "\n",
    "check_str('dhd2')"
   ]
  },
  {
   "cell_type": "markdown",
   "id": "05fe4e2d-0464-4d5d-8ee3-200492fb579a",
   "metadata": {},
   "source": [
    "17. Write a Python program to find the longest word in a sentence"
   ]
  },
  {
   "cell_type": "code",
   "execution_count": 657,
   "id": "2a1f6ea5-e9a2-4800-abf4-ce47f2cc7804",
   "metadata": {},
   "outputs": [
    {
     "data": {
      "text/plain": [
       "'present'"
      ]
     },
     "execution_count": 657,
     "metadata": {},
     "output_type": "execute_result"
    }
   ],
   "source": [
    "def find_longest_word(text):\n",
    "    maxlen=0\n",
    "    r=' '\n",
    "    text = text.strip().split(' ')\n",
    "    for i in text:\n",
    "        c=len(i)\n",
    "    if maxlen < c:\n",
    "        maxlen=c\n",
    "        r=i\n",
    "    return r\n",
    "\n",
    "find_longest_word('hello i am here to present')"
   ]
  },
  {
   "cell_type": "markdown",
   "id": "8cb61690-9d6e-4522-8ec1-303060f13356",
   "metadata": {},
   "source": [
    "18. Write a Python code to find the first non-repeating character in a string"
   ]
  },
  {
   "cell_type": "code",
   "execution_count": 23,
   "id": "df3db0b3-865d-497b-bb4a-0d3a6b0214f8",
   "metadata": {},
   "outputs": [
    {
     "data": {
      "text/plain": [
       "'d'"
      ]
     },
     "execution_count": 23,
     "metadata": {},
     "output_type": "execute_result"
    }
   ],
   "source": [
    "def first_nonrepeating_char(s):\n",
    "    for i in range(len(s)):\n",
    "        if s[i] not in s[i+1:] and s[i] not in s[0:i]:\n",
    "            return s[i]\n",
    "\n",
    "first_nonrepeating_char('abbccade')"
   ]
  },
  {
   "cell_type": "code",
   "execution_count": 671,
   "id": "fe339910-4acb-4872-b53e-4c318daf61d0",
   "metadata": {},
   "outputs": [
    {
     "data": {
      "text/plain": [
       "'b'"
      ]
     },
     "execution_count": 671,
     "metadata": {},
     "output_type": "execute_result"
    }
   ],
   "source": [
    "def first_nonrepeating_char(s):\n",
    "    d={}\n",
    "    for i in s:\n",
    "        if i not in d.keys():\n",
    "            d[i] = 1\n",
    "        else:\n",
    "            d[i] += 1\n",
    "   \n",
    "    for key in s:\n",
    "       if d[key] == 1:\n",
    "           return key\n",
    "          \n",
    "first_nonrepeating_char('affbccade')"
   ]
  },
  {
   "cell_type": "markdown",
   "id": "1eebed38-47ad-49b0-8454-d4d4cf747aca",
   "metadata": {},
   "source": [
    "19. Write a Python code to count the number of uppercase letters in a string"
   ]
  },
  {
   "cell_type": "code",
   "execution_count": 25,
   "id": "f9715fa8-fb8d-4653-808d-839b27aa1e84",
   "metadata": {},
   "outputs": [
    {
     "data": {
      "text/plain": [
       "3"
      ]
     },
     "execution_count": 25,
     "metadata": {},
     "output_type": "execute_result"
    }
   ],
   "source": [
    "def count_upper(s):\n",
    "    c=0\n",
    "    for i in s:\n",
    "        if 'A' <= i <= 'Z':\n",
    "            c += 1\n",
    "    return c\n",
    "\n",
    "count_upper('DXaGfj')"
   ]
  },
  {
   "cell_type": "markdown",
   "id": "380ce996-5985-4420-ade5-6eec6f85b650",
   "metadata": {},
   "source": [
    "20. Write a Python code to check if a number is a perfect square"
   ]
  },
  {
   "cell_type": "code",
   "execution_count": 26,
   "id": "36db8e72-a24a-4731-a247-2bcc2113e80a",
   "metadata": {},
   "outputs": [],
   "source": [
    "def perfect_square(n):\n",
    "    if (n**0.5)**2 == n:\n",
    "        print('Perfect square')\n",
    "\n",
    "perfect_square(3)"
   ]
  },
  {
   "cell_type": "markdown",
   "id": "7c78e193-8be9-4da4-b056-cc84564b5a8d",
   "metadata": {},
   "source": [
    "21. Find factorial of a number"
   ]
  },
  {
   "cell_type": "code",
   "execution_count": 27,
   "id": "55f1e4d2-6a8f-443c-bd38-98c0c49bbd49",
   "metadata": {},
   "outputs": [
    {
     "data": {
      "text/plain": [
       "120"
      ]
     },
     "execution_count": 27,
     "metadata": {},
     "output_type": "execute_result"
    }
   ],
   "source": [
    "def factorial(n):\n",
    "    f=1 \n",
    "    for i in range(1,n+1):\n",
    "        f = f*i\n",
    "    return f\n",
    "\n",
    "factorial(5)"
   ]
  },
  {
   "cell_type": "markdown",
   "id": "c1127ab8-b45c-4177-b99c-73677c8633b2",
   "metadata": {},
   "source": [
    "22. Make a two-player Rock-Paper-Scissors game. (Hint: Ask for player plays (using input), compare them, print out a message of congratulations to the winner, and ask if the players want to start a new game)<br>\n",
    "Remember the rules:<br>\n",
    "Rock beats scissors<br>\n",
    "Scissors beats paper<br>\n",
    "Paper beats rock<br>"
   ]
  },
  {
   "cell_type": "code",
   "execution_count": 29,
   "id": "1c9a83a0-7a1d-4aaa-bc0c-4d93dbce2f7b",
   "metadata": {},
   "outputs": [
    {
     "name": "stdout",
     "output_type": "stream",
     "text": [
      "1\n"
     ]
    },
    {
     "name": "stdin",
     "output_type": "stream",
     "text": [
      "Hi Player 1, Please enter your play rock\n",
      "Hi Player 2, Please enter your play rock\n"
     ]
    },
    {
     "name": "stdout",
     "output_type": "stream",
     "text": [
      "Score not counted for this chance\n",
      "2\n"
     ]
    },
    {
     "name": "stdin",
     "output_type": "stream",
     "text": [
      "Hi Player 1, Please enter your play paper\n",
      "Hi Player 2, Please enter your play rock\n"
     ]
    },
    {
     "name": "stdout",
     "output_type": "stream",
     "text": [
      "3\n"
     ]
    },
    {
     "name": "stdin",
     "output_type": "stream",
     "text": [
      "Hi Player 1, Please enter your play rock\n",
      "Hi Player 2, Please enter your play paper\n"
     ]
    },
    {
     "name": "stdout",
     "output_type": "stream",
     "text": [
      "4\n"
     ]
    },
    {
     "name": "stdin",
     "output_type": "stream",
     "text": [
      "Hi Player 1, Please enter your play scissors\n",
      "Hi Player 2, Please enter your play rock\n"
     ]
    },
    {
     "name": "stdout",
     "output_type": "stream",
     "text": [
      "5\n"
     ]
    },
    {
     "name": "stdin",
     "output_type": "stream",
     "text": [
      "Hi Player 1, Please enter your play paper\n",
      "Hi Player 2, Please enter your play paper\n"
     ]
    },
    {
     "name": "stdout",
     "output_type": "stream",
     "text": [
      "Score not counted for this chance\n",
      "Game Ends!\n",
      "Player 2 wins with a score of 2\n"
     ]
    }
   ],
   "source": [
    "def rps_game():\n",
    "    counter=0\n",
    "    chance=5\n",
    "    s1=0\n",
    "    s2=0\n",
    "    while counter < chance:\n",
    "        counter += 1\n",
    "        print(counter)\n",
    "        p1=input('Hi Player 1, Please enter your play')\n",
    "        p2=input('Hi Player 2, Please enter your play')\n",
    "        if (p1 == 'rock' and p2 == 'scissors') or (p1 == 'scissors' and p2 == 'paper') or (p1 == 'paper' and p2 == 'rock'):\n",
    "                s1 += 1\n",
    "        elif (p2 == 'rock' and p1 == 'scissors') or (p2 == 'scissors' and p1 == 'paper') or (p2 == 'paper' and p1 == 'rock'):\n",
    "            s2 += 1\n",
    "        else:\n",
    "            print('Score not counted for this chance')\n",
    "\n",
    "    if counter == chance:\n",
    "        print('Game Ends!')\n",
    "        \n",
    "    if s1 > s2:\n",
    "        print('Player 1 wins with a score of',s1)\n",
    "    elif s2 > s1:\n",
    "        print('Player 2 wins with a score of',s2)\n",
    "    else:\n",
    "        print('Its a tie!')\n",
    "\n",
    "rps_game()"
   ]
  },
  {
   "cell_type": "markdown",
   "id": "c096a5ba-cfa6-408b-b487-7b2c2f0eefc6",
   "metadata": {},
   "source": [
    "23. Write a Python program to make a calculator that can perform basic arithmetic operations such as addition, subtraction, multiplication, and division. The program should take user input for two numbers and the operation to perform."
   ]
  },
  {
   "cell_type": "code",
   "execution_count": 30,
   "id": "4bf4df87-0357-483a-9854-a6db44d9bc17",
   "metadata": {},
   "outputs": [
    {
     "name": "stdin",
     "output_type": "stream",
     "text": [
      "Welcome! What operation would you like to perform!\n",
      "Choose from Add,Substract,Multiply,Divide add\n"
     ]
    },
    {
     "data": {
      "text/plain": [
       "9"
      ]
     },
     "execution_count": 30,
     "metadata": {},
     "output_type": "execute_result"
    }
   ],
   "source": [
    "# calculator\n",
    "def calculator(a,b):\n",
    "    c=0\n",
    "    o = input('Welcome! What operation would you like to perform!\\nChoose from Add,Substract,Multiply,Divide')\n",
    "    if o == 'add':\n",
    "        c = a + b\n",
    "    elif o == 'substract':\n",
    "        c = a-b\n",
    "    elif o == 'multiply':\n",
    "        c = a*b\n",
    "    elif o == 'divide':\n",
    "        c=a/b\n",
    "    return c\n",
    "\n",
    "calculator(3,6)"
   ]
  },
  {
   "cell_type": "markdown",
   "id": "a898fe84-087e-4c99-b17e-4d95c064ceef",
   "metadata": {},
   "source": [
    "24. Input 3 integer list from a user and print minimum sum using one element from each list. \n",
    "Example-<br>\n",
    "[34,3,45]<br>\n",
    "[45, 89, 1,22,66,44]<br>\n",
    "[3, 99, 77, 457]<br>\n",
    "Ans = 3+1+3 = 7<br>"
   ]
  },
  {
   "cell_type": "code",
   "execution_count": 1,
   "id": "8d498a2a-6966-4aa2-b8b8-a736d4fd861e",
   "metadata": {},
   "outputs": [
    {
     "data": {
      "text/plain": [
       "7"
      ]
     },
     "execution_count": 1,
     "metadata": {},
     "output_type": "execute_result"
    }
   ],
   "source": [
    "def minimum_sum(l1,l2,l3):\n",
    "    return min(l1)+min(l2)+min(l3)\n",
    "\n",
    "minimum_sum([32,3,43],[45, 89, 1,22,66,44],[3, 99, 77, 457])"
   ]
  },
  {
   "cell_type": "markdown",
   "id": "b0b10802-61e0-4d2d-b025-8cb33969ce63",
   "metadata": {},
   "source": [
    "25. Write a Python program to find strings in a given list starting with a given prefix.<br>\n",
    "Input:<br>\n",
    "[( ca,('cat', 'car', 'fear', 'center'))]<br>\n",
    "Output:<br>\n",
    "['cat', 'car']<br>\n",
    "Input:<br>\n",
    "[(do,('cat', 'dog', 'shatter', 'donut', 'at', 'todo'))]<br>\n",
    "Output:<br>\n",
    "['dog', 'donut']<br>"
   ]
  },
  {
   "cell_type": "code",
   "execution_count": 33,
   "id": "9d9825d5-2e47-4084-b1fe-422bf6f07631",
   "metadata": {},
   "outputs": [
    {
     "data": {
      "text/plain": [
       "['cat', 'car', 'camera']"
      ]
     },
     "execution_count": 33,
     "metadata": {},
     "output_type": "execute_result"
    }
   ],
   "source": [
    "def find_substr(l,s):\n",
    "    r=[]\n",
    "    for i in l:\n",
    "        if s == i[0:len(s)]:\n",
    "            r.append(i)\n",
    "    return r\n",
    "find_substr(['cat','car','fear','camera'],'ca')"
   ]
  },
  {
   "cell_type": "markdown",
   "id": "343c4102-c0a9-4de9-898b-fca150e59499",
   "metadata": {},
   "source": [
    "26. Write a Python program to create a list whose ith element is the maximum of the first i elements from an input list.<br>\n",
    "Input [0,-1,-3,2,-3,6,2]<br>\n",
    "Output [0,0,0,2,2,6,6]<br>"
   ]
  },
  {
   "cell_type": "code",
   "execution_count": 34,
   "id": "64ff87cb-97fa-452a-a314-9e350fe47a9d",
   "metadata": {},
   "outputs": [
    {
     "data": {
      "text/plain": [
       "[0, 0, 0, 2, 2, 6, 6]"
      ]
     },
     "execution_count": 34,
     "metadata": {},
     "output_type": "execute_result"
    }
   ],
   "source": [
    "def max_i_elements(l):\n",
    "    new_list=[]\n",
    "    cmax= -10\n",
    "    for i in range(len(l)):\n",
    "        cmax = max(l[i],cmax) \n",
    "        new_list.append(cmax)\n",
    "    return new_list\n",
    "#wrong \n",
    "max_i_elements([0,-1,-3,2,-3,6,2])"
   ]
  },
  {
   "cell_type": "markdown",
   "id": "f9299ea6-9b17-42cf-9778-44d3dfa3491c",
   "metadata": {},
   "source": [
    "27. Write a Python program to find the largest k numbers from a given list of numbers.<br>\n",
    "[1,2,3,4,3,2,1], K = 2<br>\n",
    "Out : [4,3]<br>"
   ]
  },
  {
   "cell_type": "code",
   "execution_count": 36,
   "id": "f1cf2c98-3e35-413e-b23c-b1fa1cb356f7",
   "metadata": {},
   "outputs": [
    {
     "data": {
      "text/plain": [
       "[[4, 3, 2]]"
      ]
     },
     "execution_count": 36,
     "metadata": {},
     "output_type": "execute_result"
    }
   ],
   "source": [
    "def largest_k_num(l,k):\n",
    "    n=[]\n",
    "    l=list(set(l))\n",
    "    l.sort(reverse=True)\n",
    "    n.append(l[0:k])\n",
    "    return n\n",
    "\n",
    "largest_k_num([1,2,3,4,3,2,1],3)"
   ]
  },
  {
   "cell_type": "markdown",
   "id": "7fb12dfa-8490-4d82-bb30-bb1c9ead9afc",
   "metadata": {},
   "source": [
    "28. Write a Python program to find all even palindromes up to n.<br>\n",
    "Output:<br>\n",
    "Even palindromes up to N = 50 -<br>\n",
    "[0, 2, 4, 6, 8, 22, 44].<br>"
   ]
  },
  {
   "cell_type": "code",
   "execution_count": 3,
   "id": "6749578a-83a7-4a2f-b148-3f0c30aea1fa",
   "metadata": {},
   "outputs": [
    {
     "data": {
      "text/plain": [
       "[0, 2, 4, 6, 8, 22, 44]"
      ]
     },
     "execution_count": 3,
     "metadata": {},
     "output_type": "execute_result"
    }
   ],
   "source": [
    "def is_palindrome(text):\n",
    "    if text == text[::-1]:\n",
    "        return True\n",
    "    return False\n",
    "\n",
    "def even_palindrome(n):\n",
    "    r=[]\n",
    "    for i in range(n+1):\n",
    "        b = str(i)\n",
    "        if i % 2 == 0 and b == b[::-1]:\n",
    "            r.append(i)\n",
    "    return r\n",
    "\n",
    "even_palindrome(50)       "
   ]
  },
  {
   "cell_type": "code",
   "execution_count": 5,
   "id": "bcb19657-5cac-4014-82a4-e47c625e95ab",
   "metadata": {},
   "outputs": [
    {
     "name": "stdin",
     "output_type": "stream",
     "text": [
      "Enter value of n 50\n"
     ]
    },
    {
     "name": "stdout",
     "output_type": "stream",
     "text": [
      "[0, 2, 4, 6, 8, 22, 44]\n"
     ]
    }
   ],
   "source": [
    "# Using list comprehension\n",
    "\n",
    "n = int(input('Enter value of n'))\n",
    "r = [i for i in range(n+1) if i % 2==0 and str(i) == str(i)[::-1]]\n",
    "print(r)"
   ]
  },
  {
   "cell_type": "markdown",
   "id": "9c538c76-7bb9-4904-a270-3b541f6762ce",
   "metadata": {},
   "source": [
    "29. Write a Python program that takes a list of integers, reverses the digits of each number, and stores the reversed numbers in a new list. Finally, print the new list."
   ]
  },
  {
   "cell_type": "code",
   "execution_count": 40,
   "id": "f0262c78-5098-4b72-877e-452b07d9ee66",
   "metadata": {},
   "outputs": [
    {
     "name": "stdout",
     "output_type": "stream",
     "text": [
      "['21', '32', '43', '95']\n"
     ]
    }
   ],
   "source": [
    "l=[12,23,34,59]\n",
    "r=[]\n",
    "for i in l:\n",
    "    b=str(i)\n",
    "    b = b[::-1]\n",
    "    r.append(b)\n",
    "print(r)"
   ]
  },
  {
   "cell_type": "code",
   "execution_count": 41,
   "id": "4dd2560b-2be5-4631-a31e-a04fb242b524",
   "metadata": {},
   "outputs": [
    {
     "name": "stdout",
     "output_type": "stream",
     "text": [
      "[21, 32, 43, 95]\n"
     ]
    }
   ],
   "source": [
    "# Using list comprehension\n",
    "res = [int(str(i)[::-1]) for i in l]\n",
    "print(res)"
   ]
  },
  {
   "cell_type": "markdown",
   "id": "08545a7f-97f3-48b8-8982-f1e537484027",
   "metadata": {},
   "source": [
    "30. Write a Python program to check if a given positive integer is a power of three.<br>\n",
    "Input : 9<br>\n",
    "Output : True<br>"
   ]
  },
  {
   "cell_type": "code",
   "execution_count": 6,
   "id": "2fede240-4c8f-43e0-ab05-fcb476565805",
   "metadata": {},
   "outputs": [
    {
     "data": {
      "text/plain": [
       "True"
      ]
     },
     "execution_count": 6,
     "metadata": {},
     "output_type": "execute_result"
    }
   ],
   "source": [
    "def powerof3(n):\n",
    "    while n%3 == 0 and n > 1:\n",
    "        n //= 3\n",
    "    if n == 1:\n",
    "        return True\n",
    "    return False\n",
    "\n",
    "powerof3(9)"
   ]
  },
  {
   "cell_type": "markdown",
   "id": "73b202f2-b702-4f1f-96df-0faa4da78685",
   "metadata": {},
   "source": [
    "31. Write a Python program to check if a given string is an anagram of another given string. I.e. contains same characters in both strings<br>\n",
    "Input : 'anagram','nagaram'<br>\n",
    "Output : True<br>\n",
    "hello, lehlo<br>\n",
    "Output true<br>"
   ]
  },
  {
   "cell_type": "code",
   "execution_count": 663,
   "id": "42133009-de5e-43e8-be1b-96e06b22afc6",
   "metadata": {},
   "outputs": [
    {
     "data": {
      "text/plain": [
       "False"
      ]
     },
     "execution_count": 663,
     "metadata": {},
     "output_type": "execute_result"
    }
   ],
   "source": [
    "def anagram_check(s1,s2):\n",
    "    s1=list(s1)\n",
    "    s2=list(s2)\n",
    "    s1.sort()\n",
    "    s2.sort()\n",
    "    if s1 == s2:\n",
    "        return True\n",
    "    return False\n",
    "                \n",
    "\n",
    "anagram_check('add','daa')   "
   ]
  },
  {
   "cell_type": "code",
   "execution_count": 237,
   "id": "8fff80df-8de9-4e5b-9895-e7c8cce8f2a2",
   "metadata": {},
   "outputs": [
    {
     "data": {
      "text/plain": [
       "True"
      ]
     },
     "execution_count": 237,
     "metadata": {},
     "output_type": "execute_result"
    }
   ],
   "source": [
    "def anagram(s1,s2):\n",
    "    d1 = {}\n",
    "    d2 = {}\n",
    "    for i in s1:\n",
    "        if i not in d1.keys():\n",
    "            d1[i] = 1\n",
    "        else:\n",
    "            d1[i] += 1\n",
    "    for j in s2:\n",
    "        if j not in d2.keys():\n",
    "            d2[j] = 1\n",
    "        else:\n",
    "            d2[j] += 1\n",
    "\n",
    "    if d1 == d2:\n",
    "        return True\n",
    "    return False\n",
    "    \n",
    "\n",
    "anagram('add','dad')"
   ]
  },
  {
   "cell_type": "markdown",
   "id": "a1105e0c-f3bc-4637-99d0-7aeb426b82b0",
   "metadata": {},
   "source": [
    "32. Return list of N Fibonacci numbers"
   ]
  },
  {
   "cell_type": "code",
   "execution_count": 7,
   "id": "4ba72283-1da3-4b84-8c12-75340ab5837f",
   "metadata": {},
   "outputs": [
    {
     "data": {
      "text/plain": [
       "[1, 1, 2, 3, 5, 8, 13, 21]"
      ]
     },
     "execution_count": 7,
     "metadata": {},
     "output_type": "execute_result"
    }
   ],
   "source": [
    "def fibonacci(n):\n",
    "    r=[]\n",
    "    a=1\n",
    "    b=1\n",
    "    c=0\n",
    "    r.append(a)\n",
    "    r.append(b)\n",
    "    for i in range(2,n):\n",
    "        c = a+b\n",
    "        r.append(c)\n",
    "        a = b\n",
    "        b = c\n",
    "    return r\n",
    "        \n",
    "\n",
    "fibonacci(8)"
   ]
  },
  {
   "cell_type": "markdown",
   "id": "c570dab3-f8ee-4cf7-a903-5275ab99219e",
   "metadata": {},
   "source": [
    "33.<br>\n",
    "*<br>\n",
    "**<br>\n",
    "***<br>\n",
    "****<br>\n",
    "*****<br>\n",
    "n= number of lines= 5"
   ]
  },
  {
   "cell_type": "code",
   "execution_count": 277,
   "id": "97f6773d-ba68-46a4-b4dc-d0059d34c7e1",
   "metadata": {},
   "outputs": [
    {
     "name": "stdout",
     "output_type": "stream",
     "text": [
      "*\n",
      "**\n",
      "***\n",
      "****\n",
      "*****\n"
     ]
    }
   ],
   "source": [
    "for i in range(1,6):\n",
    "    for j in range(i):\n",
    "        print('*',end='')\n",
    "    print()"
   ]
  },
  {
   "cell_type": "markdown",
   "id": "597c4b22-65b4-4eac-9670-b289f55a0b37",
   "metadata": {},
   "source": [
    "34.<br>\n",
    "*<br>\n",
    "***<br>\n",
    "*****<br>\n",
    "*******<br>"
   ]
  },
  {
   "cell_type": "code",
   "execution_count": 256,
   "id": "7691dc4a-74ad-400e-8621-77b8bb650273",
   "metadata": {},
   "outputs": [
    {
     "name": "stdout",
     "output_type": "stream",
     "text": [
      "*\n",
      "***\n",
      "*****\n",
      "*******\n"
     ]
    }
   ],
   "source": [
    "for i in range(1,8,2):\n",
    "    print(i*'*')"
   ]
  },
  {
   "cell_type": "markdown",
   "id": "562adc8c-4619-49ab-bb7d-2bed65df88ad",
   "metadata": {},
   "source": [
    "35.<br>\n",
    "*****<br>\n",
    "***<br>\n",
    "*<br>"
   ]
  },
  {
   "cell_type": "code",
   "execution_count": 275,
   "id": "f70f7242-5fa4-4619-b001-f39492d4b631",
   "metadata": {},
   "outputs": [
    {
     "name": "stdout",
     "output_type": "stream",
     "text": [
      "*****\n",
      "***\n",
      "*\n"
     ]
    }
   ],
   "source": [
    "for i in range(5,0,-2):\n",
    "    for j in range(i):\n",
    "        print('*',end='')\n",
    "    print()"
   ]
  },
  {
   "cell_type": "markdown",
   "id": "ac9e7a31-f8b3-4a2c-982d-581aadd65db0",
   "metadata": {},
   "source": [
    "36. [[1 2 3 4], [5 6 7 8 ], [9 10 11 12]] <br>\n",
    "\n",
    "N*M 2d list where n= rows, m= columns. Above example has 3 rows, 4 columns.<br>\n",
    "\n",
    "n =4 m= 2<br>\n",
    "1 2<br>\n",
    "3 4<br>\n",
    "5 6<br>\n",
    "7 8<br>"
   ]
  },
  {
   "cell_type": "code",
   "execution_count": 304,
   "id": "1970478a-c137-4dc3-abd7-7defe26ab292",
   "metadata": {},
   "outputs": [
    {
     "data": {
      "text/plain": [
       "[[1, 2, 3, 4], [5, 6, 7, 8], [9, 10, 11, 12]]"
      ]
     },
     "execution_count": 304,
     "metadata": {},
     "output_type": "execute_result"
    }
   ],
   "source": [
    "def list2d(n,m):\n",
    "    a=1\n",
    "    sub_list=[]\n",
    "    final_list=[]\n",
    "    for i in range(n):\n",
    "        for j in range(m):\n",
    "            sub_list.append(a)\n",
    "            a += 1\n",
    "        final_list.append(sub_list)\n",
    "        sub_list=[]\n",
    "    return final_list\n",
    "\n",
    "list2d(3,4)    "
   ]
  },
  {
   "cell_type": "markdown",
   "id": "40cf1440-1f4f-42fc-b40a-09b680c03423",
   "metadata": {},
   "source": [
    "37.<br>\n",
    "A<br>\n",
    "BB<br>\n",
    "CCC<br>\n",
    "DDDD<br>\n",
    "EEEEE<br>"
   ]
  },
  {
   "cell_type": "code",
   "execution_count": 289,
   "id": "38ce6ced-134f-4197-bbb6-af71c7cc0618",
   "metadata": {},
   "outputs": [
    {
     "name": "stdout",
     "output_type": "stream",
     "text": [
      "A\n",
      "BB\n",
      "CCC\n",
      "DDDD\n",
      "EEEEE\n"
     ]
    }
   ],
   "source": [
    "a = 65\n",
    "for i in range(1,6):\n",
    "    for j in range(i):\n",
    "        print(chr(a),end='')\n",
    "    a += 1\n",
    "    print()\n",
    "    "
   ]
  },
  {
   "cell_type": "markdown",
   "id": "a8e441d1-31e6-4bdf-af9c-7d7a2128d59a",
   "metadata": {},
   "source": [
    "38.<br>\n",
    "1 2 3 4<br>\n",
    "8 7 6 5<br>\n",
    "9 10 11 12<br>\n",
    "16 15 14 13<br>"
   ]
  },
  {
   "cell_type": "code",
   "execution_count": 376,
   "id": "5ad89d93-2558-4a1c-b711-ff2bf962fc28",
   "metadata": {},
   "outputs": [
    {
     "name": "stdout",
     "output_type": "stream",
     "text": [
      "1 2 3 4\n",
      "8 7 6 5\n",
      "9 10 11 12\n",
      "16 15 14 13\n"
     ]
    }
   ],
   "source": [
    "def matrix(n,m):\n",
    "    a = 1\n",
    "    for i in range(n):\n",
    "        l = []\n",
    "        for j in range(m):\n",
    "            l.append(str(a))\n",
    "            a += 1\n",
    "        if i %2 == 0:\n",
    "            print(' '.join(l), end = '')\n",
    "        else:\n",
    "            print(' '.join(l[::-1]), end = '')\n",
    "        print()\n",
    "            \n",
    "matrix(4,4)"
   ]
  },
  {
   "cell_type": "markdown",
   "id": "3d7a4a76-bad7-4573-8831-72c025452ba5",
   "metadata": {},
   "source": [
    "39. Write a Python program to test a list of integers, which all differ by ten from at least one number.<br>\n",
    "Ex - 0, 10, 20, 30, 40 = True , 400, 410, 390, 380 = true, 0, 20, 30, 40 = False"
   ]
  },
  {
   "cell_type": "code",
   "execution_count": 424,
   "id": "58e3dd26-126b-4cfa-984a-e8aa5c0b9be3",
   "metadata": {},
   "outputs": [
    {
     "data": {
      "text/plain": [
       "False"
      ]
     },
     "execution_count": 424,
     "metadata": {},
     "output_type": "execute_result"
    }
   ],
   "source": [
    "def diff_10_check(int_list):\n",
    "    int_list.sort()\n",
    "    for i in range(len(int_list) - 1):\n",
    "        if int_list[i + 1] - int_list[i] != 10:\n",
    "               return False \n",
    "    return True\n",
    "\n",
    "diff_10_check([0, 20, 30, 40])\n",
    "        "
   ]
  },
  {
   "cell_type": "markdown",
   "id": "39041042-eccc-4949-892b-b3e53652dc9e",
   "metadata": {},
   "source": [
    "40. Flatten a multi list, you have a 2d list, print all values in the list as a string separated by ‘ ’<br>\n",
    "Input =  [[\"hi\"], [\"my\", \"name\"], [\"is\"], [\"khan\"]]<br>\n",
    "Output= hi my name is khan<br>"
   ]
  },
  {
   "cell_type": "code",
   "execution_count": 621,
   "id": "3a7063fb-11d4-4493-b3a0-dfdc84b75abd",
   "metadata": {},
   "outputs": [
    {
     "data": {
      "text/plain": [
       "['hi', 'my', 'name', 'is', 'khan']"
      ]
     },
     "execution_count": 621,
     "metadata": {},
     "output_type": "execute_result"
    }
   ],
   "source": [
    "def flatten_list(multi_list):\n",
    "    flatten_list=[]\n",
    "    for i in multi_list:\n",
    "        for j in i:\n",
    "            flatten_list.append(j)\n",
    "    return flatten_list\n",
    "        \n",
    "\n",
    "flatten_list([[\"hi\"], [\"my\", \"name\"], [\"is\"], [\"khan\"]])"
   ]
  },
  {
   "cell_type": "markdown",
   "id": "6e27de49-2425-4187-a685-c150ca58a926",
   "metadata": {},
   "source": [
    "41. Sum of ASCII for Uppercase Letters<br>\n",
    "Write a Python program to compute the sum of the ASCII values of the upper-case characters in a given string.<br>\n",
    "Input:<br>\n",
    "PytHon ExerciSEs<br>\n",
    "Output:<br>\n",
    "373"
   ]
  },
  {
   "cell_type": "code",
   "execution_count": 423,
   "id": "92e51ddc-afcc-488d-a8e1-7226e2c2b3b2",
   "metadata": {},
   "outputs": [
    {
     "data": {
      "text/plain": [
       "373"
      ]
     },
     "execution_count": 423,
     "metadata": {},
     "output_type": "execute_result"
    }
   ],
   "source": [
    "def ascii_sum(s):\n",
    "    ascii_sum = 0\n",
    "    for i in s:\n",
    "        if 'A' <= i <= 'Z':\n",
    "            ascii_sum += ord(i)\n",
    "    return ascii_sum\n",
    "\n",
    "ascii_sum('PytHon ExerciSEs')"
   ]
  },
  {
   "cell_type": "markdown",
   "id": "a8b9d303-cebf-47e5-9cb7-843378261358",
   "metadata": {},
   "source": [
    "42. String with Most Unique Characters<br>\n",
    "\n",
    "Write a Python program to select a string from a given list of strings with the most unique characters.<br>\n",
    "Input:<br>\n",
    "['cat', 'catatatatctsa', 'abcdefhijklmnop', '124259239185125', '', 'foo', 'unique']<br>\n",
    "Output:<br>\n",
    "abcdefhijklmnop<br>\n",
    "Input:<br>\n",
    "['Green', 'Red', 'Orange', 'Yellow', '', 'White']<br>\n",
    "Output:<br>\n",
    "Orange<br>"
   ]
  },
  {
   "cell_type": "code",
   "execution_count": 8,
   "id": "2ecdfd38-6300-4f55-96e8-6fe1d63805d0",
   "metadata": {},
   "outputs": [
    {
     "data": {
      "text/plain": [
       "'abcdefhijklmnop'"
      ]
     },
     "execution_count": 8,
     "metadata": {},
     "output_type": "execute_result"
    }
   ],
   "source": [
    "def unique_char(l):\n",
    "    max=0\n",
    "    r = ''\n",
    "    for i in l:\n",
    "        unique_char=len((set(i)))\n",
    "        if max < unique_char:\n",
    "            max = unique_char\n",
    "            r = i\n",
    "    return r\n",
    "    \n",
    "unique_char(['cat', 'catatatatctsa', 'abcdefhijklmnop', '124259239185125', '', 'foo', 'unique'])"
   ]
  },
  {
   "cell_type": "markdown",
   "id": "ebeb29b0-c293-4430-915b-33cb058cea79",
   "metadata": {},
   "source": [
    "43. Indices of Numbers Summing to Zero<br>\n",
    "\n",
    "Write a Python program to find the indices of two numbers that sum to 0 in a given list of numbers.<br>\n",
    "Input:<br>\n",
    "[1, -4, 6, 7, 4]<br>\n",
    "Output:<br>\n",
    "[4, 1]<br>"
   ]
  },
  {
   "cell_type": "code",
   "execution_count": 636,
   "id": "7b55a525-d18f-47e4-bdb5-c98751ced548",
   "metadata": {},
   "outputs": [
    {
     "data": {
      "text/plain": [
       "(1, 4)"
      ]
     },
     "execution_count": 636,
     "metadata": {},
     "output_type": "execute_result"
    }
   ],
   "source": [
    "def indices_sum(int_list):\n",
    "    for i in range(len(int_list)):\n",
    "        for j in range(len(int_list)):\n",
    "            if int_list[i] + int_list[j] == 0:\n",
    "                return i,j\n",
    "        \n",
    "indices_sum([1, -4, 6, 7, 4])     "
   ]
  },
  {
   "cell_type": "markdown",
   "id": "a6c5af4a-c203-4633-a769-8370096a428c",
   "metadata": {},
   "source": [
    "44. Uppercase Vowel Positions<br>\n",
    "\n",
    "Write a Python program to find the positions of all uppercase vowels (not counting Y) in even indices of a given string.<br>\n",
    "Input: w3rEsOUrcE<br>\n",
    "Output:<br>\n",
    "[6]<br>\n",
    "Input: AEIOUYW<br>\n",
    "Output:<br>\n",
    "[0, 2, 4]<br>"
   ]
  },
  {
   "cell_type": "code",
   "execution_count": 629,
   "id": "dd99f6b0-612b-4af8-b810-3e947d555d40",
   "metadata": {},
   "outputs": [
    {
     "data": {
      "text/plain": [
       "[6]"
      ]
     },
     "execution_count": 629,
     "metadata": {},
     "output_type": "execute_result"
    }
   ],
   "source": [
    "def uppercase_vowels_position(s):\n",
    "    l=[]\n",
    "    for i in range(len(s)):\n",
    "        if  i % 2 == 0 and s[i] in ('A','E','I','O','U'):\n",
    "            l.append(i)\n",
    "    return l\n",
    "\n",
    "uppercase_vowels_position('w3rEsOUrcE')"
   ]
  },
  {
   "cell_type": "markdown",
   "id": "00d8c497-abd0-4160-af07-08e5a5e739cb",
   "metadata": {},
   "source": [
    "45. Sum of Numbers with 2+ Digits<br>\n",
    "\n",
    "Write a Python program to find the sum of the numbers in a given list among the first k with more than 2 digits.<br>\n",
    "Input: [4, 5, 17, 9, 14, 108, -9, 12, 76]<br>\n",
    "Value of K: 4<br>\n",
    "Output:<br>\n",
    "0<br>\n",
    "Input: [4, 5, 17, 9, 14, 108, -9, 12, 76]<br>\n",
    "Value of K: 6<br>\n",
    "Output:<br>\n",
    "108<br>\n",
    "Input: [114, 215, -117, 119, 14, 108, -9, 12, 76]<br>\n",
    "Value of K: 5<br>\n",
    "Output:<br>\n",
    "331<br>\n",
    "Input: [114, 215, -117, 119, 14, 108, -9, 12, 76]<br>\n",
    "Value of K: 1<br>\n",
    "Output:<br>\n",
    "114<br>"
   ]
  },
  {
   "cell_type": "code",
   "execution_count": 570,
   "id": "90f6bfb2-99b6-42fc-babf-555b8d875dee",
   "metadata": {},
   "outputs": [
    {
     "data": {
      "text/plain": [
       "331"
      ]
     },
     "execution_count": 570,
     "metadata": {},
     "output_type": "execute_result"
    }
   ],
   "source": [
    "def firstk_sum(l,k):\n",
    "    a=0\n",
    "    for i in l[0:k]:\n",
    "        if abs(i) > 99:\n",
    "            a += i\n",
    "    return a\n",
    "        \n",
    "firstk_sum([114, 215, -117, 119, 14, 108, -9, 12, 76],5)"
   ]
  },
  {
   "cell_type": "markdown",
   "id": "9412aa1f-d002-4ba9-a7c4-7b6c80a4d2c4",
   "metadata": {},
   "source": [
    "46. Product of Odd Digits<br>\n",
    "\n",
    "Write a Python program to compute the product of the odd digits in a given number, or 0 if there aren't any.<br>\n",
    "Input: 123456789<br>\n",
    "Output:<br>\n",
    "945<br>\n",
    "Input: 2468<br>\n",
    "Output:<br>\n",
    "0<br>\n",
    "Input: 13579<br>\n",
    "Output:<br>\n",
    "945<br>"
   ]
  },
  {
   "cell_type": "code",
   "execution_count": 616,
   "id": "1f7c5cde-807e-4c83-960f-0f7bde5fdc8c",
   "metadata": {},
   "outputs": [
    {
     "data": {
      "text/plain": [
       "1"
      ]
     },
     "execution_count": 616,
     "metadata": {},
     "output_type": "execute_result"
    }
   ],
   "source": [
    "def odd_product(num):\n",
    "    p=1\n",
    "    o=False\n",
    "    for i in str(num):\n",
    "        if int(i) % 2 !=0:\n",
    "            p *= int(i)\n",
    "            o = True\n",
    "    if o:\n",
    "        return p\n",
    "    else:\n",
    "        return 0\n",
    "            \n",
    "\n",
    "odd_product(12468)"
   ]
  },
  {
   "cell_type": "markdown",
   "id": "429c84ab-39a5-40c5-9c5d-5d4d23d8fda1",
   "metadata": {},
   "source": [
    "47. Q1: Find number of string which are palindrome in a list<br>\n",
    "Example - [“abba”, “aaa”, “aba”, “abc”]<br>\n",
    "Answer = 3<br>"
   ]
  },
  {
   "cell_type": "code",
   "execution_count": 9,
   "id": "9f8150ae-8f27-48a7-9a52-1d3a651cd4dc",
   "metadata": {},
   "outputs": [
    {
     "data": {
      "text/plain": [
       "4"
      ]
     },
     "execution_count": 9,
     "metadata": {},
     "output_type": "execute_result"
    }
   ],
   "source": [
    "def no_of_palindromes(l):\n",
    "    c=0\n",
    "    for i in l:\n",
    "        if i == i[::-1]:\n",
    "            c += 1\n",
    "    return c\n",
    "\n",
    "no_of_palindromes(['abba', 'aaa', 'aba', 'abc','mom'])"
   ]
  },
  {
   "cell_type": "markdown",
   "id": "e8402d04-b73e-498c-9b9a-2306e3e12e65",
   "metadata": {},
   "source": [
    "48. Q2. Find the sum of all digits in a number <br>\n",
    "Example - 2345403<br>\n",
    "Output =  21<br>\n",
    "Example - 900<br>\n",
    "Output - 9<br>"
   ]
  },
  {
   "cell_type": "code",
   "execution_count": 11,
   "id": "aad34f42-a72c-40d5-bbff-89e28f14b81e",
   "metadata": {},
   "outputs": [
    {
     "data": {
      "text/plain": [
       "10"
      ]
     },
     "execution_count": 11,
     "metadata": {},
     "output_type": "execute_result"
    }
   ],
   "source": [
    "def add_digits(num):\n",
    "    s = 0\n",
    "    for i in str(num):\n",
    "        s += int(i)\n",
    "    return s\n",
    "\n",
    "add_digits(1234)"
   ]
  },
  {
   "cell_type": "markdown",
   "id": "1c79eb2d-890c-47e0-8b4e-77e8d7935888",
   "metadata": {},
   "source": [
    "49. Write a Python program to find all words in a given string with n consonants<br>\n",
    "Input: this is our time<br>\n",
    "Output:Number of consonants: 3<br>\n",
    "Words in the said string with 3 consonants:['this']<br>\n",
    "Number of consonants: 2 <br>\n",
    "Words in the said string with 2 consonants:['time']<br>\n",
    "Number of consonants: 1<br>\n",
    "Words in the said string with 1 consonants:['is', 'our']<br>"
   ]
  },
  {
   "cell_type": "code",
   "execution_count": 13,
   "id": "9bafede2-ddc0-4da2-9569-02496379b10a",
   "metadata": {},
   "outputs": [
    {
     "data": {
      "text/plain": [
       "['is', 'our']"
      ]
     },
     "execution_count": 13,
     "metadata": {},
     "output_type": "execute_result"
    }
   ],
   "source": [
    "def find_consonant(text,n):\n",
    "    word=[]\n",
    "    text = text.strip().split(sep=' ')\n",
    "    for i in text:\n",
    "        c = 0\n",
    "        for j in i:\n",
    "            if j not in ('a','e','i','o','u'):\n",
    "                c += 1\n",
    "        if c == n:\n",
    "            word.append(i)\n",
    "    return word\n",
    "\n",
    "find_consonant('this is our time',1)"
   ]
  },
  {
   "cell_type": "markdown",
   "id": "4ae6ff04-6970-4005-88ff-547818444518",
   "metadata": {},
   "source": [
    "50. Write a Python program to reverse all words of odd lengths.<br>\n",
    "Sample Input:<br>\n",
    "\"The quick brown fox jumps over the lazy dog\"<br>\n",
    "\"Python Exercises\"<br>\n",
    "Sample Output:<br>\n",
    "The quick brown fox jumps revo the yzal dog<br>\n",
    "nohtyP Exercises<br>"
   ]
  },
  {
   "cell_type": "code",
   "execution_count": 14,
   "id": "c9f03813-a65b-40fa-94f5-19eeea84976e",
   "metadata": {},
   "outputs": [
    {
     "data": {
      "text/plain": [
       "'The quick brown fox jumps revo the yzal dog'"
      ]
     },
     "execution_count": 14,
     "metadata": {},
     "output_type": "execute_result"
    }
   ],
   "source": [
    "def reverse_odd(text):\n",
    "    text=text.strip().split()\n",
    "    s=[]\n",
    "    for i in text:\n",
    "        if len(i) % 2 == 0:\n",
    "            i=i[::-1]\n",
    "        s.append(i)\n",
    "    s = ' '.join(s)\n",
    "    return s\n",
    "\n",
    "reverse_odd('The quick brown fox jumps over the lazy dog')"
   ]
  },
  {
   "cell_type": "markdown",
   "id": "37935bba-cd10-41ae-91fd-4e2150f30159",
   "metadata": {},
   "source": [
    "51. You are given a int 2d list which is a city in a grid format, with 0s and 1s. Where the 1 means someone lives in the home in the city.\n",
    "How many people are living in the city?\n",
    "Example - <br>\n",
    "11001<br>\n",
    "0000<br>\n",
    "0001<br>\n",
    "Answer = 4<br>\n",
    "\n",
    "0000<br>\n",
    "0000<br>\n",
    "Answer = 0<br>"
   ]
  },
  {
   "cell_type": "code",
   "execution_count": 15,
   "id": "f3ae1884-6e09-4c89-ba6b-b6e8f5a67c47",
   "metadata": {},
   "outputs": [
    {
     "data": {
      "text/plain": [
       "4"
      ]
     },
     "execution_count": 15,
     "metadata": {},
     "output_type": "execute_result"
    }
   ],
   "source": [
    "def city_pop(l):\n",
    "    p=0\n",
    "    for i in l:\n",
    "        for j in i:\n",
    "            if j == 1:\n",
    "                p += j\n",
    "    return p\n",
    "\n",
    "city_pop([[1,1,0,0,1],[0,0,0,0],[0,0,0,1]])"
   ]
  },
  {
   "cell_type": "code",
   "execution_count": 16,
   "id": "576c6381-8b2f-4802-b88c-a4e9fbf7e09f",
   "metadata": {},
   "outputs": [
    {
     "data": {
      "text/plain": [
       "4"
      ]
     },
     "execution_count": 16,
     "metadata": {},
     "output_type": "execute_result"
    }
   ],
   "source": [
    "def city_pop(l):\n",
    "    p=0\n",
    "    for i in range(len(l)):\n",
    "        for j in l[i]:\n",
    "            if j == 1:\n",
    "                p += j\n",
    "    return p\n",
    "\n",
    "city_pop([[1,1,0,0,0],[1,0,0,0],[0,1,0,0]])"
   ]
  },
  {
   "cell_type": "markdown",
   "id": "92a3253f-6040-42e3-880e-f34c86cc54cd",
   "metadata": {},
   "source": [
    "52. Write a Python program to check whether a sequence of numbers has an increasing trend or not.<br>\n",
    "Sample Input:<br>\n",
    "[1,2,3,4]<br>\n",
    "[1,2,5,3,4]<br>\n",
    "[-1,-2,-3,-4]<br>\n",
    "[-4,-3,-2,-1]<br>\n",
    "[1,2,3,4,0]<br>\n",
    "Sample Output:<br>\n",
    "True<br>\n",
    "False<br>\n",
    "False<br>\n",
    "True<br>\n",
    "False<br>"
   ]
  },
  {
   "cell_type": "code",
   "execution_count": 18,
   "id": "319b59ea-fd12-44a5-b793-fe1b12a39f55",
   "metadata": {},
   "outputs": [
    {
     "name": "stdout",
     "output_type": "stream",
     "text": [
      "True\n",
      "False\n",
      "False\n",
      "True\n",
      "False\n"
     ]
    }
   ],
   "source": [
    "def increasing_trend(l):\n",
    "    r=True\n",
    "    for i in range(len(l)-1):\n",
    "        if l[i+1] < l[i]:\n",
    "            r=False\n",
    "    return r\n",
    "    \n",
    "\n",
    "print(increasing_trend([1,2,3,4]))\n",
    "print(increasing_trend([1,2,5,3,4]))     \n",
    "print(increasing_trend([-1,-2,-3,-4]))\n",
    "print(increasing_trend([-4,-3,-2,-1]))\n",
    "print(increasing_trend([1,2,3,4,0])) "
   ]
  },
  {
   "cell_type": "code",
   "execution_count": null,
   "id": "8015edf7-ab2f-461f-9687-0ef9357f0d5e",
   "metadata": {},
   "outputs": [],
   "source": []
  }
 ],
 "metadata": {
  "kernelspec": {
   "display_name": "Python [conda env:base] *",
   "language": "python",
   "name": "conda-base-py"
  },
  "language_info": {
   "codemirror_mode": {
    "name": "ipython",
    "version": 3
   },
   "file_extension": ".py",
   "mimetype": "text/x-python",
   "name": "python",
   "nbconvert_exporter": "python",
   "pygments_lexer": "ipython3",
   "version": "3.12.7"
  }
 },
 "nbformat": 4,
 "nbformat_minor": 5
}
